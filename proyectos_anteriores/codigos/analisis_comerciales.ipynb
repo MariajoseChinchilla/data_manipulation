{
 "cells": [
  {
   "cell_type": "markdown",
   "metadata": {},
   "source": [
    "# Análisis de posibilidad de atención a clientes"
   ]
  },
  {
   "cell_type": "markdown",
   "metadata": {},
   "source": [
    "Este cuaderno es un análisis de la posibilidad de atender a los clientes de acuerdo a una segmentación dada por un conjunto de condiciones: cumplimiento de 15% de saldo, nivel de RCI, tipo de oferta, etc."
   ]
  },
  {
   "cell_type": "markdown",
   "metadata": {},
   "source": [
    "## Condiciones actuales de precio"
   ]
  },
  {
   "cell_type": "code",
   "execution_count": 1,
   "metadata": {},
   "outputs": [],
   "source": [
    "# importar librerias\n",
    "import pandas as pd\n",
    "from utils import cumple_15, calcular_cuota, ingresos_financieros, calcular_monto_a_rci, comparar_montos, reservas, tasa_minima, tasa_maxima"
   ]
  },
  {
   "cell_type": "code",
   "execution_count": 2,
   "metadata": {},
   "outputs": [],
   "source": [
    "# leer datos\n",
    "df = pd.read_csv(r\"C:\\Users\\mariajose_chinchilla\\Documents\\GitHub\\proyectos_varios\\db\\creditos.csv\")\n",
    "# renombrar columnas\n",
    "df.rename(columns={\"CODIGO_CLIENTE\": \"CODIGO CLIENTE\",  \n",
    "                    \"outIngresos\": \"SALARIO\",\n",
    "                    \"rciInternoInicialDeudor\": \"RCI\", \n",
    "                    \"saldo_pr_ext\": \"SALDO EXTERNO TOTAL CLIENTE\"}, inplace=True)\n",
    "\n",
    "df[\"TASA\"] = df[\"TASA_ORIGINAL\"] / 1200\n",
    "df[\"PLAZO\"] = df[\"PLAZO_ORIGINAL\"] / 30\n",
    "# mensualizar la tasa\n",
    "\n",
    "# tratamiento general de datos\n",
    "df[\"CUMPLE 15%\"] = df[\"SALDO\"].apply(cumple_15)\n",
    "\n",
    "# calcular saldo posible a consolidacion\n",
    "datos_agrupado = df.groupby(by=\"CODIGO CLIENTE\")[\"SALDO\"].sum().reset_index()\n",
    "datos_agrupado.columns = [\"CODIGO CLIENTE\", \"SALDO INTERNO TOTAL CLIENTE\"]\n",
    "df = pd.merge(df, datos_agrupado, how=\"left\", on=\"CODIGO CLIENTE\")\n",
    "# sacar saldo total\n",
    "df[\"SALDO TOTAL CLIENTE\"] = df[\"SALDO INTERNO TOTAL CLIENTE\"] + df[\"SALDO EXTERNO TOTAL CLIENTE\"]\n"
   ]
  },
  {
   "cell_type": "code",
   "execution_count": 4,
   "metadata": {},
   "outputs": [],
   "source": [
    "# segmentar clientes con el cumplimiento: segmentar por crédito y luego ver opciones de recrédito agrup\n",
    "datos = df.copy()\n",
    "\n",
    "# sacar el monto máximo para llegar a 50% de RCI con la tasa actual más 1\n",
    "datos[\"MONTO RCI50 CON TASA ACTUAL +1\"] = datos.apply(lambda x: calcular_monto_a_rci(x[\"TASA\"]+1/1200, 50, x[\"PLAZO\"], x[\"RCI\"], x[\"SALARIO\"]), axis=1)\n",
    "# sacar el motno máximo para llegar a 60% de RCI con tasa actual más 1\n",
    "datos[\"MONTO RCI60 CON TASA ACTUAL +1\"] = datos.apply(lambda x: calcular_monto_a_rci(x[\"TASA\"]+1/1200, 60, x[\"PLAZO\"], x[\"RCI\"], x[\"SALARIO\"]), axis=1)\n",
    "\n",
    "# colocar bandera de si se puede consolidar con esa tasa con 50 y 60 de RCI\n",
    "datos[\"FLAG CONSOLIDA CON RCI50\"] = datos.apply(lambda x: comparar_montos(x[\"SALDO TOTAL CLIENTE\"], x[\"MONTO RCI50 CON TASA ACTUAL +1\"]), axis=1)\n",
    "datos[\"FLAG CONSOLIDA CON RCI60\"] = datos.apply(lambda x: comparar_montos(x[\"SALDO TOTAL CLIENTE\"], x[\"MONTO RCI60 CON TASA ACTUAL +1\"]), axis=1)\n",
    "\n",
    "\n",
    "# ingresos a 6 meses con montos máximos aunque no sean consolidaciones\n",
    "datos[\"INGRESO A 6 MESES MONTO RCI 50\"] = datos.apply(lambda x: ingresos_financieros(x[\"MONTO RCI50 CON TASA ACTUAL +1\"], x[\"TASA\"] + 1/1200, x[\"PLAZO\"], 6), axis=1)\n",
    "datos[\"INGRESO A 6 MESES MONTO RCI 60\"] = datos.apply(lambda x: ingresos_financieros(x[\"MONTO RCI60 CON TASA ACTUAL +1\"], x[\"TASA\"] + 1/1200, x[\"PLAZO\"], 6), axis=1)\n",
    "\n",
    "# sacar ingresos a 6 meses solo para los que pueden consolidar a al menos uno de los anteriores\n",
    "datos[\"INGRESO A 6 MESES EN CONSOLIDACION\"] = datos.apply(lambda x: ingresos_financieros(x[\"SALDO TOTAL CLIENTE\"], x[\"TASA\"] + 1/1200, x[\"PLAZO\"], 6), axis=1)\n"
   ]
  },
  {
   "cell_type": "markdown",
   "metadata": {},
   "source": [
    "### Reservas y reestructuración: cálculo con máscaras"
   ]
  },
  {
   "cell_type": "code",
   "execution_count": 5,
   "metadata": {},
   "outputs": [],
   "source": [
    "mascara_reserva = datos[\"CUMPLE 15%\"] == 0\n",
    "datos.loc[mascara_reserva, \"RESERVAS REESTRUCTURA MONTO RCI50 TASA ACTUAL+1\"] = datos.loc[mascara_reserva, \"MONTO RCI50 CON TASA ACTUAL +1\"].apply(lambda x: reservas(True))\n",
    "datos.loc[mascara_reserva, \"RESERVAS REESTRUCTURA MONTO RCI60 TASA ACTUAL+1\"] = datos.loc[mascara_reserva, \"MONTO RCI60 CON TASA ACTUAL +1\"].apply(lambda x: reservas(True))\n",
    "datos.loc[mascara_reserva, \"RESERVAS CONSOLIDACION TASA ACTUAL +1\"] = datos.loc[mascara_reserva, \"SALDO TOTAL CLIENTE\"].apply(lambda x: reservas(True))\n",
    "\n",
    "# Compara que clientes cubren reservas en los 6 meses\n",
    "datos.loc[mascara_reserva, \"CUMPLE RESERVAS CON INGRESOS RCI50 TASA ACTUAL +1\"] = datos.loc[mascara_reserva].apply(lambda x: comparar_montos(x[\"RESERVAS REESTRUCTURA MONTO RCI50 TASA ACTUAL+1\"], x[\"INGRESO A 6 MESES MONTO RCI 50\"]), axis=1)\n",
    "datos.loc[mascara_reserva, \"CUMPLE RESERVAS CON INGRESOS RCI60 TASA ACTUAL +1\"] = datos.loc[mascara_reserva].apply(lambda x: comparar_montos(x[\"RESERVAS REESTRUCTURA MONTO RCI60 TASA ACTUAL+1\"], x[\"INGRESO A 6 MESES MONTO RCI 60\"]), axis=1)\n",
    "datos.loc[mascara_reserva, \"CUMPLE RESERVAS CON INGRESOS CONSOLIDACION TASA ACTUAL +1\"] = datos.loc[mascara_reserva].apply(lambda x: comparar_montos(x[\"SALDO TOTAL CLIENTE\"], x[\"INGRESO A 6 MESES EN CONSOLIDACION\"]), axis=1)"
   ]
  },
  {
   "cell_type": "markdown",
   "metadata": {},
   "source": [
    "## Condiciones de precio máximo"
   ]
  },
  {
   "cell_type": "code",
   "execution_count": 6,
   "metadata": {},
   "outputs": [],
   "source": [
    "# calcular tasa minima para dejar a cero\n",
    "datos[\"TASA MINIMA\"] = datos.apply(lambda x: tasa_minima(reservas(True)))\n",
    "\n",
    "# sacar tasa maxima para consolidar\n",
    "datos[\"TASA PARA RCI 60\"] = datos.apply(lambda x: tasa_maxima(x[\"RCI\"], 60), axis=1)\n",
    "datos[\"TASA PARA RCI 50\"] = datos.apply(lambda x: tasa_maxima(x[\"RCI\"], 50), axis=1)\n",
    "\n",
    "# comparar si el intervalo tiene sentido\n",
    "datos[\"POSIBLE LIQUIDEZ PRECIO PERSONALIZADO\"] = datos.apply(lambda x: comparar_montos(x[\"TASA MINIMA\"], x[\"TASA PARA RCI 50\"]), axis=1)\n",
    "datos[\"POSIBLE CONSOLIDACION PRECIO PERSONALIZADO\"] = datos.apply(lambda x: comparar_montos(x[\"TASA MINIMA\"], x[\"TASA PARA RCI 60\"]), axis=1)"
   ]
  },
  {
   "cell_type": "markdown",
   "metadata": {},
   "source": [
    "## Ver si pasan con aumento de plazo"
   ]
  },
  {
   "cell_type": "code",
   "execution_count": 7,
   "metadata": {},
   "outputs": [],
   "source": [
    "# sacar el monto máximo para llegar a 50% de RCI con la tasa actual más 1\n",
    "datos[\"MONTO RCI50 CON TASA ACTUAL +1 Y PLAZO 120 Y TASA ACTUAL +1\"] = datos.apply(lambda x: calcular_monto_a_rci(x[\"TASA\"]+1/1200, 50, 120, x[\"RCI\"], x[\"SALARIO\"]), axis=1)\n",
    "# sacar el motno máximo para llegar a 60% de RCI con tasa actual más 1\n",
    "datos[\"MONTO RCI60 CON TASA ACTUAL +1 Y PLAZO 120 Y TASA ACTUAL +1\"] = datos.apply(lambda x: calcular_monto_a_rci(x[\"TASA\"]+1/1200, 60, 120, x[\"RCI\"], x[\"SALARIO\"]), axis=1)\n",
    "\n",
    "# colocar bandera de si se puede consolidar con esa tasa con 50 y 60 de RCI\n",
    "datos[\"FLAG CONSOLIDA CON RCI50 Y PLAZO 120 Y TASA ACTUAL +1\"] = datos.apply(lambda x: comparar_montos(x[\"SALDO TOTAL CLIENTE\"], x[\"MONTO RCI50 CON TASA ACTUAL +1 Y PLAZO 120 Y TASA ACTUAL +1\"]), axis=1)\n",
    "datos[\"FLAG CONSOLIDA CON RCI60 Y PLAZO 120 Y TASA ACTUAL +1\"] = datos.apply(lambda x: comparar_montos(x[\"SALDO TOTAL CLIENTE\"], x[\"MONTO RCI60 CON TASA ACTUAL +1 Y PLAZO 120 Y TASA ACTUAL +1\"]), axis=1)\n",
    "\n",
    "\n",
    "# ingresos a 6 meses con montos máximos aunque no sean consolidaciones\n",
    "datos[\"INGRESO A 6 MESES MONTO RCI 50 Y PLAZO 120 Y TASA ACTUAL +1\"] = datos.apply(lambda x: ingresos_financieros(x[\"MONTO RCI50 CON TASA ACTUAL +1 Y PLAZO 120 Y TASA ACTUAL +1\"], x[\"TASA\"] + 1/1200, 120, 6), axis=1)\n",
    "datos[\"INGRESO A 6 MESES MONTO RCI 60 Y PLAZO 120 Y TASA ACTUAL +1\"] = datos.apply(lambda x: ingresos_financieros(x[\"MONTO RCI60 CON TASA ACTUAL +1 Y PLAZO 120 Y TASA ACTUAL +1\"], x[\"TASA\"] + 1/1200, 120, 6), axis=1)\n",
    "\n",
    "# sacar ingresos a 6 meses solo para los que pueden consolidar a al menos uno de los anteriores\n",
    "datos[\"INGRESO A 6 MESES EN CONSOLIDACION Y PLAZO 120 Y TASA ACTUAL +1\"] = datos.apply(lambda x: ingresos_financieros(x[\"SALDO TOTAL CLIENTE\"], x[\"TASA\"] + 1/1200, 120, 6), axis=1)\n"
   ]
  },
  {
   "cell_type": "code",
   "execution_count": 12,
   "metadata": {},
   "outputs": [],
   "source": [
    "datos.loc[mascara_reserva, \"RESERVAS REESTRUCTURA MONTO RCI50 TASA ACTUAL+1 Y PLAZO 120\"] = datos.loc[mascara_reserva, \"MONTO RCI50 CON TASA ACTUAL +1 Y PLAZO 120 Y TASA ACTUAL +1\"].apply(lambda x: reservas(True))\n",
    "datos.loc[mascara_reserva, \"RESERVAS REESTRUCTURA MONTO RCI60 TASA ACTUAL+1 Y PLAZO 120\"] = datos.loc[mascara_reserva, \"MONTO RCI60 CON TASA ACTUAL +1 Y PLAZO 120 Y TASA ACTUAL +1\"].apply(lambda x: reservas(True))\n",
    "datos.loc[mascara_reserva, \"RESERVAS CONSOLIDACION TASA ACTUAL +1 Y PLAZO 120\"] = datos.loc[mascara_reserva, \"SALDO TOTAL CLIENTE\"].apply(lambda x: reservas(True))\n",
    "\n",
    "# Compara que clientes cubren reservas en los 6 meses\n",
    "datos.loc[mascara_reserva, \"CUMPLE RESERVAS CON INGRESOS RCI50 TASA ACTUAL +1 Y PLAZO 120\"] = datos.loc[mascara_reserva].apply(lambda x: comparar_montos(x[\"RESERVAS REESTRUCTURA MONTO RCI50 TASA ACTUAL+1 Y PLAZO 120\"], x[\"INGRESO A 6 MESES MONTO RCI 50 Y PLAZO 120 Y TASA ACTUAL +1\"]), axis=1)\n",
    "datos.loc[mascara_reserva, \"CUMPLE RESERVAS CON INGRESOS RCI60 TASA ACTUAL +1 Y PLAZO 120\"] = datos.loc[mascara_reserva].apply(lambda x: comparar_montos(x[\"RESERVAS REESTRUCTURA MONTO RCI60 TASA ACTUAL+1 Y PLAZO 120\"], x[\"INGRESO A 6 MESES MONTO RCI 60 Y PLAZO 120 Y TASA ACTUAL +1\"]), axis=1)\n",
    "datos.loc[mascara_reserva, \"CUMPLE RESERVAS CON INGRESOS CONSOLIDACION TASA ACTUAL +1 Y PLAZO 120\"] = datos.loc[mascara_reserva].apply(lambda x: comparar_montos(x[\"SALDO TOTAL CLIENTE\"], x[\"INGRESO A 6 MESES EN CONSOLIDACION Y PLAZO 120 Y TASA ACTUAL +1\"]), axis=1)\n"
   ]
  },
  {
   "cell_type": "markdown",
   "metadata": {},
   "source": [
    "## Plazo 144"
   ]
  },
  {
   "cell_type": "code",
   "execution_count": 13,
   "metadata": {},
   "outputs": [],
   "source": [
    "# sacar el monto máximo para llegar a 50% de RCI con la tasa actual más 1\n",
    "datos[\"MONTO RCI50 CON TASA ACTUAL +1 Y PLAZO 144\"] = datos.apply(lambda x: calcular_monto_a_rci(x[\"TASA\"]+1/1200, 50, 144, x[\"RCI\"], x[\"SALARIO\"]), axis=1)\n",
    "# sacar el motno máximo para llegar a 60% de RCI con tasa actual más 1\n",
    "datos[\"MONTO RCI60 CON TASA ACTUAL +1 Y PLAZO 144\"] = datos.apply(lambda x: calcular_monto_a_rci(x[\"TASA\"]+1/1200, 60, 144, x[\"RCI\"], x[\"SALARIO\"]), axis=1)\n",
    "\n",
    "# colocar bandera de si se puede consolidar con esa tasa con 50 y 60 de RCI\n",
    "datos[\"FLAG CONSOLIDA CON RCI50 Y PLAZO 144 TASA ACTUAL +1\"] = datos.apply(lambda x: comparar_montos(x[\"SALDO TOTAL CLIENTE\"], x[\"MONTO RCI50 CON TASA ACTUAL +1 Y PLAZO 144\"]), axis=1)\n",
    "datos[\"FLAG CONSOLIDA CON RCI60 Y PLAZO 144 TASA ACTUAL +1\"] = datos.apply(lambda x: comparar_montos(x[\"SALDO TOTAL CLIENTE\"], x[\"MONTO RCI60 CON TASA ACTUAL +1 Y PLAZO 144\"]), axis=1)\n",
    "\n",
    "\n",
    "# ingresos a 6 meses con montos máximos aunque no sean consolidaciones\n",
    "datos[\"INGRESO A 6 MESES MONTO RCI 50 Y PLAZO 144\"] = datos.apply(lambda x: ingresos_financieros(x[\"MONTO RCI50 CON TASA ACTUAL +1 Y PLAZO 144\"], x[\"TASA\"] + 1/1200, 144, 6), axis=1)\n",
    "datos[\"INGRESO A 6 MESES MONTO RCI 60 Y PLAZO 144\"] = datos.apply(lambda x: ingresos_financieros(x[\"MONTO RCI60 CON TASA ACTUAL +1 Y PLAZO 144\"], x[\"TASA\"] + 1/1200, 144, 6), axis=1)\n",
    "\n",
    "# sacar ingresos a 6 meses solo para los que pueden consolidar a al menos uno de los anteriores\n",
    "datos[\"INGRESO A 6 MESES EN CONSOLIDACION Y PLAZO 144\"] = datos.apply(lambda x: ingresos_financieros(x[\"SALDO TOTAL CLIENTE\"], x[\"TASA\"] + 1/1200, 144, 6), axis=1)\n"
   ]
  },
  {
   "cell_type": "code",
   "execution_count": 14,
   "metadata": {},
   "outputs": [],
   "source": [
    "datos.loc[mascara_reserva, \"RESERVAS REESTRUCTURA MONTO RCI50 TASA ACTUAL+1 Y PLAZO 144\"] = datos.loc[mascara_reserva, \"MONTO RCI50 CON TASA ACTUAL +1 Y PLAZO 144\"].apply(lambda x: reservas(True))\n",
    "datos.loc[mascara_reserva, \"RESERVAS REESTRUCTURA MONTO RCI60 TASA ACTUAL+1 Y PLAZO 144\"] = datos.loc[mascara_reserva, \"MONTO RCI60 CON TASA ACTUAL +1 Y PLAZO 144\"].apply(lambda x: reservas(True))\n",
    "datos.loc[mascara_reserva, \"RESERVAS CONSOLIDACION TASA ACTUAL +1 Y PLAZO 144\"] = datos.loc[mascara_reserva, \"SALDO TOTAL CLIENTE\"].apply(lambda x: reservas(True))\n",
    "\n",
    "# Compara que clientes cubren reservas en los 6 meses\n",
    "datos.loc[mascara_reserva, \"CUMPLE RESERVAS CON INGRESOS RCI50 TASA ACTUAL +1 Y PLAZO 144\"] = datos.loc[mascara_reserva].apply(lambda x: comparar_montos(x[\"RESERVAS REESTRUCTURA MONTO RCI50 TASA ACTUAL+1 Y PLAZO 144\"], x[\"INGRESO A 6 MESES MONTO RCI 50 Y PLAZO 144\"]), axis=1)\n",
    "datos.loc[mascara_reserva, \"CUMPLE RESERVAS CON INGRESOS RCI60 TASA ACTUAL +1 Y PLAZO 144\"] = datos.loc[mascara_reserva].apply(lambda x: comparar_montos(x[\"RESERVAS REESTRUCTURA MONTO RCI60 TASA ACTUAL+1 Y PLAZO 144\"], x[\"INGRESO A 6 MESES MONTO RCI 60 Y PLAZO 144\"]), axis=1)\n",
    "datos.loc[mascara_reserva, \"CUMPLE RESERVAS CON INGRESOS CONSOLIDACION TASA ACTUAL +1 Y PLAZO 144\"] = datos.loc[mascara_reserva].apply(lambda x: comparar_montos(x[\"SALDO TOTAL CLIENTE\"], x[\"INGRESO A 6 MESES EN CONSOLIDACION Y PLAZO 144\"]), axis=1)\n"
   ]
  },
  {
   "cell_type": "code",
   "execution_count": 15,
   "metadata": {},
   "outputs": [],
   "source": [
    "# exportar\n",
    "datos.to_csv(r\"C:\\Users\\mariajose_chinchilla\\Documents\\GitHub\\proyectos_varios\\Salidas\\comerciales\\inhabilitacion.csv\")"
   ]
  }
 ],
 "metadata": {
  "kernelspec": {
   "display_name": "Python 3",
   "language": "python",
   "name": "python3"
  },
  "language_info": {
   "codemirror_mode": {
    "name": "ipython",
    "version": 3
   },
   "file_extension": ".py",
   "mimetype": "text/x-python",
   "name": "python",
   "nbconvert_exporter": "python",
   "pygments_lexer": "ipython3",
   "version": "3.12.1"
  }
 },
 "nbformat": 4,
 "nbformat_minor": 2
}
