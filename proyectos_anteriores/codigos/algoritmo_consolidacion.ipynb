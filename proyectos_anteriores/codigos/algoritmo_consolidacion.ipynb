{
 "cells": [
  {
   "cell_type": "code",
   "execution_count": 1,
   "metadata": {},
   "outputs": [],
   "source": [
    "import pandas as pd\n",
    "import warnings\n",
    "warnings.filterwarnings(\"ignore\")"
   ]
  },
  {
   "cell_type": "code",
   "execution_count": 2,
   "metadata": {},
   "outputs": [],
   "source": [
    "df = pd.read_csv(r\"C:\\Users\\mariajose_chinchilla\\Downloads\\base_contagio.csv\", sep=\";\")"
   ]
  },
  {
   "cell_type": "code",
   "execution_count": 3,
   "metadata": {},
   "outputs": [],
   "source": [
    "df = df[(df[\"DxEntidad\"] != \"BANCO DE LOS TRABAJADORES\") & (df[\"DxCategoriaSIRCMaxima\"].isin([\"B\", \"C\", \"D\", \"E\"]))]"
   ]
  },
  {
   "cell_type": "code",
   "execution_count": 4,
   "metadata": {},
   "outputs": [],
   "source": [
    "def es_categoria(val, cat):\n",
    "    if val == cat:\n",
    "        return 1\n",
    "    elif val != cat:\n",
    "        return 0"
   ]
  },
  {
   "cell_type": "code",
   "execution_count": 5,
   "metadata": {},
   "outputs": [],
   "source": [
    "for cat in df[\"DxCategoriaSIRC\"].unique().tolist():\n",
    "    df[f\"ES {cat}\"] = df.apply(lambda x: es_categoria(x[\"DxCategoriaSIRC\"], cat), axis=1)"
   ]
  },
  {
   "cell_type": "code",
   "execution_count": 6,
   "metadata": {},
   "outputs": [],
   "source": [
    "df_agrupado = df.groupby(by=\"CODIGO_CLIENTE\").agg(\n",
    " TOTAL_A=(\"ES A\", \"sum\"),\n",
    " TOTAL_B=(\"ES B\", \"sum\"),\n",
    " TOTAL_C=(\"ES C\", \"sum\"),\n",
    " TOTAL_D=(\"ES D\", \"sum\"),\n",
    " TOTAL_E=(\"ES E\", \"sum\")   \n",
    ").reset_index()"
   ]
  },
  {
   "cell_type": "code",
   "execution_count": 7,
   "metadata": {},
   "outputs": [],
   "source": [
    "df_agrupado[\"EN RIESGO\"] = df_agrupado[\"TOTAL_C\"] + df_agrupado[\"TOTAL_D\"] + df_agrupado[\"TOTAL_E\"]\n",
    "riegosos = df_agrupado[\"EN RIESGO\"] >= 1\n",
    "df_riesgosos = df_agrupado.loc[riegosos]"
   ]
  },
  {
   "cell_type": "code",
   "execution_count": 8,
   "metadata": {},
   "outputs": [
    {
     "name": "stdout",
     "output_type": "stream",
     "text": [
      "Con exactamente 1 hay 0.9504814305364512 y con más de uno hay 0.04951856946354883\n"
     ]
    }
   ],
   "source": [
    "prop_con1 = len(df_riesgosos[df_riesgosos[\"EN RIESGO\"] == 1]) / len(df_riesgosos)\n",
    "prop_mas1 = len(df_riesgosos[df_riesgosos[\"EN RIESGO\"] > 1]) / len(df_riesgosos)\n",
    "print(f\"Con exactamente 1 hay {prop_con1} y con más de uno hay {prop_mas1}\")"
   ]
  },
  {
   "cell_type": "code",
   "execution_count": 9,
   "metadata": {},
   "outputs": [],
   "source": [
    "riesgosos = df[((df[\"ES C\"] >= 1) | (df[\"ES D\"] >= 1) | (df[\"ES E\"] >= 1)) & (~df[\"DxCategoriaSIRC\"].isna())]\n",
    "dic_reservas = {\"A\": 0.036*0.45, \"B\": 0.086*0.45, \"C\": 0.156*0.45, \"D\": 0.325*0.45, \"E\": 1}"
   ]
  },
  {
   "cell_type": "code",
   "execution_count": 10,
   "metadata": {},
   "outputs": [],
   "source": [
    "def poner_reservas(cat, dic):\n",
    "    return dic.get(cat)"
   ]
  },
  {
   "cell_type": "code",
   "execution_count": 11,
   "metadata": {},
   "outputs": [],
   "source": [
    "riesgosos[f\"RESERVAS\"] = riesgosos.apply(lambda x: poner_reservas(x[\"DxCategoriaSIRC\"], dic_reservas), axis=1)"
   ]
  },
  {
   "cell_type": "code",
   "execution_count": 12,
   "metadata": {},
   "outputs": [
    {
     "data": {
      "text/plain": [
       "9938152.119206"
      ]
     },
     "execution_count": 12,
     "metadata": {},
     "output_type": "execute_result"
    }
   ],
   "source": [
    "riesgosos[\"PAGO DE RESERVAS\"] = riesgosos[\"RESERVAS\"] * riesgosos[\"total_saldo\"] \n",
    "riesgosos[\"PAGO DE RESERVAS\"].sum()"
   ]
  },
  {
   "cell_type": "code",
   "execution_count": 13,
   "metadata": {},
   "outputs": [
    {
     "name": "stdout",
     "output_type": "stream",
     "text": [
      "En categoría C hay 84642111.28\n",
      "En categoría D hay 14116839.639999999\n",
      "En categoría E hay 1931688.11\n"
     ]
    }
   ],
   "source": [
    "cat = [\"C\", \"D\", \"E\"]\n",
    "for c in cat:\n",
    "    total = riesgosos[riesgosos[f\"ES {c}\"] == 1][\"total_saldo\"].sum()\n",
    "    print(f\"En categoría {c} hay {total}\")"
   ]
  },
  {
   "cell_type": "code",
   "execution_count": 14,
   "metadata": {},
   "outputs": [
    {
     "data": {
      "text/plain": [
       "100690639.03"
      ]
     },
     "execution_count": 14,
     "metadata": {},
     "output_type": "execute_result"
    }
   ],
   "source": [
    "riesgosos[\"total_saldo\"].sum()"
   ]
  },
  {
   "cell_type": "code",
   "execution_count": 15,
   "metadata": {},
   "outputs": [
    {
     "data": {
      "text/plain": [
       "25408147.11"
      ]
     },
     "execution_count": 15,
     "metadata": {},
     "output_type": "execute_result"
    }
   ],
   "source": [
    "riesgosos[\"DfSaldo\"].sum()"
   ]
  },
  {
   "cell_type": "code",
   "execution_count": 21,
   "metadata": {},
   "outputs": [],
   "source": [
    "riesgosos_sorted = riesgosos.sort_values(by=['codigo_ejecutivo', 'total_saldo'], ascending=[True, False])\n",
    "\n",
    "# Crear una columna temporal 'grupo_prioridad' para agrupar por 'codigo_ejecutivo' y 'DPI'\n",
    "riesgosos_sorted['grupo_prioridad'] = riesgosos_sorted.groupby(['codigo_ejecutivo', 'DPI']).ngroup()\n",
    "\n",
    "# Ordenar por 'codigo_ejecutivo' y 'grupo_prioridad' para mantener el orden deseado\n",
    "riesgosos_sorted = riesgosos_sorted.sort_values(by=['codigo_ejecutivo', 'grupo_prioridad'])\n",
    "\n",
    "# Asignar la prioridad dentro de cada grupo de 'codigo_ejecutivo'\n",
    "riesgosos_sorted['PRIORIDAD ABF'] = riesgosos_sorted.groupby('codigo_ejecutivo')['grupo_prioridad'].rank(method='dense').astype(int)\n",
    "\n",
    "# Mapear la prioridad a cada DPI dentro de cada 'codigo_ejecutivo'\n",
    "priority_map = riesgosos_sorted.drop_duplicates(subset=['codigo_ejecutivo', 'DPI']).set_index(['codigo_ejecutivo', 'DPI'])['PRIORIDAD ABF'].to_dict()\n",
    "riesgosos_sorted['PRIORIDAD ABF'] = riesgosos_sorted.set_index(['codigo_ejecutivo', 'DPI']).index.map(priority_map)\n",
    "\n",
    "# Eliminar la columna temporal 'grupo_prioridad' ya que solo era para la ayuda en la agrupación\n",
    "riesgosos_sorted = riesgosos_sorted.drop(columns=['grupo_prioridad'])"
   ]
  },
  {
   "cell_type": "code",
   "execution_count": 24,
   "metadata": {},
   "outputs": [],
   "source": [
    "riesgosos_sorted.to_excel(r\"C:\\Users\\mariajose_chinchilla\\Documents\\GitHub\\proyectos_varios\\Salidas\\comerciales\\Base de consolidación.xlsx\")"
   ]
  },
  {
   "cell_type": "code",
   "execution_count": null,
   "metadata": {},
   "outputs": [],
   "source": []
  }
 ],
 "metadata": {
  "kernelspec": {
   "display_name": "Python 3",
   "language": "python",
   "name": "python3"
  },
  "language_info": {
   "codemirror_mode": {
    "name": "ipython",
    "version": 3
   },
   "file_extension": ".py",
   "mimetype": "text/x-python",
   "name": "python",
   "nbconvert_exporter": "python",
   "pygments_lexer": "ipython3",
   "version": "3.12.1"
  }
 },
 "nbformat": 4,
 "nbformat_minor": 2
}
