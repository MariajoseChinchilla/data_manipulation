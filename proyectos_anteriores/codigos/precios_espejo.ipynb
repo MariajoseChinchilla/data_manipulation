{
 "cells": [
  {
   "cell_type": "markdown",
   "metadata": {},
   "source": [
    "# Precios para crédito espejo"
   ]
  },
  {
   "cell_type": "markdown",
   "metadata": {},
   "source": [
    "Acá va una iniciativa de consolidación a clientes y división de opciones de qué cliente abordar por los meses que faltan en el año."
   ]
  },
  {
   "cell_type": "code",
   "execution_count": 21,
   "metadata": {},
   "outputs": [],
   "source": [
    "import pandas as pd\n",
    "import warnings\n",
    "warnings.filterwarnings(\"ignore\")\n",
    "from utils import ingresos_financieros, reservas\n",
    "import numpy as np\n"
   ]
  },
  {
   "cell_type": "code",
   "execution_count": 2,
   "metadata": {},
   "outputs": [],
   "source": [
    "datos = pd.read_csv(r\"C:\\Users\\mariajose_chinchilla\\Desktop\\datos comunes\\cosecha 2024.csv\", sep=\";\")\n",
    "deuda_externa = pd.read_csv(r\"C:\\Users\\mariajose_chinchilla\\Documents\\GitHub\\Modelo_precificacion_creditos\\db\\arch\\info_externa.csv\", sep=\";\")\n",
    "deuda_externa = deuda_externa[(deuda_externa[\"desctipogara\"] == \"Fiduciaria\") & (deuda_externa[\"desctipoactivo\"] == \"Prestamos\")]"
   ]
  },
  {
   "cell_type": "code",
   "execution_count": 3,
   "metadata": {},
   "outputs": [],
   "source": [
    "# pegar informacion de deuda externa\n",
    "datos = pd.merge(datos, deuda_externa, how=\"left\", left_on=\"dpi\", right_on=\"CUI\")\n",
    "datos[\"PORCENTAJE_SALDO\"] = 1 - datos[\"SALDO\"] / datos[\"MONTO_DESEMBOLSADO\"]"
   ]
  },
  {
   "cell_type": "code",
   "execution_count": 4,
   "metadata": {},
   "outputs": [],
   "source": [
    "# sumar saldo con deuda externa\n",
    "datos[\"SALDO TOTAL FIDUCIARIO\"] = datos[\"SALDO\"] + datos[\"saldo\"]\n",
    "datos = datos[~(datos[\"SALDO TOTAL FIDUCIARIO\"].isna()) & (datos[\"PORCENTAJE_SALDO\"] < 0.15)]\n",
    "# pegar ingresos financieros a varios meses para comparar luego\n",
    "for i in range(1,7):\n",
    "    try:\n",
    "        datos[f\"INGRESOS A {i} MESES\"] = datos.apply(lambda x: ingresos_financieros(x[\"SALDO TOTAL FIDUCIARIO\"],x[\"TASA_ORIGINAL\"]/1200, x[\"PLAZO_ORIGINAL\"]/30, i), axis=1)\n",
    "    except Exception as e:\n",
    "        print(e)\n",
    "\n",
    "# calcular reservas para monto total fiduciario \n",
    "\"\"\" Algo importante a tomar en cuenta es que se está tomando una fotografía estática del saldo fiduciario, \n",
    "pero se podría actualizar sabiendo la tasa y plazos externos para hacer el cambio de capital externo\n",
    "y actualizar en el saldo interno para ver si es posible consolidar con la evolución en el tiempo.\"\"\"\n",
    "\n",
    "datos[\"RESERVAS RECREDITO\"] = reservas(True) * datos[\"SALDO TOTAL FIDUCIARIO\"]\n",
    "datos[\"RESERVAS CREDITO NUEVO\"] = reservas(False) * datos[\"SALDO TOTAL FIDUCIARIO\"]"
   ]
  },
  {
   "cell_type": "code",
   "execution_count": 5,
   "metadata": {},
   "outputs": [],
   "source": [
    "# filtrar datos que sirven únicamente \n",
    "datos_temp = datos[[\"FECHA_APERTURA\", \"FEC_SALDO\", \"NO_CREDITO\", \"CODIGO_CLIENTE\", \"TIPO_CLIENTE\", \n",
    "                    \"scoreDeudorInstallmentQualPricing\",\n",
    "                    \"TASA_ORIGINAL\", \"PLAZO_ORIGINAL\", \"DESEMBOLSO\", \"MONTO_DESEMBOLSADO\",\n",
    "                    \"ES_RECREDITO\", \"PORCENTAJE_SALDO\", \"SALDO TOTAL FIDUCIARIO\", \n",
    "                    \"INGRESOS A 1 MESES\", \"INGRESOS A 2 MESES\", \"INGRESOS A 3 MESES\", \n",
    "                    \"INGRESOS A 4 MESES\", \"INGRESOS A 5 MESES\", \"INGRESOS A 6 MESES\",\n",
    "                    \"RESERVAS RECREDITO\", \"RESERVAS CREDITO NUEVO\"]]\n",
    "\n",
    "datos_temp.rename(columns={\"scoreDeudorInstallmentQualPricing\": \"Score\"}, inplace=True)"
   ]
  },
  {
   "cell_type": "markdown",
   "metadata": {},
   "source": [
    "## Leer esquema de precios propuestos"
   ]
  },
  {
   "cell_type": "code",
   "execution_count": 6,
   "metadata": {},
   "outputs": [],
   "source": [
    "precios = pd.read_excel(r\"C:\\Users\\mariajose_chinchilla\\Documents\\GitHub\\proyectos_varios\\db\\Precios crédito espejo.xlsx\")"
   ]
  },
  {
   "cell_type": "code",
   "execution_count": 7,
   "metadata": {},
   "outputs": [],
   "source": [
    "# buscar la tasa propuesta para colocarle el precio al crédito nuevo\n",
    "for no_cred, saldo, score in zip(datos_temp[\"NO_CREDITO\"], datos_temp[\"SALDO TOTAL FIDUCIARIO\"], datos_temp[\"Score\"]):\n",
    "    try:\n",
    "        precio = precios.loc[(precios[\"Min\"] <= saldo) & (precios[\"Max\"] >= saldo), score].iloc[0]\n",
    "        datos_temp.loc[datos_temp[\"NO_CREDITO\"] == no_cred,\"TASA CRED NUEVO\"] = precio\n",
    "    except:\n",
    "        if saldo > 500000:\n",
    "            datos_temp.loc[datos_temp[\"NO_CREDITO\"] == no_cred,\"TASA CRED NUEVO\"] = -1"
   ]
  },
  {
   "cell_type": "code",
   "execution_count": 12,
   "metadata": {},
   "outputs": [],
   "source": [
    "# Calcular ingresos desde 1 a 6 meses con la tasa del espejo\n",
    "for i in range(1,7):\n",
    "    try:\n",
    "        datos_temp[f\"INGRESOS A {i} MESES CRED ESPEJO\"] = datos_temp.apply(lambda x: ingresos_financieros(x[\"SALDO TOTAL FIDUCIARIO\"],x[\"TASA CRED NUEVO\"]/1200, x[\"PLAZO_ORIGINAL\"]/30, i), axis=1)\n",
    "    except Exception as e:\n",
    "        print(e)"
   ]
  },
  {
   "cell_type": "code",
   "execution_count": 26,
   "metadata": {},
   "outputs": [],
   "source": [
    "for i in range(1, 7):\n",
    "    try:\n",
    "        # Crear la columna para cada mes\n",
    "        col_ingresos = f\"INGRESOS A {i} MESES\"\n",
    "        col_cred_espejo = f\"RECRED EN MES {i}\"\n",
    "\n",
    "        condicion = datos_temp[col_ingresos] >= datos_temp[\"RESERVAS RECREDITO\"]\n",
    "\n",
    "        datos_temp[col_cred_espejo] = np.where(condicion, 1, 0)\n",
    "\n",
    "    except Exception as e:\n",
    "        datos_temp[col_cred_espejo] = 0\n"
   ]
  },
  {
   "cell_type": "code",
   "execution_count": 27,
   "metadata": {},
   "outputs": [],
   "source": [
    "# ver si se puede pagar reestructura\n",
    "for i in range(1, 7):\n",
    "    try:\n",
    "        # Crear la columna para cada mes\n",
    "        col_ingresos = f\"INGRESOS A {i} MESES CRED ESPEJO\"\n",
    "        col_cred_espejo = f\"CRED ESPEJO EN MES {i}\"\n",
    "\n",
    "        condicion = datos_temp[col_ingresos] >= datos_temp[\"RESERVAS CREDITO NUEVO\"]\n",
    "\n",
    "        datos_temp[col_cred_espejo] = np.where(condicion, 1, 0)\n",
    "\n",
    "    except Exception as e:\n",
    "        datos_temp[col_cred_espejo] = 0\n"
   ]
  },
  {
   "cell_type": "code",
   "execution_count": 29,
   "metadata": {},
   "outputs": [],
   "source": [
    "# exportar datos\n",
    "exportacion = datos_temp[[\"NO_CREDITO\", \"CODIGO_CLIENTE\", \"Score\", \"TASA_ORIGINAL\", \"PLAZO_ORIGINAL\", \"MONTO_DESEMBOLSADO\", 'PORCENTAJE_SALDO',\n",
    "       'SALDO TOTAL FIDUCIARIO', 'RESERVAS RECREDITO', 'RESERVAS CREDITO NUEVO', 'TASA CRED NUEVO',\n",
    "       'CRED ESPEJO EN MES 1',\n",
    "       'CRED ESPEJO EN MES 2', 'CRED ESPEJO EN MES 3', 'CRED ESPEJO EN MES 4',\n",
    "       'CRED ESPEJO EN MES 5', 'CRED ESPEJO EN MES 6', 'RECRED EN MES 1',\n",
    "       'RECRED EN MES 2', 'RECRED EN MES 3', 'RECRED EN MES 4',\n",
    "       'RECRED EN MES 5', 'RECRED EN MES 6']]"
   ]
  }
 ],
 "metadata": {
  "kernelspec": {
   "display_name": "Python 3",
   "language": "python",
   "name": "python3"
  },
  "language_info": {
   "codemirror_mode": {
    "name": "ipython",
    "version": 3
   },
   "file_extension": ".py",
   "mimetype": "text/x-python",
   "name": "python",
   "nbconvert_exporter": "python",
   "pygments_lexer": "ipython3",
   "version": "3.12.1"
  }
 },
 "nbformat": 4,
 "nbformat_minor": 2
}
