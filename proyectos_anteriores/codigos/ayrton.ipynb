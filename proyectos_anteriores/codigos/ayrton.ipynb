{
 "cells": [
  {
   "cell_type": "code",
   "execution_count": 34,
   "metadata": {},
   "outputs": [],
   "source": [
    "import pandas as pd\n",
    "import warnings\n",
    "warnings.filterwarnings(\"ignore\")\n",
    "from utils import ingresos_financieros, meses_entre_fechas\n",
    "from impactos_iniciativa import ImpactosIniciativa"
   ]
  },
  {
   "cell_type": "markdown",
   "metadata": {},
   "source": [
    "# Funciones internas útiles"
   ]
  },
  {
   "cell_type": "code",
   "execution_count": 35,
   "metadata": {},
   "outputs": [],
   "source": [
    "# función para calcular el precio dada una tabla de precios externa de excel\n",
    "def aplicar_precio(monto: float, riesgo: str, precios: pd.DataFrame) -> float:\n",
    "    if monto <= 500000:\n",
    "        precio = precios[precios[\"Rangos\"] >= monto][riesgo].reset_index(drop=True)[0]\n",
    "    elif monto > 500000:\n",
    "        precio = None\n",
    "    return precio"
   ]
  },
  {
   "cell_type": "code",
   "execution_count": 36,
   "metadata": {},
   "outputs": [],
   "source": [
    "creditos = pd.read_csv(r\"C:\\Users\\mariajose_chinchilla\\Downloads\\info_creditos_cancelados.csv\", sep=\";\")\n",
    "creditos[\"PORCENTAJE SALDO\"] = 1 - creditos[\"SALDO\"] / creditos[\"MONTO_DESEMBOLSADO\"]\n",
    "creditos[\"FECHA_APERTURA_CR_CANCELADO\"] = pd.to_datetime(creditos[\"FECHA_APERTURA_CR_CANCELADO\"])"
   ]
  },
  {
   "cell_type": "code",
   "execution_count": null,
   "metadata": {},
   "outputs": [],
   "source": [
    "analizar = ImpactosIniciativa(creditos, \"MONTO_DESEMBOLSADO\", \n",
    "                              \"PLAZO\", \"TASA\", \"FECHA_APERTURA_CR_CANCELADO\", \"DESEMBOLSO_NETO\")"
   ]
  },
  {
   "cell_type": "markdown",
   "metadata": {},
   "source": [
    "# Empezar análisis de impactos"
   ]
  },
  {
   "cell_type": "markdown",
   "metadata": {},
   "source": [
    "## Créditos cancelados por recrédito"
   ]
  },
  {
   "cell_type": "code",
   "execution_count": null,
   "metadata": {},
   "outputs": [],
   "source": [
    "analizar.flag15_total(\"CREDITO\", \"PORCENTAJE SALDO\")\n",
    "analizar.ingresos_recibidos(\"YA RECIBIDO\", False)\n",
    "analizar.margen_financiero(\"YA RECIBIDO\", False)\n",
    "\n",
    "analizar.ingresos_recibidos(\"CANCELADOS POR RECREDITO\", True)\n",
    "analizar.margen_financiero(\"CANCELADOS POR RECREDITO\", False)"
   ]
  },
  {
   "cell_type": "markdown",
   "metadata": {},
   "source": [
    "## Recréditos desembolsados"
   ]
  },
  {
   "cell_type": "code",
   "execution_count": 52,
   "metadata": {},
   "outputs": [],
   "source": [
    "# Separar por saldo interno para procesar los datos\n",
    "desembolsos = pd.read_csv(r\"C:\\Users\\mariajose_chinchilla\\Downloads\\informacion_desembolsos_v2.csv\", \n",
    "                          sep=\";\", encoding='cp1252' )\n",
    "\n",
    "#df_flag = analizar.creditos[[\"CREDITO\", \"PAGA RESERVAS\"]]\n",
    "#desembolsos = pd.merge(desembolsos, df_flag, how=\"left\", on=\"CREDITO\")"
   ]
  },
  {
   "cell_type": "code",
   "execution_count": 42,
   "metadata": {},
   "outputs": [],
   "source": [
    "# leer archivo separadamente segun precios\n",
    "precios_sf80 = pd.read_excel(r\"C:\\Users\\mariajose_chinchilla\\Downloads\\FocoBanruralPrecios.xlsx\", sheet_name=\"SF80\")\n",
    "precios_sf80_120 = pd.read_excel(r\"C:\\Users\\mariajose_chinchilla\\Downloads\\FocoBanruralPrecios.xlsx\", sheet_name=\"SF80-120\")\n",
    "precios_sf120 = pd.read_excel(r\"C:\\Users\\mariajose_chinchilla\\Downloads\\FocoBanruralPrecios.xlsx\", sheet_name=\"SF120\")\n",
    "\n",
    "precios_liq80 = pd.read_excel(r\"C:\\Users\\mariajose_chinchilla\\Downloads\\FocoBanruralPrecios.xlsx\", sheet_name=\"L80\")\n",
    "precios_liq80_120 = pd.read_excel(r\"C:\\Users\\mariajose_chinchilla\\Downloads\\FocoBanruralPrecios.xlsx\", sheet_name=\"L80-120\")\n",
    "precios_liq120 = pd.read_excel(r\"C:\\Users\\mariajose_chinchilla\\Downloads\\FocoBanruralPrecios.xlsx\", sheet_name=\"L120\")"
   ]
  },
  {
   "cell_type": "code",
   "execution_count": null,
   "metadata": {},
   "outputs": [],
   "source": [
    "# usar mascaras para procesar diferentes los precios\n",
    "mascara_liquidez = desembolsos[\"PRODUCTO\"].isin([\"SOLUCION LIQUIDEZ CON FIADOR\",'SOLUCION LIQUIDEZ SIN FIADOR'])\n",
    "mascara_menor80 = desembolsos[\"SALDO_BT\"] <= 80000\n",
    "mascara80_120 = (desembolsos[\"SALDO_BT\"] > 80000) & (desembolsos[\"SALDO_BT\"] <= 120000)"
   ]
  },
  {
   "cell_type": "code",
   "execution_count": null,
   "metadata": {},
   "outputs": [],
   "source": [
    "# Definir conjuntos de datos\n",
    "sf80 = desembolsos.loc[~mascara_liquidez & mascara_menor80]\n",
    "sf80_120 = desembolsos.loc[~mascara_liquidez & mascara80_120]\n",
    "sf_120 = desembolsos.loc[~mascara_liquidez & ~(mascara_menor80 & mascara80_120)]\n",
    "\n",
    "liq80 = desembolsos.loc[mascara_liquidez & mascara_menor80]\n",
    "liq80_120 = desembolsos.loc[mascara_liquidez & mascara80_120]\n",
    "liq_120 = desembolsos.loc[mascara_liquidez & ~(mascara_menor80 & mascara80_120)]"
   ]
  },
  {
   "cell_type": "code",
   "execution_count": null,
   "metadata": {},
   "outputs": [],
   "source": [
    "# # instanciar las clases\n",
    "# validar_sf80 = ImpactosIniciativa(sf80, \"MONTO_DESEMBOLSADO\", \"PLAZO\", \"TASA\", \"FECHA_APERTURA\", \"DESEMBOLSO_NETO\", precios_sf80)\n",
    "# validar_sf80_120 = ImpactosIniciativa(sf80_120, \"MONTO_DESEMBOLSADO\", \"PLAZO\", \"TASA\", \"FECHA_APERTURA\", \"DESEMBOLSO_NETO\", precios_sf80_120)\n",
    "# validar_sf120 = ImpactosIniciativa(sf_120, \"MONTO_DESEMBOLSADO\", \"PLAZO\", \"TASA\", \"FECHA_APERTURA\", \"DESEMBOLSO_NETO\", precios_sf120)\n",
    "\n",
    "# validar_liq80 = ImpactosIniciativa(liq80, \"MONTO_DESEMBOLSADO\", \"PLAZO\", \"TASA\", \"FECHA_APERTURA\", \"DESEMBOLSO_NETO\", precios_liq80)\n",
    "# validar_liq80_120 = ImpactosIniciativa(liq80_120, \"MONTO_DESEMBOLSADO\", \"PLAZO\", \"TASA\", \"FECHA_APERTURA\", \"DESEMBOLSO_NETO\", precios_sf80_120)\n",
    "# validar_liq120 = ImpactosIniciativa(liq_120, \"MONTO_DESEMBOLSADO\", \"PLAZO\", \"TASA\", \"FECHA_APERTURA\", \"DESEMBOLSO_NETO\", precios_liq120)"
   ]
  },
  {
   "cell_type": "code",
   "execution_count": null,
   "metadata": {},
   "outputs": [],
   "source": [
    "# Pegar precio\n",
    "sf80[\"PRECIO NUEVO\"] = sf80.apply(lambda x: aplicar_precio(x[\"MONTO_DESEMBOLSADO\"], x[\"score\"], precios_sf80), axis=1)\n",
    "sf80_120[\"PRECIO NUEVO\"] = sf80_120.apply(lambda x: aplicar_precio(x[\"MONTO_DESEMBOLSADO\"], x[\"score\"], precios_sf80_120), axis=1)\n",
    "sf_120[\"PRECIO NUEVO\"] = sf_120.apply(lambda x: aplicar_precio(x[\"MONTO_DESEMBOLSADO\"], x[\"score\"], precios_sf80_120), axis=1)\n",
    "\n",
    "liq80[\"PRECIO NUEVO\"] = liq80.apply(lambda x: aplicar_precio(x[\"MONTO_DESEMBOLSADO\"], x[\"score\"], precios_liq80), axis=1)\n",
    "liq80_120[\"PRECIO NUEVO\"] = liq80_120.apply(lambda x: aplicar_precio(x[\"MONTO_DESEMBOLSADO\"], x[\"score\"], precios_liq80_120), axis=1)\n",
    "liq_120[\"PRECIO NUEVO\"] = liq_120.apply(lambda x: aplicar_precio(x[\"MONTO_DESEMBOLSADO\"], x[\"score\"], precios_liq120), axis=1)"
   ]
  },
  {
   "cell_type": "code",
   "execution_count": null,
   "metadata": {},
   "outputs": [],
   "source": [
    "# Procesar datos\n",
    "sf80[\"INGRESOS A 2024\"] = sf80.apply(lambda x: ingresos_financieros(x[\"MONTO_DESEMBOLSADO\"], x[\"TASA\"]/1200, x[\"PLAZO\"]/30, 6), axis=1)\n",
    "sf80_120[\"INGRESOS A 2024\"] = sf80_120.apply(lambda x: ingresos_financieros(x[\"MONTO_DESEMBOLSADO\"], x[\"TASA\"]/1200, x[\"PLAZO\"]/30, 6), axis=1)\n",
    "sf_120[\"INGRESOS A 2024\"] = sf80.apply(lambda x: ingresos_financieros(x[\"MONTO_DESEMBOLSADO\"], x[\"TASA\"]/1200, x[\"PLAZO\"]/30, 6), axis=1)\n",
    "\n",
    "\n",
    "liq80[\"INGRESOS A 2024\"] = liq80.apply(lambda x: ingresos_financieros(x[\"MONTO_DESEMBOLSADO\"], x[\"TASA\"]/1200, x[\"PLAZO\"]/30, 6), axis=1)\n",
    "liq80_120[\"INGRESOS A 2024\"] = liq80.apply(lambda x: ingresos_financieros(x[\"MONTO_DESEMBOLSADO\"], x[\"TASA\"]/1200, x[\"PLAZO\"]/30, 6), axis=1)\n",
    "liq_120[\"INGRESOS A 2024\"] = liq80.apply(lambda x: ingresos_financieros(x[\"MONTO_DESEMBOLSADO\"], x[\"TASA\"]/1200, x[\"PLAZO\"]/30, 6), axis=1)"
   ]
  },
  {
   "cell_type": "code",
   "execution_count": null,
   "metadata": {},
   "outputs": [],
   "source": [
    "sf80[\"RESERVAS REESTRUCTURACION\"] = 0.45 * 0.05 * sf80[\"MONTO_DESEMBOLSADO\"]\n",
    "sf80_120[\"RESERVAS REESTRUCTURACION\"] = 0.45 * 0.05 * sf80[\"MONTO_DESEMBOLSADO\"]\n",
    "sf_120[\"RESERVAS REESTRUCTURACION\"] = 0.45 * 0.05 * sf80[\"MONTO_DESEMBOLSADO\"]\n",
    "\n",
    "liq80[\"RESERVAS REESTRUCTURACION\"] = 0.45 * 0.05 * sf80[\"MONTO_DESEMBOLSADO\"]\n",
    "liq80_120[\"RESERVAS REESTRUCTURACION\"] = 0.45 * 0.05 * sf80[\"MONTO_DESEMBOLSADO\"]\n",
    "liq_120[\"RESERVAS REESTRUCTURACION\"] = 0.45 * 0.05 * sf80[\"MONTO_DESEMBOLSADO\"]"
   ]
  },
  {
   "cell_type": "code",
   "execution_count": null,
   "metadata": {},
   "outputs": [],
   "source": [
    "# margen financiero\n",
    "sf80[\"MARGEN FINANCIERO NUEVO\"] = sf80[\"INGRESOS A 2024\"] - sf80[\"RESERVAS REESTRUCTURACION\"] - 0.0747/2 * sf80[\"DESEMBOLSO_NETO\"]\n",
    "sf80_120[\"MARGEN FINANCIERO NUEVO\"] = sf80_120[\"INGRESOS A 2024\"] - sf80_120[\"RESERVAS REESTRUCTURACION\"] - 0.0747/2 * sf80_120[\"DESEMBOLSO_NETO\"]\n",
    "sf_120[\"MARGEN FINANCIERO NUEVO\"] = sf_120[\"INGRESOS A 2024\"] - sf_120[\"RESERVAS REESTRUCTURACION\"] - 0.0747/2 * sf_120[\"DESEMBOLSO_NETO\"]\n",
    "\n",
    "liq80[\"MARGEN FINANCIERO NUEVO\"] = liq80[\"INGRESOS A 2024\"] - liq80[\"RESERVAS REESTRUCTURACION\"] - 0.0747/2 * liq80[\"DESEMBOLSO_NETO\"]\n",
    "liq80_120[\"MARGEN FINANCIERO NUEVO\"] = liq80_120[\"INGRESOS A 2024\"] - liq80_120[\"RESERVAS REESTRUCTURACION\"] - 0.0747/2 * liq80_120[\"DESEMBOLSO_NETO\"]\n",
    "liq_120[\"MARGEN FINANCIERO NUEVO\"] = liq_120[\"INGRESOS A 2024\"] - liq_120[\"RESERVAS REESTRUCTURACION\"] - 0.0747/2 * liq_120[\"DESEMBOLSO_NETO\"]"
   ]
  },
  {
   "cell_type": "code",
   "execution_count": null,
   "metadata": {},
   "outputs": [],
   "source": [
    "# margen financiero CON NUESTRAS TASAS\n",
    "# Procesar datos\n",
    "sf80[\"INGRESOS A 2024 FOCO BANRURAL\"] = sf80.apply(lambda x: ingresos_financieros(x[\"MONTO_DESEMBOLSADO\"], x[\"PRECIO NUEVO\"]/1200, x[\"PLAZO\"]/30, 6), axis=1)\n",
    "sf80_120[\"INGRESOS A 2024 FOCO BANRURAL\"] = sf80_120.apply(lambda x: ingresos_financieros(x[\"MONTO_DESEMBOLSADO\"], x[\"PRECIO NUEVO\"]/1200, x[\"PLAZO\"]/30, 6), axis=1)\n",
    "sf_120[\"INGRESOS A 2024 FOCO BANRURAL\"] = sf80.apply(lambda x: ingresos_financieros(x[\"MONTO_DESEMBOLSADO\"], x[\"PRECIO NUEVO\"]/1200, x[\"PLAZO\"]/30, 6), axis=1)\n",
    "\n",
    "\n",
    "liq80[\"INGRESOS A 2024 FOCO BANRURAL\"] = sf80.apply(lambda x: ingresos_financieros(x[\"MONTO_DESEMBOLSADO\"], x[\"PRECIO NUEVO\"]/1200, x[\"PLAZO\"]/30, 6), axis=1)\n",
    "liq80_120[\"INGRESOS A 2024 FOCO BANRURAL\"] = sf80.apply(lambda x: ingresos_financieros(x[\"MONTO_DESEMBOLSADO\"], x[\"PRECIO NUEVO\"]/1200, x[\"PLAZO\"]/30, 6), axis=1)\n",
    "liq_120[\"INGRESOS A 2024 FOCO BANRURAL\"] = sf80.apply(lambda x: ingresos_financieros(x[\"MONTO_DESEMBOLSADO\"], x[\"PRECIO NUEVO\"]/1200, x[\"PLAZO\"]/30, 6), axis=1)\n",
    "\n",
    "################\n",
    "sf80[\"MARGEN FINANCIERO FOCO BANRURAL\"] = sf80[\"INGRESOS A 2024 FOCO BANRURAL\"] - 0.0747 * sf80[\"DESEMBOLSO_NETO\"]\n",
    "sf80_120[\"MARGEN FINANCIERO FOCO BANRURAL\"] = sf80_120[\"INGRESOS A 2024 FOCO BANRURAL\"] - 0.0747 * sf80_120[\"DESEMBOLSO_NETO\"]\n",
    "sf_120[\"MARGEN FINANCIERO FOCO BANRURAL\"] = sf_120[\"INGRESOS A 2024 FOCO BANRURAL\"]  - 0.0747 * sf_120[\"DESEMBOLSO_NETO\"]\n",
    "\n",
    "liq80[\"MARGEN FINANCIERO FOCO BANRURAL\"] = liq80[\"INGRESOS A 2024 FOCO BANRURAL\"]  - 0.0747 * liq80[\"DESEMBOLSO_NETO\"]\n",
    "liq80_120[\"MARGEN FINANCIERO FOCO BANRURAL\"] = liq80_120[\"INGRESOS A 2024 FOCO BANRURAL\"]  - 0.0747 * liq80_120[\"DESEMBOLSO_NETO\"]\n",
    "liq_120[\"MARGEN FINANCIERO FOCO BANRURAL\"] = liq_120[\"INGRESOS A 2024 FOCO BANRURAL\"]  - 0.0747 * liq_120[\"DESEMBOLSO_NETO\"]"
   ]
  },
  {
   "cell_type": "code",
   "execution_count": null,
   "metadata": {},
   "outputs": [],
   "source": [
    "# identificador de datos\n",
    "sf80[\"IDENTIFICADOR\"] = \"SF80\"\n",
    "sf80_120[\"IDENTIFICADOR\"] = \"SF80-120\"\n",
    "sf_120[\"IDENTIFICADOR\"] = \"SF120\"\n",
    "\n",
    "sf80_120[\"IDENTIFICADOR\"] = \"LIQ80\"\n",
    "liq80_120[\"IDENTIFICADOR\"] = \"LIQ80-120\"\n",
    "liq_120[\"IDENTIFICADOR\"] = \"LIQ120\""
   ]
  },
  {
   "cell_type": "markdown",
   "metadata": {},
   "source": [
    "## Precalificaciones verdes"
   ]
  },
  {
   "cell_type": "code",
   "execution_count": 3,
   "metadata": {},
   "outputs": [],
   "source": [
    "verdes_no_desem = pd.read_csv(r\"C:\\Users\\mariajose_chinchilla\\Downloads\\verdes no desembolsadas 1.csv\", sep=\";\")\n",
    "verde_cancela = pd.read_csv(r\"C:\\Users\\mariajose_chinchilla\\Downloads\\creditos a cancelar.csv\", sep=\";\", encoding='cp1252')"
   ]
  },
  {
   "cell_type": "code",
   "execution_count": 4,
   "metadata": {},
   "outputs": [],
   "source": [
    "verde_cancela[\"fConsecion\"] = pd.to_datetime(verde_cancela[\"fConsecion\"])\n",
    "verde_cancela[\"fVencimiento\"] = pd.to_datetime(verde_cancela[\"fVencimiento\"])\n",
    "verde_cancela[\"PLAZO\"] = verde_cancela.apply(lambda x: meses_entre_fechas(x[\"fConsecion\"], x[\"fVencimiento\"]), axis=1)\n",
    "verde_cancela[\"PORCENTAJE SALDO\"] = 1 - verde_cancela[\"saldo\"]/verde_cancela[\"capitalOriginal\"]"
   ]
  },
  {
   "cell_type": "markdown",
   "metadata": {},
   "source": [
    "# Ver ingresos y márgenes ya recibidos"
   ]
  },
  {
   "cell_type": "code",
   "execution_count": 5,
   "metadata": {},
   "outputs": [],
   "source": [
    "analizar_precas = ImpactosIniciativa(verde_cancela, \"capitalOriginal\", \"PLAZO\", \n",
    "                                     \"tasa\", \"fConsecion\", \"capitalOriginal\")\n",
    "analizar_precas.flag15_total(\"no_precalificacion\", \"PORCENTAJE SALDO\")\n",
    "analizar_precas.ingresos_recibidos(\"YA RECIBIDO\", False)\n",
    "analizar_precas.margen_financiero(\"YA RECIBIDO\", False)\n",
    "\n",
    "analizar_precas.ingresos_recibidos(\"QUE SERÍAN CANCELADOS POR RECREDITO\", True)\n",
    "analizar_precas.margen_financiero(\"QUE SERÍAN CANCELADOS POR RECREDITO\", False)"
   ]
  },
  {
   "cell_type": "code",
   "execution_count": 6,
   "metadata": {},
   "outputs": [],
   "source": [
    "analizar_precas.creditos.to_csv(r\"C:\\Users\\mariajose_chinchilla\\Documents\\GitHub\\proyectos_varios\\Salidas\\espejo\\Créditos que se cancelarían con las precas.csv\")"
   ]
  },
  {
   "cell_type": "markdown",
   "metadata": {},
   "source": [
    "## Ahora las precas"
   ]
  },
  {
   "cell_type": "code",
   "execution_count": 8,
   "metadata": {},
   "outputs": [],
   "source": [
    "# pegar si paga o no reservas\n",
    "df_temp = analizar_precas.creditos[[\"no_precalificacion\", \"PAGA RESERVAS\"]]\n",
    "verdes_no_desem = verdes_no_desem[(verdes_no_desem[\"tipo_producto\"] == \"SALUD FINANCIERA\") | (verdes_no_desem[\"tipo_producto\"] == \"LIQUIDEZ\")]\n",
    "verdes_no_desem = pd.merge(verdes_no_desem, df_temp, right_on=\"no_precalificacion\", left_on=\"Precalificacion\",how=\"left\")"
   ]
  },
  {
   "cell_type": "code",
   "execution_count": 12,
   "metadata": {},
   "outputs": [],
   "source": [
    "# hacer mascaras y definir conjuntos de datos por rango de saldo interno\n",
    "# usar mascaras para procesar diferentes los precios\n",
    "mascara_liquidez = verdes_no_desem[\"tipo_producto\"] == \"LIQUIDEZ\"\n",
    "mascara_menor80 = verdes_no_desem[\"saldo_internoBT\"] <= 80000\n",
    "mascara80_120 = (verdes_no_desem[\"saldo_internoBT\"] > 80000) & (verdes_no_desem[\"saldo_internoBT\"] <= 120000)\n",
    "\n",
    "# definir conjunto de datos\n",
    "preca_sf80 = verdes_no_desem.loc[~mascara_liquidez & mascara_menor80]\n",
    "preca_sf_80_120 = verdes_no_desem.loc[~mascara_liquidez & mascara80_120]\n",
    "preca_sf_120 = verdes_no_desem.loc[~mascara_liquidez & ~(mascara_menor80 & mascara80_120)]\n",
    "\n",
    "preca_liq80 = verdes_no_desem.loc[mascara_liquidez & mascara_menor80]\n",
    "preca_liq80_120 = verdes_no_desem.loc[mascara_liquidez & mascara80_120]\n",
    "preca_liq_120 = verdes_no_desem.loc[mascara_liquidez & ~(mascara80_120 & mascara_menor80)]"
   ]
  },
  {
   "cell_type": "code",
   "execution_count": 13,
   "metadata": {},
   "outputs": [],
   "source": [
    "# Pegar precio\n",
    "try:\n",
    "    preca_sf80[\"PRECIO NUEVO\"] = preca_sf80.apply(lambda x: aplicar_precio(x[\"solicitudMonto\"], x[\"scoreDeudorInstallmentQualPacing\"], precios_sf80), axis=1)\n",
    "except:\n",
    "    pass\n",
    "try:\n",
    "    preca_sf_80_120[\"PRECIO NUEVO\"] = preca_sf_80_120.apply(lambda x: aplicar_precio(x[\"solicitudMonto\"], x[\"scoreDeudorInstallmentQualPacing\"], precios_sf80_120), axis=1)\n",
    "except:\n",
    "    pass\n",
    "try:\n",
    "    preca_sf_120[\"PRECIO NUEVO\"] = preca_sf_120.apply(lambda x: aplicar_precio(x[\"solicitudMonto\"], x[\"scoreDeudorInstallmentQualPacing\"], precios_sf80_120), axis=1)\n",
    "except:\n",
    "    pass\n",
    "\n",
    "\n",
    "try:\n",
    "    preca_liq80[\"PRECIO NUEVO\"] = preca_liq80.apply(lambda x: aplicar_precio(x[\"solicitudMonto\"], x[\"scoreDeudorInstallmentQualPacing\"], precios_liq80), axis=1)\n",
    "except:\n",
    "    pass\n",
    "try:\n",
    "    preca_liq80_120[\"PRECIO NUEVO\"] = preca_liq80_120.apply(lambda x: aplicar_precio(x[\"solicitudMonto\"], x[\"scoreDeudorInstallmentQualPacing\"], precios_liq80_120), axis=1)\n",
    "except:\n",
    "    pass\n",
    "try:\n",
    "    preca_liq_120[\"PRECIO NUEVO\"] = preca_liq_120.apply(lambda x: aplicar_precio(x[\"solicitudMonto\"], x[\"scoreDeudorInstallmentQualPacing\"], precios_liq120), axis=1)\n",
    "except:\n",
    "    pass"
   ]
  },
  {
   "cell_type": "code",
   "execution_count": 14,
   "metadata": {},
   "outputs": [],
   "source": [
    "# Procesar datos\n",
    "preca_sf80[\"INGRESOS QUE SE TENDRIAN A 2024\"] = preca_sf80.apply(lambda x: ingresos_financieros(x[\"solicitudMonto\"], x[\"tasa\"]/1200, x[\"solicitudPlazo\"], 6), axis=1)\n",
    "preca_sf_80_120[\"INGRESOS QUE SE TENDRIAN A 2024\"] = preca_sf_80_120.apply(lambda x: ingresos_financieros(x[\"solicitudMonto\"], x[\"tasa\"]/1200, x[\"solicitudPlazo\"], 6), axis=1)\n",
    "preca_sf_120[\"INGRESOS QUE SE TENDRIAN A 2024\"] = preca_sf80.apply(lambda x: ingresos_financieros(x[\"solicitudMonto\"], x[\"tasa\"]/1200, x[\"solicitudPlazo\"], 6), axis=1)\n",
    "\n",
    "\n",
    "preca_liq80[\"INGRESOS QUE SE TENDRIAN A 2024\"] = preca_liq80.apply(lambda x: ingresos_financieros(x[\"solicitudMonto\"], x[\"tasa\"]/1200, x[\"solicitudPlazo\"], 6), axis=1)\n",
    "preca_liq80_120[\"INGRESOS QUE SE TENDRIAN A 2024\"] = preca_liq80_120.apply(lambda x: ingresos_financieros(x[\"solicitudMonto\"], x[\"tasa\"]/1200, x[\"solicitudPlazo\"], 6), axis=1)\n",
    "preca_liq_120[\"INGRESOS QUE SE TENDRIAN A 2024\"] = preca_liq_120.apply(lambda x: ingresos_financieros(x[\"solicitudMonto\"], x[\"tasa\"]/1200, x[\"solicitudPlazo\"], 6), axis=1)"
   ]
  },
  {
   "cell_type": "code",
   "execution_count": 15,
   "metadata": {},
   "outputs": [],
   "source": [
    "# calcular reservas\n",
    "preca_sf80.loc[preca_sf80[\"PAGA RESERVAS\"] == 1, \"RESERVAS POR REESTRUCTURACION QUE SE PAGARIAN\"] = 0.05 * 0.45 * preca_sf80[\"solicitudMonto\"]\n",
    "preca_sf_80_120.loc[preca_sf_80_120[\"PAGA RESERVAS\"] == 1, \"RESERVAS POR REESTRUCTURACION QUE SE PAGARIAN\"] = 0.05 * 0.45 * preca_sf_80_120[\"solicitudMonto\"]\n",
    "preca_sf_120.loc[preca_sf_120[\"PAGA RESERVAS\"] == 1, \"RESERVAS POR REESTRUCTURACION QUE SE PAGARIAN\"] = 0.05 * 0.45 * preca_sf_120[\"solicitudMonto\"]\n",
    "\n",
    "preca_liq80.loc[preca_liq80[\"PAGA RESERVAS\"] == 1, \"RESERVAS POR REESTRUCTURACION QUE SE PAGARIAN\"] = 0.05 * 0.45 * preca_liq80[\"solicitudMonto\"]\n",
    "preca_liq80_120.loc[preca_liq80_120[\"PAGA RESERVAS\"] == 1, \"RESERVAS POR REESTRUCTURACION QUE SE PAGARIAN\"] = 0.05 * 0.45 * preca_liq80_120[\"solicitudMonto\"]\n",
    "preca_liq_120.loc[preca_liq_120[\"PAGA RESERVAS\"] == 1, \"RESERVAS POR REESTRUCTURACION QUE SE PAGARIAN\"] = 0.05 * 0.45 * preca_liq_120[\"solicitudMonto\"]\n",
    "\n",
    "\n",
    "# llenar vacios\n",
    "preca_sf80[\"RESERVAS POR REESTRUCTURACION QUE SE PAGARIAN\"].fillna(0, inplace=True)\n",
    "preca_liq80_120[\"RESERVAS POR REESTRUCTURACION QUE SE PAGARIAN\"].fillna(0, inplace=True)\n",
    "preca_liq_120[\"RESERVAS POR REESTRUCTURACION QUE SE PAGARIAN\"].fillna(0, inplace=True)\n",
    "\n",
    "preca_liq80[\"RESERVAS POR REESTRUCTURACION QUE SE PAGARIAN\"].fillna(0, inplace=True)\n",
    "preca_liq80_120[\"RESERVAS POR REESTRUCTURACION QUE SE PAGARIAN\"].fillna(0, inplace=True)\n",
    "preca_liq_120[\"RESERVAS POR REESTRUCTURACION QUE SE PAGARIAN\"].fillna(0, inplace=True)"
   ]
  },
  {
   "cell_type": "code",
   "execution_count": 16,
   "metadata": {},
   "outputs": [],
   "source": [
    "# calcular margen financiero con la tasa de la precalificación\n",
    "preca_sf80[\"MARGEN FINANCIERO QUE SE TENDRIA\"] = preca_sf80[\"INGRESOS QUE SE TENDRIAN A 2024\"] - preca_sf80[\"RESERVAS POR REESTRUCTURACION QUE SE PAGARIAN\"] - (0.0747 / 2) * preca_sf80[\"solicitudMonto\"]\n",
    "preca_sf_80_120[\"MARGEN FINANCIERO QUE SE TENDRIA\"] = preca_sf_80_120[\"INGRESOS QUE SE TENDRIAN A 2024\"] - preca_sf_80_120[\"RESERVAS POR REESTRUCTURACION QUE SE PAGARIAN\"] - (0.0747 / 2) * preca_sf_80_120[\"solicitudMonto\"]\n",
    "preca_sf_120[\"MARGEN FINANCIERO QUE SE TENDRIA\"] = preca_sf_120[\"INGRESOS QUE SE TENDRIAN A 2024\"] - preca_sf_120[\"RESERVAS POR REESTRUCTURACION QUE SE PAGARIAN\"] - (0.0747 / 2) * preca_sf_120[\"solicitudMonto\"]\n",
    "\n",
    "preca_liq80[\"MARGEN FINANCIERO QUE SE TENDRIA\"] = preca_liq80[\"INGRESOS QUE SE TENDRIAN A 2024\"] - preca_liq80[\"RESERVAS POR REESTRUCTURACION QUE SE PAGARIAN\"] - (0.0747 / 2) * preca_liq80[\"solicitudMonto\"]\n",
    "preca_liq80_120[\"MARGEN FINANCIERO QUE SE TENDRIA\"] = preca_liq80_120[\"INGRESOS QUE SE TENDRIAN A 2024\"] - preca_liq80_120[\"RESERVAS POR REESTRUCTURACION QUE SE PAGARIAN\"] - (0.0747 / 2) * preca_liq80_120[\"solicitudMonto\"]\n",
    "preca_liq_120[\"MARGEN FINANCIERO QUE SE TENDRIA\"] = preca_liq_120[\"INGRESOS QUE SE TENDRIAN A 2024\"] - preca_liq_120[\"RESERVAS POR REESTRUCTURACION QUE SE PAGARIAN\"] - (0.0747 / 2) * preca_liq_120[\"solicitudMonto\"]"
   ]
  },
  {
   "cell_type": "code",
   "execution_count": 29,
   "metadata": {},
   "outputs": [
    {
     "name": "stdout",
     "output_type": "stream",
     "text": [
      "'INGRESOS A 2024 FOCO BANRURAL'\n"
     ]
    }
   ],
   "source": [
    "# ingresos y margen con foco banrural\n",
    "# margen financiero CON NUESTRAS TASAS\n",
    "# Procesar datos\n",
    "try:\n",
    "    preca_sf80[\"INGRESOS A 2024 FOCO BANRURAL\"] = preca_sf80.apply(lambda x: ingresos_financieros(x[\"solicitudMonto\"], x[\"PRECIO NUEVO\"]/1200, x[\"solicitudPlazo\"], 6), axis=1)\n",
    "except:\n",
    "    pass\n",
    "try:\n",
    "    preca_sf_80_120[\"INGRESOS A 2024 FOCO BANRURAL\"] = preca_sf_80_120.apply(lambda x: ingresos_financieros(x[\"solicitudMonto\"], x[\"PRECIO NUEVO\"]/1200, x[\"solicitudPlazo\"]/30, 6), axis=1)\n",
    "except:\n",
    "    pass\n",
    "try:\n",
    "    preca_sf_120[\"INGRESOS A 2024 FOCO BANRURAL\"] = preca_sf_120.apply(lambda x: ingresos_financieros(x[\"solicitudMonto\"], x[\"PRECIO NUEVO\"]/1200, x[\"solicitudPlazo\"], 6), axis=1)\n",
    "except:\n",
    "    pass\n",
    "\n",
    "try:\n",
    "    preca_liq80[\"INGRESOS A 2024 FOCO BANRURAL\"] = preca_liq80.apply(lambda x: ingresos_financieros(x[\"solicitudMonto\"], x[\"PRECIO NUEVO\"]/1200, x[\"solicitudPlazo\"], 6), axis=1)\n",
    "    preca_liq80_120[\"INGRESOS A 2024 FOCO BANRURAL\"] = preca_liq80_120.apply(lambda x: ingresos_financieros(x[\"solicitudMonto\"], x[\"PRECIO NUEVO\"]/1200, x[\"solicitudPlazo\"], 6), axis=1)\n",
    "    preca_liq_120[\"INGRESOS A 2024 FOCO BANRURAL\"] = preca_liq_120.apply(lambda x: ingresos_financieros(x[\"solicitudMonto\"], x[\"PRECIO NUEVO\"]/1200, x[\"solicitudPlazo\"], 6), axis=1)\n",
    "except:\n",
    "    pass\n",
    "################\n",
    "try:\n",
    "    preca_sf80[\"MARGEN FINANCIERO FOCO BANRURAL\"] = preca_sf80[\"INGRESOS A 2024 FOCO BANRURAL\"] - 0.0747/2 * preca_sf80[\"solicitudMonto\"]\n",
    "except:\n",
    "    pass\n",
    "try:\n",
    "    preca_sf_80_120[\"MARGEN FINANCIERO FOCO BANRURAL\"] = preca_sf_80_120[\"INGRESOS A 2024 FOCO BANRURAL\"] - 0.0747/2 * preca_sf_80_120[\"solicitudMonto\"]\n",
    "except:\n",
    "    pass\n",
    "try:\n",
    "    preca_sf_120[\"MARGEN FINANCIERO FOCO BANRURAL\"] = preca_sf_120[\"INGRESOS A 2024 FOCO BANRURAL\"]  - 0.0747/2 * preca_sf_120[\"solicitudMonto\"]\n",
    "except:\n",
    "    pass\n",
    "\n",
    "try:\n",
    "    preca_liq80[\"MARGEN FINANCIERO FOCO BANRURAL\"] = preca_liq80[\"INGRESOS A 2024 FOCO BANRURAL\"]  - 0.0747/2 * preca_liq80[\"solicitudMonto\"]\n",
    "    preca_liq80_120[\"MARGEN FINANCIERO FOCO BANRURAL\"] = preca_liq80_120[\"INGRESOS A 2024 FOCO BANRURAL\"]  - 0.0747/2 * preca_liq80_120[\"solicitudMonto\"]\n",
    "    preca_liq_120[\"MARGEN FINANCIERO FOCO BANRURAL\"] = preca_liq_120[\"INGRESOS A 2024 FOCO BANRURAL\"]  - 0.0747/2 * preca_liq_120[\"solicitudMonto\"]\n",
    "except Exception as e:\n",
    "    print(e)"
   ]
  },
  {
   "cell_type": "code",
   "execution_count": 30,
   "metadata": {},
   "outputs": [],
   "source": [
    "preca_sf80[\"IDENTIFICADOR\"] = \"SF80\"\n",
    "preca_sf_80_120[\"IDENTIFICADOR\"] = \"SF80-120\"\n",
    "preca_sf_120[\"IDENTIFICADOR\"] = \"SF120\"\n",
    "preca_liq80[\"IDENTIFICADOR\"] = \"LIQ80\"\n",
    "preca_liq80_120[\"IDENTIFICADOR\"] = \"LIQ80-120\"\n",
    "preca_liq_120[\"IDENTIFICADOR\"] = \"LIQ120\""
   ]
  },
  {
   "cell_type": "code",
   "execution_count": 31,
   "metadata": {},
   "outputs": [],
   "source": [
    "df_total = [preca_sf80, preca_sf_80_120, preca_sf_120, preca_liq80, preca_liq80_120, preca_liq_120]\n",
    "df_total = pd.concat(df_total)"
   ]
  },
  {
   "cell_type": "code",
   "execution_count": 1,
   "metadata": {},
   "outputs": [],
   "source": [
    "from utils import ingresos_financieros"
   ]
  },
  {
   "cell_type": "code",
   "execution_count": 64,
   "metadata": {},
   "outputs": [],
   "source": [
    "cancelado = ingresos_financieros(6200, 23/1200, 60, 11) - ingresos_financieros(6200, 23/1200, 60, 6)\n",
    "nuevo = ingresos_financieros(15000, 23/1200, 60, 35) - ingresos_financieros(15000, 23/1200, 60, 30)"
   ]
  },
  {
   "cell_type": "code",
   "execution_count": 66,
   "metadata": {},
   "outputs": [
    {
     "data": {
      "text/plain": [
       "208.09786156330296"
      ]
     },
     "execution_count": 66,
     "metadata": {},
     "output_type": "execute_result"
    }
   ],
   "source": [
    "ingresos_financieros(6200, (0.0747+0.0025)/(12*(1-0.146)), 60, 11) - ingresos_financieros(6200, (0.0747+0.0025)/(12*(1-0.146)), 60, 6)"
   ]
  }
 ],
 "metadata": {
  "kernelspec": {
   "display_name": "Python 3",
   "language": "python",
   "name": "python3"
  },
  "language_info": {
   "codemirror_mode": {
    "name": "ipython",
    "version": 3
   },
   "file_extension": ".py",
   "mimetype": "text/x-python",
   "name": "python",
   "nbconvert_exporter": "python",
   "pygments_lexer": "ipython3",
   "version": "3.12.1"
  }
 },
 "nbformat": 4,
 "nbformat_minor": 2
}
