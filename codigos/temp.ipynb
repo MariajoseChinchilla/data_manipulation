{
 "cells": [
  {
   "cell_type": "code",
   "execution_count": 1,
   "metadata": {},
   "outputs": [],
   "source": [
    "import pandas as pd"
   ]
  },
  {
   "cell_type": "code",
   "execution_count": 2,
   "metadata": {},
   "outputs": [],
   "source": [
    "cosechas = pd.read_csv(r\"C:\\Users\\mariajose_chinchilla\\Documents\\GitHub\\proyectos_varios\\db\\cosechas_junio.csv\", sep=\";\")"
   ]
  },
  {
   "cell_type": "code",
   "execution_count": 3,
   "metadata": {},
   "outputs": [
    {
     "name": "stderr",
     "output_type": "stream",
     "text": [
      "C:\\Users\\mariajose_chinchilla\\AppData\\Local\\Temp\\ipykernel_47496\\827246295.py:7: SettingWithCopyWarning: \n",
      "A value is trying to be set on a copy of a slice from a DataFrame\n",
      "\n",
      "See the caveats in the documentation: https://pandas.pydata.org/pandas-docs/stable/user_guide/indexing.html#returning-a-view-versus-a-copy\n",
      "  cosechas_df.rename(columns={\"rciInternoInicialDeudor\": \"RCI\",\n"
     ]
    }
   ],
   "source": [
    "cosechas_df = cosechas[[\"NO_CREDITO\", \"CODIGO_CLIENTE\", \"ES_RECREDITO\",\n",
    "                        \"PRODUCTO\", \"CANTIDAD_DIAS_ATRASO\", \n",
    "                        \"MONTO_DESEMBOLSADO\",\n",
    "                        'rciInternoInicialDeudor', 'rciInternoFinalDeudor',\n",
    "                         'scoreDeudorInstallmentQualPacing']]\n",
    "\n",
    "cosechas_df.rename(columns={\"rciInternoInicialDeudor\": \"RCI\", \n",
    "                            \"rciInternoFinalDeudor\": \"RCI FINAL\",\n",
    "                            \"scoreDeudorInstallmentQualPacing\": \"SCORE\"}, inplace=True)"
   ]
  },
  {
   "cell_type": "code",
   "execution_count": null,
   "metadata": {},
   "outputs": [],
   "source": [
    "recreditos = cosechas_df[(cosechas_df[\"ES_RECREDITO\"] == \"SI\") & (cosechas_df[\"PRODUCTO\"].isin([\"SALUD\", \"LIQUIDEZ\"]))]\n",
    "recreditos[\"%pagado\"] = 1 - cosechas_df[\"SALDO\"] / cosechas_df[\"MONTO_DESEMBOLSADO\"]"
   ]
  }
 ],
 "metadata": {
  "kernelspec": {
   "display_name": "Python 3",
   "language": "python",
   "name": "python3"
  },
  "language_info": {
   "codemirror_mode": {
    "name": "ipython",
    "version": 3
   },
   "file_extension": ".py",
   "mimetype": "text/x-python",
   "name": "python",
   "nbconvert_exporter": "python",
   "pygments_lexer": "ipython3",
   "version": "3.12.1"
  }
 },
 "nbformat": 4,
 "nbformat_minor": 2
}
