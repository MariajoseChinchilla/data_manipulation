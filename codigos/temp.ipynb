{
 "cells": [
  {
   "cell_type": "code",
   "execution_count": 1,
   "metadata": {},
   "outputs": [],
   "source": [
    "from utils import ingresos_financieros, calcular_cuota\n",
    "import pandas as pd\n",
    "from dateutil.relativedelta import relativedelta\n",
    "from datetime import datetime\n",
    "import warnings\n",
    "warnings.filterwarnings(\"ignore\")\n",
    "import numpy as np"
   ]
  },
  {
   "cell_type": "code",
   "execution_count": 2,
   "metadata": {},
   "outputs": [],
   "source": [
    "def meses_entre_fechas(fecha_inicio, fecha_fin):\n",
    "    \"\"\"\n",
    "    Calcula la distancia en meses entre dos fechas.\n",
    "\n",
    "    :param fecha_inicio: Fecha de inicio (datetime)\n",
    "    :param fecha_fin: Fecha de fin (datetime)\n",
    "    :return: Número de meses entre las dos fechas\n",
    "    \"\"\"\n",
    "    delta = relativedelta(fecha_fin, fecha_inicio)\n",
    "    return delta.years * 12 + delta.months"
   ]
  },
  {
   "cell_type": "code",
   "execution_count": null,
   "metadata": {},
   "outputs": [],
   "source": [
    "# cosechas = pd.read_csv(r\"C:\\Users\\mariajose_chinchilla\\Documents\\GitHub\\proyectos_varios\\db\\cosechas_junio.csv\", sep=)"
   ]
  },
  {
   "cell_type": "code",
   "execution_count": null,
   "metadata": {},
   "outputs": [],
   "source": [
    "# cosechas_df = cosechas[[\"NO_CREDITO\", \"CODIGO_CLIENTE\", \"ES_RECREDITO\",\n",
    "#                         \"PRODUCTO\", \"CANTIDAD_DIAS_ATRASO\", \n",
    "#                         \"MONTO_DESEMBOLSADO\",\n",
    "#                         'rciInternoInicialDeudor', 'rciInternoFinalDeudor',\n",
    "#                          'scoreDeudorInstallmentQualPacing']]\n",
    "\n",
    "# cosechas_df.rename(columns={\"rciInternoInicialDeudor\": \"RCI\", \n",
    "#                             \"rciInternoFinalDeudor\": \"RCI FINAL\",\n",
    "#                             \"scoreDeudorInstallmentQualPacing\": \"SCORE\"}, inplace=True)"
   ]
  },
  {
   "cell_type": "code",
   "execution_count": null,
   "metadata": {},
   "outputs": [],
   "source": [
    "# recreditos = cosechas[(cosechas[\"ES_RECREDITO\"] == \"SI\") & (cosechas[\"PRODUCTO\"].isin([\"SALUD\", \"LIQUIDEZ\"]))]\n",
    "# #recreditos[\"%pagado\"] = 1 - cosechas_df[\"SALDO\"] / cosechas_df[\"MONTO_DESEMBOLSADO\"]"
   ]
  },
  {
   "cell_type": "markdown",
   "metadata": {},
   "source": [
    "# pegar creditso cancelados por recredito"
   ]
  },
  {
   "cell_type": "code",
   "execution_count": 3,
   "metadata": {},
   "outputs": [],
   "source": [
    "df = pd.read_excel(r\"C:\\Users\\mariajose_chinchilla\\Documents\\GitHub\\proyectos_varios\\Salidas\\espejo\\Retrofit_espejo.xlsx\")\n",
    "cancelados = pd.read_csv(r\"C:\\Users\\mariajose_chinchilla\\Downloads\\Recreditos.csv\", sep=\";\")"
   ]
  },
  {
   "cell_type": "code",
   "execution_count": 4,
   "metadata": {},
   "outputs": [],
   "source": [
    "cancelados = cancelados[(~cancelados[\"PLAZO_CRE_CANCEL\"].isna()) & (cancelados[\"PLAZO_CRE_CANCEL\"] != 0) & (~cancelados[\"incumple\"].isna())]"
   ]
  },
  {
   "cell_type": "code",
   "execution_count": 5,
   "metadata": {},
   "outputs": [],
   "source": [
    "cancelados[\"incumple\"] = cancelados[\"incumple\"].astype(str).str.replace(\"SI\", \"0\")\n",
    "cancelados[\"incumple\"] = cancelados[\"incumple\"].astype(str).str.replace(\"NO\", \"1\")\n",
    "cancelados[\"incumple\"] = cancelados[\"incumple\"].astype(\"int64\")"
   ]
  },
  {
   "cell_type": "code",
   "execution_count": 6,
   "metadata": {},
   "outputs": [],
   "source": [
    "cancelados[\"F_APER_CRE_CANCEL\"] = pd.to_datetime(cancelados[\"F_APER_CRE_CANCEL\"])\n",
    "# Fecha objetivo a calcular la diferencia\n",
    "fecha_fin = datetime(2024, 6, 30)\n",
    "\n",
    "# Aplicar la función para calcular los meses activos\n",
    "cancelados[\"MESES ACTIVOS\"] = cancelados.apply(lambda x: meses_entre_fechas(x[\"F_APER_CRE_CANCEL\"], fecha_fin), axis=1)\n",
    "cancelados[\"INGRESOS RECIBIDOS\"] = cancelados.apply(lambda x: ingresos_financieros(x[\"MONTO_CRED_CANCEL\"],x[\"TASA_CAnt\"]/1200, x[\"PLAZO_CRE_CANCEL\"], x[\"MESES ACTIVOS\"] - 1), axis=1)\n",
    "cancelados[\"INGRESOS A 2024\"] = cancelados.apply(lambda x: ingresos_financieros(x[\"MONTO_CRED_CANCEL\"], x[\"TASA_CAnt\"]/1200, x[\"PLAZO_CRE_CANCEL\"], x[\"MESES ACTIVOS\"] + 5), axis=1)"
   ]
  },
  {
   "cell_type": "code",
   "execution_count": 7,
   "metadata": {},
   "outputs": [],
   "source": [
    "cancelados[\"INGRESOS RECIBIDOS\"] = pd.to_numeric(cancelados[\"INGRESOS RECIBIDOS\"], errors=\"coerce\")\n",
    "cancelados[\"INGRESOS A 2024\"] = pd.to_numeric(cancelados[\"INGRESOS A 2024\"], errors=\"coerce\")"
   ]
  },
  {
   "cell_type": "code",
   "execution_count": 27,
   "metadata": {},
   "outputs": [],
   "source": [
    "cancelados[\"CUOTA CREDITO\"] = cancelados.apply(lambda x: calcular_cuota(x[\"MONTO_CRED_CANCEL\"], x[\"TASA_CAnt\"]/1200, x[\"PLAZO_CRE_CANCEL\"]), axis=1)\n",
    "cancelados[\"CAPITAL_PAGADO\"] = cancelados[\"MONTO_CRED_CANCEL\"] - (cancelados[\"MESES ACTIVOS\"] - 1) * cancelados[\"CUOTA CREDITO\"] + cancelados[\"INGRESOS RECIBIDOS\"]\n",
    "cancelados[\"MF CANCELADO\"] = cancelados[\"INGRESOS A 2024\"] - cancelados[\"INGRESOS RECIBIDOS\"]\n",
    "cancelados[\"FACTOR TASSA\"] = cancelados[\"TASA_CAnt\"] * cancelados[\"MONTO_CRED_CANCEL\"]"
   ]
  },
  {
   "cell_type": "code",
   "execution_count": 28,
   "metadata": {},
   "outputs": [],
   "source": [
    "cancelados_temp = cancelados.groupby(by=\"CRED_NUEVO\").agg(\n",
    "    MF_CANCELADO_TOTAL=(\"MF CANCELADO\", \"sum\"),\n",
    "    INCUMPLE_TOTAL=(\"incumple\", \"mean\"),\n",
    "    MONTO_CANCELADO_RECREDITO=(\"CAPITAL_PAGADO\", \"sum\"),\n",
    "    TPP_CANCEL=(\"FACTOR TASSA\", \"sum\"),\n",
    "    MONTO_ORIGINAL_CANCELADO_RECRED=(\"MONTO_CRED_CANCEL\", \"sum\"),).reset_index()"
   ]
  },
  {
   "cell_type": "code",
   "execution_count": 29,
   "metadata": {},
   "outputs": [],
   "source": [
    "cancelados_temp[\"FLAG 15%\"] = np.where(cancelados_temp[\"INCUMPLE_TOTAL\"] == 1, 1, 0)"
   ]
  },
  {
   "cell_type": "code",
   "execution_count": 35,
   "metadata": {},
   "outputs": [],
   "source": [
    "a = cancelados.drop_duplicates(subset=\"CRED_NUEVO\")\n",
    "creds = len(a[a[\"RCI_global_final_CN\"] > 50]) / len(a)\n",
    "saldo = sum(a[a[\"RCI_global_final_CN\"] > 50][\"MONTO_CRED_NUEVO\"]) / sum(a[\"MONTO_CRED_NUEVO\"])"
   ]
  },
  {
   "cell_type": "code",
   "execution_count": 36,
   "metadata": {},
   "outputs": [
    {
     "name": "stdout",
     "output_type": "stream",
     "text": [
      "Proporción crédito es 0.7849574431127323 y de saldo es 0.8461841897102166\n"
     ]
    }
   ],
   "source": [
    "print(f\"Proporción crédito es {creds} y de saldo es {saldo}\")"
   ]
  },
  {
   "cell_type": "code",
   "execution_count": 30,
   "metadata": {},
   "outputs": [],
   "source": [
    "cancelados_temp.to_excel(r\"C:\\Users\\mariajose_chinchilla\\Documents\\GitHub\\proyectos_varios\\Salidas\\espejo\\cred_cancels.xlsx\")"
   ]
  }
 ],
 "metadata": {
  "kernelspec": {
   "display_name": "Python 3",
   "language": "python",
   "name": "python3"
  },
  "language_info": {
   "codemirror_mode": {
    "name": "ipython",
    "version": 3
   },
   "file_extension": ".py",
   "mimetype": "text/x-python",
   "name": "python",
   "nbconvert_exporter": "python",
   "pygments_lexer": "ipython3",
   "version": "3.12.1"
  }
 },
 "nbformat": 4,
 "nbformat_minor": 2
}
