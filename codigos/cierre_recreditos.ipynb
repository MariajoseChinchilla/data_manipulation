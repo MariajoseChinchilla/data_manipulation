{
 "cells": [
  {
   "cell_type": "markdown",
   "metadata": {},
   "source": [
    "# Evaluar retroactivamente recréditos"
   ]
  },
  {
   "cell_type": "code",
   "execution_count": 1,
   "metadata": {},
   "outputs": [],
   "source": [
    "# importar librerias\n",
    "import pandas as pd\n",
    "import warnings\n",
    "warnings.filterwarnings(\"ignore\")"
   ]
  },
  {
   "cell_type": "code",
   "execution_count": 2,
   "metadata": {},
   "outputs": [],
   "source": [
    "datos = pd.read_csv(r\"C:\\Users\\mariajose_chinchilla\\Documents\\GitHub\\proyectos_varios\\db\\recreditos_2024.csv\", sep=\";\")\n",
    "datos.sort_values(by=\"NO_CREDITO_NUEVO\", inplace=True)\n",
    "datos[\"SALDO\"] = (datos[\"MONTO_DESEMBOLSADO_CANC\"] - datos[\"MONTO_CANCELADO\"]) / datos[\"MONTO_DESEMBOLSADO_CANC\"]"
   ]
  },
  {
   "cell_type": "code",
   "execution_count": 3,
   "metadata": {},
   "outputs": [],
   "source": [
    "cred_nuevos = datos[datos[\"SALDO\"] >= 0.15]\n",
    "prop_cred_nuevos = cred_nuevos[\"NO_CREDITO_NUEVO\"].nunique() / datos[\"NO_CREDITO_NUEVO\"].nunique()\n",
    "\n",
    "# sacar proporcion de incumplimiento\n",
    "recreditos = datos[datos[\"SALDO\"] < 0.15]\n",
    "prop_recred_obligatorio = recreditos[\"NO_CREDITO_NUEVO\"].nunique() / datos[\"NO_CREDITO_NUEVO\"].nunique()"
   ]
  },
  {
   "cell_type": "code",
   "execution_count": 16,
   "metadata": {},
   "outputs": [
    {
     "name": "stdout",
     "output_type": "stream",
     "text": [
      "La proporción de créditos que no cumple es de 0.6995592429349236\n"
     ]
    }
   ],
   "source": [
    "print(f\"La proporción de créditos que no cumple es de {prop_recred_obligatorio}\")"
   ]
  },
  {
   "cell_type": "code",
   "execution_count": 5,
   "metadata": {},
   "outputs": [],
   "source": [
    "# función que determina si se pueden constituir reservas\n",
    "def calcular_cuota(desembolso, plazo, tasa):\n",
    "    try:\n",
    "        cuota = (desembolso * tasa * (1 + tasa)**plazo) / ((1 + tasa)**plazo - 1)\n",
    "    except:\n",
    "        cuota = 0\n",
    "    return cuota\n",
    "\n",
    "def ingreso_por_intereses(n, desembolso, plazo, tasa):\n",
    "    cuota = calcular_cuota(desembolso, plazo, tasa)\n",
    "    try:\n",
    "        ingresos = (desembolso - cuota / tasa)*((1 + tasa)**n - 1) + cuota*n\n",
    "    except Exception as e:\n",
    "        ingresos = 0\n",
    "        print(e)\n",
    "    return ingresos\n",
    "\n",
    "def reservas_reestructuracion(desembolso):\n",
    "    alpha = (0.08 + 0.0025) / (2 * (1 - 0.146))\n",
    "    return (0.056 * 0.45 +  alpha) * desembolso\n",
    "\n",
    "def constitucion_reservas(mes_inicio, mes_final, desembolso, plazo, tasa):\n",
    "    alpha = (0.08 + 0.0025) / (2 * (1 - 0.146))\n",
    "    ingresos_totales = ingreso_por_intereses(mes_final, desembolso, plazo, tasa) - ingreso_por_intereses(mes_inicio, desembolso, plazo, tasa)\n",
    "    if (0.056 * 0.45 +  alpha) * desembolso <= ingresos_totales:\n",
    "        return \"Sí\"\n",
    "    else:\n",
    "        return \"No\"\n"
   ]
  },
  {
   "cell_type": "code",
   "execution_count": 6,
   "metadata": {},
   "outputs": [],
   "source": [
    "# aplicar flag para ver qué recréditos si pasaban\n",
    "recreditos[\"FLAG RECREDITO\"] = recreditos.apply(lambda x: constitucion_reservas(1, 6, x[\"MONTO_DESEMBOLSADO_NUEVO\"], x[\"PLAZO_CRED_NUEVO\"]/30, x[\"TASA_CRED_NUEVO\"]/1200), axis=1)\n",
    "recreditos[\"INGRESOS_MES6\"] = recreditos.apply(lambda x: ingreso_por_intereses(6, x[\"MONTO_DESEMBOLSADO_NUEVO\"], x[\"PLAZO_CRED_NUEVO\"]/30, x[\"TASA_CRED_NUEVO\"]/1200), axis=1)\n",
    "\n",
    "# agrupar con no_credito_nuevo y solo pegar reservas en la primera ocurrencia\n",
    "mascara_duplicados = recreditos.duplicated(subset=\"NO_CREDITO_NUEVO\", keep=\"first\")\n",
    "alpha = (0.08 + 0.0025) / (2 * (1 - 0.146))\n",
    "recreditos.loc[~mascara_duplicados, \"RESERVAS_REESTRUCTURACION\"] = (0.056*0.45 + alpha) * recreditos[\"MONTO_DESEMBOLSADO_NUEVO\"]\n",
    "recreditos.loc[mascara_duplicados, \"RESERVAS_REESTRUCTURACION\"] = 0\n",
    "# Añadir verticalmetne los datos que faltaban\n",
    "recreditos[\"CUOTA\"] = recreditos.apply(lambda x: calcular_cuota(x[\"MONTO_DESEMBOLSADO_NUEVO\"], x[\"PLAZO_CRED_NUEVO\"]/30, x[\"TASA_CRED_NUEVO\"]/1200), axis=1)"
   ]
  },
  {
   "cell_type": "markdown",
   "metadata": {},
   "source": [
    "## Estudiar los que sí pasan la constitución de reservas"
   ]
  },
  {
   "cell_type": "code",
   "execution_count": 7,
   "metadata": {},
   "outputs": [],
   "source": [
    "# ver el acumulado de reservas\n",
    "recreditos.sort_values(by=\"NO_CREDITO_NUEVO\", inplace=True)\n",
    "recreditos[\"RESERVAS ACUMULADAS\"] = recreditos[\"RESERVAS_REESTRUCTURACION\"].cumsum()"
   ]
  },
  {
   "cell_type": "markdown",
   "metadata": {},
   "source": [
    "## Evaluar reservas acumuladas"
   ]
  },
  {
   "cell_type": "code",
   "execution_count": 8,
   "metadata": {},
   "outputs": [
    {
     "name": "stdout",
     "output_type": "stream",
     "text": [
      "La proporción de número de recréditos que queda por debajo de la cota de constitución de reservas fue de 0.06856422800385442\n",
      "La proporción de respecto del universo de recréditos es de 0.04796473943479388\n"
     ]
    }
   ],
   "source": [
    "acumulado_reservas = 10000000\n",
    "num = recreditos[recreditos[\"RESERVAS ACUMULADAS\"] <= acumulado_reservas][\"NO_CREDITO_NUEVO\"].nunique()\n",
    "den = recreditos[\"NO_CREDITO_NUEVO\"].nunique()\n",
    "prop = num / den\n",
    "print(f\"La proporción de número de recréditos que queda por debajo de la cota de constitución de reservas fue de {prop}\")\n",
    "prop_acumulado_universo = prop * prop_recred_obligatorio\n",
    "print(f\"La proporción de respecto del universo de recréditos es de {prop_acumulado_universo}\")"
   ]
  },
  {
   "cell_type": "code",
   "execution_count": 12,
   "metadata": {},
   "outputs": [
    {
     "name": "stdout",
     "output_type": "stream",
     "text": [
      "La proporción de recréditos que sí constituyen reservas es de 0.6445037432362316\n",
      "La proporción respecto del universo es de 0.45086855068706255\n"
     ]
    }
   ],
   "source": [
    "## ver proporcion de los que recuperan\n",
    "prop_recred_reservas = recreditos[recreditos[\"FLAG RECREDITO\"] == \"Sí\"][\"NO_CREDITO_NUEVO\"].nunique() / recreditos[\"NO_CREDITO_NUEVO\"].nunique()\n",
    "prop_reservas_universo = prop_recred_reservas * prop_recred_obligatorio\n",
    "\n",
    "print(f\"La proporción de recréditos que sí constituyen reservas es de {prop_recred_reservas}\")\n",
    "print(f\"La proporción respecto del universo es de {prop_reservas_universo}\")"
   ]
  },
  {
   "cell_type": "code",
   "execution_count": 10,
   "metadata": {},
   "outputs": [
    {
     "name": "stdout",
     "output_type": "stream",
     "text": [
      "La TPP de recréditos es de 17.963966226242906\n"
     ]
    }
   ],
   "source": [
    "tpp_recreds = sum(recreditos[\"MONTO_DESEMBOLSADO_NUEVO\"] * recreditos[\"TASA_CRED_NUEVO\"]) / sum(recreditos[\"MONTO_DESEMBOLSADO_NUEVO\"])\n",
    "print(f\"La TPP de recréditos es de {tpp_recreds}\")"
   ]
  },
  {
   "cell_type": "code",
   "execution_count": 11,
   "metadata": {},
   "outputs": [
    {
     "data": {
      "text/plain": [
       "25504"
      ]
     },
     "execution_count": 11,
     "metadata": {},
     "output_type": "execute_result"
    }
   ],
   "source": [
    "len(datos)"
   ]
  }
 ],
 "metadata": {
  "kernelspec": {
   "display_name": "Python 3",
   "language": "python",
   "name": "python3"
  },
  "language_info": {
   "codemirror_mode": {
    "name": "ipython",
    "version": 3
   },
   "file_extension": ".py",
   "mimetype": "text/x-python",
   "name": "python",
   "nbconvert_exporter": "python",
   "pygments_lexer": "ipython3",
   "version": "3.12.1"
  }
 },
 "nbformat": 4,
 "nbformat_minor": 2
}
