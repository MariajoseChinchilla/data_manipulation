{
 "cells": [
  {
   "cell_type": "markdown",
   "metadata": {},
   "source": [
    "# Análisis de posibilidad de atención a clientes"
   ]
  },
  {
   "cell_type": "markdown",
   "metadata": {},
   "source": [
    "Este cuaderno es un análisis de la posibilidad de atender a los clientes de acuerdo a una segmentación dada por un conjunto de condiciones: cumplimiento de 15% de saldo, nivel de RCI, tipo de oferta, etc."
   ]
  },
  {
   "cell_type": "markdown",
   "metadata": {},
   "source": [
    "## Condiciones actuales de precio"
   ]
  },
  {
   "cell_type": "code",
   "execution_count": 25,
   "metadata": {},
   "outputs": [],
   "source": [
    "# importar librerias\n",
    "import pandas as pd\n",
    "import utils as u"
   ]
  },
  {
   "cell_type": "code",
   "execution_count": 19,
   "metadata": {},
   "outputs": [],
   "source": [
    "# leer datos\n",
    "df = pd.DataFrame.from_dict({\"CODIGO CLIENTE\": [1, 2],\n",
    "                                \"NO CREDITO\": [1, 2],\n",
    "                                \"RCI\": [25, 48], \"DEUDA EXTERNA\": [100000, 120000], \n",
    "                                \"SALDO INTERNO\": [500000, 60000],\n",
    "                                \"TASA\": [15.6, 19.3], \"PLAZO\": [120, 108], \n",
    "                                \"MONTO\": [25000, 12000], \"SALDO\": [0.1, 0.6],\n",
    "                                \"SALARIO\": [10000, 8000]})\n",
    "# quedarse con las columnas útiles: rci, deuda externa, saldo interno, tasa, plazo, monto \n",
    "\n",
    "# tratamiento general de datos\n",
    "df[\"CUMPLE 15%\"] = df[\"SALDO\"].apply(u.cumple_15)\n",
    "\n",
    "# calcular saldo posible a consolidacion\n",
    "datos_agrupado = df.groupby(by=\"CODIGO CLIENTE\")[\"SALDO\"].sum().reset_index()\n",
    "datos_agrupado.columns = [\"CODIGO CLIENTE\", \"SALDO INTERNO TOTAL CLIENTE\"]\n",
    "df = pd.merge(df, datos_agrupado, how=\"left\", on=\"CODIGO CLIENTE\")\n",
    "\n",
    "datos_agrupado = df.groupby(by=\"CODIGO CLIENTE\")[\"DEUDA EXTERNA\"].sum().reset_index()\n",
    "datos_agrupado.columns = [\"CODIGO CLIENTE\", \"SALDO EXTERNO TOTAL CLIENTE\"]\n",
    "df = pd.merge(df, datos_agrupado, how=\"left\", on=\"CODIGO CLIENTE\")\n",
    "\n",
    "# sacar saldo total\n",
    "df[\"SALDO TOTAL CLIENTE\"] = df[\"SALDO INTERNO TOTAL CLIENTE\"] + df[\"SALDO EXTERNO TOTAL CLIENTE\"]\n"
   ]
  },
  {
   "cell_type": "code",
   "execution_count": 16,
   "metadata": {},
   "outputs": [],
   "source": [
    "# segmentar clientes con el cumplimiento: segmentar por crédito y luego ver opciones de recrédito agrup\n",
    "datos = df.copy()\n",
    "\n",
    "# sacar el monto máximo para llegar a 50% de RCI con la tasa actual más 1\n",
    "datos[\"MONTO RCI50 CON TASA ACTUAL +1\"] = datos.apply(lambda x: u.calcular_monto_a_rci(x[\"TASA\"]+1, 50, x[\"PLAZO\"], x[\"RCI\"], x[\"SALARIO\"]), axis=1)\n",
    "# sacar el motno máximo para llegar a 60% de RCI con tasa actual más 1\n",
    "datos[\"MONTO RCI60 CON TASA ACTUAL +1\"] = datos.apply(lambda x: u.calcular_monto_a_rci(x[\"TASA\"]+1, 60, x[\"PLAZO\"], x[\"RCI\"], x[\"SALARIO\"]), axis=1)\n",
    "\n",
    "# colocar bandera de si se puede consolidar con esa tasa con 50 y 60 de RCI\n",
    "datos[\"FLAG CONSOLIDA CON RCI50\"] = datos.apply(lambda x: u.comparar_montos(x[\"SALDO TOTAL CLIENTE\"], x[\"MONTO RCI50 CON TASA ACTUAL +1\"]), axis=1)\n",
    "datos[\"FLAG CONSOLIDA CON RCI60\"] = datos.apply(lambda x: u.comparar_montos(x[\"SALDO TOTAL CLIENTE\"], x[\"MONTO RCI60 CON TASA ACTUAL +1\"]), axis=1)\n",
    "\n",
    "\n",
    "# ingresos a 6 meses con montos máximos aunque no sean consolidaciones\n",
    "datos[\"INGRESO A 6 MESES MONTO RCI 50\"] = datos.apply(lambda x: u.ingresos_financieros(x[\"MONTO RCI50 CON TASA ACTUAL +1\"], x[\"TASA\"] + 1, x[\"PLAZO\"], 6), axis=1)\n",
    "datos[\"INGRESO A 6 MESES MONTO RCI 60\"] = datos.apply(lambda x: u.ingresos_financieros(x[\"MONTO RCI60 CON TASA ACTUAL +1\"], x[\"TASA\"] + 1, x[\"PLAZO\"], 6), axis=1)\n",
    "\n",
    "# sacar ingresos a 6 meses solo para los que pueden consolidar a al menos uno de los anteriores\n",
    "datos[\"INGRESO A 6 MESES EN CONSOLIDACION\"] = datos.apply(lambda x: u.ingresos_financieros(x[\"SALDO TOTAL CLIENTE\"], x[\"TASA\"] + 1, x[\"PLAZO\"], 6), axis=1)\n"
   ]
  },
  {
   "cell_type": "markdown",
   "metadata": {},
   "source": [
    "### Reservas y reestructuración: cálculo con máscaras"
   ]
  },
  {
   "cell_type": "code",
   "execution_count": null,
   "metadata": {},
   "outputs": [],
   "source": [
    "mascara_reserva = datos[\"CUMPLE 15%\"] == 0\n",
    "datos.loc[mascara_reserva, \"RESERVAS REESTRUCTURA MONTO RCI50 TASA ACTUAL+1\"] = datos.loc[mascara_reserva, \"MONTO RCI50 CON TASA ACTUAL +1\"].apply(u.reservas_reestructuracion)\n",
    "datos.loc[mascara_reserva, \"RESERVAS REESTRUCTURA MONTO RCI60 TASA ACTUAL+1\"] = datos.loc[mascara_reserva, \"MONTO RCI60 CON TASA ACTUAL +1\"].apply(u.reservas_reestructuracion)\n",
    "datos.loc[mascara_reserva, \"RESERVAS CONSOLIDACION TASA ACTUAL +1\"] = datos.loc[mascara_reserva, \"SALDO TOTAL CLIENTE\"].apply(u.reservas_reestructuracion)\n",
    "\n",
    "\n",
    "# compara que clientes cubren reservas en los 6 meses\n",
    "datos.loc[mascara_reserva, \"CUMPLE RESERVAS CON INGRESOS RCI50 TASA ACTUAL +1\"] = datos.loc[mascara_reserva].apply(lambda x: u.comparar_montos(x[\"RESERVAS REESTRUCTURA MONTO RCI50 TASA ACTUAL+1\"], x[\"INGRESO A 6 MESES MONTO RCI 50\"]), axis=1)\n",
    "datos.loc[mascara_reserva, \"CUMPLE RESERVAS CON INGRESOS RCI60 TASA ACTUAL +1\"] = datos.loc[mascara_reserva].apply(lambda x: u.comparar_montos(x[\"RESERVAS REESTRUCTURA MONTO RCI60 TASA ACTUAL+1\"], x[\"INGRESO A 6 MESES MONTO RCI 60\"]), axis=1)\n",
    "datos.loc[mascara_reserva, \"CUMPLE RESERVAS CON INGRESOS CONSOLIDACION TASA ACTUAL +1\"] = datos.loc[mascara_reserva].apply(lambda x: u.comparar_montos(x[\"SALDO TOTAL CLIENTE\"], x[\"INGRESO A 6 MESES EN CONSOLIDACION\"]), axis=1)"
   ]
  },
  {
   "cell_type": "markdown",
   "metadata": {},
   "source": [
    "## Condiciones de precio máximo"
   ]
  },
  {
   "cell_type": "code",
   "execution_count": null,
   "metadata": {},
   "outputs": [],
   "source": [
    "# calcular tasa minima para dejar a cero\n",
    "datos[\"TASA MINIMA\"] = datos.apply(lambda x: u.tasa_minima(reestructura=True))\n",
    "\n",
    "# sacar tasa maxima para consolidar\n",
    "datos[\"TASA MAXIMA CONSOLIDACION\"] = datos.apply(lambda x: u.tasa_maxima(x[\"RCI\"], 60), axis=1)\n",
    "datos[\"TASA MAXIMA LIQUIDEZ\"] = datos.apply(lambda x: u.tasa_maxima(x[\"RCI\"], 50), axis=1)\n",
    "\n",
    "# comparar si el intervalo tiene sentido\n",
    "datos[\"POSIBLE LIQUIDEZ PRECIO PERSONALIZADO\"] = datos.apply(lambda x: u.comparar_montos(x[\"TASA MINIMA\"], x[\"TASA MAXIMA LIQUIDEZ\"]), axis=1)\n",
    "datos[\"POSIBLE CONSOLIDACION PRECIO PERSONALIZADO\"] = datos.apply(lambda x: u.comparar_montos(x[\"TASA MINIMA\"], x[\"TASA MAXIMA CONSOLIDACION\"]), axis=1)"
   ]
  }
 ],
 "metadata": {
  "kernelspec": {
   "display_name": "Python 3",
   "language": "python",
   "name": "python3"
  },
  "language_info": {
   "codemirror_mode": {
    "name": "ipython",
    "version": 3
   },
   "file_extension": ".py",
   "mimetype": "text/x-python",
   "name": "python",
   "nbconvert_exporter": "python",
   "pygments_lexer": "ipython3",
   "version": "3.12.1"
  }
 },
 "nbformat": 4,
 "nbformat_minor": 2
}
