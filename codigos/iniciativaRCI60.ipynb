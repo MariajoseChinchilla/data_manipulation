{
 "cells": [
  {
   "cell_type": "markdown",
   "metadata": {},
   "source": [
    "# Análisis iniciativa RCI hasta 60"
   ]
  },
  {
   "cell_type": "markdown",
   "metadata": {},
   "source": [
    "Este cuaderno tiene un análisis de la iniciativa RCI hasta 60. Se busca identificar qué hay que modificar para tener la TPP objetivo."
   ]
  },
  {
   "cell_type": "markdown",
   "metadata": {},
   "source": [
    "## Análisis descriptivo"
   ]
  },
  {
   "cell_type": "code",
   "execution_count": 1,
   "metadata": {},
   "outputs": [],
   "source": [
    "# importar librerias\n",
    "import pandas as pd\n",
    "import seaborn as sn"
   ]
  },
  {
   "cell_type": "code",
   "execution_count": 2,
   "metadata": {},
   "outputs": [],
   "source": [
    "cosechas = pd.read_excel(r\"C:\\Users\\mariajose_chinchilla\\Downloads\\Cosechas Julio24.xlsx\")"
   ]
  },
  {
   "cell_type": "markdown",
   "metadata": {},
   "source": [
    "Primero, revisaremos a aquellos clientes que llevan su RCI arriba de 50, para evaluar qué iniciativas se están aplicando."
   ]
  },
  {
   "cell_type": "code",
   "execution_count": 3,
   "metadata": {},
   "outputs": [
    {
     "name": "stdout",
     "output_type": "stream",
     "text": [
      "La proporción de clientes con esta condición es de 0.3709304394235901.\n",
      "La proporción en monto bruto es 0.4252183330254854\n",
      "La proporción en monto neto es 0.36934074553236634\n"
     ]
    }
   ],
   "source": [
    "rci = cosechas[cosechas[\"rciInternoFinalDeudor\"] > 50]\n",
    "prop = len(rci) / len(cosechas)\n",
    "prop_monto = rci[\"MONTO_DESEMBOLSADO\"].sum() / cosechas[\"MONTO_DESEMBOLSADO\"].sum()\n",
    "prop_neto = rci[\"DESEMBOLSO_NETO\"].sum() / cosechas[\"DESEMBOLSO_NETO\"].sum()\n",
    "print(f\"La proporción de clientes con esta condición es de {prop}.\")\n",
    "print(f\"La proporción en monto bruto es {prop_monto}\")\n",
    "print(f\"La proporción en monto neto es {prop_neto}\")"
   ]
  },
  {
   "cell_type": "markdown",
   "metadata": {},
   "source": [
    "Una buena pregunta a responder es cuál hubiese sido la TPP si todos estos créditos que llevaron el RCI arriba de 50 no hubieran ocurrido."
   ]
  },
  {
   "cell_type": "code",
   "execution_count": 4,
   "metadata": {},
   "outputs": [
    {
     "name": "stdout",
     "output_type": "stream",
     "text": [
      "La TPP actual es de 16.999463204331942 y sin los créditos con RCI alto hubiese sido 17.239446714271416\n",
      "La TPP de los créditos con RCI alto es de 16.67506956657894\n"
     ]
    }
   ],
   "source": [
    "tpp_actual = sum(cosechas[\"MONTO_DESEMBOLSADO\"] * cosechas[\"TASA_ORIGINAL\"]) / sum(cosechas[\"MONTO_DESEMBOLSADO\"])\n",
    "# quitar los creditos de RCI arriba de 50\n",
    "mascara_rci = cosechas[\"rciInternoFinalDeudor\"] > 50\n",
    "tpp_sin_iniciativa = sum(cosechas.loc[~mascara_rci][\"MONTO_DESEMBOLSADO\"] * cosechas.loc[~mascara_rci][\"TASA_ORIGINAL\"]) / sum(cosechas.loc[~mascara_rci][\"MONTO_DESEMBOLSADO\"])\n",
    "tpp_iniciativa = sum(cosechas.loc[mascara_rci][\"MONTO_DESEMBOLSADO\"] * cosechas.loc[mascara_rci][\"TASA_ORIGINAL\"]) / sum(cosechas.loc[mascara_rci][\"MONTO_DESEMBOLSADO\"]) \n",
    "print(f\"La TPP actual es de {tpp_actual} y sin los créditos con RCI alto hubiese sido {tpp_sin_iniciativa}\")\n",
    "print(f\"La TPP de los créditos con RCI alto es de {tpp_iniciativa}\")"
   ]
  },
  {
   "cell_type": "code",
   "execution_count": 5,
   "metadata": {},
   "outputs": [],
   "source": [
    "# flagear las iniciativas\n",
    "cosechas.loc[(cosechas[\"TIPO_CLIENTE\"] == \"EXISTENTE\") & (cosechas[\"BANRURAL ES CLIENTE\"] == \"SI\") & (cosechas[\"Cumple el 15%\"] == \"Cumple\") & (cosechas[\"ES_RECREDITO\"] == \"NO\"), \"PRECIO APLICADO\"] = \"BIENESTAR\"\n",
    "cosechas.loc[(cosechas[\"TIPO_CLIENTE\"] == \"EXISTENTE\") & (cosechas[\"BANRURAL ES CLIENTE\"] == \"SI\") & (cosechas[\"Cumple el 15%\"] != \"Cumple\") & (cosechas[\"BANRURAL CONSOLIDA\"] == \"SI\"), \"PRECIO APLICADO\"] = \"SALUD BANRURAL\"\n",
    "cosechas.loc[(cosechas[\"TIPO_CLIENTE\"] == \"EXISTENTE\") & (cosechas[\"BANRURAL ES CLIENTE\"] == \"SI\") & (cosechas[\"Cumple el 15%\"] != \"Cumple\") & (cosechas[\"BANRURAL CONSOLIDA\"] != \"SI\") & (cosechas[\"PRODUCTO\"] == \"SALUD\"), \"PRECIO APLICADO\"] = \"SALUD OTROS BANCOS\"\n",
    "cosechas.loc[(cosechas[\"TIPO_CLIENTE\"] == \"EXISTENTE\") & (cosechas[\"BANRURAL ES CLIENTE\"] == \"SI\") & (cosechas[\"Cumple el 15%\"] != \"Cumple\") & (cosechas[\"BANRURAL CONSOLIDA\"] != \"SI\") & (cosechas[\"PRODUCTO\"] == \"LIQUIDEZ\"), \"PRECIO APLICADO\"] = \"LIQUIDEZ BANRURAL\"\n",
    "cosechas.loc[(cosechas[\"TIPO_CLIENTE\"] == \"EXISTENTE\") & (cosechas[\"BANRURAL ES CLIENTE\"] != \"SI\") & (cosechas[\"conSaldoCreditoExt\"] > 0) & (cosechas[\"Cumple el 15%\"] == \"Cumple\"), \"PRECIO APLICADO\"] = \"BIENESTAR\"\n",
    "cosechas.loc[(cosechas[\"TIPO_CLIENTE\"] == \"EXISTENTE\") & (cosechas[\"BANRURAL ES CLIENTE\"] != \"SI\") & (cosechas[\"conSaldoCreditoExt\"] > 0) & (cosechas[\"Cumple el 15%\"] != \"Cumple\"), \"PRECIO APLICADO\"] = \"OTROS BANCOS CREDITO NUEVO\"\n",
    "cosechas.loc[(cosechas[\"TIPO_CLIENTE\"] == \"EXISTENTE\") & (cosechas[\"BANRURAL ES CLIENTE\"] != \"SI\") & (cosechas[\"conSaldoCreditoExt\"] == 0) & (cosechas[\"Cumple el 15%\"] == \"Cumple\"), \"PRECIO APLICADO\"] = \"BIENESTAR\"\n",
    "cosechas.loc[(cosechas[\"TIPO_CLIENTE\"] == \"EXISTENTE\") & (cosechas[\"BANRURAL ES CLIENTE\"] != \"SI\") & (cosechas[\"conSaldoCreditoExt\"] == 0) & (cosechas[\"Cumple el 15%\"] != \"Cumple\"), \"PRECIO APLICADO\"] = \"CREDITO PLUS\"\n",
    "cosechas.loc[(cosechas[\"TIPO_CLIENTE\"] == \"EXISTENTE\") & (cosechas[\"BANRURAL ES CLIENTE\"] != \"SI\") & (cosechas[\"conSaldoCreditoExt\"] == 0) & (cosechas[\"Cumple el 15%\"] == \"Cumple\"), \"PRECIO APLICADO\"] = \"BIENESTAR\"\n",
    "cosechas.loc[(cosechas[\"TIPO_CLIENTE\"] == \"EXISTENTE\") & (cosechas[\"BANRURAL ES CLIENTE\"] != \"SI\") & (cosechas[\"Cumple el 15%\"] == \"Cumple\") & (cosechas[\"ES_RECREDITO\"] == \"SI\"), \"PRECIO APLICADO\"] = \"CVF\"\n",
    "\n",
    "# ahora para cliente nuevo y reactivado\n",
    "cosechas.loc[(cosechas[\"TIPO_CLIENTE\"] != \"EXISTENTE\") & (cosechas[\"BANRURAL ES CLIENTE\"] == \"SI\") & (cosechas[\"BANRURAL CONSOLIDA\"] == \"SI\"), \"PRECIO APLICADO\"] = \"SALUD BANRURAL\"\n",
    "cosechas.loc[(cosechas[\"TIPO_CLIENTE\"] != \"EXISTENTE\") & (cosechas[\"BANRURAL ES CLIENTE\"] == \"SI\") & (cosechas[\"BANRURAL CONSOLIDA\"] != \"SI\") & (cosechas[\"PRODUCTO\"] == \"SALUD\"), \"PRECIO APLICADO\"] = \"SALUD OTROS BANCOS\"\n",
    "cosechas.loc[(cosechas[\"TIPO_CLIENTE\"] != \"EXISTENTE\") & (cosechas[\"BANRURAL ES CLIENTE\"] == \"SI\") & (cosechas[\"BANRURAL CONSOLIDA\"] == \"SI\") & (cosechas[\"PRODUCTO\"] == \"LIQUIDEZ\"), \"PRECIO APLICADO\"] = \"LIQUIDEZ BANRURAL\"\n",
    "cosechas.loc[(cosechas[\"TIPO_CLIENTE\"] != \"EXISTENTE\") & (cosechas[\"BANRURAL ES CLIENTE\"] != \"SI\"), \"PRECIO APLICADO\"] = \"BIENESTAR\""
   ]
  },
  {
   "cell_type": "code",
   "execution_count": 6,
   "metadata": {},
   "outputs": [
    {
     "data": {
      "text/plain": [
       "array(['BIENESTAR', 'nan', 'CVF'], dtype=object)"
      ]
     },
     "execution_count": 6,
     "metadata": {},
     "output_type": "execute_result"
    }
   ],
   "source": [
    "# Ver qué iniciativas están involucradas en la tasa independiente del RCI alto\n",
    "cosechas.loc[(mascara_rci) & (cosechas[\"TipoPago\"] == \"REMESA\")][\"PRECIO APLICADO\"].unique()"
   ]
  },
  {
   "cell_type": "markdown",
   "metadata": {},
   "source": [
    "Esto nos lleva a concluir que los créditos con RCI alto sí impactan negativamente en la TPP, aunque su impacto no es altamente significativo. Un punto de mejora para el aumento de la TPP es el monto bruto que cada clúster representa, donde por clúster entendemos iniciativa comercial.\n",
    "    "
   ]
  },
  {
   "cell_type": "code",
   "execution_count": 7,
   "metadata": {},
   "outputs": [
    {
     "name": "stdout",
     "output_type": "stream",
     "text": [
      "nan representa la 0.7342559186859318 proporción del monto bruto en créditos con RCI altos.\n",
      "CVF representa la 0.13791157515929 proporción del monto bruto en créditos con RCI altos.\n",
      "BIENESTAR representa la 0.12783250615477826 proporción del monto bruto en créditos con RCI altos.\n"
     ]
    }
   ],
   "source": [
    "props = []\n",
    "monto_total = cosechas.loc[(mascara_rci) & (cosechas[\"TipoPago\"] == \"REMESA\")][\"MONTO_DESEMBOLSADO\"].sum()\n",
    "for iniciativa in cosechas.loc[mascara_rci][\"PRECIO APLICADO\"].unique().tolist():\n",
    "    prop = sum(cosechas.loc[(mascara_rci) & (cosechas[\"PRECIO APLICADO\"] == iniciativa) & (cosechas[\"TipoPago\"] == \"REMESA\")][\"MONTO_DESEMBOLSADO\"]) / monto_total\n",
    "    props.append((prop, iniciativa))\n",
    "\n",
    "props = sorted(props, reverse=True)\n",
    "\n",
    "for i in range(len(props)):\n",
    "    print(f\"{props[i][1]} representa la {props[i][0]} proporción del monto bruto en créditos con RCI altos.\")"
   ]
  },
  {
   "cell_type": "markdown",
   "metadata": {},
   "source": [
    "## Analizar clientes que se van por CVF"
   ]
  },
  {
   "cell_type": "code",
   "execution_count": null,
   "metadata": {},
   "outputs": [],
   "source": []
  }
 ],
 "metadata": {
  "kernelspec": {
   "display_name": "Python 3",
   "language": "python",
   "name": "python3"
  },
  "language_info": {
   "codemirror_mode": {
    "name": "ipython",
    "version": 3
   },
   "file_extension": ".py",
   "mimetype": "text/x-python",
   "name": "python",
   "nbconvert_exporter": "python",
   "pygments_lexer": "ipython3",
   "version": "3.12.1"
  }
 },
 "nbformat": 4,
 "nbformat_minor": 2
}
