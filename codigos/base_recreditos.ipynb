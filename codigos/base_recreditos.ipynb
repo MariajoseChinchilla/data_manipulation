{
 "cells": [
  {
   "cell_type": "markdown",
   "metadata": {},
   "source": [
    "# Generador de base para aplicar a recrédito"
   ]
  },
  {
   "cell_type": "markdown",
   "metadata": {},
   "source": [
    "Este código genera una base de datos con el monto que se le puede ofertar a un cliente para que los ingresos por recrédito a n meses (con n dado y variable) sobrepasen los ingresos cancelados por recréditos y las reservas."
   ]
  },
  {
   "cell_type": "code",
   "execution_count": 1,
   "metadata": {},
   "outputs": [],
   "source": [
    "import pandas as pd\n",
    "import pyodbc\n",
    "from utils import ingresos_financieros, meses_entre_fechas, ingreso_fin_entre_fechas, calcular_cuota, cumple_15\n",
    "from datetime import datetime, date\n",
    "import numpy as np\n",
    "import warnings\n",
    "warnings.filterwarnings(\"ignore\")"
   ]
  },
  {
   "cell_type": "markdown",
   "metadata": {},
   "source": [
    "## Conexión a los datos"
   ]
  },
  {
   "cell_type": "code",
   "execution_count": 2,
   "metadata": {},
   "outputs": [],
   "source": [
    "# conectarse a la base de datos\n",
    "def es_lectura_sql():\n",
    "    # Establecer conexión\n",
    "    conn = pyodbc.connect('DRIVER={SQL Server};'\n",
    "                        'SERVER=BTBIDB-VM;'\n",
    "                        'DATABASE=LNDDW;'\n",
    "                        'Trusted_Connection=yes;')\n",
    "\n",
    "    # Conectarse a datos de la cartera\n",
    "    with open (\"C:/Users/mariajose_chinchilla/Desktop/Queries/BTBIDBVM/evolucion_tasas.sql\", \"r\") as q1:\n",
    "        query1 = q1.read()\n",
    "    # Leer datos con pandas\n",
    "    cartera = pd.read_sql_query(query1, conn) \n",
    "    # Leer datos\n",
    "    return cartera"
   ]
  },
  {
   "cell_type": "code",
   "execution_count": 4,
   "metadata": {},
   "outputs": [],
   "source": [
    "df = pd.read_excel(r\"C:\\Users\\mariajose_chinchilla\\Desktop\\Agosto\\db\\cartera julio.xlsx\")\n",
    "df = df[df[\"FECHA_VENCIMIENTO\"] > datetime.today()]"
   ]
  },
  {
   "cell_type": "code",
   "execution_count": 5,
   "metadata": {},
   "outputs": [],
   "source": [
    "df[\"PORCENTAJE PAGADO\"] = 1 - df[\"SALDO\"] / df[\"MONTO DESEMBOLSADO\"]"
   ]
  },
  {
   "cell_type": "markdown",
   "metadata": {},
   "source": [
    "## Programación de la desigualdad y funciones útliles"
   ]
  },
  {
   "cell_type": "code",
   "execution_count": 6,
   "metadata": {},
   "outputs": [],
   "source": [
    "def desigualdad_recredito(alpha:float, ingresos_cancelados:float, tasa:float, \n",
    "                          plazo:int, n:int, cumple15: int) -> float:\n",
    "    factor2 = ((1+tasa)**n - 1 - (0.05*0.45)*(1-cumple15) - (alpha / 12)*n + ((1+tasa)**plazo / ((1+tasa)**plazo - 1)) * (tasa*n + 1 - (1+tasa)**n))    \n",
    "    return ingresos_cancelados * factor2**-1"
   ]
  },
  {
   "cell_type": "markdown",
   "metadata": {},
   "source": [
    "## Calcular columnas importantes"
   ]
  },
  {
   "cell_type": "markdown",
   "metadata": {},
   "source": [
    "Calcularemos columnas importantes para poder generar la base. Estas incluyen la cuota actual del cliente, la TPP del cliente y los ingresos financieros que el cliente representa con todos sus créditos activos a diciembre 2024."
   ]
  },
  {
   "cell_type": "code",
   "execution_count": 7,
   "metadata": {},
   "outputs": [],
   "source": [
    "# calcular los meses transurridos\n",
    "df[\"MESES TRANSCURRIDOS\"] = df.apply(lambda x: meses_entre_fechas(x[\"FECHA_APERTURA\"], datetime.today()), axis=1)\n",
    "\n",
    "# meses a inicio son los meses transcurridos del crédito al mes en el que se hará la oferta\n",
    "mes_inicio = 8\n",
    "df[\"MESES A INICIO\"] = df.apply(lambda x: meses_entre_fechas(x[\"FECHA_APERTURA\"], date(2024, mes_inicio, 30)), axis=1)\n",
    "\n",
    "df[\"MESES A DICIEMBRE DESDE INICIO\"] = df.apply(lambda x: meses_entre_fechas(date(2024, mes_inicio, 30), date(2024, 12, 31)), axis=1)"
   ]
  },
  {
   "cell_type": "code",
   "execution_count": 8,
   "metadata": {},
   "outputs": [],
   "source": [
    "# calcular los ingresos cancelados por cliente considerando los meses que faltan\n",
    "mes_inicio = \"AGOSTO\"\n",
    "df[f\"INGRESOS MES {mes_inicio} A DICIEMBRE\"] = df.apply(lambda x: ingreso_fin_entre_fechas(x[\"MONTO DESEMBOLSADO\"],\n",
    "                                                                                           x[\"TASA\"]/1200,\n",
    "                                                                                             x[\"PLAZO\"],\n",
    "                                                                                             x[\"MESES A INICIO\"],\n",
    "                                                                                             x[\"MESES A INICIO\"]  \n",
    "                                                                                             + x[\"MESES A DICIEMBRE DESDE INICIO\"]),\n",
    "                                                                                             axis=1)"
   ]
  },
  {
   "cell_type": "code",
   "execution_count": 9,
   "metadata": {},
   "outputs": [],
   "source": [
    "# calcular la TPP del cliente en el banco para usar esto como tasa para el recrédito después\n",
    "df[\"FACTOR TASA\"] = df[\"MONTO DESEMBOLSADO\"] * df[\"TASA\"]\n",
    "df[\"CUMPLE 15%\"] = df.apply(lambda x: cumple_15(1 - x[\"SALDO\"]/x[\"MONTO DESEMBOLSADO\"]), axis=1)\n",
    "df_agrupado = df.groupby(by=\"CODIGO_CLIENTE\").agg(suma_factor=(\"FACTOR TASA\", \"sum\"),\n",
    "                                                suma_monto=(\"MONTO DESEMBOLSADO\", \"sum\"),\n",
    "                                                TASA_MINIMA=(\"TASA\", \"min\"),\n",
    "                                                TASA_MAXIMA=(\"TASA\", \"max\"),\n",
    "                                                DEUDA_INTERNA=(\"SALDO\", \"sum\"),\n",
    "                                                PLAZO_MAX=(\"PLAZO\", \"max\"),\n",
    "                                                CUMPLE15=(\"CUMPLE 15%\", \"min\"),\n",
    "                                                INGRESOS_A_CANCELAR=(f\"INGRESOS MES {mes_inicio} A DICIEMBRE\", \"sum\")).reset_index()\n",
    "df = pd.merge(df, df_agrupado, on=\"CODIGO_CLIENTE\", how=\"left\")\n",
    "# calcular tpp del cliente\n",
    "df[\"TPP CLIENTE\"] = df[\"suma_factor\"] / df[\"suma_monto\"]"
   ]
  },
  {
   "cell_type": "code",
   "execution_count": 10,
   "metadata": {},
   "outputs": [],
   "source": [
    "# calcular cuota de cada credito y luego la cuota total mensual del cliente\n",
    "df[\"CUOTA MENSUAL\"] = df.apply(lambda x: calcular_cuota(x[\"MONTO DESEMBOLSADO\"],\n",
    "                                                          x[\"TASA\"]/1200,\n",
    "                                                          x[\"PLAZO\"]), axis=1)\n",
    "\n",
    "df_agrupado = df.groupby(by=\"CODIGO_CLIENTE\")[\"CUOTA MENSUAL\"].sum().reset_index()\n",
    "df_agrupado.columns = [\"CODIGO_CLIENTE\", \"CUOTA TOTAL CLIENTE\"]\n",
    "df = pd.merge(df, df_agrupado, on=\"CODIGO_CLIENTE\", how=\"left\")"
   ]
  },
  {
   "cell_type": "markdown",
   "metadata": {},
   "source": [
    "## Generar base"
   ]
  },
  {
   "cell_type": "markdown",
   "metadata": {},
   "source": [
    "Con la informació de nuestros clientes, podemos agrupar y ver cuál es su deuda interna total, estudiar cuánto se le debería otorgar en recrédito para que el ingreso financiero sea mayor a las reservas, el ingreso cancelado por recrédito y los pasivos. Posteriormente, compararemos si este monto es suficiente para consolidarlo internamente y ofrecerle un recrédito."
   ]
  },
  {
   "cell_type": "code",
   "execution_count": 11,
   "metadata": {},
   "outputs": [],
   "source": [
    "# generar base para opciones de recrédito\n",
    "# generar base normalizada por cliente\n",
    "df.rename(columns={\"TASA\": \"TASA ACTUAL\"}, inplace=True)\n",
    "df_nivel_cliente = df[[\"CODIGO_CLIENTE\", \"DPI\", \"TASA_MINIMA\", \"TASA_MAXIMA\",\n",
    "                        \"TPP CLIENTE\", \"CUOTA TOTAL CLIENTE\", \"DEUDA_INTERNA\",\n",
    "                        \"PLAZO_MAX\", \"RCI_INTERNO\", \"CUMPLE15\", \"SCORE_RIESGO\",\n",
    "                        \"TASA ACTUAL\",\n",
    "                        f\"INGRESOS MES {mes_inicio} A DICIEMBRE\"]].drop_duplicates(subset=\"CODIGO_CLIENTE\")\n",
    "\n",
    "tasa_elegida = \"TPP CLIENTE\"\n",
    "alpha = (0.0747 + 0.0025) / (1 - 0.146) + 0.008\n",
    "df_nivel_cliente[\"MONTO A OFERTAR RECREDITO\"] = df.apply(lambda x: desigualdad_recredito(alpha,\n",
    "                                                        x[f\"INGRESOS MES {mes_inicio} A DICIEMBRE\"],\n",
    "                                                        0.19/1200, x[\"PLAZO_MAX\"],\n",
    "                                                        x[\"MESES A DICIEMBRE DESDE INICIO\"],\n",
    "                                                        x[\"CUMPLE15\"]), axis=1)\n",
    "\n",
    "df_nivel_cliente[\"MONTO A OFERTAR RECREDITO\"] = df_nivel_cliente.apply(lambda x: min(300000, 1.75 * max(x[\"MONTO A OFERTAR RECREDITO\"], x[\"DEUDA_INTERNA\"])), axis=1)\n",
    "\n",
    "df_nivel_cliente[\"CUOTA NUEVA\"] = df_nivel_cliente.apply(lambda x: calcular_cuota(x[\"MONTO A OFERTAR RECREDITO\"],\n",
    "                                                                                x[tasa_elegida]/1200,\n",
    "                                                                                x[\"PLAZO_MAX\"]), axis=1)"
   ]
  },
  {
   "cell_type": "code",
   "execution_count": 12,
   "metadata": {},
   "outputs": [],
   "source": [
    "# solamente sacar a los que sí podrían y les interesaría el recrédito\n",
    "df_nivel_cliente[\"MEJORA CUOTA\"] = np.where(df_nivel_cliente[\"CUOTA TOTAL CLIENTE\"] > df_nivel_cliente[\"CUOTA NUEVA\"], 1, 0)\n",
    "\n",
    "df_posibles = df_nivel_cliente[(df_nivel_cliente[\"MONTO A OFERTAR RECREDITO\"] <= 500000) & (df_nivel_cliente[\"MEJORA CUOTA\"] == 1)\n",
    "                               & (df_nivel_cliente[\"DEUDA_INTERNA\"] <= df_nivel_cliente[\"MONTO A OFERTAR RECREDITO\"])\n",
    "                               & ((df_nivel_cliente[\"RCI_INTERNO\"].isna()) | (df_nivel_cliente[\"RCI_INTERNO\"] < 60))\n",
    "                               & (df_nivel_cliente[\"MONTO A OFERTAR RECREDITO\"] > 0)]\n",
    "\n",
    "df_posibles.drop(\"TASA_MINIMA\", inplace=True, axis=1)\n",
    "df_posibles.drop(\"TASA_MAXIMA\", inplace=True, axis=1)\n",
    "df_posibles.rename(columns={\"MONTO A OFERTAR RECREDITO\": \"MONTO A DESEMBOLSAR\", \n",
    "                            \"CUOTA TOTAL CLIENTE\": \"CUOTA ACTUAL\",\n",
    "                            \"TPP CLIENTE\": \"TASA\",\n",
    "                            \"PLAZO_MAX\": \"PLAZO\"}, inplace=True)"
   ]
  },
  {
   "cell_type": "code",
   "execution_count": null,
   "metadata": {},
   "outputs": [],
   "source": [
    "#df_posibles.to_excel(rf\"C:\\Users\\mariajose_chinchilla\\Documents\\GitHub\\proyectos_varios\\Salidas\\comerciales\\Ensyos{mes_inicio}_2.xlsx\")\n",
    "# df_nivel_cliente.to_excel(rf\"C:\\Users\\mariajose_chinchilla\\Documents\\GitHub\\proyectos_varios\\Salidas\\comerciales\\Base todos {mes_inicio}.xlsx\")"
   ]
  },
  {
   "cell_type": "markdown",
   "metadata": {},
   "source": [
    "## Analizar impactos de la iniciativa"
   ]
  },
  {
   "cell_type": "code",
   "execution_count": 13,
   "metadata": {},
   "outputs": [],
   "source": [
    "#ofertas = pd.read_excel(r\"C:\\Users\\mariajose_chinchilla\\Documents\\GitHub\\proyectos_varios\\Salidas\\comerciales\\Ofertas recrédito AGOSTO consolidación interna total.xlsx\")\n",
    "ofertas = df_posibles.copy()\n",
    "ofertas.rename(columns={f\"INGRESOS MES {mes_inicio} A DICIEMBRE\": \"INGRESOS A CANCELAR\"}, inplace=True)"
   ]
  },
  {
   "cell_type": "code",
   "execution_count": 14,
   "metadata": {},
   "outputs": [],
   "source": [
    "dic_meses = {\"AGOSTO\": 8, \"SEPTIEMBRE\": 9, \"OCTUBRE\": 10, \"NOVIEMBRE\": 11, \"DICIEMBRE\": 12}\n",
    "ofertas[\"RESERVAS POR REESTRUCTURA\"] = (1 - ofertas[\"CUMPLE15\"]) * (0.05 * 0.45) * ofertas[\"MONTO A DESEMBOLSAR\"]\n",
    "ofertas[\"PASIVOS\"] = ofertas[\"MONTO A DESEMBOLSAR\"] / 12 * (12 - dic_meses.get(mes_inicio)) * alpha\n",
    "ofertas[\"INGRESOS A RECIBIR EN EL RESTO DEL AÑO\"] = ofertas.apply(lambda x: ingreso_fin_entre_fechas(x[\"MONTO A DESEMBOLSAR\"],\n",
    "                                                                                                     x[\"TASA\"]/1200,\n",
    "                                                                                                     x[\"PLAZO\"],\n",
    "                                                                                                     dic_meses.get(mes_inicio),\n",
    "                                                                                                     12), axis=1)\n",
    "\n",
    "ofertas[\"MARGEN FINANCIERO\"] = ofertas[\"INGRESOS A RECIBIR EN EL RESTO DEL AÑO\"] - ofertas[\"RESERVAS POR REESTRUCTURA\"]- ofertas[\"PASIVOS\"] - ofertas[\"INGRESOS A CANCELAR\"]\n",
    "\n",
    "ofertas = ofertas[ofertas[\"MARGEN FINANCIERO\"] > 0]"
   ]
  },
  {
   "cell_type": "code",
   "execution_count": null,
   "metadata": {},
   "outputs": [],
   "source": [
    "#ofertas.to_excel(rf\"C:\\Users\\mariajose_chinchilla\\Documents\\GitHub\\proyectos_varios\\Salidas\\comerciales\\ensayo{mes_inicio}_2.xlsx\")"
   ]
  }
 ],
 "metadata": {
  "kernelspec": {
   "display_name": "Python 3",
   "language": "python",
   "name": "python3"
  },
  "language_info": {
   "codemirror_mode": {
    "name": "ipython",
    "version": 3
   },
   "file_extension": ".py",
   "mimetype": "text/x-python",
   "name": "python",
   "nbconvert_exporter": "python",
   "pygments_lexer": "ipython3",
   "version": "3.12.1"
  }
 },
 "nbformat": 4,
 "nbformat_minor": 2
}
