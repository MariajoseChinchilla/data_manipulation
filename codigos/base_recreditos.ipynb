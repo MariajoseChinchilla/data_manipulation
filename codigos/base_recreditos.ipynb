{
 "cells": [
  {
   "cell_type": "markdown",
   "metadata": {},
   "source": [
    "# Generador de base para aplicar a recrédito"
   ]
  },
  {
   "cell_type": "markdown",
   "metadata": {},
   "source": [
    "Este código genera una base de datos con el monto que se le puede ofertar a un cliente para que los ingresos por recrédito a n meses (con n dado y variable) sobrepasen los ingresos cancelados por recréditos y las reservas."
   ]
  },
  {
   "cell_type": "code",
   "execution_count": 2,
   "metadata": {},
   "outputs": [],
   "source": [
    "import pandas as pd\n",
    "import pyodbc"
   ]
  },
  {
   "cell_type": "markdown",
   "metadata": {},
   "source": [
    "## Conexión a los datos"
   ]
  },
  {
   "cell_type": "code",
   "execution_count": 5,
   "metadata": {},
   "outputs": [],
   "source": [
    "# conectarse a la base de datos\n",
    "def es_lectura_sql():\n",
    "    # Establecer conexión\n",
    "    conn = pyodbc.connect('DRIVER={SQL Server};'\n",
    "                        'SERVER=BTBIDB-VM;'\n",
    "                        'DATABASE=LNDDW;'\n",
    "                        'Trusted_Connection=yes;')\n",
    "\n",
    "    # Conectarse a datos de la cartera\n",
    "    with open (\"C:/Users/mariajose_chinchilla/Desktop/Queries/BTBIDBVM/evolucion_tasas.sql\", \"r\") as q1:\n",
    "        query1 = q1.read()\n",
    "    # Leer datos con pandas\n",
    "    cartera = pd.read_sql_query(query1, conn) \n",
    "    # Leer datos\n",
    "    return cartera"
   ]
  },
  {
   "cell_type": "code",
   "execution_count": 4,
   "metadata": {},
   "outputs": [],
   "source": [
    "df = pd.read_excel(r\"C:\\Users\\mariajose_chinchilla\\Documents\\GitHub\\proyectos_varios\\db\\cartera mayo 1 (1).xlsx\")"
   ]
  },
  {
   "cell_type": "markdown",
   "metadata": {},
   "source": [
    "## Programación de la desigualdad y funciones útliles"
   ]
  },
  {
   "cell_type": "code",
   "execution_count": 9,
   "metadata": {},
   "outputs": [],
   "source": [
    "def desigualdad_recredito(alpha:float, ingresos_cancelados:float, tasa:float, plazo:int, n:int) -> float:\n",
    "    factor1 = alpha + ingresos_cancelados\n",
    "    if tasa > 1:\n",
    "        tasa = tasa / 1200\n",
    "    elif tasa <= 1:\n",
    "        tasa = tasa / 12\n",
    "    factor2 = ((n*tasa + 1 - (1 + tasa)**n)*((1+tasa)**plazo))/((1+tasa)**plazo-1) + (1+tasa)**n - 1 - 0.05*0.45\n",
    "    return factor1 * factor2**-1"
   ]
  },
  {
   "cell_type": "code",
   "execution_count": 19,
   "metadata": {},
   "outputs": [
    {
     "data": {
      "text/plain": [
       "208809"
      ]
     },
     "execution_count": 19,
     "metadata": {},
     "output_type": "execute_result"
    }
   ],
   "source": [
    "len(df[df[\"FECHA_VENCIMIENTO\"] >= \"2025-01-30\"][\"CODIGO_CLIENTE\"].unique().tolist())"
   ]
  },
  {
   "cell_type": "code",
   "execution_count": 27,
   "metadata": {},
   "outputs": [
    {
     "data": {
      "text/plain": [
       "194670"
      ]
     },
     "execution_count": 27,
     "metadata": {},
     "output_type": "execute_result"
    }
   ],
   "source": [
    "len(df[(df[\"FECHA_APERTURA\"] < \"2024-01-01\") & (df[\"FECHA_VENCIMIENTO\"] >= \"2024-07-30\")][\"CODIGO_CLIENTE\"].unique().tolist())"
   ]
  },
  {
   "cell_type": "code",
   "execution_count": null,
   "metadata": {},
   "outputs": [],
   "source": []
  }
 ],
 "metadata": {
  "kernelspec": {
   "display_name": "Python 3",
   "language": "python",
   "name": "python3"
  },
  "language_info": {
   "codemirror_mode": {
    "name": "ipython",
    "version": 3
   },
   "file_extension": ".py",
   "mimetype": "text/x-python",
   "name": "python",
   "nbconvert_exporter": "python",
   "pygments_lexer": "ipython3",
   "version": "3.12.1"
  }
 },
 "nbformat": 4,
 "nbformat_minor": 2
}
