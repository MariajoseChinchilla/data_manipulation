{
 "cells": [
  {
   "cell_type": "markdown",
   "metadata": {},
   "source": [
    "# Simulación de escenarios de reservas y crédito espejo"
   ]
  },
  {
   "cell_type": "markdown",
   "metadata": {},
   "source": [
    "Este cuaderno tiene las simulaciones para evaluar la diferencia de escenarios de créditos bajo los precios del crédito espejo y los precios de las cosechas de junio 2024. El objetivo es evaluar si la iniciativa del crédito espejo hubiese surtido efecto positivo."
   ]
  },
  {
   "cell_type": "code",
   "execution_count": 21,
   "metadata": {},
   "outputs": [],
   "source": [
    "# importar librerías\n",
    "import pandas as pd\n",
    "import numpy as np\n",
    "import warnings\n",
    "warnings.filterwarnings(\"ignore\")\n",
    "from utils import ingresos_financieros"
   ]
  },
  {
   "cell_type": "code",
   "execution_count": 22,
   "metadata": {},
   "outputs": [],
   "source": [
    "# leer datos\n",
    "ruta = r\"C:\\Users\\mariajose_chinchilla\\Documents\\GitHub\\proyectos_varios\\db\\Precios todos iniciativas espejo.xlsx\"\n",
    "liquidez_no_br = pd.read_excel(ruta, sheet_name=\"LiquidezNoBR\")\n",
    "liquidez_exclusivo = pd.read_excel(ruta, sheet_name=\"LiquidezExclusivo\")\n",
    "salud_no_br = pd.read_excel(ruta, sheet_name=\"SaludNoBR\")\n",
    "salud_exclusivo = pd.read_excel(ruta, sheet_name=\"SaludExclusivo\")\n",
    "datos = pd.read_excel(r\"C:\\Users\\mariajose_chinchilla\\Documents\\GitHub\\Reservas\\Salidas\\credito_espejo\\salidas_Rodrigo\\Espejo_junio_cosechas.xlsx\")"
   ]
  },
  {
   "cell_type": "markdown",
   "metadata": {},
   "source": [
    "Ahora que hemos leído los datos, vamos a hacer una simulación con las cosechas de junio. Vamos a ver qué producto fue el que tomó el cliente y como no sabemos si era cliente Banrural o no, o exclusivo Bantrab, vamos a simualr los precios con ambos esquemas."
   ]
  },
  {
   "cell_type": "code",
   "execution_count": 13,
   "metadata": {},
   "outputs": [],
   "source": [
    "# # Primero hacemos una limpieza de los datos ajustando el formato a como lo vams a usar\n",
    "# cols_formatear = [\"MONTO_CANCELADO\", \"MONTO_DESEMBOLSADO_NUEVO\"]\n",
    "# for col in cols_formatear:\n",
    "#     datos[col] = datos[col].astype(str).str.replace(\"Q\", \"\")\n",
    "#     datos[col] = datos[col].astype(str).str.replace(\",\", \"\")\n",
    "#     datos[col] = datos[col].astype(\"float\")\n",
    "\n",
    "\n",
    "# # cambiar la columna de porcentaje pagado\n",
    "# datos[\"%pagado\"] = datos[\"%pagado\"].astype(str).str.replace(\" %\", \"\")\n",
    "# datos[\"%pagado\"] = datos[\"%pagado\"].astype(\"float\")\n",
    "\n",
    "# # cambiar formato a meses para utilizar las formulas ya cradas\n",
    "# datos[\"PLAZO_CRED_NUEVO\"] = datos[\"PLAZO_CRED_NUEVO\"] / 30"
   ]
  },
  {
   "cell_type": "code",
   "execution_count": 14,
   "metadata": {},
   "outputs": [],
   "source": [
    "# \"\"\" los datos traen una línea por cada crédito cancelado, entonces agrupamos por monto desembolsado\n",
    "# para trabajr la simulción con esto y las medidas de agrupación necesarias \"\"\"\n",
    "# datos_temp = datos.groupby(by=\"NO_CREDITO_NUEVO\")[\"MONTO_CANCELADO\"].sum().reset_index(name=\"MONTO CANCELADO POR RECREDITO\")\n",
    "# datos = pd.merge(datos, datos_temp, how=\"left\", on=\"NO_CREDITO_NUEVO\", suffixes=(\"\", \"_temp\"))"
   ]
  },
  {
   "cell_type": "markdown",
   "metadata": {},
   "source": [
    "## Aplicación de precios"
   ]
  },
  {
   "cell_type": "markdown",
   "metadata": {},
   "source": [
    "ACá aplicamos los precios establecidos en las iniciativas separando por promoción."
   ]
  },
  {
   "cell_type": "code",
   "execution_count": 23,
   "metadata": {},
   "outputs": [],
   "source": [
    "# función para calcular el precio dada una tabla de precios externa de excel\n",
    "def aplicar_precio(rci: float, riesgo: str, precios: pd.DataFrame) -> float:\n",
    "    if rci <= 55:\n",
    "        precio = precios[precios[\"RCI\"] >= rci][riesgo].reset_index(drop=True)[0]\n",
    "    elif rci > 55 and rci < 60:\n",
    "        precio = precios[precios[\"RCI\"] == 45][riesgo].reset_index(drop=True)[0]\n",
    "    return precio"
   ]
  },
  {
   "cell_type": "code",
   "execution_count": 24,
   "metadata": {},
   "outputs": [],
   "source": [
    "# poner bandera de cumplimiento del 15%\n",
    "#datos_temp = datos.groupby(by=\"NO_CREDITO\")[\"%pagado\"].min().reset_index(name=\"MINIMO PORCENTAJE\")\n",
    "#datos = pd.merge(datos, datos_temp, how=\"left\", on=\"NO_CREDITO_NUEVO\", suffixes=(\"\", \"_x\"))\n",
    "# datos[\"FLAG 15%\"] = np.where(datos[\"MINIMO PORCENTAJE\"] < 15, 0, 1)\n",
    "datos[\"FLAG 15%\"] = 0\n",
    "# nos quedamos solo con los créditos que generaron reservas, es decir, los que no tengan el 15%\n",
    "mascara_15 = datos[\"FLAG 15%\"] == 0\n",
    "mascara_liquidez = datos[\"PRODUCTO\"] == \"LIQUIDEZ\"\n",
    "mascara_exclusivo = datos[\"EXCLUSIVO BANTRAB\"] = 1\n",
    "# Aplicar esquemas de precios\n",
    "datos.loc[mascara_15 & mascara_liquidez, \"LIQUIDEZ NO BANRURAL\"] = datos.loc[mascara_15 & mascara_liquidez].apply(lambda x: aplicar_precio(x[\"rciInternoInicialDeudor\"], x[\"scoreDeudorInstallmentQualPacing\"], liquidez_no_br), axis=1)\n",
    "datos.loc[mascara_15 & mascara_liquidez & mascara_exclusivo, \"LIQUIDEZ EXCLUSIVO\"] = datos.loc[mascara_15 & mascara_liquidez].apply(lambda x: aplicar_precio(x[\"rciInternoInicialDeudor\"], x[\"scoreDeudorInstallmentQualPacing\"], liquidez_exclusivo), axis=1)\n",
    "datos.loc[mascara_15 & ~mascara_liquidez, \"SALUD NO BANRURAL\"] = datos.loc[mascara_15 & ~mascara_liquidez].apply(lambda x: aplicar_precio(x[\"rciInternoInicialDeudor\"], x[\"scoreDeudorInstallmentQualPacing\"], salud_no_br), axis=1)\n",
    "datos.loc[mascara_15 & ~mascara_liquidez & mascara_exclusivo, \"SALUD EXCLUSIVO\"] = datos.loc[mascara_15 & ~mascara_liquidez].apply(lambda x: aplicar_precio(x[\"rciInternoInicialDeudor\"], x[\"scoreDeudorInstallmentQualPacing\"], salud_exclusivo), axis=1)"
   ]
  },
  {
   "cell_type": "markdown",
   "metadata": {},
   "source": [
    "## Escoger la data para estadísticos de resumen"
   ]
  },
  {
   "cell_type": "code",
   "execution_count": 40,
   "metadata": {},
   "outputs": [],
   "source": [
    "df_final = datos[[\"FECHA_APERTURA\", 'NO_CREDITO', 'CODIGO_CLIENTE','TIPO_CLIENTE',\n",
    "                  'PRODUCTO', \"MONTO_DESEMBOLSADO\", \"DESEMBOLSO_NETO\", \"TASA_ORIGINAL\",\n",
    "                  \"PLAZO_ORIGINAL\", \"CANTIDAD_DIAS_ATRASO\", \"dpi\",\n",
    "                  \"rciInternoInicialDeudor\", \"scoreDeudorInstallmentQualPacing\",\n",
    "                  \"conSaldoCreditoExt\", \"EXCLUSIVO BANTRAB\", \"CREDITOS_VIGENTES\",\n",
    "                  \"CATEGORIA\", \"COTA INFERIOR TASA\",  \"TASA CVF RESERVAS\", \n",
    "                  \"TASA FINAL\", \"TASA FINAL NUMERICA\", 'LIQUIDEZ NO BANRURAL', 'LIQUIDEZ EXCLUSIVO', \n",
    "                  'SALUD NO BANRURAL', 'SALUD EXCLUSIVO', \"APLICA RECREDITO\"]]\n",
    "\n",
    "for col in ['LIQUIDEZ NO BANRURAL', 'LIQUIDEZ EXCLUSIVO', 'SALUD NO BANRURAL', 'SALUD EXCLUSIVO']:\n",
    "    df_final[col].fillna(0, inplace=True)\n",
    "\n",
    "df_final[\"CVF MAYOR TASA\"] = np.where(df_final[\"TASA FINAL NUMERICA\"]*100 > df_final[['LIQUIDEZ NO BANRURAL', 'LIQUIDEZ EXCLUSIVO', 'SALUD NO BANRURAL', 'SALUD EXCLUSIVO']].max(axis=1),1, 0)"
   ]
  },
  {
   "cell_type": "code",
   "execution_count": 51,
   "metadata": {},
   "outputs": [],
   "source": [
    "df_final[\"INGRESOS ORIGINALES\"] = df_final.apply(lambda x: ingresos_financieros(x[\"MONTO_DESEMBOLSADO\"], x[\"TASA_ORIGINAL\"]/12, x[\"PLAZO_ORIGINAL\"], 6), axis=1)\n",
    "df_final[\"INGRESOS CON MONTO NETO\"] = df_final.apply(lambda x: ingresos_financieros(x[\"DESEMBOLSO_NETO\"], x[\"TASA_ORIGINAL\"]/12, x[\"PLAZO_ORIGINAL\"], 6), axis=1)\n",
    "df_final[\"INGRESOS CVF BRUTO\"] = df_final.apply(lambda x: ingresos_financieros(x[\"MONTO_DESEMBOLSADO\"], x[\"TASA FINAL NUMERICA\"]/12, x[\"PLAZO_ORIGINAL\"], 6), axis=1)\n",
    "df_final[\"INGRESOS CVF NETO\"] = df_final.apply(lambda x: ingresos_financieros(x[\"DESEMBOLSO_NETO\"], x[\"TASA FINAL NUMERICA\"]/12, x[\"PLAZO_ORIGINAL\"], 6), axis=1)\n",
    "df_final[\"INGRESOS LIQUIDEZ EXCLUSIVO\"] = df_final.apply(lambda x: ingresos_financieros(x[\"DESEMBOLSO_NETO\"], x[\"LIQUIDEZ EXCLUSIVO\"]/1200, x[\"PLAZO_ORIGINAL\"], 6), axis=1)\n",
    "df_final[\"INGRESOS LIQUIDEZ NO BANRURAL\"] = df_final.apply(lambda x: ingresos_financieros(x[\"DESEMBOLSO_NETO\"], x[\"LIQUIDEZ NO BANRURAL\"]/1200, x[\"PLAZO_ORIGINAL\"], 6), axis=1)\n",
    "df_final[\"INGRESOS SALUD EXCLUSIVO\"] = df_final.apply(lambda x: ingresos_financieros(x[\"DESEMBOLSO_NETO\"], x[\"SALUD EXCLUSIVO\"]/1200, x[\"PLAZO_ORIGINAL\"], 6), axis=1)\n",
    "df_final[\"INGRESOS SALUD NO BANRURAL\"] = df_final.apply(lambda x: ingresos_financieros(x[\"DESEMBOLSO_NETO\"], x[\"SALUD NO BANRURAL\"]/1200, x[\"PLAZO_ORIGINAL\"], 6), axis=1)"
   ]
  },
  {
   "cell_type": "code",
   "execution_count": 52,
   "metadata": {},
   "outputs": [
    {
     "name": "stdout",
     "output_type": "stream",
     "text": [
      "BRUTO 103945503.13541913 y NETO 29290254.203515176\n"
     ]
    }
   ],
   "source": [
    "bruto = df_final[\"INGRESOS CVF BRUTO\"].sum()\n",
    "neto = df_final[\"INGRESOS CVF NETO\"].sum()\n",
    "print(f\"BRUTO {bruto} y NETO {neto}\")"
   ]
  },
  {
   "cell_type": "code",
   "execution_count": 59,
   "metadata": {},
   "outputs": [
    {
     "data": {
      "text/html": [
       "<div>\n",
       "<style scoped>\n",
       "    .dataframe tbody tr th:only-of-type {\n",
       "        vertical-align: middle;\n",
       "    }\n",
       "\n",
       "    .dataframe tbody tr th {\n",
       "        vertical-align: top;\n",
       "    }\n",
       "\n",
       "    .dataframe thead th {\n",
       "        text-align: right;\n",
       "    }\n",
       "</style>\n",
       "<table border=\"1\" class=\"dataframe\">\n",
       "  <thead>\n",
       "    <tr style=\"text-align: right;\">\n",
       "      <th></th>\n",
       "      <th>COTA INFERIOR TASA</th>\n",
       "      <th>TASA_ORIGINAL</th>\n",
       "    </tr>\n",
       "  </thead>\n",
       "  <tbody>\n",
       "    <tr>\n",
       "      <th>1</th>\n",
       "      <td>0.224979</td>\n",
       "      <td>0.1990</td>\n",
       "    </tr>\n",
       "    <tr>\n",
       "      <th>2</th>\n",
       "      <td>0.219379</td>\n",
       "      <td>0.1906</td>\n",
       "    </tr>\n",
       "    <tr>\n",
       "      <th>6</th>\n",
       "      <td>0.230979</td>\n",
       "      <td>0.2080</td>\n",
       "    </tr>\n",
       "    <tr>\n",
       "      <th>21</th>\n",
       "      <td>0.202312</td>\n",
       "      <td>0.1650</td>\n",
       "    </tr>\n",
       "    <tr>\n",
       "      <th>30</th>\n",
       "      <td>0.238979</td>\n",
       "      <td>0.2200</td>\n",
       "    </tr>\n",
       "    <tr>\n",
       "      <th>...</th>\n",
       "      <td>...</td>\n",
       "      <td>...</td>\n",
       "    </tr>\n",
       "    <tr>\n",
       "      <th>5561</th>\n",
       "      <td>0.216979</td>\n",
       "      <td>0.1870</td>\n",
       "    </tr>\n",
       "    <tr>\n",
       "      <th>5563</th>\n",
       "      <td>0.230979</td>\n",
       "      <td>0.2080</td>\n",
       "    </tr>\n",
       "    <tr>\n",
       "      <th>5565</th>\n",
       "      <td>0.197646</td>\n",
       "      <td>0.1580</td>\n",
       "    </tr>\n",
       "    <tr>\n",
       "      <th>5567</th>\n",
       "      <td>0.202912</td>\n",
       "      <td>0.1659</td>\n",
       "    </tr>\n",
       "    <tr>\n",
       "      <th>5569</th>\n",
       "      <td>0.215646</td>\n",
       "      <td>0.1850</td>\n",
       "    </tr>\n",
       "  </tbody>\n",
       "</table>\n",
       "<p>1465 rows × 2 columns</p>\n",
       "</div>"
      ],
      "text/plain": [
       "      COTA INFERIOR TASA  TASA_ORIGINAL\n",
       "1               0.224979         0.1990\n",
       "2               0.219379         0.1906\n",
       "6               0.230979         0.2080\n",
       "21              0.202312         0.1650\n",
       "30              0.238979         0.2200\n",
       "...                  ...            ...\n",
       "5561            0.216979         0.1870\n",
       "5563            0.230979         0.2080\n",
       "5565            0.197646         0.1580\n",
       "5567            0.202912         0.1659\n",
       "5569            0.215646         0.1850\n",
       "\n",
       "[1465 rows x 2 columns]"
      ]
     },
     "execution_count": 59,
     "metadata": {},
     "output_type": "execute_result"
    }
   ],
   "source": [
    "df_final[df_final[\"TASA FINAL NUMERICA\"] > df_final[\"TASA_ORIGINAL\"]][[\"COTA INFERIOR TASA\", \"TASA_ORIGINAL\"]]"
   ]
  },
  {
   "cell_type": "code",
   "execution_count": 53,
   "metadata": {},
   "outputs": [],
   "source": [
    "mascara_no_cvf = df_final[\"TASA FINAL NUMERICA\"] == 0\n",
    "df_final.loc[mascara_no_cvf, \"TASA FINAL NUMERICA\"] = (df_final[\"COTA INFERIOR TASA\"] + 0.6 - df_final[\"rciInternoInicialDeudor\"]/100) / 2\n",
    "df_final[\"INGRESOS CVF\"] = df_final.apply(lambda x: ingresos_financieros(x[\"MONTO_DESEMBOLSADO\"], x[\"TASA FINAL NUMERICA\"]/12, x[\"PLAZO_ORIGINAL\"], 6), axis=1)"
   ]
  },
  {
   "cell_type": "code",
   "execution_count": 54,
   "metadata": {},
   "outputs": [],
   "source": [
    "df_final.to_excel(r\"C:\\Users\\mariajose_chinchilla\\Documents\\GitHub\\proyectos_varios\\Salidas\\espejo\\Retrofit_espejo.xlsx\")"
   ]
  }
 ],
 "metadata": {
  "kernelspec": {
   "display_name": "Python 3",
   "language": "python",
   "name": "python3"
  },
  "language_info": {
   "codemirror_mode": {
    "name": "ipython",
    "version": 3
   },
   "file_extension": ".py",
   "mimetype": "text/x-python",
   "name": "python",
   "nbconvert_exporter": "python",
   "pygments_lexer": "ipython3",
   "version": "3.12.1"
  }
 },
 "nbformat": 4,
 "nbformat_minor": 2
}
