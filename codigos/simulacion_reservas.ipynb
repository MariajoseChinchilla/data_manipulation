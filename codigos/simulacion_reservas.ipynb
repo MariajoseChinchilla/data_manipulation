{
 "cells": [
  {
   "cell_type": "markdown",
   "metadata": {},
   "source": [
    "# Simulación de escenarios de reservas y crédito espejo"
   ]
  },
  {
   "cell_type": "markdown",
   "metadata": {},
   "source": [
    "Este cuaderno tiene las simulaciones para evaluar la diferencia de escenarios de créditos bajo los precios del crédito espejo y los precios de las cosechas de junio 2024. El objetivo es evaluar si la iniciativa del crédito espejo hubiese surtido efecto positivo."
   ]
  },
  {
   "cell_type": "code",
   "execution_count": 1,
   "metadata": {},
   "outputs": [],
   "source": [
    "# importar librerías\n",
    "import pandas as pd\n",
    "import numpy as np"
   ]
  },
  {
   "cell_type": "code",
   "execution_count": 2,
   "metadata": {},
   "outputs": [],
   "source": [
    "# leer datos\n",
    "ruta = r\"C:\\Users\\mariajose_chinchilla\\Documents\\GitHub\\proyectos_varios\\db\\Precios todos iniciativas espejo.xlsx\"\n",
    "liquidez_no_br = pd.read_excel(ruta, sheet_name=\"LiquidezNoBR\")\n",
    "liquidez_exclusivo = pd.read_excel(ruta, sheet_name=\"LiquidezExclusivo\")\n",
    "salud_no_br = pd.read_excel(ruta, sheet_name=\"SaludNoBR\")\n",
    "salud_exclusivo = pd.read_excel(ruta, sheet_name=\"SaludExclusivo\")\n",
    "datos = pd.read_excel(r\"C:\\Users\\mariajose_chinchilla\\Documents\\GitHub\\proyectos_varios\\db\\Recred junio.xlsx\")"
   ]
  },
  {
   "cell_type": "markdown",
   "metadata": {},
   "source": [
    "Ahora que hemos leído los datos, vamos a hacer una simulación con las cosechas de junio. Vamos a ver qué producto fue el que tomó el cliente y como no sabemos si era cliente Banrural o no, o exclusivo Bantrab, vamos a simualr los precios con ambos esquemas."
   ]
  },
  {
   "cell_type": "code",
   "execution_count": 3,
   "metadata": {},
   "outputs": [],
   "source": [
    "# Primero hacemos una limpieza de los datos ajustando el formato a como lo vams a usar\n",
    "cols_formatear = [\"MONTO_CANCELADO\", \"MONTO_DESEMBOLSADO_NUEVO\"]\n",
    "for col in cols_formatear:\n",
    "    datos[col] = datos[col].astype(str).str.replace(\"Q\", \"\")\n",
    "    datos[col] = datos[col].astype(str).str.replace(\",\", \"\")\n",
    "    datos[col] = datos[col].astype(\"float\")\n",
    "\n",
    "\n",
    "# cambiar la columna de porcentaje pagado\n",
    "datos[\"%pagado\"] = datos[\"%pagado\"].astype(str).str.replace(\" %\", \"\")\n",
    "datos[\"%pagado\"] = datos[\"%pagado\"].astype(\"float\")\n",
    "\n",
    "# cambiar formato a meses para utilizar las formulas ya cradas\n",
    "datos[\"PLAZO_CRED_NUEVO\"] = datos[\"PLAZO_CRED_NUEVO\"] / 30"
   ]
  },
  {
   "cell_type": "code",
   "execution_count": 4,
   "metadata": {},
   "outputs": [],
   "source": [
    "\"\"\" los datos traen una línea por cada crédito cancelado, entonces agrupamos por monto desembolsado\n",
    "para trabajr la simulción con esto y las medidas de agrupación necesarias \"\"\"\n",
    "datos_temp = datos.groupby(by=\"NO_CREDITO_NUEVO\")[\"MONTO_CANCELADO\"].sum().reset_index(name=\"MONTO CANCELADO POR RECREDITO\")\n",
    "datos = pd.merge(datos, datos_temp, how=\"left\", on=\"NO_CREDITO_NUEVO\", suffixes=(\"\", \"_temp\"))"
   ]
  },
  {
   "cell_type": "markdown",
   "metadata": {},
   "source": [
    "## Aplicación de precios"
   ]
  },
  {
   "cell_type": "markdown",
   "metadata": {},
   "source": [
    "ACá aplicamos los precios establecidos en las iniciativas separando por promoción."
   ]
  },
  {
   "cell_type": "code",
   "execution_count": 5,
   "metadata": {},
   "outputs": [],
   "source": [
    "# función para calcular el precio dada una tabla de precios externa de excel\n",
    "def aplicar_precio(rci: float, riesgo: str, precios: pd.DataFrame) -> float:\n",
    "    if rci <= 45:\n",
    "        precio = precios[precios[\"RCI\"] >= rci][riesgo].reset_index(drop=True)[0]\n",
    "    elif rci > 45:\n",
    "        precio = -1\n",
    "    return precio"
   ]
  },
  {
   "cell_type": "code",
   "execution_count": 6,
   "metadata": {},
   "outputs": [],
   "source": [
    "# poner bandera de cumplimiento del 15%\n",
    "datos_temp = datos.groupby(by=\"NO_CREDITO_NUEVO\")[\"%pagado\"].min().reset_index(name=\"MINIMO PORCENTAJE\")\n",
    "datos = pd.merge(datos, datos_temp, how=\"left\", on=\"NO_CREDITO_NUEVO\", suffixes=(\"\", \"_x\"))\n",
    "datos[\"FLAG 15%\"] = np.where(datos[\"MINIMO PORCENTAJE\"] < 15, 0, 1)\n",
    "\n",
    "# nos quedamos solo con los créditos que generaron reservas, es decir, los que no tengan el 15%\n",
    "mascara_15 = datos[\"FLAG 15%\"] == 0\n",
    "# Aplicar esquemas de precios\n",
    "mascara_liquidez = datos[\"PRODUCTO\"] == \"LIQUIDEZ\"\n",
    "datos.loc[mascara_15 & mascara_liquidez, \"LIQUIDEZ NO BANRURAL\"] = datos.loc[mascara_15 & mascara_liquidez].apply(lambda x: aplicar_precio(x[\"RCI_I_I\"], x[\"SCORE\"], liquidez_no_br), axis=1)\n",
    "datos.loc[mascara_15 & mascara_liquidez, \"LIQUIDEZ EXCLUSIVO\"] = datos.loc[mascara_15 & mascara_liquidez].apply(lambda x: aplicar_precio(x[\"RCI_I_I\"], x[\"SCORE\"], liquidez_exclusivo), axis=1)\n",
    "datos.loc[mascara_15 & ~mascara_liquidez, \"SALUD NO BANRURAL\"] = datos.loc[mascara_15 & ~mascara_liquidez].apply(lambda x: aplicar_precio(x[\"RCI_I_I\"], x[\"SCORE\"], salud_no_br), axis=1)\n",
    "datos.loc[mascara_15 & ~mascara_liquidez, \"SALUD EXCLUSIVO\"] = datos.loc[mascara_15 & ~mascara_liquidez].apply(lambda x: aplicar_precio(x[\"RCI_I_I\"], x[\"SCORE\"], salud_exclusivo), axis=1)"
   ]
  },
  {
   "cell_type": "markdown",
   "metadata": {},
   "source": [
    "## Escoger la data para estadísticos de resumen"
   ]
  },
  {
   "cell_type": "markdown",
   "metadata": {},
   "source": [
    "## Comparar con precios del crédito espejo"
   ]
  },
  {
   "cell_type": "code",
   "execution_count": 7,
   "metadata": {},
   "outputs": [],
   "source": [
    "# Leer salida del CVF majo\n",
    "datos_cvf = pd.read_excel(r\"C:\\Users\\mariajose_chinchilla\\Documents\\GitHub\\Reservas\\Salidas\\credito_espejo\\salidas_Rodrigo\\CE_cosecha_junio_plazo_monto_iguales.xlsx\")\n",
    "datos_cvf = datos_cvf[[\"NO_CREDITO_NUEVO\", 'COTA INFERIOR TASA', 'TASA FINAL', \"TASA FINAL NUMERICA\"]]"
   ]
  },
  {
   "cell_type": "code",
   "execution_count": 8,
   "metadata": {},
   "outputs": [],
   "source": [
    "df_final = pd.merge(datos, datos_cvf, how=\"inner\", on=\"NO_CREDITO_NUEVO\")"
   ]
  },
  {
   "cell_type": "code",
   "execution_count": 9,
   "metadata": {},
   "outputs": [],
   "source": [
    "# Ahora que ya hemos hecho la simulación, nos interesa analizar financieramente a nivel recrédito nuevo, \n",
    "# por lo que escogemos solamente un registro por recrédito.\n",
    "df_final = df_final.drop_duplicates(subset=\"NO_CREDITO_NUEVO\")"
   ]
  },
  {
   "cell_type": "code",
   "execution_count": 10,
   "metadata": {},
   "outputs": [],
   "source": [
    "df_final = df_final[[\"NO_CREDITO_NUEVO\", \"MONTO_CANCELADO\", \"TASA_CRED_NUEVO\", \"PLAZO_CRED_NUEVO\",\n",
    "                     'MONTO_DESEMBOLSADO_NUEVO', 'CREDITOS_CANCELADOS',\n",
    "                     \"FLAG 15%\", 'CANT_DIAS_ATRASO', \"ES_RECREDITO\",\n",
    "                     \"PRODUCTO\", 'MONTO_DESEMBOLSADO', 'RCI', 'RCI FINAL', 'SCORE',\n",
    "                    'MONTO CANCELADO POR RECREDITO', 'LIQUIDEZ NO BANRURAL',\n",
    "                    'LIQUIDEZ EXCLUSIVO', 'SALUD NO BANRURAL', 'SALUD EXCLUSIVO',\n",
    "                     'COTA INFERIOR TASA', 'TASA FINAL',\n",
    "                    'TASA FINAL NUMERICA']]"
   ]
  }
 ],
 "metadata": {
  "kernelspec": {
   "display_name": "Python 3",
   "language": "python",
   "name": "python3"
  },
  "language_info": {
   "codemirror_mode": {
    "name": "ipython",
    "version": 3
   },
   "file_extension": ".py",
   "mimetype": "text/x-python",
   "name": "python",
   "nbconvert_exporter": "python",
   "pygments_lexer": "ipython3",
   "version": "3.12.1"
  }
 },
 "nbformat": 4,
 "nbformat_minor": 2
}
