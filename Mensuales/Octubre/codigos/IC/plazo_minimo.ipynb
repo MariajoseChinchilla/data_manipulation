{
 "cells": [
  {
   "cell_type": "code",
   "execution_count": null,
   "metadata": {},
   "outputs": [],
   "source": [
    "import math\n",
    "import pandas as pd\n",
    "import sys\n",
    "sys.path.append(r\"C:\\Users\\mariajose_chinchilla\\Documents\\GitHub\\proyectos_varios\\codigos\")\n",
    "from utils import calcular_cuota"
   ]
  },
  {
   "cell_type": "code",
   "execution_count": null,
   "metadata": {},
   "outputs": [],
   "source": [
    "df = pd.read_excel(\"../../db/detalle_ofertas_noviembre.xlsx\")"
   ]
  },
  {
   "cell_type": "code",
   "execution_count": null,
   "metadata": {},
   "outputs": [],
   "source": [
    "df[\"desembolso_Potencial\"] = pd.to_numeric(df[\"desembolso_Potencial\"], errors=\"coerce\")\n",
    "df = df[df[\"desembolso_Potencial\"] > 0]"
   ]
  },
  {
   "cell_type": "code",
   "execution_count": null,
   "metadata": {},
   "outputs": [],
   "source": [
    "def plazo_minimo(rci, desembolso, tasa, ingresos):\n",
    "    try: \n",
    "        gamma = 60 - rci\n",
    "        log1 = math.log((gamma * ingresos) / (gamma * ingresos - desembolso * tasa))\n",
    "        log2 = math.log(1 + tasa)\n",
    "        plazo = log1 / log2\n",
    "        plazo_final =  1.5 * math.ceil(plazo * 100 / 12) * 12\n",
    "        if plazo_final > 144:\n",
    "            return None\n",
    "        elif plazo_final <= 144:\n",
    "            return plazo_final\n",
    "    except: \n",
    "        return None"
   ]
  },
  {
   "cell_type": "code",
   "execution_count": 8,
   "metadata": {},
   "outputs": [],
   "source": [
    "df[\"RCI Interno\"] = pd.to_numeric(df[\"RCI Interno\"], errors=\"coerce\")\n",
    "df[\"tasa_Potencial\"] = pd.to_numeric(df[\"tasa_Potencial\"], errors=\"coerce\")"
   ]
  },
  {
   "cell_type": "code",
   "execution_count": 9,
   "metadata": {},
   "outputs": [],
   "source": [
    "df.loc[df[\"RCI Interno\"] < 60, \"PLAZO MINIMO\"] = df.loc[df[\"RCI Interno\"] < 60].apply(lambda x: plazo_minimo(x[\"RCI Interno\"], x[\"desembolso_Potencial\"],\n",
    "                                                     x[\"tasa_Potencial\"]/1200, x[\"Ingreso validado\"]), axis=1)\n",
    "\n",
    "df[\"PLAZO MINIMO\"].fillna(0, inplace=True)"
   ]
  },
  {
   "cell_type": "code",
   "execution_count": 10,
   "metadata": {},
   "outputs": [],
   "source": [
    "df.loc[df[\"PLAZO MINIMO\"] > 0, \"NUEVA CUOTA\"] = df.loc[df[\"PLAZO MINIMO\"] > 0, \"NUEVO RCI\"] = df.loc[df[\"PLAZO MINIMO\"] > 0].apply(lambda x: calcular_cuota(\n",
    "    x[\"desembolso_Potencial\"], x[\"tasa_Potencial\"] / 1200, x[\"PLAZO MINIMO\"]), axis=1)\n",
    "\n",
    "df[\"NUEVO RCI\"] = df[\"NUEVA CUOTA\"] / df[\"Ingreso validado\"] * 100 + df[\"RCI Interno\"]"
   ]
  },
  {
   "cell_type": "code",
   "execution_count": 16,
   "metadata": {},
   "outputs": [
    {
     "data": {
      "text/plain": [
       "113"
      ]
     },
     "execution_count": 16,
     "metadata": {},
     "output_type": "execute_result"
    }
   ],
   "source": [
    "cols_interes = [\"desembolso_Potencial\", \"tasa_Potencial\", \"PLAZO MINIMO\", \"Ingreso validado\",\"RCI Interno\", \"NUEVO RCI\"]\n",
    "\n",
    "validos_temp = df[(~df[\"NUEVO RCI\"].isna()) & (df[\"NUEVO RCI\"] <= 60)][cols_interes]\n",
    "len(validos_temp)"
   ]
  },
  {
   "cell_type": "code",
   "execution_count": 17,
   "metadata": {},
   "outputs": [],
   "source": [
    "validos_temp.to_csv(\"../../db/Salidas/Ensayo_emilene_V2.csv\")"
   ]
  },
  {
   "cell_type": "code",
   "execution_count": 15,
   "metadata": {},
   "outputs": [
    {
     "data": {
      "text/plain": [
       "Index(['CODIGO_CLIENTE', 'TOTAL_SALDO', 'CATEGORIA_INTERNO',\n",
       "       'CATEGORIA_CONTAGIO', 'FLAG_INDICE', 'SEGMENTO', 'PATRONO', 'TIPO_PAGO',\n",
       "       'QUINTIL_SALDO_BT', 'SALDO_EXT',\n",
       "       ...\n",
       "       'Unnamed: 237', 'Unnamed: 238', 'Unnamed: 239', 'Unnamed: 240',\n",
       "       'Unnamed: 241', 'Unnamed: 242', 'Unnamed: 243', 'PLAZO MINIMO',\n",
       "       'NUEVA CUOTA', 'NUEVO RCI'],\n",
       "      dtype='object', length=247)"
      ]
     },
     "execution_count": 15,
     "metadata": {},
     "output_type": "execute_result"
    }
   ],
   "source": [
    "validos_temp.columns"
   ]
  },
  {
   "cell_type": "code",
   "execution_count": null,
   "metadata": {},
   "outputs": [],
   "source": []
  }
 ],
 "metadata": {
  "kernelspec": {
   "display_name": "Python 3",
   "language": "python",
   "name": "python3"
  },
  "language_info": {
   "codemirror_mode": {
    "name": "ipython",
    "version": 3
   },
   "file_extension": ".py",
   "mimetype": "text/x-python",
   "name": "python",
   "nbconvert_exporter": "python",
   "pygments_lexer": "ipython3",
   "version": "3.12.1"
  }
 },
 "nbformat": 4,
 "nbformat_minor": 2
}
