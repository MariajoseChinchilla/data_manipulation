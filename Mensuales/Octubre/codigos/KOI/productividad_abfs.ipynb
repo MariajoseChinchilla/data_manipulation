{
 "cells": [
  {
   "cell_type": "markdown",
   "metadata": {},
   "source": [
    "## ¿Podemos establecer alguna relación lineal entre la productividad de los ABFs y su categoría, banca y precios del banco?"
   ]
  },
  {
   "cell_type": "markdown",
   "metadata": {},
   "source": [
    "Este cuaderno busca encontrar una relación lineal entre la productividad de los ABFs en términos de su banca, categoría y precios a los que se les solicita vender."
   ]
  },
  {
   "cell_type": "code",
   "execution_count": 1,
   "metadata": {},
   "outputs": [],
   "source": [
    "import pandas as pd"
   ]
  },
  {
   "cell_type": "code",
   "execution_count": 2,
   "metadata": {},
   "outputs": [],
   "source": [
    "df = pd.read_excel(\"../../db/datos_productividad.xlsx\", sheet_name=\"BT\")\n",
    "df[\"TPP\"] = df[\"TPP\"] * 100"
   ]
  },
  {
   "cell_type": "code",
   "execution_count": 3,
   "metadata": {},
   "outputs": [
    {
     "data": {
      "text/html": [
       "<div>\n",
       "<style scoped>\n",
       "    .dataframe tbody tr th:only-of-type {\n",
       "        vertical-align: middle;\n",
       "    }\n",
       "\n",
       "    .dataframe tbody tr th {\n",
       "        vertical-align: top;\n",
       "    }\n",
       "\n",
       "    .dataframe thead th {\n",
       "        text-align: right;\n",
       "    }\n",
       "</style>\n",
       "<table border=\"1\" class=\"dataframe\">\n",
       "  <thead>\n",
       "    <tr style=\"text-align: right;\">\n",
       "      <th></th>\n",
       "      <th>AÑO</th>\n",
       "      <th>MES</th>\n",
       "      <th>AÑO-MES</th>\n",
       "      <th>FEC_SALDO</th>\n",
       "      <th>ABF.ASIGNADOS</th>\n",
       "      <th>ABF.PRODUCTIVOS</th>\n",
       "      <th>Cantidad_A</th>\n",
       "      <th>Cantidad_B</th>\n",
       "      <th>Cantidad_C</th>\n",
       "      <th>Desembolso A</th>\n",
       "      <th>Desembolso B</th>\n",
       "      <th>Desembolso C</th>\n",
       "      <th>Cantidad creditos A</th>\n",
       "      <th>Cantidad creditos B</th>\n",
       "      <th>Cantidad creditos C</th>\n",
       "      <th>Ticket promedio A</th>\n",
       "      <th>Ticket promedio B</th>\n",
       "      <th>Ticket promedio C</th>\n",
       "      <th>TPP</th>\n",
       "    </tr>\n",
       "  </thead>\n",
       "  <tbody>\n",
       "    <tr>\n",
       "      <th>0</th>\n",
       "      <td>2022</td>\n",
       "      <td>ene</td>\n",
       "      <td>ene-2022</td>\n",
       "      <td>44592</td>\n",
       "      <td>181</td>\n",
       "      <td>152</td>\n",
       "      <td>16</td>\n",
       "      <td>45</td>\n",
       "      <td>91</td>\n",
       "      <td>690614.241875</td>\n",
       "      <td>464523.244889</td>\n",
       "      <td>280651.508901</td>\n",
       "      <td>8</td>\n",
       "      <td>6</td>\n",
       "      <td>3</td>\n",
       "      <td>120568.369733</td>\n",
       "      <td>97730.631693</td>\n",
       "      <td>117573.132374</td>\n",
       "      <td>17.28</td>\n",
       "    </tr>\n",
       "    <tr>\n",
       "      <th>1</th>\n",
       "      <td>2022</td>\n",
       "      <td>feb</td>\n",
       "      <td>feb-2022</td>\n",
       "      <td>44620</td>\n",
       "      <td>187</td>\n",
       "      <td>162</td>\n",
       "      <td>24</td>\n",
       "      <td>56</td>\n",
       "      <td>82</td>\n",
       "      <td>910432.094583</td>\n",
       "      <td>492368.947679</td>\n",
       "      <td>318803.086098</td>\n",
       "      <td>10</td>\n",
       "      <td>5</td>\n",
       "      <td>3</td>\n",
       "      <td>121002.772049</td>\n",
       "      <td>124817.339238</td>\n",
       "      <td>114325.478170</td>\n",
       "      <td>17.00</td>\n",
       "    </tr>\n",
       "    <tr>\n",
       "      <th>2</th>\n",
       "      <td>2022</td>\n",
       "      <td>mar</td>\n",
       "      <td>mar-2022</td>\n",
       "      <td>44651</td>\n",
       "      <td>182</td>\n",
       "      <td>164</td>\n",
       "      <td>23</td>\n",
       "      <td>54</td>\n",
       "      <td>87</td>\n",
       "      <td>860410.628261</td>\n",
       "      <td>640832.940182</td>\n",
       "      <td>320865.761954</td>\n",
       "      <td>11</td>\n",
       "      <td>7</td>\n",
       "      <td>4</td>\n",
       "      <td>100515.071473</td>\n",
       "      <td>128193.887678</td>\n",
       "      <td>92428.674683</td>\n",
       "      <td>17.32</td>\n",
       "    </tr>\n",
       "  </tbody>\n",
       "</table>\n",
       "</div>"
      ],
      "text/plain": [
       "    AÑO  MES   AÑO-MES  FEC_SALDO  ABF.ASIGNADOS  ABF.PRODUCTIVOS  Cantidad_A  \\\n",
       "0  2022  ene  ene-2022      44592            181              152          16   \n",
       "1  2022  feb  feb-2022      44620            187              162          24   \n",
       "2  2022  mar  mar-2022      44651            182              164          23   \n",
       "\n",
       "   Cantidad_B  Cantidad_C   Desembolso A   Desembolso B   Desembolso C  \\\n",
       "0          45          91  690614.241875  464523.244889  280651.508901   \n",
       "1          56          82  910432.094583  492368.947679  318803.086098   \n",
       "2          54          87  860410.628261  640832.940182  320865.761954   \n",
       "\n",
       "   Cantidad creditos A  Cantidad creditos B  Cantidad creditos C  \\\n",
       "0                    8                    6                    3   \n",
       "1                   10                    5                    3   \n",
       "2                   11                    7                    4   \n",
       "\n",
       "   Ticket promedio A  Ticket promedio B  Ticket promedio C    TPP  \n",
       "0      120568.369733       97730.631693      117573.132374  17.28  \n",
       "1      121002.772049      124817.339238      114325.478170  17.00  \n",
       "2      100515.071473      128193.887678       92428.674683  17.32  "
      ]
     },
     "execution_count": 3,
     "metadata": {},
     "output_type": "execute_result"
    }
   ],
   "source": [
    "# quiero hacer una regresion productividad como combinacion lineal de tipo categoria y precio actual. \n",
    "# Posiblemente también mes y año\n",
    "df.head(3)"
   ]
  },
  {
   "cell_type": "code",
   "execution_count": 4,
   "metadata": {},
   "outputs": [
    {
     "data": {
      "text/html": [
       "<div>\n",
       "<style scoped>\n",
       "    .dataframe tbody tr th:only-of-type {\n",
       "        vertical-align: middle;\n",
       "    }\n",
       "\n",
       "    .dataframe tbody tr th {\n",
       "        vertical-align: top;\n",
       "    }\n",
       "\n",
       "    .dataframe thead th {\n",
       "        text-align: right;\n",
       "    }\n",
       "</style>\n",
       "<table border=\"1\" class=\"dataframe\">\n",
       "  <thead>\n",
       "    <tr style=\"text-align: right;\">\n",
       "      <th></th>\n",
       "      <th>AÑO</th>\n",
       "      <th>MES</th>\n",
       "      <th>Cantidad_A</th>\n",
       "      <th>Cantidad_B</th>\n",
       "      <th>Cantidad_C</th>\n",
       "      <th>Desembolso A</th>\n",
       "      <th>Desembolso B</th>\n",
       "      <th>Desembolso C</th>\n",
       "      <th>TPP</th>\n",
       "    </tr>\n",
       "  </thead>\n",
       "  <tbody>\n",
       "    <tr>\n",
       "      <th>0</th>\n",
       "      <td>2022</td>\n",
       "      <td>ene</td>\n",
       "      <td>16</td>\n",
       "      <td>45</td>\n",
       "      <td>91</td>\n",
       "      <td>690614.241875</td>\n",
       "      <td>464523.244889</td>\n",
       "      <td>280651.508901</td>\n",
       "      <td>17.28</td>\n",
       "    </tr>\n",
       "    <tr>\n",
       "      <th>1</th>\n",
       "      <td>2022</td>\n",
       "      <td>feb</td>\n",
       "      <td>24</td>\n",
       "      <td>56</td>\n",
       "      <td>82</td>\n",
       "      <td>910432.094583</td>\n",
       "      <td>492368.947679</td>\n",
       "      <td>318803.086098</td>\n",
       "      <td>17.00</td>\n",
       "    </tr>\n",
       "    <tr>\n",
       "      <th>2</th>\n",
       "      <td>2022</td>\n",
       "      <td>mar</td>\n",
       "      <td>23</td>\n",
       "      <td>54</td>\n",
       "      <td>87</td>\n",
       "      <td>860410.628261</td>\n",
       "      <td>640832.940182</td>\n",
       "      <td>320865.761954</td>\n",
       "      <td>17.32</td>\n",
       "    </tr>\n",
       "  </tbody>\n",
       "</table>\n",
       "</div>"
      ],
      "text/plain": [
       "    AÑO  MES  Cantidad_A  Cantidad_B  Cantidad_C   Desembolso A  \\\n",
       "0  2022  ene          16          45          91  690614.241875   \n",
       "1  2022  feb          24          56          82  910432.094583   \n",
       "2  2022  mar          23          54          87  860410.628261   \n",
       "\n",
       "    Desembolso B   Desembolso C    TPP  \n",
       "0  464523.244889  280651.508901  17.28  \n",
       "1  492368.947679  318803.086098  17.00  \n",
       "2  640832.940182  320865.761954  17.32  "
      ]
     },
     "execution_count": 4,
     "metadata": {},
     "output_type": "execute_result"
    }
   ],
   "source": [
    "cols = [\"AÑO\", \"MES\", \"Cantidad_A\", \"Cantidad_B\", \"Cantidad_C\", \"Desembolso A\", \"Desembolso B\",\n",
    "        \"Desembolso C\", \"TPP\"]\n",
    "\n",
    "df[cols].head(3)"
   ]
  },
  {
   "cell_type": "code",
   "execution_count": 5,
   "metadata": {},
   "outputs": [
    {
     "data": {
      "text/html": [
       "<div>\n",
       "<style scoped>\n",
       "    .dataframe tbody tr th:only-of-type {\n",
       "        vertical-align: middle;\n",
       "    }\n",
       "\n",
       "    .dataframe tbody tr th {\n",
       "        vertical-align: top;\n",
       "    }\n",
       "\n",
       "    .dataframe thead th {\n",
       "        text-align: right;\n",
       "    }\n",
       "</style>\n",
       "<table border=\"1\" class=\"dataframe\">\n",
       "  <thead>\n",
       "    <tr style=\"text-align: right;\">\n",
       "      <th></th>\n",
       "      <th>Categoría</th>\n",
       "      <th>Año</th>\n",
       "      <th>Mes</th>\n",
       "      <th>Cantidad ABFs</th>\n",
       "      <th>Desembolso</th>\n",
       "      <th>TPP</th>\n",
       "    </tr>\n",
       "  </thead>\n",
       "  <tbody>\n",
       "    <tr>\n",
       "      <th>0</th>\n",
       "      <td>A</td>\n",
       "      <td>2022</td>\n",
       "      <td>ene</td>\n",
       "      <td>16</td>\n",
       "      <td>690614</td>\n",
       "      <td>17.28</td>\n",
       "    </tr>\n",
       "    <tr>\n",
       "      <th>1</th>\n",
       "      <td>A</td>\n",
       "      <td>2022</td>\n",
       "      <td>feb</td>\n",
       "      <td>24</td>\n",
       "      <td>910432</td>\n",
       "      <td>17.00</td>\n",
       "    </tr>\n",
       "    <tr>\n",
       "      <th>2</th>\n",
       "      <td>A</td>\n",
       "      <td>2022</td>\n",
       "      <td>mar</td>\n",
       "      <td>23</td>\n",
       "      <td>860410</td>\n",
       "      <td>17.32</td>\n",
       "    </tr>\n",
       "  </tbody>\n",
       "</table>\n",
       "</div>"
      ],
      "text/plain": [
       "  Categoría   Año  Mes  Cantidad ABFs  Desembolso    TPP\n",
       "0         A  2022  ene             16      690614  17.28\n",
       "1         A  2022  feb             24      910432  17.00\n",
       "2         A  2022  mar             23      860410  17.32"
      ]
     },
     "execution_count": 5,
     "metadata": {},
     "output_type": "execute_result"
    }
   ],
   "source": [
    "dic_A = {\"Categoría\": [\"A\"] * len(df), \"Año\": df[\"AÑO\"].to_list(), \"Mes\": df[\"MES\"].tolist(), \n",
    "         \"Cantidad ABFs\": df[\"Cantidad_A\"].to_list(), \"Desembolso\": df[\"Desembolso A\"].tolist(),\n",
    "         \"TPP\": df[\"TPP\"].tolist()}\n",
    "\n",
    "dic_B = {\"Categoría\": [\"B\"] * len(df), \"Año\": df[\"AÑO\"].to_list(), \"Mes\": df[\"MES\"].tolist(), \n",
    "         \"Cantidad ABFs\": df[\"Cantidad_B\"].to_list(), \"Desembolso\": df[\"Desembolso B\"].tolist(),\n",
    "         \"TPP\": df[\"TPP\"].tolist()}\n",
    "\n",
    "dic_C = {\"Categoría\": [\"C\"] * len(df), \"Año\": df[\"AÑO\"].to_list(), \"Mes\": df[\"MES\"].tolist(), \n",
    "         \"Cantidad ABFs\": df[\"Cantidad_A\"].to_list(), \"Desembolso\": df[\"Desembolso C\"].tolist(),\n",
    "         \"TPP\": df[\"TPP\"].tolist()}\n",
    "\n",
    "df_A = pd.DataFrame.from_dict(dic_A)\n",
    "df_B = pd.DataFrame.from_dict(dic_B)\n",
    "df_C = pd.DataFrame.from_dict(dic_C)\n",
    "\n",
    "\n",
    "df_final = pd.concat([df_A, df_B, df_C])\n",
    "df_final[\"Desembolso\"] = df_final[\"Desembolso\"].astype(\"int64\")\n",
    "df_final.head(3)"
   ]
  },
  {
   "cell_type": "markdown",
   "metadata": {},
   "source": [
    "## Correr modelo lineal simple por MMCO"
   ]
  },
  {
   "cell_type": "markdown",
   "metadata": {},
   "source": [
    "El objetivo inicial de la regresión era establecer una relación lienal entre el desembolso de los ABFs según el precio al que deben vender, la categoría a la que pertenecen, el año y mes en el que se está vendiendo, así como la cantidad de ABFs activos. Por esa razón, la regresión que observaremos no contempla un análisis de selección de parámetros ni balanceo entre módulo de coeficientes y suma de errores al cuadrado. Solamente se corre el MMCO y se establecen conclusiones con ello."
   ]
  },
  {
   "cell_type": "code",
   "execution_count": 6,
   "metadata": {},
   "outputs": [],
   "source": [
    "from sklearn.linear_model import LinearRegression\n",
    "from sklearn.model_selection import train_test_split\n",
    "from sklearn.metrics import mean_squared_error, r2_score\n",
    "import statsmodels.api as sm\n",
    "import numpy as np"
   ]
  },
  {
   "cell_type": "code",
   "execution_count": 7,
   "metadata": {},
   "outputs": [],
   "source": [
    "df_final = pd.get_dummies(df_final, columns=[\"Categoría\"], drop_first=True)\n",
    "df_final = pd.get_dummies(df_final, columns=[\"Año\"], drop_first=True)\n",
    "df_final = pd.get_dummies(df_final, columns=[\"Mes\"], drop_first=True)"
   ]
  },
  {
   "cell_type": "code",
   "execution_count": 8,
   "metadata": {},
   "outputs": [
    {
     "data": {
      "text/plain": [
       "Index(['Cantidad ABFs', 'Desembolso', 'TPP', 'Categoría_B', 'Categoría_C',\n",
       "       'Año_2023', 'Año_2024', 'Mes_ago', 'Mes_dic', 'Mes_ene', 'Mes_feb',\n",
       "       'Mes_jul', 'Mes_jun', 'Mes_mar', 'Mes_may', 'Mes_nov', 'Mes_oct',\n",
       "       'Mes_sep'],\n",
       "      dtype='object')"
      ]
     },
     "execution_count": 8,
     "metadata": {},
     "output_type": "execute_result"
    }
   ],
   "source": [
    "df_final.columns"
   ]
  },
  {
   "cell_type": "code",
   "execution_count": 9,
   "metadata": {},
   "outputs": [],
   "source": [
    "cols = [\"Categoría_B\", \"Categoría_C\", 'Año_2023', 'Año_2024', 'Mes_ago',\n",
    "        'Mes_dic', 'Mes_ene', 'Mes_feb', 'Mes_jul', 'Mes_jun', 'Mes_mar',\n",
    "        'Mes_may', 'Mes_nov', 'Mes_oct', 'Mes_sep']\n",
    "\n",
    "for col in cols:\n",
    "    df_final[col] = df_final[col].astype(int)"
   ]
  },
  {
   "cell_type": "code",
   "execution_count": 10,
   "metadata": {},
   "outputs": [],
   "source": [
    "X_entrenamiento, X_testeo, Y_entrenamiento, Y_testeo = train_test_split( df_final[[\"Categoría_B\", \"Categoría_C\", 'Año_2023', 'Año_2024', 'Mes_ago',\n",
    "        'Mes_dic', 'Mes_ene', 'Mes_feb', 'Mes_jul', 'Mes_jun', 'Mes_mar',\n",
    "        'Mes_may', 'Mes_nov', 'Mes_oct', 'Mes_sep', \"TPP\"]],\n",
    "                            df_final[\"Desembolso\"],\n",
    "                            test_size=0.2, random_state=42)\n"
   ]
  },
  {
   "cell_type": "code",
   "execution_count": 11,
   "metadata": {},
   "outputs": [
    {
     "name": "stdout",
     "output_type": "stream",
     "text": [
      "                            OLS Regression Results                            \n",
      "==============================================================================\n",
      "Dep. Variable:             Desembolso   R-squared:                       0.877\n",
      "Model:                            OLS   Adj. R-squared:                  0.845\n",
      "Method:                 Least Squares   F-statistic:                     27.66\n",
      "Date:                Wed, 16 Oct 2024   Prob (F-statistic):           3.09e-22\n",
      "Time:                        16:58:23   Log-Likelihood:                -1006.0\n",
      "No. Observations:                  79   AIC:                             2046.\n",
      "Df Residuals:                      62   BIC:                             2086.\n",
      "Df Model:                          16                                         \n",
      "Covariance Type:            nonrobust                                         \n",
      "===============================================================================\n",
      "                  coef    std err          t      P>|t|      [0.025      0.975]\n",
      "-------------------------------------------------------------------------------\n",
      "const        1.714e+06    2.6e+05      6.602      0.000    1.19e+06    2.23e+06\n",
      "Categoría_B  -2.99e+05   2.68e+04    -11.138      0.000   -3.53e+05   -2.45e+05\n",
      "Categoría_C -4.908e+05   2.61e+04    -18.832      0.000   -5.43e+05   -4.39e+05\n",
      "Año_2023     8.521e+04   3.01e+04      2.831      0.006     2.5e+04    1.45e+05\n",
      "Año_2024     1.976e+05   8.47e+04      2.334      0.023    2.83e+04    3.67e+05\n",
      "Mes_ago      5.577e+04   5.87e+04      0.951      0.346   -6.15e+04    1.73e+05\n",
      "Mes_dic     -1.148e+05   6.39e+04     -1.798      0.077   -2.42e+05    1.29e+04\n",
      "Mes_ene     -4.922e+04   4.71e+04     -1.044      0.300   -1.43e+05     4.5e+04\n",
      "Mes_feb       1.08e+04    4.4e+04      0.246      0.807   -7.71e+04    9.87e+04\n",
      "Mes_jul     -4.784e+04   4.84e+04     -0.990      0.326   -1.44e+05    4.88e+04\n",
      "Mes_jun     -9845.8292   4.71e+04     -0.209      0.835   -1.04e+05    8.43e+04\n",
      "Mes_mar      9.654e+04   4.69e+04      2.059      0.044    2823.711     1.9e+05\n",
      "Mes_may      9.286e+04   4.51e+04      2.060      0.044    2734.048    1.83e+05\n",
      "Mes_nov      2.039e+04   7.96e+04      0.256      0.799   -1.39e+05     1.8e+05\n",
      "Mes_oct     -3.229e+04   5.55e+04     -0.581      0.563   -1.43e+05    7.87e+04\n",
      "Mes_sep      -303.0319   4.55e+04     -0.007      0.995   -9.13e+04    9.07e+04\n",
      "TPP         -5.206e+04   1.53e+04     -3.400      0.001   -8.27e+04   -2.14e+04\n",
      "==============================================================================\n",
      "Omnibus:                        6.534   Durbin-Watson:                   1.868\n",
      "Prob(Omnibus):                  0.038   Jarque-Bera (JB):                7.779\n",
      "Skew:                          -0.361   Prob(JB):                       0.0205\n",
      "Kurtosis:                       4.357   Cond. No.                         511.\n",
      "==============================================================================\n",
      "\n",
      "Notes:\n",
      "[1] Standard Errors assume that the covariance matrix of the errors is correctly specified.\n"
     ]
    }
   ],
   "source": [
    "X_entrenamiento_intercepto = sm.add_constant(X_entrenamiento)\n",
    "\n",
    "modelo = sm.OLS(Y_entrenamiento, X_entrenamiento_intercepto).fit()\n",
    "print(modelo.summary())"
   ]
  },
  {
   "cell_type": "markdown",
   "metadata": {},
   "source": [
    "Conclusiones: \n",
    "    - Solamente el mes de marzo tiene un coeficiente significativo en la regresión. \n",
    "    - La categoría si es significativa para el desembolso de un ABF\n",
    "    - La TPP de venta es significativa para el desembolso de un ABF"
   ]
  },
  {
   "cell_type": "markdown",
   "metadata": {},
   "source": [
    "## Calibración del modelo"
   ]
  },
  {
   "cell_type": "code",
   "execution_count": 12,
   "metadata": {},
   "outputs": [
    {
     "name": "stdout",
     "output_type": "stream",
     "text": [
      "                            OLS Regression Results                            \n",
      "==============================================================================\n",
      "Dep. Variable:             Desembolso   R-squared:                       0.767\n",
      "Model:                            OLS   Adj. R-squared:                  0.757\n",
      "Method:                 Least Squares   F-statistic:                     82.10\n",
      "Date:                Wed, 16 Oct 2024   Prob (F-statistic):           1.24e-23\n",
      "Time:                        16:58:23   Log-Likelihood:                -1031.3\n",
      "No. Observations:                  79   AIC:                             2071.\n",
      "Df Residuals:                      75   BIC:                             2080.\n",
      "Df Model:                           3                                         \n",
      "Covariance Type:            nonrobust                                         \n",
      "===============================================================================\n",
      "                  coef    std err          t      P>|t|      [0.025      0.975]\n",
      "-------------------------------------------------------------------------------\n",
      "const        1.277e+06   1.16e+05     10.979      0.000    1.05e+06    1.51e+06\n",
      "Categoría_B -2.969e+05   3.22e+04     -9.219      0.000   -3.61e+05   -2.33e+05\n",
      "Categoría_C -4.884e+05   3.22e+04    -15.158      0.000   -5.53e+05   -4.24e+05\n",
      "TPP         -2.461e+04   5965.566     -4.126      0.000   -3.65e+04   -1.27e+04\n",
      "==============================================================================\n",
      "Omnibus:                        2.603   Durbin-Watson:                   1.891\n",
      "Prob(Omnibus):                  0.272   Jarque-Bera (JB):                2.263\n",
      "Skew:                          -0.042   Prob(JB):                        0.323\n",
      "Kurtosis:                       3.825   Cond. No.                         172.\n",
      "==============================================================================\n",
      "\n",
      "Notes:\n",
      "[1] Standard Errors assume that the covariance matrix of the errors is correctly specified.\n"
     ]
    }
   ],
   "source": [
    "X_ajustada = X_entrenamiento[[\"Categoría_B\", \"Categoría_C\", \"TPP\"]]\n",
    "X_ajustada_intercepto = sm.add_constant(X_ajustada)\n",
    "\n",
    "modelo = sm.OLS(Y_entrenamiento, X_ajustada_intercepto).fit()\n",
    "print(modelo.summary())"
   ]
  },
  {
   "cell_type": "markdown",
   "metadata": {},
   "source": [
    "Al eliminar la variable de tiempo, vemos que el coeficiente de TPP deja de ser estadísticamente significativo. Por tanto, la TPP influye de acuerdo al momento en el tiempo en el que ocurre."
   ]
  },
  {
   "cell_type": "code",
   "execution_count": 13,
   "metadata": {},
   "outputs": [
    {
     "name": "stdout",
     "output_type": "stream",
     "text": [
      "                            OLS Regression Results                            \n",
      "==============================================================================\n",
      "Dep. Variable:             Desembolso   R-squared:                       0.787\n",
      "Model:                            OLS   Adj. R-squared:                  0.775\n",
      "Method:                 Least Squares   F-statistic:                     68.29\n",
      "Date:                Wed, 16 Oct 2024   Prob (F-statistic):           4.37e-24\n",
      "Time:                        16:58:23   Log-Likelihood:                -1027.7\n",
      "No. Observations:                  79   AIC:                             2065.\n",
      "Df Residuals:                      74   BIC:                             2077.\n",
      "Df Model:                           4                                         \n",
      "Covariance Type:            nonrobust                                         \n",
      "===============================================================================\n",
      "                  coef    std err          t      P>|t|      [0.025      0.975]\n",
      "-------------------------------------------------------------------------------\n",
      "const        1.242e+06   1.13e+05     11.016      0.000    1.02e+06    1.47e+06\n",
      "Categoría_B -2.963e+05    3.1e+04     -9.562      0.000   -3.58e+05   -2.35e+05\n",
      "Categoría_C -4.919e+05    3.1e+04    -15.853      0.000   -5.54e+05    -4.3e+05\n",
      "TPP         -2.325e+04   5762.155     -4.035      0.000   -3.47e+04   -1.18e+04\n",
      "Mes_mar      1.179e+05   4.45e+04      2.652      0.010    2.93e+04    2.06e+05\n",
      "==============================================================================\n",
      "Omnibus:                        1.722   Durbin-Watson:                   2.017\n",
      "Prob(Omnibus):                  0.423   Jarque-Bera (JB):                1.101\n",
      "Skew:                          -0.237   Prob(JB):                        0.577\n",
      "Kurtosis:                       3.331   Cond. No.                         173.\n",
      "==============================================================================\n",
      "\n",
      "Notes:\n",
      "[1] Standard Errors assume that the covariance matrix of the errors is correctly specified.\n"
     ]
    }
   ],
   "source": [
    "X_ajustada = X_entrenamiento[[\"Categoría_B\", \"Categoría_C\", \"TPP\",'Mes_mar']]\n",
    "X_ajustada_intercepto = sm.add_constant(X_ajustada)\n",
    "\n",
    "modelo = sm.OLS(Y_entrenamiento, X_ajustada_intercepto).fit()\n",
    "print(modelo.summary()) "
   ]
  },
  {
   "cell_type": "code",
   "execution_count": 14,
   "metadata": {},
   "outputs": [
    {
     "data": {
      "text/plain": [
       "Cantidad ABFs         59.00\n",
       "Desembolso       1221904.00\n",
       "TPP                   16.83\n",
       "Categoría_B            0.00\n",
       "Categoría_C            0.00\n",
       "Año_2023               1.00\n",
       "Año_2024               0.00\n",
       "Mes_ago                0.00\n",
       "Mes_dic                0.00\n",
       "Mes_ene                0.00\n",
       "Mes_feb                0.00\n",
       "Mes_jul                0.00\n",
       "Mes_jun                0.00\n",
       "Mes_mar                1.00\n",
       "Mes_may                0.00\n",
       "Mes_nov                0.00\n",
       "Mes_oct                0.00\n",
       "Mes_sep                0.00\n",
       "Name: 14, dtype: float64"
      ]
     },
     "execution_count": 14,
     "metadata": {},
     "output_type": "execute_result"
    }
   ],
   "source": [
    "df_final.iloc[df_final[\"Desembolso\"].idxmax()]"
   ]
  }
 ],
 "metadata": {
  "kernelspec": {
   "display_name": "Python 3",
   "language": "python",
   "name": "python3"
  },
  "language_info": {
   "codemirror_mode": {
    "name": "ipython",
    "version": 3
   },
   "file_extension": ".py",
   "mimetype": "text/x-python",
   "name": "python",
   "nbconvert_exporter": "python",
   "pygments_lexer": "ipython3",
   "version": "3.12.1"
  }
 },
 "nbformat": 4,
 "nbformat_minor": 2
}
