{
 "cells": [
  {
   "cell_type": "markdown",
   "metadata": {},
   "source": [
    "# Análisis para bajar mínimo para compra saldo"
   ]
  },
  {
   "cell_type": "code",
   "execution_count": 1,
   "metadata": {},
   "outputs": [],
   "source": [
    "import pandas as pd\n",
    "import sys\n",
    "sys.path.append(r\"C:\\Users\\mariajose_chinchilla\\Documents\\GitHub\\Reservas\\utils\")\n",
    "from utils import monto_corte, resultado_percentiles, percentil"
   ]
  },
  {
   "cell_type": "code",
   "execution_count": 2,
   "metadata": {},
   "outputs": [],
   "source": [
    "precas = pd.read_csv(\"../../db/precasHorus_todas.csv\")\n",
    "precas[\"PRODUCTO\"] = \"VALIDO\""
   ]
  },
  {
   "cell_type": "code",
   "execution_count": 3,
   "metadata": {},
   "outputs": [],
   "source": [
    "precas = precas[(precas[\"RCI_Interno_Inicial\"]> 0) & (precas[\"Color_Resultado\"] == \"RECHAZAR\")]"
   ]
  },
  {
   "cell_type": "code",
   "execution_count": 4,
   "metadata": {},
   "outputs": [
    {
     "data": {
      "text/html": [
       "<div>\n",
       "<style scoped>\n",
       "    .dataframe tbody tr th:only-of-type {\n",
       "        vertical-align: middle;\n",
       "    }\n",
       "\n",
       "    .dataframe tbody tr th {\n",
       "        vertical-align: top;\n",
       "    }\n",
       "\n",
       "    .dataframe thead th {\n",
       "        text-align: right;\n",
       "    }\n",
       "</style>\n",
       "<table border=\"1\" class=\"dataframe\">\n",
       "  <thead>\n",
       "    <tr style=\"text-align: right;\">\n",
       "      <th></th>\n",
       "      <th>TIPO_CLIENTE</th>\n",
       "      <th>RCI_Interno_Inicial</th>\n",
       "    </tr>\n",
       "  </thead>\n",
       "  <tbody>\n",
       "    <tr>\n",
       "      <th>0</th>\n",
       "      <td>CLIENTE EXISTENTE</td>\n",
       "      <td>19.374687</td>\n",
       "    </tr>\n",
       "    <tr>\n",
       "      <th>1</th>\n",
       "      <td>CLIENTE NUEVO</td>\n",
       "      <td>15.458750</td>\n",
       "    </tr>\n",
       "    <tr>\n",
       "      <th>2</th>\n",
       "      <td>CLIENTE REACTIVADO</td>\n",
       "      <td>3.273249</td>\n",
       "    </tr>\n",
       "  </tbody>\n",
       "</table>\n",
       "</div>"
      ],
      "text/plain": [
       "         TIPO_CLIENTE  RCI_Interno_Inicial\n",
       "0   CLIENTE EXISTENTE            19.374687\n",
       "1       CLIENTE NUEVO            15.458750\n",
       "2  CLIENTE REACTIVADO             3.273249"
      ]
     },
     "execution_count": 4,
     "metadata": {},
     "output_type": "execute_result"
    }
   ],
   "source": [
    "precas_temp = precas.groupby(by=\"TIPO_CLIENTE\")[\"RCI_Interno_Inicial\"].mean().reset_index()\n",
    "precas_temp"
   ]
  },
  {
   "cell_type": "markdown",
   "metadata": {},
   "source": [
    "El RCI interno inicial tiene mínimo 0 en todos los grupos. El máximo sí cambia pero es por temas de tarjeta de crédito. La media no tiene una diferencia significativa en cuanto a cliente nuevo y existente. Decidimos excluir el tipo de cliente."
   ]
  },
  {
   "cell_type": "code",
   "execution_count": 5,
   "metadata": {},
   "outputs": [],
   "source": [
    "# si mora quitar pero consolidar por completo si no no"
   ]
  },
  {
   "cell_type": "code",
   "execution_count": 6,
   "metadata": {},
   "outputs": [],
   "source": [
    "# si no mora, elegir según rci interno y global \n",
    "# (usar cuartiles, algún percentil? o ver densidades de agrupación dados los cortes fijos?)"
   ]
  },
  {
   "cell_type": "code",
   "execution_count": 7,
   "metadata": {},
   "outputs": [],
   "source": [
    "resultado_percentiles(precas, \"VALIDO\", 5, ['CLIENTE REACTIVADO', 'CLIENTE EXISTENTE', 'CLIENTE NUEVO'], \n",
    "                      \"RCIs\", \"RCI_Global_Inicial\", \"RCI_Interno_Inicial\", \"TIPO_CLIENTE\",\n",
    "                      \"PRODUCTO\", \"Saldo_Total_de_Creditos_Externo_a_consolidar\", \"Saldo_Total_de_Creditos_Externo_a_consolidar\",\n",
    "                      \"../../db/Salidas/\")\n",
    "\n"
   ]
  },
  {
   "cell_type": "code",
   "execution_count": 8,
   "metadata": {},
   "outputs": [],
   "source": [
    "# estamos seguros que no queremos considerar las precas de liquidez?\n",
    "# si usamos cuartiles o percentiles, cambiaria si no tenemos los clientes que son\n",
    "# al usar cortes fijos, sí podemos tomar esto porque en caso que un cliente -- no esoy segura\n",
    "\n",
    "# usar lo que usaábamos para las tablas de resumen de precios?"
   ]
  }
 ],
 "metadata": {
  "kernelspec": {
   "display_name": "Python 3",
   "language": "python",
   "name": "python3"
  },
  "language_info": {
   "codemirror_mode": {
    "name": "ipython",
    "version": 3
   },
   "file_extension": ".py",
   "mimetype": "text/x-python",
   "name": "python",
   "nbconvert_exporter": "python",
   "pygments_lexer": "ipython3",
   "version": "3.12.1"
  }
 },
 "nbformat": 4,
 "nbformat_minor": 2
}
