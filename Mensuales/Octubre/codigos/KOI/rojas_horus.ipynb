{
 "cells": [
  {
   "cell_type": "markdown",
   "metadata": {},
   "source": [
    "# Precalificaciones rojas"
   ]
  },
  {
   "cell_type": "markdown",
   "metadata": {},
   "source": [
    "Acá queremos ver qué política está dando más rechazo, por qué algunos clientes no se les ha podido dar salud financiera"
   ]
  },
  {
   "cell_type": "code",
   "execution_count": 1,
   "metadata": {},
   "outputs": [],
   "source": [
    "import pandas as pd"
   ]
  },
  {
   "cell_type": "code",
   "execution_count": 2,
   "metadata": {},
   "outputs": [],
   "source": [
    "df = pd.read_csv(\"../../db/precas.csv\")"
   ]
  },
  {
   "cell_type": "code",
   "execution_count": 3,
   "metadata": {},
   "outputs": [],
   "source": [
    "cols = [\"dpi\", \"no_precalificacion\", \"SEGMENTO_PRODUCTO\",\n",
    "        'rciGlobalInicialDeudor', 'rciGlobalFinalDeudor',\n",
    "       'rciInternoFinalDeudor', 'rciInternoInicialDeudor',\n",
    "        \"nombrepatrono\", 'monto', 'plazo', 'tasa',\n",
    "        'conSaldoCreditoBT', 'conSaldoCreditoExt', 'conSaldoFactorajeExt',\n",
    "        'conSaldoTcBT', 'conSaldoTcExt', 'tipoCliente',\n",
    "        \"scoreDeudorInstallmentQnt\",\n",
    "        \"scoreDeudorInstallmentQualPacing\",\n",
    "        \"reglaNombre\", \"tipooferta\", \"Oferta\"]\n",
    "\n",
    "rojas = df[cols]\n",
    "rojas = pd.get_dummies(rojas, columns=[\"reglaNombre\"])"
   ]
  },
  {
   "cell_type": "code",
   "execution_count": 4,
   "metadata": {},
   "outputs": [],
   "source": [
    "cols_one_hot = [col for col in rojas.columns if \"reglaNombre_\" in col]\n",
    "rojas = rojas.groupby(by=\"dpi\").agg({**{col: 'max' for col in cols_one_hot}, \n",
    "                                     **{col: \"first\" for col in rojas.columns.tolist() if col not in cols_one_hot\n",
    "                                        and col != \"dpi\"}}).reset_index()"
   ]
  },
  {
   "cell_type": "code",
   "execution_count": 5,
   "metadata": {},
   "outputs": [],
   "source": [
    "for col in cols_one_hot:\n",
    "    rojas[col] = rojas[col].astype(str).str.replace(\"True\", \"1\")\n",
    "    rojas[col] = rojas[col].astype(str).str.replace(\"False\", \"0\")\n",
    "    rojas[col] = rojas[col].astype(\"int64\")"
   ]
  },
  {
   "cell_type": "code",
   "execution_count": 6,
   "metadata": {},
   "outputs": [
    {
     "data": {
      "text/plain": [
       "253.39507236"
      ]
     },
     "execution_count": 6,
     "metadata": {},
     "output_type": "execute_result"
    }
   ],
   "source": [
    "rojas[\"NETO APROX\"] = rojas[\"monto\"] - rojas[\"conSaldoCreditoBT\"]\n",
    "rojas[rojas[\"reglaNombre_CREDITO CONSOLIDADO < 15% PAGADO\"] == 1][\"NETO APROX\"].sum() / 10**6"
   ]
  },
  {
   "cell_type": "markdown",
   "metadata": {},
   "source": [
    "## Evaluar qué razones de rechazo son las principales"
   ]
  },
  {
   "cell_type": "code",
   "execution_count": 7,
   "metadata": {},
   "outputs": [
    {
     "data": {
      "text/html": [
       "<div>\n",
       "<style scoped>\n",
       "    .dataframe tbody tr th:only-of-type {\n",
       "        vertical-align: middle;\n",
       "    }\n",
       "\n",
       "    .dataframe tbody tr th {\n",
       "        vertical-align: top;\n",
       "    }\n",
       "\n",
       "    .dataframe thead th {\n",
       "        text-align: right;\n",
       "    }\n",
       "</style>\n",
       "<table border=\"1\" class=\"dataframe\">\n",
       "  <thead>\n",
       "    <tr style=\"text-align: right;\">\n",
       "      <th></th>\n",
       "      <th>reglaNombre_CANCELACIONES CONTRA RESERVA</th>\n",
       "      <th>reglaNombre_CANTIDAD DE CREDITOS VIGENTES</th>\n",
       "      <th>reglaNombre_CATEGORIA PLASTICO</th>\n",
       "      <th>reglaNombre_CONTAGIO CREDITICIO</th>\n",
       "      <th>reglaNombre_CONTEO MORA 120</th>\n",
       "      <th>reglaNombre_CONTEO MORA 120+ SIRC</th>\n",
       "      <th>reglaNombre_CONTEO MORA 60</th>\n",
       "      <th>reglaNombre_CONTEO MORA 60+ SIRC</th>\n",
       "      <th>reglaNombre_CONTEO MORA 90</th>\n",
       "      <th>reglaNombre_CONTEO MORA 90+ SIRC</th>\n",
       "      <th>...</th>\n",
       "      <th>reglaNombre_RCI GLOBAL FINAL</th>\n",
       "      <th>reglaNombre_RCI GLOBAL INICIAL</th>\n",
       "      <th>reglaNombre_RCI INTERNO FINAL</th>\n",
       "      <th>reglaNombre_SALARIO MINIMO</th>\n",
       "      <th>reglaNombre_SCORE</th>\n",
       "      <th>reglaNombre_SCORE PREDICTIVO</th>\n",
       "      <th>reglaNombre_SIRC ACTUAL</th>\n",
       "      <th>reglaNombre_SOLICITA CODEUDOR</th>\n",
       "      <th>reglaNombre_TARJETAS PERMITIDAS EXTERNAS</th>\n",
       "      <th>reglaNombre_TARJETAS PERMITIDAS INTERNAS</th>\n",
       "    </tr>\n",
       "  </thead>\n",
       "  <tbody>\n",
       "    <tr>\n",
       "      <th>0</th>\n",
       "      <td>3592</td>\n",
       "      <td>866</td>\n",
       "      <td>443</td>\n",
       "      <td>988</td>\n",
       "      <td>1414</td>\n",
       "      <td>551</td>\n",
       "      <td>2201</td>\n",
       "      <td>824</td>\n",
       "      <td>1150</td>\n",
       "      <td>415</td>\n",
       "      <td>...</td>\n",
       "      <td>11214</td>\n",
       "      <td>899</td>\n",
       "      <td>26737</td>\n",
       "      <td>303</td>\n",
       "      <td>902</td>\n",
       "      <td>3631</td>\n",
       "      <td>5285</td>\n",
       "      <td>9419</td>\n",
       "      <td>72</td>\n",
       "      <td>176</td>\n",
       "    </tr>\n",
       "  </tbody>\n",
       "</table>\n",
       "<p>1 rows × 49 columns</p>\n",
       "</div>"
      ],
      "text/plain": [
       "   reglaNombre_CANCELACIONES CONTRA RESERVA  \\\n",
       "0                                      3592   \n",
       "\n",
       "   reglaNombre_CANTIDAD DE CREDITOS VIGENTES  reglaNombre_CATEGORIA PLASTICO  \\\n",
       "0                                        866                             443   \n",
       "\n",
       "   reglaNombre_CONTAGIO CREDITICIO  reglaNombre_CONTEO MORA 120  \\\n",
       "0                              988                         1414   \n",
       "\n",
       "   reglaNombre_CONTEO MORA 120+ SIRC  reglaNombre_CONTEO MORA 60  \\\n",
       "0                                551                        2201   \n",
       "\n",
       "   reglaNombre_CONTEO MORA 60+ SIRC  reglaNombre_CONTEO MORA 90  \\\n",
       "0                               824                        1150   \n",
       "\n",
       "   reglaNombre_CONTEO MORA 90+ SIRC  ...  reglaNombre_RCI GLOBAL FINAL  \\\n",
       "0                               415  ...                         11214   \n",
       "\n",
       "   reglaNombre_RCI GLOBAL INICIAL  reglaNombre_RCI INTERNO FINAL  \\\n",
       "0                             899                          26737   \n",
       "\n",
       "   reglaNombre_SALARIO MINIMO  reglaNombre_SCORE  \\\n",
       "0                         303                902   \n",
       "\n",
       "   reglaNombre_SCORE PREDICTIVO  reglaNombre_SIRC ACTUAL  \\\n",
       "0                          3631                     5285   \n",
       "\n",
       "   reglaNombre_SOLICITA CODEUDOR  reglaNombre_TARJETAS PERMITIDAS EXTERNAS  \\\n",
       "0                           9419                                        72   \n",
       "\n",
       "   reglaNombre_TARJETAS PERMITIDAS INTERNAS  \n",
       "0                                       176  \n",
       "\n",
       "[1 rows x 49 columns]"
      ]
     },
     "execution_count": 7,
     "metadata": {},
     "output_type": "execute_result"
    }
   ],
   "source": [
    "conteo = {}\n",
    "for col in cols_one_hot:\n",
    "    conteo[col] = [rojas[col].sum()]\n",
    "\n",
    "df_conteo = pd.DataFrame.from_dict(conteo)\n",
    "df_conteo"
   ]
  },
  {
   "cell_type": "code",
   "execution_count": 8,
   "metadata": {},
   "outputs": [],
   "source": [
    "df_conteo.rename(columns={col: col[12:] for col in df_conteo.columns}, inplace=True)"
   ]
  },
  {
   "cell_type": "markdown",
   "metadata": {},
   "source": [
    "### Graficar"
   ]
  },
  {
   "cell_type": "code",
   "execution_count": 9,
   "metadata": {},
   "outputs": [],
   "source": [
    "import matplotlib.pyplot as plt\n",
    "import numpy as np"
   ]
  },
  {
   "cell_type": "code",
   "execution_count": 10,
   "metadata": {},
   "outputs": [
    {
     "data": {
      "image/png": "[encoded data removed]",
      "text/plain": [
       "<Figure size 640x480 with 1 Axes>"
      ]
     },
     "metadata": {},
     "output_type": "display_data"
    }
   ],
   "source": [
    "principales = []\n",
    "for col in df_conteo.columns:\n",
    "    if df_conteo.loc[0, col] >= 3500:\n",
    "        principales.append(col)\n",
    "\n",
    "df_principales = df_conteo[principales]\n",
    "\n",
    "x = np.arange(len(df_principales))\n",
    "colores = colores = [\n",
    "    '#FF5733',  # Rojo anaranjado\n",
    "    '#33FF57',  # Verde\n",
    "    '#3357FF',  # Azul\n",
    "    '#F1C40F',  # Amarillo\n",
    "    '#9B59B6',  # Púrpura\n",
    "    '#1ABC9C',  # Turquesa\n",
    "    '#E74C3C',  # Rojo intenso\n",
    "    '#3498DB',  # Azul claro\n",
    "    '#2ECC71',  # Verde claro\n",
    "    '#E67E22',  # Naranja\n",
    "    '#ECF0F1',  # Gris claro\n",
    "    '#95A5A6',  # Gris oscuro\n",
    "    '#D35400',  # Naranja oscuro\n",
    "    '#16A085',  # Verde azulado\n",
    "    '#8E44AD',  # Púrpura oscuro\n",
    "    '#27AE60',  # Verde fuerte\n",
    "    '#2980B9',  # Azul intenso\n",
    "    '#C0392B',  # Rojo fuerte\n",
    "    '#F39C12',  # Amarillo anaranjado\n",
    "    '#BDC3C7'   # Gris suave\n",
    "]\n",
    "\n",
    "\n",
    "# Crear el gráfico de barras para cada columna\n",
    "width = 0.25  # El ancho de cada barra\n",
    "\n",
    "fig, ax = plt.subplots()\n",
    "\n",
    "for i, col in enumerate(principales):\n",
    "    ax.bar(x + i * width - (len(principales) - 1) * width / 2, df_principales[col], width, label=col, color=colores[i])\n",
    "\n",
    "# Añadir etiquetas y título\n",
    "ax.set_xlabel('Regla', fontsize=14)\n",
    "ax.set_ylabel('Clientes rechazados por la regla', fontsize=14)\n",
    "ax.set_title('Algunas reglas de rechazos en Precalificaciones Horus', fontsize=16)\n",
    "\n",
    "# Posicionar la leyenda\n",
    "ax.legend(loc='upper left', bbox_to_anchor=(1, 1), fontsize=8)\n",
    "\n",
    "# Ajustar las etiquetas del eje X\n",
    "ax.set_xticks(x)\n",
    "ax.set_xticklabels([f'Fila {i}' for i in range(len(df_principales))], fontsize=1)\n",
    "\n",
    "# Mostrar el gráfico\n",
    "plt.show()"
   ]
  },
  {
   "cell_type": "markdown",
   "metadata": {},
   "source": [
    "## Ver impactos de iniciativa"
   ]
  },
  {
   "cell_type": "code",
   "execution_count": 11,
   "metadata": {},
   "outputs": [
    {
     "data": {
      "text/plain": [
       "33410"
      ]
     },
     "execution_count": 11,
     "metadata": {},
     "output_type": "execute_result"
    }
   ],
   "source": [
    "# cols_validas = ['reglaNombre_RCI GLOBAL INICIAL']\n",
    "\n",
    "# filtro_validos = [col for col in cols_one_hot if col not in cols_validas]\n",
    "\n",
    "# # Filtrar los clientes donde todas las columnas en 'cols_validas' son iguales a 0\n",
    "# clientes_validos = rojas[(rojas[filtro_validos].eq(0).all(axis=1)) & (rojas[\"rciInternoFinalDeudor\"] <= 60)]\n",
    "\n",
    "clientes_validos = rojas[rojas[\"conSaldoCreditoExt\"] <= 11000]\n",
    "# Mostrar el resultado\n",
    "len(clientes_validos)"
   ]
  },
  {
   "cell_type": "code",
   "execution_count": 12,
   "metadata": {},
   "outputs": [
    {
     "name": "stderr",
     "output_type": "stream",
     "text": [
      "C:\\Users\\mariajose_chinchilla\\AppData\\Local\\Temp\\ipykernel_7536\\3571873695.py:1: SettingWithCopyWarning: \n",
      "A value is trying to be set on a copy of a slice from a DataFrame\n",
      "\n",
      "See the caveats in the documentation: https://pandas.pydata.org/pandas-docs/stable/user_guide/indexing.html#returning-a-view-versus-a-copy\n",
      "  clientes_validos[\"conSaldoCreditoExt\"].fillna(0, inplace=True)\n"
     ]
    },
    {
     "data": {
      "text/plain": [
       "20.86207431967591"
      ]
     },
     "execution_count": 12,
     "metadata": {},
     "output_type": "execute_result"
    }
   ],
   "source": [
    "clientes_validos[\"conSaldoCreditoExt\"].fillna(0, inplace=True)\n",
    "clientes_validos = clientes_validos[~clientes_validos[\"conSaldoCreditoExt\"].isna()]\n",
    "sum(clientes_validos[\"conSaldoCreditoExt\"] * clientes_validos[\"tasa\"]) / sum(clientes_validos[\"conSaldoCreditoExt\"])"
   ]
  },
  {
   "cell_type": "code",
   "execution_count": 13,
   "metadata": {},
   "outputs": [
    {
     "data": {
      "text/plain": [
       "21.7733323"
      ]
     },
     "execution_count": 13,
     "metadata": {},
     "output_type": "execute_result"
    }
   ],
   "source": [
    "clientes_validos[\"conSaldoCreditoExt\"].sum() / 10**6"
   ]
  },
  {
   "cell_type": "code",
   "execution_count": 14,
   "metadata": {},
   "outputs": [],
   "source": [
    "categorias = pd.read_csv(\"../../db/categorias.csv\", sep=\";\")"
   ]
  },
  {
   "cell_type": "code",
   "execution_count": 15,
   "metadata": {},
   "outputs": [],
   "source": [
    "clientes_validos_temp = pd.merge(clientes_validos, categorias, on=\"dpi\", how=\"inner\")"
   ]
  },
  {
   "cell_type": "code",
   "execution_count": 16,
   "metadata": {},
   "outputs": [
    {
     "data": {
      "text/plain": [
       "31.728243388051503"
      ]
     },
     "execution_count": 16,
     "metadata": {},
     "output_type": "execute_result"
    }
   ],
   "source": [
    "clientes_validos_temp[\"RESERVA CONTAGIO\"] = clientes_validos_temp[\"reservas\"] * clientes_validos_temp[\"conSaldoCreditoBT\"]\n",
    "clientes_validos_temp[\"RESERVA CONTAGIO\"].sum() / 10**6"
   ]
  },
  {
   "cell_type": "code",
   "execution_count": 17,
   "metadata": {},
   "outputs": [],
   "source": [
    "with open(\"../../db/dpis.txt\", \"w\") as f:\n",
    "    for dpi in clientes_validos[\"dpi\"].unique().tolist():\n",
    "        f.write(f\"'{dpi}',\")"
   ]
  }
 ],
 "metadata": {
  "kernelspec": {
   "display_name": "Python 3",
   "language": "python",
   "name": "python3"
  },
  "language_info": {
   "codemirror_mode": {
    "name": "ipython",
    "version": 3
   },
   "file_extension": ".py",
   "mimetype": "text/x-python",
   "name": "python",
   "nbconvert_exporter": "python",
   "pygments_lexer": "ipython3",
   "version": "3.12.1"
  }
 },
 "nbformat": 4,
 "nbformat_minor": 2
}
