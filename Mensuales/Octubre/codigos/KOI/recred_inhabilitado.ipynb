{
 "cells": [
  {
   "cell_type": "code",
   "execution_count": 25,
   "metadata": {},
   "outputs": [],
   "source": [
    "import pandas as pd\n",
    "import sys\n",
    "sys.path.append(r\"C:\\Users\\mariajose_chinchilla\\Documents\\GitHub\\proyectos_varios\\codigos\")\n",
    "\n",
    "from utils import ingresos_financieros, ingreso_fin_entre_fechas, meses_entre_fechas, calcular_cuota"
   ]
  },
  {
   "cell_type": "code",
   "execution_count": 6,
   "metadata": {},
   "outputs": [],
   "source": [
    "df = pd.read_excel(\"../../db/RecreditosInhabilitadosSeptiembre2024.xlsx\")"
   ]
  },
  {
   "cell_type": "code",
   "execution_count": 46,
   "metadata": {},
   "outputs": [],
   "source": [
    "df[\"INGRESO A FIN DE AÑO\"] = df.apply(lambda x: ingreso_fin_entre_fechas(x[\"MONTO_DESEMBOLSO_CREDITO_CANCELADO\"],\n",
    "                                                                         x[\"TASA_COSECHA_CREDITO_CANCELADO\"]/1200,\n",
    "                                                                         x[\"PLAZO_MESES_CREDITO_CANCELADO\"], \n",
    "                                                                         x[\"MESES_TRANSCURRIDOS_CREDITO_CANCELADO\"],\n",
    "                                                                         x[\"MESES_TRANSCURRIDOS_CREDITO_CANCELADO\"] + 3), \n",
    "                                                                         axis=1)\n",
    "\n",
    "df[\"CUOTA CREDITO\"] = df.apply(lambda x: calcular_cuota(x[\"MONTO_DESEMBOLSO_CREDITO_CANCELADO\"],\n",
    "                                                        x[\"TASA_COSECHA_CREDITO_CANCELADO\"]/1200,\n",
    "                                                        x[\"PLAZO_MESES_CREDITO_CANCELADO\"]),\n",
    "                                                        axis=1)\n",
    "\n",
    "df[\"INGRESOS POR RECREDITO\"] = df.apply(lambda x: ingresos_financieros(x[\"MONTO_DESEMBOLSADO_CREDITO_NUEVO\"],\n",
    "                                                                       x[\"TASA_COSECHA_CREDITO_NUEVO\"]/1200,\n",
    "                                                                       x[\"PLAZO_MESES_CREDITO_NUEVO\"], 3),\n",
    "                                                                       axis=1)\n",
    "alpha = (0.08+0.0025)/(1-0.146)\n",
    "df[\"PASIVOS A CANCELAR\"] = df.apply(lambda x: ingreso_fin_entre_fechas(x[\"MONTO_DESEMBOLSO_CREDITO_CANCELADO\"],\n",
    "                                                                         alpha/12,\n",
    "                                                                         x[\"PLAZO_MESES_CREDITO_CANCELADO\"], \n",
    "                                                                         x[\"MESES_TRANSCURRIDOS_CREDITO_CANCELADO\"],\n",
    "                                                                         x[\"MESES_TRANSCURRIDOS_CREDITO_CANCELADO\"] + 3), \n",
    "                                                                         axis=1)\n",
    "\n",
    "df[\"PASIVOS CRED NEVO\"] = df.apply(lambda x: ingreso_fin_entre_fechas(x[\"MONTO_DESEMBOLSADO_CREDITO_NUEVO\"],\n",
    "                                                                         alpha/12,\n",
    "                                                                         x[\"PLAZO_MESES_CREDITO_NUEVO\"], 1, 3), \n",
    "                                                                         axis=1)"
   ]
  },
  {
   "cell_type": "code",
   "execution_count": 103,
   "metadata": {},
   "outputs": [
    {
     "data": {
      "text/html": [
       "<div>\n",
       "<style scoped>\n",
       "    .dataframe tbody tr th:only-of-type {\n",
       "        vertical-align: middle;\n",
       "    }\n",
       "\n",
       "    .dataframe tbody tr th {\n",
       "        vertical-align: top;\n",
       "    }\n",
       "\n",
       "    .dataframe thead th {\n",
       "        text-align: right;\n",
       "    }\n",
       "</style>\n",
       "<table border=\"1\" class=\"dataframe\">\n",
       "  <thead>\n",
       "    <tr style=\"text-align: right;\">\n",
       "      <th></th>\n",
       "      <th>NO_CREDITO_NUEVO</th>\n",
       "      <th>TASA_COSECHA_CREDITO_CANCELADO</th>\n",
       "      <th>TASA_COSECHA_CREDITO_NUEVO</th>\n",
       "      <th>AGRUPADOR_COSECHA</th>\n",
       "      <th>CODIGO_BANCA_ASIGNACION</th>\n",
       "    </tr>\n",
       "  </thead>\n",
       "  <tbody>\n",
       "    <tr>\n",
       "      <th>407</th>\n",
       "      <td>12409950563</td>\n",
       "      <td>21.24</td>\n",
       "      <td>18.0</td>\n",
       "      <td>TRADICIONAL</td>\n",
       "      <td>CARTERA_EJECUTIVO</td>\n",
       "    </tr>\n",
       "    <tr>\n",
       "      <th>408</th>\n",
       "      <td>12409950563</td>\n",
       "      <td>22.30</td>\n",
       "      <td>18.0</td>\n",
       "      <td>TRADICIONAL</td>\n",
       "      <td>CARTERA_EJECUTIVO</td>\n",
       "    </tr>\n",
       "  </tbody>\n",
       "</table>\n",
       "</div>"
      ],
      "text/plain": [
       "     NO_CREDITO_NUEVO  TASA_COSECHA_CREDITO_CANCELADO  \\\n",
       "407       12409950563                           21.24   \n",
       "408       12409950563                           22.30   \n",
       "\n",
       "     TASA_COSECHA_CREDITO_NUEVO AGRUPADOR_COSECHA CODIGO_BANCA_ASIGNACION  \n",
       "407                        18.0       TRADICIONAL       CARTERA_EJECUTIVO  \n",
       "408                        18.0       TRADICIONAL       CARTERA_EJECUTIVO  "
      ]
     },
     "execution_count": 103,
     "metadata": {},
     "output_type": "execute_result"
    }
   ],
   "source": [
    "df[df[\"NO_CREDITO_NUEVO\"] == 12409950563][[\"NO_CREDITO_NUEVO\", \"TASA_COSECHA_CREDITO_CANCELADO\",\n",
    "                                           \"TASA_COSECHA_CREDITO_NUEVO\", \"AGRUPADOR_COSECHA\",\n",
    "                                           \"CODIGO_BANCA_ASIGNACION\"]]"
   ]
  },
  {
   "cell_type": "code",
   "execution_count": 125,
   "metadata": {},
   "outputs": [
    {
     "data": {
      "text/html": [
       "<div>\n",
       "<style scoped>\n",
       "    .dataframe tbody tr th:only-of-type {\n",
       "        vertical-align: middle;\n",
       "    }\n",
       "\n",
       "    .dataframe tbody tr th {\n",
       "        vertical-align: top;\n",
       "    }\n",
       "\n",
       "    .dataframe thead th {\n",
       "        text-align: right;\n",
       "    }\n",
       "</style>\n",
       "<table border=\"1\" class=\"dataframe\">\n",
       "  <thead>\n",
       "    <tr style=\"text-align: right;\">\n",
       "      <th></th>\n",
       "      <th>FECHA_APERTURA_CREDITO_CANCELADO</th>\n",
       "      <th>NO_CREDITO_CANCELADO</th>\n",
       "      <th>MESES_TRANSCURRIDOS_CREDITO_CANCELADO</th>\n",
       "      <th>MONTO_DESEMBOLSO_CREDITO_CANCELADO</th>\n",
       "      <th>DESEMBOLSO_NETO_CREDITO_CANCELADO</th>\n",
       "      <th>SALDO_CREDITO_CANCELADO</th>\n",
       "      <th>PLAZO_MESES_CREDITO_CANCELADO</th>\n",
       "      <th>TASA_COSECHA_CREDITO_CANCELADO</th>\n",
       "    </tr>\n",
       "  </thead>\n",
       "  <tbody>\n",
       "    <tr>\n",
       "      <th>15</th>\n",
       "      <td>2023-09-01</td>\n",
       "      <td>12309158260</td>\n",
       "      <td>12</td>\n",
       "      <td>21000.0</td>\n",
       "      <td>12256.66</td>\n",
       "      <td>20450.01</td>\n",
       "      <td>120</td>\n",
       "      <td>23.2</td>\n",
       "    </tr>\n",
       "  </tbody>\n",
       "</table>\n",
       "</div>"
      ],
      "text/plain": [
       "   FECHA_APERTURA_CREDITO_CANCELADO  NO_CREDITO_CANCELADO  \\\n",
       "15                       2023-09-01           12309158260   \n",
       "\n",
       "    MESES_TRANSCURRIDOS_CREDITO_CANCELADO  MONTO_DESEMBOLSO_CREDITO_CANCELADO  \\\n",
       "15                                     12                             21000.0   \n",
       "\n",
       "    DESEMBOLSO_NETO_CREDITO_CANCELADO  SALDO_CREDITO_CANCELADO  \\\n",
       "15                           12256.66                 20450.01   \n",
       "\n",
       "    PLAZO_MESES_CREDITO_CANCELADO  TASA_COSECHA_CREDITO_CANCELADO  \n",
       "15                            120                            23.2  "
      ]
     },
     "execution_count": 125,
     "metadata": {},
     "output_type": "execute_result"
    }
   ],
   "source": [
    "df[df[\"NO_CREDITO_NUEVO\"] == 12409927420][[\"FECHA_APERTURA_CREDITO_CANCELADO\", \"NO_CREDITO_CANCELADO\", \n",
    "                                                 \"MESES_TRANSCURRIDOS_CREDITO_CANCELADO\",\n",
    "                                                 \"MONTO_DESEMBOLSO_CREDITO_CANCELADO\",\n",
    "                                                 \"DESEMBOLSO_NETO_CREDITO_CANCELADO\",\n",
    "                                                 \"SALDO_CREDITO_CANCELADO\",\n",
    "                                                 \"PLAZO_MESES_CREDITO_CANCELADO\",\n",
    "                                                 \"TASA_COSECHA_CREDITO_CANCELADO\"]]"
   ]
  },
  {
   "cell_type": "code",
   "execution_count": 109,
   "metadata": {},
   "outputs": [
    {
     "data": {
      "text/plain": [
       "Index(['FEC_SALDO', 'CODIGO_CLIENTE_CANCELADO', 'NO_CREDITO_CANCELADO',\n",
       "       'ESTADO_SALDO_CANCELADO', 'FECHA_APERTURA_CREDITO_CANCELADO',\n",
       "       'FECHA_CANCELACION_CREDITO_CANCELADO', 'CODIGO_CLIENTE_CREDITO_NUEVO',\n",
       "       'NO_CREDITO_NUEVO', 'FECHA_APERTURA_CREDITO_NUEVO',\n",
       "       'CANCELA_MISMO_CLIENTE', 'ES_CREDITO_FIDUCIARIO', 'ES_CONSOLIDACION',\n",
       "       'TIPO_CREDITO', 'TIPO_CLIENTE', 'TIPO_PAGO', 'AGRUPADOR_PRODUCTOS',\n",
       "       'CON_FIADOR', 'CODIGO_PRODUCTO', 'CODIGO_CENTRO_NEGOCIO',\n",
       "       'CODIGO_BANCA_ASIGNACION', 'CODIGO_SUB_SEGMENTO', 'CODIGO_PATRONO',\n",
       "       'AGRUPADOR_COSECHA', 'SUB_AGRUPADOR_COSECHA', 'TIPO_COSECHA',\n",
       "       'PRIORIZACION_TIPO_COSECHA', 'TASA_MESES_CREDITO_NUEVO',\n",
       "       'PLAZO_MESES_CREDITO_NUEVO', 'TASA_COSECHA_CREDITO_NUEVO',\n",
       "       'MONTO_DESEMBOLSADO_CREDITO_NUEVO', 'DESEMBOLSO_NETO_CREDITO_NUEVO',\n",
       "       'ES_INCUMPLIMIENTO_POR_CANCELACION', 'PORCENTAJE_SALDO_PENDIENTE',\n",
       "       'TASA_COSECHA_CREDITO_CANCELADO', 'PLAZO_MESES_CREDITO_CANCELADO',\n",
       "       'TASA_MESES_CREDITO_CANCELADO', 'FACTOR_TASA_PP_CANCELADO_RECREDITO',\n",
       "       'MESES_TRANSCURRIDOS_CREDITO_CANCELADO',\n",
       "       'MESES_PENDIENTES_CREDITO_CANCELADO',\n",
       "       'MONTO_DESEMBOLSO_CREDITO_CANCELADO', 'SALDO_CREDITO_CANCELADO',\n",
       "       'DESEMBOLSO_NETO_CREDITO_CANCELADO', 'INGRESO A FIN DE AÑO',\n",
       "       'CUOTA CREDITO', 'INGRESOS POR RECREDITO', 'PASIVOS A CANCELAR',\n",
       "       'PASIVOS CRED NEVO'],\n",
       "      dtype='object')"
      ]
     },
     "execution_count": 109,
     "metadata": {},
     "output_type": "execute_result"
    }
   ],
   "source": [
    "df.columns"
   ]
  },
  {
   "cell_type": "code",
   "execution_count": null,
   "metadata": {},
   "outputs": [],
   "source": []
  }
 ],
 "metadata": {
  "kernelspec": {
   "display_name": "Python 3",
   "language": "python",
   "name": "python3"
  },
  "language_info": {
   "codemirror_mode": {
    "name": "ipython",
    "version": 3
   },
   "file_extension": ".py",
   "mimetype": "text/x-python",
   "name": "python",
   "nbconvert_exporter": "python",
   "pygments_lexer": "ipython3",
   "version": "3.12.1"
  }
 },
 "nbformat": 4,
 "nbformat_minor": 2
}
