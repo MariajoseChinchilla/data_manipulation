{
 "cells": [
  {
   "cell_type": "markdown",
   "metadata": {},
   "source": [
    "# Potencial de cartera con tasas bajas"
   ]
  },
  {
   "cell_type": "markdown",
   "metadata": {},
   "source": [
    "Acá lo que queremos estudiar son los créditos que tienen tasas abajo de 14%. La hipótesis es que son créditos viejos. Queremos ver qué se les puede ofrecer (podría ser un recrédito porque seguramente ya tienen el 15%)"
   ]
  },
  {
   "cell_type": "code",
   "execution_count": 1,
   "metadata": {},
   "outputs": [],
   "source": [
    "import pyodbc\n",
    "import pandas as pd\n",
    "import warnings\n",
    "warnings.filterwarnings(\"ignore\")\n",
    "import sys\n",
    "sys.path.append(r\"C:\\Users\\mariajose_chinchilla\\Documents\\GitHub\\proyectos_varios\\codigos\")\n",
    "from utils import calcular_cuota, ingresos_financieros, ingreso_fin_entre_fechas"
   ]
  },
  {
   "cell_type": "code",
   "execution_count": 2,
   "metadata": {},
   "outputs": [],
   "source": [
    "mes_simulacion = 11"
   ]
  },
  {
   "cell_type": "code",
   "execution_count": null,
   "metadata": {},
   "outputs": [],
   "source": [
    "def leer_sql(lectura: bool): \n",
    "    if lectura:\n",
    "        conn = pyodbc.connect('DRIVER={SQL Server};'\n",
    "                                'SERVER=BTBIDB-VM;'\n",
    "                                'DATABASE=LNDDW;'\n",
    "                                'Trusted_Connection=yes;')\n",
    "        # Conectarse a datos de cambio de tasas\n",
    "        with open (r\"C:\\Users\\mariajose_chinchilla\\Desktop\\Queries\\cartera activa.sql\", \"r\") as q1:\n",
    "            query1 = q1.read()\n",
    "\n",
    "        # Leer datos con pandas\n",
    "        cartera = pd.read_sql_query(query1, conn)\n",
    "\n",
    "    elif not lectura:\n",
    "        cartera = pd.read_csv(r\"C:\\Users\\mariajose_chinchilla\\Desktop\\Noviembre\\cartera_octubre.csv\")\n",
    "\n",
    "    return cartera\n",
    "    "
   ]
  },
  {
   "cell_type": "code",
   "execution_count": 5,
   "metadata": {},
   "outputs": [],
   "source": [
    "cartera = pd.read_csv(r\"C:\\Users\\mariajose_chinchilla\\Desktop\\Noviembre\\cartera_octubre.csv\",\n",
    "                       sep=\";\"\n",
    "                      )\n",
    "# cartera = cartera[cartera[\"RCI\"] > 0]\n",
    "dpis = pd.read_csv(\"../../db/ingresos.csv\")\n",
    "cartera = cartera[cartera[\"PATRONO\"] != \"Ditca\"]\n",
    "cartera.drop_duplicates(subset=\"NO_CREDITO\", inplace=True)"
   ]
  },
  {
   "cell_type": "code",
   "execution_count": 6,
   "metadata": {},
   "outputs": [],
   "source": [
    "cartera[\"DPI\"] = cartera[\"DPI\"].astype(\"str\")\n",
    "dpis[\"DPI\"] = cartera[\"DPI\"].astype(\"str\")\n",
    "# cartera = pd.merge(cartera, dpis, on=\"DPI\", how=\"left\")\n"
   ]
  },
  {
   "cell_type": "code",
   "execution_count": null,
   "metadata": {},
   "outputs": [],
   "source": [
    "cartera.rename(columns={\"RCI_x\": \"RCI\"}, inplace=True)"
   ]
  },
  {
   "cell_type": "code",
   "execution_count": null,
   "metadata": {},
   "outputs": [],
   "source": [
    "cartera[\"TIPO_PAGO\"].unique()"
   ]
  },
  {
   "cell_type": "code",
   "execution_count": 7,
   "metadata": {},
   "outputs": [],
   "source": [
    "remesa = cartera[(cartera[\"TIPO_PAGO\"] == \"REMESA\")]"
   ]
  },
  {
   "cell_type": "code",
   "execution_count": 8,
   "metadata": {},
   "outputs": [
    {
     "name": "stdout",
     "output_type": "stream",
     "text": [
      "<class 'pandas.core.frame.DataFrame'>\n",
      "Index: 200633 entries, 0 to 203505\n",
      "Data columns (total 24 columns):\n",
      " #   Column                Non-Null Count   Dtype  \n",
      "---  ------                --------------   -----  \n",
      " 0   FEC_SALDO             200633 non-null  object \n",
      " 1   CODIGO_CLIENTE        200633 non-null  int64  \n",
      " 2   DPI                   200633 non-null  object \n",
      " 3   NO_CREDITO            200633 non-null  int64  \n",
      " 4   FECHA_APERTURA        200633 non-null  object \n",
      " 5   FECHA_CANCELACION     200633 non-null  object \n",
      " 6   FECHA_VENCIMIENTO     200633 non-null  object \n",
      " 7   COD_PATRONO           200633 non-null  int64  \n",
      " 8   PATRONO               200633 non-null  object \n",
      " 9   COD_SEGMENTO          200633 non-null  object \n",
      " 10  RCI                   200499 non-null  float64\n",
      " 11  SEGMENTO              191567 non-null  object \n",
      " 12  PLAZO                 200633 non-null  float64\n",
      " 13  SALDO                 200633 non-null  float64\n",
      " 14  MONTO_DESEMBOLSADO    200633 non-null  float64\n",
      " 15  DESEMBOLSO_NETO       200633 non-null  float64\n",
      " 16  TASA                  200633 non-null  float64\n",
      " 17  FACTOR_TASA           200633 non-null  float64\n",
      " 18  ESTADO_CREDITO        200633 non-null  object \n",
      " 19  TIPO_PAGO             200633 non-null  object \n",
      " 20  CANTIDAD_DIAS_ATRASO  200633 non-null  int64  \n",
      " 21  CATEGORIA_INTERNA     200633 non-null  object \n",
      " 22  CREDITO_CUMPLE_15     200633 non-null  int64  \n",
      " 23  DEUDA_INTERNA         200633 non-null  float64\n",
      "dtypes: float64(8), int64(5), object(11)\n",
      "memory usage: 42.3+ MB\n"
     ]
    }
   ],
   "source": [
    "remesa.info()"
   ]
  },
  {
   "cell_type": "code",
   "execution_count": null,
   "metadata": {},
   "outputs": [],
   "source": [
    "remesa.describe()"
   ]
  },
  {
   "cell_type": "code",
   "execution_count": null,
   "metadata": {},
   "outputs": [],
   "source": [
    "remesa[\"CREDITO_CUMPLE_15\"].value_counts().reset_index(name=\"Conteo\")"
   ]
  },
  {
   "cell_type": "code",
   "execution_count": null,
   "metadata": {},
   "outputs": [],
   "source": [
    "remesa_nivel_cliente = remesa.groupby(by=\"CODIGO_CLIENTE\")[\"CREDITO_CUMPLE_15\"].min().reset_index(name=\"Cliente cumple 15%\")\n",
    "remesa_nivel_cliente[\"Cliente cumple 15%\"].value_counts()"
   ]
  },
  {
   "cell_type": "code",
   "execution_count": null,
   "metadata": {},
   "outputs": [],
   "source": [
    "remesa[\"PORCENTAJE PAGADO\"] = 1 - remesa[\"SALDO\"] / remesa[\"MONTO_DESEMBOLSADO\"]\n",
    "remesa_temp = remesa.groupby(by=\"PATRONO\").agg(\n",
    "        CLIENTES=(\"PATRONO\", \"size\"), \n",
    "        SALDO_INTERNO=(\"SALDO\", \"sum\"),\n",
    "        SALDO_PROMEDIO=(\"SALDO\", \"mean\"),\n",
    "        RCI_PROMEDIO=(\"RCI\", \"mean\")).reset_index().sort_values(by=\"SALDO_INTERNO\", ascending=False)\n",
    "\n",
    "remesa_temp[\"SALDO_INTERNO\"] = remesa_temp[\"SALDO_INTERNO\"].astype(\"int64\")\n",
    "remesa_temp.head(5)"
   ]
  },
  {
   "cell_type": "code",
   "execution_count": null,
   "metadata": {},
   "outputs": [],
   "source": [
    "# base = remesa[remesa[\"CLIENTE_CUMPLE_15\"] == 1]\n",
    "# a = sum(base[\"MONTO_DESEMBOLSADO\"] * base[\"TASA\"])\n",
    "# b = base[\"MONTO_DESEMBOLSADO\"].sum()\n",
    "# a / b"
   ]
  },
  {
   "cell_type": "code",
   "execution_count": null,
   "metadata": {},
   "outputs": [],
   "source": [
    "remesa.columns"
   ]
  },
  {
   "cell_type": "markdown",
   "metadata": {},
   "source": [
    "## Gráficas"
   ]
  },
  {
   "cell_type": "code",
   "execution_count": 12,
   "metadata": {},
   "outputs": [],
   "source": [
    "import matplotlib.pyplot as plt\n",
    "remesa = remesa[remesa[\"RCI\"] > 0]"
   ]
  },
  {
   "cell_type": "code",
   "execution_count": 16,
   "metadata": {},
   "outputs": [
    {
     "data": {
      "image/png": "[encoded data removed]",
      "text/plain": [
       "<Figure size 640x480 with 1 Axes>"
      ]
     },
     "metadata": {},
     "output_type": "display_data"
    }
   ],
   "source": [
    "plt.plot(figsize=(10,6))\n",
    "plt.hist(cartera[\"RCI\"], bins=2000, edgecolor=\"black\", color=\"#04aca4\")\n",
    "plt.xlabel(\"Rci Interno\")\n",
    "plt.ylabel(\"Frecuencia\")\n",
    "plt.xlim([0,1.1])\n",
    "plt.title(\"Distribución de RCIs internos\")\n",
    "plt.show()"
   ]
  },
  {
   "cell_type": "code",
   "execution_count": null,
   "metadata": {},
   "outputs": [],
   "source": [
    "frecuencias_15 = remesa_nivel_cliente[\"Cliente cumple 15%\"].value_counts().reset_index(name=\"Frecuencia\")\n",
    "# Crear diagrama de barras\n",
    "plt.bar(frecuencias_15['Cliente cumple 15%'], frecuencias_15['Frecuencia'], color=['#e2056b', '#04aca4'])\n",
    "\n",
    "# Etiquetas y título\n",
    "plt.title('Frecuencia de cumplimiento del 15% por cliente')\n",
    "plt.xticks(frecuencias_15['Cliente cumple 15%'])  # Mostrar los valores correctos de las columnas en el eje X\n",
    "plt.xlabel('Cliente cumple 15%')\n",
    "plt.ylabel('Frecuencia')\n",
    "\n",
    "# Mostrar el gráfico\n",
    "plt.show()\n"
   ]
  },
  {
   "cell_type": "markdown",
   "metadata": {},
   "source": [
    "## Propuesta generalizada"
   ]
  },
  {
   "cell_type": "markdown",
   "metadata": {},
   "source": [
    "### Habilitados por 15%"
   ]
  },
  {
   "cell_type": "code",
   "execution_count": null,
   "metadata": {},
   "outputs": [],
   "source": [
    "import numpy as np\n",
    "# Función que aumenta en un 1% la TPP del cliente\n",
    "def tasa_habilitados(montos: list, k: float, tasas: list) -> float:\n",
    "    a1 = np.array(tasas)\n",
    "    a2 = np.array(montos)\n",
    "    tpp_cliente = np.dot(a1, a2) / sum(montos)\n",
    "    n = (tpp_cliente + 1) * (sum(montos) * (1 + k)) - np.dot(a1, a2)\n",
    "    d = k * sum(montos)\n",
    "    return n / d"
   ]
  },
  {
   "cell_type": "markdown",
   "metadata": {},
   "source": [
    "### Inhabilitados por 15%"
   ]
  },
  {
   "cell_type": "code",
   "execution_count": null,
   "metadata": {},
   "outputs": [],
   "source": [
    "def tasa_inhabilitados(montos: list, tasas: list) -> float:\n",
    "    a1 = np.array(tasas)\n",
    "    a2 = np.array(montos)\n",
    "    tpp_cliente = np.dot(a1, a2) / sum(montos)\n",
    "    alpha = (0.08 + 0.0025) / (1-0.146)\n",
    "    reservas = 0.45 * 0.056\n",
    "    return max(tpp_cliente + 2, alpha * 100 + reservas * 100 + 1.25)"
   ]
  },
  {
   "cell_type": "markdown",
   "metadata": {},
   "source": [
    "### Tasa final"
   ]
  },
  {
   "cell_type": "code",
   "execution_count": null,
   "metadata": {},
   "outputs": [],
   "source": [
    "# def tasa_final(cumple_15, montos, tasas, k):\n",
    "#     if cumple_15 == 1:\n",
    "#         tasa = tasa_habilitados(montos, k, tasas)\n",
    "#     elif cumple_15 == 0:\n",
    "#         tasa = tasa_inhabilitados(montos, tasas)\n",
    "#     return tasa\n",
    "\n",
    "def tasa_final(cumple_15, montos, tasas, k):\n",
    "    if cumple_15 == 1:\n",
    "        a = np.array(tasas)\n",
    "        b = np.array(montos)\n",
    "        tpp = np.dot(a, b) / sum(montos)\n",
    "        tasa = tpp + 1\n",
    "    elif cumple_15 == 0:\n",
    "        tasa = tasa_inhabilitados(montos, tasas)\n",
    "    return tasa\n"
   ]
  },
  {
   "cell_type": "markdown",
   "metadata": {},
   "source": [
    "## Impactos de escenario"
   ]
  },
  {
   "cell_type": "code",
   "execution_count": null,
   "metadata": {},
   "outputs": [],
   "source": [
    "cols = [\"CODIGO_CLIENTE\", \"DPI\", \"RCI\", \"SALDO\", \"MONTO_DESEMBOLSADO\", \n",
    "        \"DESEMBOLSO_NETO\", \"TASA\", \"FACTOR_TASA\", \"CREDITO_CUMPLE_15\",\n",
    "        \"DEUDA_INTERNA\"]\n",
    "\n",
    "remesa_temp = remesa.groupby(by=\"CODIGO_CLIENTE\").agg(\n",
    "            CLIENTE_CUMPLE_15=(\"CREDITO_CUMPLE_15\", \"min\"),\n",
    "            SALDO_EN_TASAS_BAJAS=(\"SALDO\", \"sum\"),\n",
    "            DESEMBOLSADO_EN_TASAS_BAJAS=(\"MONTO_DESEMBOLSADO\", \"sum\"),\n",
    "            PLAZO_OFERTA=(\"PLAZO\", \"max\"),\n",
    "            TASAS=(\"TASA\", list),\n",
    "            MONTOS=(\"MONTO_DESEMBOLSADO\", list)\n",
    ")\n",
    "remesa = pd.merge(remesa, remesa_temp, on=\"CODIGO_CLIENTE\")\n",
    "remesa.head(3)"
   ]
  },
  {
   "cell_type": "code",
   "execution_count": null,
   "metadata": {},
   "outputs": [],
   "source": [
    "nivel_cliente = remesa.drop_duplicates(subset=\"CODIGO_CLIENTE\")\n",
    "nivel_cliente[\"MONTO OFERTA\"] = 1.25 * nivel_cliente[\"DESEMBOLSADO_EN_TASAS_BAJAS\"]\n",
    "nivel_cliente[\"TASA OFERTA\"] = nivel_cliente.apply(lambda x: tasa_final(x[\"CLIENTE_CUMPLE_15\"], \n",
    "                                                                        x[\"MONTOS\"], x[\"TASAS\"], 1.25), axis=1)"
   ]
  },
  {
   "cell_type": "code",
   "execution_count": null,
   "metadata": {},
   "outputs": [],
   "source": [
    "nivel_cliente[\"NUEVA CUOTA\"] = nivel_cliente.apply(lambda x: calcular_cuota(x[\"MONTO OFERTA\"],\n",
    "                                                                           x[\"TASA OFERTA\"]/1200,\n",
    "                                                                           x[\"PLAZO_OFERTA\"]), axis=1)\n",
    "\n",
    "nivel_cliente[\"NUEVO RCI\"] = nivel_cliente[\"RCI\"] * 100 + nivel_cliente[\"NUEVA CUOTA\"] / 5000"
   ]
  },
  {
   "cell_type": "code",
   "execution_count": null,
   "metadata": {},
   "outputs": [],
   "source": [
    "nivel_cliente[\"INGRESOS FIN DE AÑO\"] = nivel_cliente.apply(lambda x: ingresos_financieros(x[\"MONTO OFERTA\"],\n",
    "                                                                                          x[\"TASA OFERTA\"]/1200,\n",
    "                                                                                          x[\"PLAZO_OFERTA\"], 12 - mes_simulacion + 1),\n",
    "                                                                                            axis=1)\n",
    "\n",
    "nivel_cliente[\"INGRESOS 12 MESES\"] = nivel_cliente.apply(lambda x: ingresos_financieros(x[\"MONTO OFERTA\"],\n",
    "                                                                                          x[\"TASA OFERTA\"]/1200,\n",
    "                                                                                          x[\"PLAZO_OFERTA\"], 12),\n",
    "                                                                                            axis=1)"
   ]
  },
  {
   "cell_type": "code",
   "execution_count": null,
   "metadata": {},
   "outputs": [],
   "source": [
    "alpha = (0.08 + 0.0025) / ( 1- 0.146)\n",
    "nivel_cliente[\"PASIVOS FIN DE AÑO\"] = nivel_cliente.apply(lambda x: ingresos_financieros(x[\"MONTO OFERTA\"],\n",
    "                                                                                          alpha/12,\n",
    "                                                                                          x[\"PLAZO_OFERTA\"], 12 - mes_simulacion + 1),\n",
    "                                                                                            axis=1)\n",
    "\n",
    "nivel_cliente[\"PASIVOS 12 MESES\"] = nivel_cliente.apply(lambda x: ingresos_financieros(x[\"MONTO OFERTA\"],\n",
    "                                                                                          alpha/12,\n",
    "                                                                                          x[\"PLAZO_OFERTA\"], 12),\n",
    "                                                                                            axis=1)\n"
   ]
  },
  {
   "cell_type": "code",
   "execution_count": null,
   "metadata": {},
   "outputs": [],
   "source": [
    "nivel_cliente[\"RESERVAS\"] = (1 - nivel_cliente[\"CLIENTE_CUMPLE_15\"]) * 0.45 * 0.086 * nivel_cliente[\"MONTO OFERTA\"]"
   ]
  },
  {
   "cell_type": "markdown",
   "metadata": {},
   "source": [
    "## Resumen de impactos"
   ]
  },
  {
   "cell_type": "code",
   "execution_count": null,
   "metadata": {},
   "outputs": [],
   "source": [
    "viables = nivel_cliente[(nivel_cliente[\"NUEVO RCI\"] <= 60)]\n",
    "habilitados = viables[viables[\"CLIENTE_CUMPLE_15\"] == 1]\n",
    "dic = {\"Ingresos fin de año: \": habilitados[\"INGRESOS 12 MESES\"].sum() / 10**6,\n",
    "       \"Margen fin de año: \": (habilitados[\"INGRESOS 12 MESES\"].sum() - habilitados[\"PASIVOS 12 MESES\"].sum()) / 10**6,\n",
    "       \"Clientes viables: \": len(habilitados),\n",
    "       \"Potencial de desembolso: \": habilitados[\"MONTO OFERTA\"].sum() / 10**6,\n",
    "       \"TPP ensayo: \": sum(habilitados[\"MONTO OFERTA\"] * habilitados[\"TASA OFERTA\"]) / sum(habilitados[\"MONTO OFERTA\"])}\n",
    "\n",
    "for nombre, valor in dic.items():\n",
    "    print(nombre, valor)"
   ]
  },
  {
   "cell_type": "code",
   "execution_count": null,
   "metadata": {},
   "outputs": [],
   "source": [
    "### A 12 MESES\n",
    "inhabilitados = viables[viables[\"CLIENTE_CUMPLE_15\"] == 0]\n",
    "dic = {\"Ingresos 12 meses: \": inhabilitados[\"INGRESOS FIN DE AÑO\"].sum() / 10**6,\n",
    "       \"Margen 12 meses: \": (inhabilitados[\"INGRESOS FIN DE AÑO\"].sum() - inhabilitados[\"PASIVOS FIN DE AÑO\"].sum() - inhabilitados[\"RESERVAS\"].sum()) / 10**6,\n",
    "        \"Reservas por reestructura: \": inhabilitados[\"RESERVAS\"].sum() / 10**6, \n",
    "       \"Clientes viables: \": len(inhabilitados),\n",
    "       \"Potencial de desembolso: \": inhabilitados[\"MONTO OFERTA\"].sum() / 10**6,\n",
    "       \"TPP ensayo: \": sum(inhabilitados[\"MONTO OFERTA\"] * inhabilitados[\"TASA OFERTA\"]) / sum(inhabilitados[\"MONTO OFERTA\"])}\n",
    "\n",
    "for nombre, valor in dic.items():\n",
    "    print(nombre, valor)\n",
    "    "
   ]
  },
  {
   "cell_type": "code",
   "execution_count": null,
   "metadata": {},
   "outputs": [],
   "source": [
    "plt.plot(figsize=(10,6))\n",
    "plt.hist(viables[\"NUEVO RCI\"], bins=30, edgecolor=\"black\", color=\"#e2056b\")\n",
    "plt.xlabel(\"Nuevo Rci Interno\")\n",
    "plt.ylabel(\"Frecuencia\")\n",
    "plt.xlim([0,60])\n",
    "plt.title(\"Distribución de RCIs internos luego de la iniciativa\")\n",
    "plt.show()"
   ]
  },
  {
   "cell_type": "code",
   "execution_count": null,
   "metadata": {},
   "outputs": [],
   "source": [
    "sum(viables[\"TASA OFERTA\"] * viables[\"MONTO OFERTA\"]) / sum(viables[\"MONTO OFERTA\"])"
   ]
  },
  {
   "cell_type": "code",
   "execution_count": null,
   "metadata": {},
   "outputs": [],
   "source": [
    "habilitados.to_csv(\"../../db/Salidas/Habilitados_tasas_bajas.csv\")"
   ]
  },
  {
   "cell_type": "code",
   "execution_count": null,
   "metadata": {},
   "outputs": [],
   "source": []
  }
 ],
 "metadata": {
  "kernelspec": {
   "display_name": "Python 3",
   "language": "python",
   "name": "python3"
  },
  "language_info": {
   "codemirror_mode": {
    "name": "ipython",
    "version": 3
   },
   "file_extension": ".py",
   "mimetype": "text/x-python",
   "name": "python",
   "nbconvert_exporter": "python",
   "pygments_lexer": "ipython3",
   "version": "3.12.1"
  }
 },
 "nbformat": 4,
 "nbformat_minor": 2
}
