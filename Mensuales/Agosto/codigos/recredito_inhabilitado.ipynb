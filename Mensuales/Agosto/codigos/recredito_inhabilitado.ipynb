{
 "cells": [
  {
   "cell_type": "markdown",
   "metadata": {},
   "source": [
    "# Cuaderno para simular escenarios de recrédito inhabilitado"
   ]
  },
  {
   "cell_type": "markdown",
   "metadata": {},
   "source": [
    "Este cuaderno tiene las simulaciones de escenarios para recrédito inhabilitado tomando los factores de cálculo para monto bruto dados por un cociente entre la distribución uniforme de tasa de ganancia cancelada sobre nueva."
   ]
  },
  {
   "cell_type": "markdown",
   "metadata": {},
   "source": [
    "## Leer cartera julio y simular"
   ]
  },
  {
   "cell_type": "code",
   "execution_count": 1,
   "metadata": {},
   "outputs": [],
   "source": [
    "import pandas as pd\n",
    "import warnings\n",
    "import math\n",
    "warnings.filterwarnings(\"ignore\")\n",
    "from datetime import datetime\n",
    "from dateutil.relativedelta import relativedelta\n",
    "import sys\n",
    "sys.path.append(r\"C:\\Users\\mariajose_chinchilla\\Documents\\GitHub\\proyectos_varios\\codigos\")\n",
    "\n",
    "from utils import ingresos_financieros, ingreso_fin_entre_fechas, meses_entre_fechas"
   ]
  },
  {
   "cell_type": "code",
   "execution_count": 2,
   "metadata": {},
   "outputs": [],
   "source": [
    "mes_simulacion = 10\n",
    "nombres_mes_simulacion = \"OCTUBRE\"\n",
    "#fac_ago = pd.read_excel(r\"C:\\Users\\mariajose_chinchilla\\Desktop\\Agosto\\Factores recrédito inhabilitado.xlsx\", sheet_name=\"Agosto\")\n",
    "#fac_sep = pd.read_excel(r\"C:\\Users\\mariajose_chinchilla\\Desktop\\Agosto\\Factores recrédito inhabilitado.xlsx\", sheet_name=\"Septiembre\")\n",
    "#fac_ago.fillna(0, inplace=True)\n",
    "#fac_sep.fillna(0, inplace=True)"
   ]
  },
  {
   "cell_type": "code",
   "execution_count": 3,
   "metadata": {},
   "outputs": [],
   "source": [
    "# cartera\n",
    "cartera = pd.read_excel(\"../db/cartera julio v3.xlsx\")\n",
    "cartera = cartera[cartera[\"TIPO_PAGO\"] == \"REMESA\"]\n",
    "cartera = cartera[cartera[\"SALDO\"] > 0]"
   ]
  },
  {
   "cell_type": "code",
   "execution_count": 4,
   "metadata": {},
   "outputs": [],
   "source": [
    "cartera[\"FECHA_APERTURA\"] = pd.to_datetime(cartera[\"FECHA_APERTURA\"])\n",
    "cartera[\"MESES TRANSCURRIDOS\"] = cartera.apply(lambda x: 12 * relativedelta(datetime.today(), x[\"FECHA_APERTURA\"]).years + relativedelta(datetime.today(), x[\"FECHA_APERTURA\"]).months, axis=1)\n",
    "cartera[\"MESES TRANSCURRIDOS\"] = cartera[\"MESES TRANSCURRIDOS\"].astype(\"int64\")"
   ]
  },
  {
   "cell_type": "code",
   "execution_count": 5,
   "metadata": {},
   "outputs": [],
   "source": [
    "def porcentaje_comision_desembolso(x):\n",
    "    if x < 125000:\n",
    "        porcentaje = 0.05\n",
    "    elif x >= 125000:\n",
    "        porcentaje = 0.02\n",
    "    return porcentaje\n",
    "\n",
    "cartera[\"PORCENTAJE COMISION DESEMBOLSO\"] = cartera.apply(lambda x: porcentaje_comision_desembolso(x[\"DESEMBOLSO_NETO\"]), axis=1)\n",
    "cartera[\"COMISION PENDIENTE\"] = cartera.apply(lambda x: ingreso_fin_entre_fechas(x[\"DESEMBOLSO_NETO\"], x[\"PORCENTAJE COMISION DESEMBOLSO\"]/12, x[\"PLAZO\"], x[\"MESES TRANSCURRIDOS\"],  x[\"MESES TRANSCURRIDOS\"] + 12 - mes_simulacion), axis=1)"
   ]
  },
  {
   "cell_type": "code",
   "execution_count": 6,
   "metadata": {},
   "outputs": [],
   "source": [
    "def paga_reservas(x):\n",
    "    if x < 0.15:\n",
    "        return 1\n",
    "    elif x >= 0.15:\n",
    "        return 0\n",
    "    \n",
    "def tpp(factor_tasa, montos):\n",
    "    return sum(factor_tasa) / sum(montos)\n",
    "    \n",
    "cartera[\"PORCENTAJE SALDO\"] = 1- cartera[\"SALDO\"] / cartera[\"MONTO DESEMBOLSADO\"]\n",
    "cartera[\"FACTOR TASA\"] = cartera[\"TASA\"] * cartera[\"MONTO DESEMBOLSADO\"]\n",
    "cartera_agrupado = cartera.groupby(by=\"CODIGO_CLIENTE\").agg(PORCENTAJE_MINIMO=(\"PORCENTAJE SALDO\", \"min\"),\n",
    "                                                            DEUDA_INTERNA=(\"SALDO\", \"sum\"),\n",
    "                                                            CREDITOS_A_CANCELAR=(\"NO_CREDITO\", list)).reset_index()\n",
    "cartera_agrupado.columns = [\"CODIGO_CLIENTE\", \"PORCENTAJE MINIMO\", \"DEUDA_INTERNA\", \"CREDITOS A CANCELAR\"]\n",
    "cartera_agrupado[\"PAGA RESERVAS\"] = cartera_agrupado.apply(lambda x: paga_reservas(x[\"PORCENTAJE MINIMO\"]), axis=1)\n",
    "cartera = pd.merge(cartera, cartera_agrupado, how=\"left\", on=\"CODIGO_CLIENTE\")\n",
    "\n",
    "cartera_temp = cartera.groupby(by=\"CODIGO_CLIENTE\").apply(lambda x: tpp(x[\"FACTOR TASA\"], x[\"MONTO DESEMBOLSADO\"])).reset_index()\n",
    "cartera_temp.columns = [\"CODIGO_CLIENTE\", \"TPP CLIENTE\"]\n",
    "cartera = pd.merge(cartera, cartera_temp, how=\"left\", on=\"CODIGO_CLIENTE\")"
   ]
  },
  {
   "cell_type": "code",
   "execution_count": 7,
   "metadata": {},
   "outputs": [],
   "source": [
    "cartera[\"INGRESOS A CANCELAR\"] = cartera.apply(lambda x: ingreso_fin_entre_fechas(x[\"MONTO DESEMBOLSADO\"], x[\"TASA\"]/1200, x[\"PLAZO\"], x[\"MESES TRANSCURRIDOS\"], x[\"MESES TRANSCURRIDOS\"] + 12 - mes_simulacion), axis=1)\n",
    "alpha = (0.0747+0.0025) / (1 - 0.146)\n",
    "cartera[\"PASIVOS A CANCELAR\"] = cartera.apply(lambda x: ingreso_fin_entre_fechas(x[\"MONTO DESEMBOLSADO\"], alpha/12, x[\"PLAZO\"], x[\"MESES TRANSCURRIDOS\"] + 12 - mes_simulacion, x[\"MESES TRANSCURRIDOS\"]), axis=1)\n",
    "cartera_temp = cartera.groupby(by=\"CODIGO_CLIENTE\").agg(PASIVOS_TOTALES_A_CANCELAR_CLIENTE=(\"PASIVOS A CANCELAR\", \"sum\"),\n",
    "                                                        INGRESOS_TOTALES_A_CANCELAR=(\"INGRESOS A CANCELAR\", \"sum\"),\n",
    "                                                        COMISIONES_A_TRAERSE=(\"COMISION PENDIENTE\", \"sum\")).reset_index()\n",
    "cartera_temp.columns = [\"CODIGO_CLIENTE\", \"PASIVOS TOTALES A CANCELAR CLIENTE\", \"INGRESOS TOTALES A CANCELAR\", \"COMISIONES A TRAERSE\"]\n",
    "cartera = pd.merge(cartera, cartera_temp, how=\"left\", on=\"CODIGO_CLIENTE\")"
   ]
  },
  {
   "cell_type": "code",
   "execution_count": null,
   "metadata": {},
   "outputs": [],
   "source": [
    "# # calcular el monto que se le ofertaria\n",
    "# def calcular_monto_oferta(tasa_actual, df_factores):\n",
    "#     cercana = math.floor(tasa_actual)\n",
    "#     try:\n",
    "#         if cercana < 18:\n",
    "#             return 0\n",
    "#         if cercana >= 18 and cercana <= 24:\n",
    "#             return df_factores.loc[df_factores[\"Tasa\"] == cercana, cercana].values[0]\n",
    "#         if cercana > 24:\n",
    "#             return df_factores.loc[df_factores[\"Tasa\"] == 24, 24].values[0]\n",
    "#     except Exception as e:\n",
    "#         print(e)\n",
    "#         print(cercana)\n",
    "\n",
    "\n",
    "# cartera[\"FACTOR BRUTO OFERTA\"] = cartera.apply(lambda x: calcular_monto_oferta(x[\"TPP CLIENTE\"], fac_ago), axis=1)\n",
    "# cartera[\"MONTO BRUTO OFERTA\"] = cartera[\"FACTOR BRUTO OFERTA\"] * cartera[\"SALDO\"]\n",
    "# cartera[\"MONTO BRUTO OFERTA\"] = cartera.apply(lambda x: min(x[\"MONTO BRUTO OFERTA\"], 300000), axis=1)\n",
    "# cartera[\"RESERVAS POR REESTRUCTURA\"] = cartera[\"PAGA RESERVAS\"] * 0.05 * 0.45 * cartera[\"MONTO BRUTO OFERTA\"]"
   ]
  },
  {
   "cell_type": "code",
   "execution_count": 12,
   "metadata": {},
   "outputs": [
    {
     "data": {
      "text/plain": [
       "37477     108000.00\n",
       "138677    124627.77\n",
       "178097     13900.00\n",
       "195412    207200.00\n",
       "Name: DESEMBOLSO_NETO, dtype: float64"
      ]
     },
     "execution_count": 12,
     "metadata": {},
     "output_type": "execute_result"
    }
   ],
   "source": [
    "cartera[cartera[\"CODIGO_CLIENTE\"] == 101056391][\"DESEMBOLSO_NETO\"]"
   ]
  },
  {
   "cell_type": "code",
   "execution_count": null,
   "metadata": {},
   "outputs": [],
   "source": [
    "resultados = cartera.copy()\n",
    "resultados = resultados.drop_duplicates(subset=\"CODIGO_CLIENTE\")\n",
    "resultados[f\"INGRESOS FINANCIERSO A {nombres_mes_simulacion}\"] = resultados.apply(lambda x: ingresos_financieros(x[\"MONTO BRUTO OFERTA\"], x[\"TPP CLIENTE\"]/1200, x[\"PLAZO\"], 12 - mes_simulacion), axis=1)"
   ]
  },
  {
   "cell_type": "code",
   "execution_count": null,
   "metadata": {},
   "outputs": [],
   "source": [
    "resultados[\"NUEVOS PASIVOS EN EL AÑO\"] = resultados.apply(lambda x: ingresos_financieros(x[\"MONTO BRUTO OFERTA\"], alpha/12, x[\"PLAZO\"], 12 - mes_simulacion), axis=1)\n",
    "resultados[\"PASIVOS NUEVOS TOTALES\"] = resultados.apply(lambda x: ingresos_financieros(x[\"MONTO BRUTO OFERTA\"], alpha/12, x[\"PLAZO\"], x[\"PLAZO\"]), axis=1)"
   ]
  },
  {
   "cell_type": "code",
   "execution_count": null,
   "metadata": {},
   "outputs": [],
   "source": [
    "resultados = resultados[(resultados[\"PAGA RESERVAS\"] == 1) & (resultados[\"MONTO BRUTO OFERTA\"] < 300000)\n",
    "                    & (resultados[\"MONTO BRUTO OFERTA\"] > 0)]"
   ]
  },
  {
   "cell_type": "code",
   "execution_count": null,
   "metadata": {},
   "outputs": [],
   "source": [
    "ingresos_en_el_año = resultados[f\"INGRESOS FINANCIERSO A {nombres_mes_simulacion}\"].sum()\n",
    "ingresos_cancelados = resultados[\"INGRESOS TOTALES A CANCELAR\"].sum()\n",
    "pasivos_nuevos = resultados[\"NUEVOS PASIVOS EN EL AÑO\"].sum()\n",
    "pasivos_a_cancelar = resultados[\"PASIVOS A CANCELAR\"].sum()\n",
    "reservas_reestructura = resultados[\"RESERVAS POR REESTRUCTURA\"].sum()\n",
    "comisiones_a_traerse = resultados[\"COMISIONES A TRAERSE\"].sum()"
   ]
  },
  {
   "cell_type": "code",
   "execution_count": null,
   "metadata": {},
   "outputs": [],
   "source": [
    "resultados[\"MARGEN CANCELADO\"] = resultados[\"INGRESOS TOTALES A CANCELAR\"] - resultados[\"PASIVOS A CANCELAR\"]\n",
    "resultados[\"MARGEN NUEVO\"] = resultados[f\"INGRESOS FINANCIERSO A {nombres_mes_simulacion}\"] - resultados[\"RESERVAS POR REESTRUCTURA\"] - resultados[\"NUEVOS PASIVOS EN EL AÑO\"]\n",
    "resultados[\"DIFERENCIA MARGEN\"] = resultados[\"MARGEN NUEVO\"] - resultados[\"MARGEN CANCELADO\"] "
   ]
  },
  {
   "cell_type": "code",
   "execution_count": null,
   "metadata": {},
   "outputs": [],
   "source": [
    "a = resultados[(resultados[\"DIFERENCIA MARGEN\"] > 0) & (resultados[\"RCI_INTERNO\"].isna() | resultados[\"RCI_INTERNO\"] < 50)]"
   ]
  },
  {
   "cell_type": "code",
   "execution_count": null,
   "metadata": {},
   "outputs": [],
   "source": [
    "vars = [f\"INGRESOS FINANCIERSO A {nombres_mes_simulacion}\",\n",
    "\"INGRESOS TOTALES A CANCELAR\",\n",
    "\"NUEVOS PASIVOS EN EL AÑO\",\n",
    "\"MONTO BRUTO OFERTA\",\n",
    "\"PASIVOS A CANCELAR\",\n",
    "\"RESERVAS POR REESTRUCTURA\",\n",
    "\"COMISIONES A TRAERSE\",\n",
    "\"MARGEN CANCELADO\",\n",
    "\"MARGEN NUEVO\",\n",
    "\"DIFERENCIA MARGEN\"]\n",
    "for var in vars:\n",
    "    print(f\"{var} es {int(a[var].sum() / 10**6)}\")"
   ]
  },
  {
   "cell_type": "code",
   "execution_count": null,
   "metadata": {},
   "outputs": [],
   "source": [
    "final = a[[\"CODIGO_CLIENTE\", \"DPI\", \"RCI_INTERNO\", \"SCORE\", \"SCORE_RIESGO\",\n",
    "       \"DEUDA_INTERNA\",\n",
    "       \"TPP CLIENTE\", \"INGRESOS TOTALES A CANCELAR\", \n",
    "       \"PASIVOS TOTALES A CANCELAR CLIENTE\", \"COMISIONES A TRAERSE\",\n",
    "       \"FACTOR BRUTO OFERTA\", \"MONTO BRUTO OFERTA\",\n",
    "       \"RESERVAS POR REESTRUCTURA\", \"INGRESOS FINANCIERSO A AGOSTO\",\n",
    "       \"NUEVOS PASIVOS EN EL AÑO\", \"MARGEN CANCELADO\", \"MARGEN NUEVO\",\n",
    "       \"DIFERENCIA MARGEN\", \"PLAZO\", \"CREDITOS A CANCELAR\"]]\n",
    "\n",
    "final.rename(columns={\"INGRESOS TOTALES A CANCELAR\": \"INGRESOS DEL AÑO A CANCELAR POR RECREDITO\",\n",
    "                  \"PASIVOS TOTALES A CANCELAR CLIENTE\": \"PASIVOS QUE YA NO SE PAGARIAN EN EL AÑO\", \n",
    "                  \"FACTOR BRUTO OFERTA\": \"FACTOR INICIATIVA\", \"MONTO BRUTO OFERTA\": \"MONTO BRUTO A OFERTAR\",\n",
    "                  \"RESERVAS POR REESTRUCTURA\": \"PE(AD) RESERVAS DE A HACIA B\",\n",
    "                  \"INGRESOS FINANCIERSO A AGOSTO\": \"INGRESOS NUEVOS EN EL AÑO POR RECREDITO\",\n",
    "                  \"NUEVOS PASIVOS EN EL AÑO\": \"PASIVOS DEL RECREDITO EN EL AÑO\"}, inplace=True)"
   ]
  },
  {
   "cell_type": "code",
   "execution_count": null,
   "metadata": {},
   "outputs": [],
   "source": [
    "# compra_saldo = pd.read_excel(\"../db/compraSaldo.xlsx\")\n",
    "# liquidez = pd.read_excel(\"../db/liquidez.xlsx\")\n",
    "# todos = pd.concat([compra_saldo, liquidez])"
   ]
  },
  {
   "cell_type": "code",
   "execution_count": null,
   "metadata": {},
   "outputs": [],
   "source": [
    "# final = pd.merge(a, todos, how=\"inner\", left_on=\"DPI\", right_on=\"DxDpi\")"
   ]
  },
  {
   "cell_type": "code",
   "execution_count": null,
   "metadata": {},
   "outputs": [],
   "source": [
    "# final = final[final[\"MONTO BRUTO OFERTA\"] <= final[\"DfMontoMaximoOfertado\"]]"
   ]
  },
  {
   "cell_type": "code",
   "execution_count": null,
   "metadata": {},
   "outputs": [],
   "source": [
    "# final = final[[\"CODIGO_CLIENTE\", \"DPI\", \"DEUDA_INTERNA\", \"TPP CLIENTE\", \n",
    "#                \"SCORE\", \"PLAZO\", \"MONTO BRUTO OFERTA\"]]\n",
    "\n",
    "# final.to_excel(\"../db/Ofertas_recredito_inhabiltitado.xlsx\")"
   ]
  },
  {
   "cell_type": "code",
   "execution_count": null,
   "metadata": {},
   "outputs": [],
   "source": [
    "# b = a[[\"CODIGO_CLIENTE\", \"DPI\", \"RCI_INTERNO\", \"SCORE\", \"SCORE_RIESGO\",\n",
    "#        \"DEUDA_INTERNA\",\n",
    "#        \"TPP CLIENTE\", \"INGRESOS TOTALES A CANCELAR\", \n",
    "#        \"PASIVOS TOTALES A CANCELAR CLIENTE\", \"COMISIONES A TRAERSE\",\n",
    "#        \"FACTOR BRUTO OFERTA\", \"MONTO BRUTO OFERTA\",\n",
    "#        \"RESERVAS POR REESTRUCTURA\", \"INGRESOS FINANCIERSO A AGOSTO\",\n",
    "#        \"NUEVOS PASIVOS EN EL AÑO\", \"MARGEN CANCELADO\", \"MARGEN NUEVO\",\n",
    "#        \"DIFERENCIA MARGEN\", \"PLAZO\"]]"
   ]
  },
  {
   "cell_type": "code",
   "execution_count": null,
   "metadata": {},
   "outputs": [],
   "source": [
    "# b.rename(columns={\"INGRESOS TOTALES A CANCELAR\": \"INGRESOS DEL AÑO A CANCELAR POR RECREDITO\",\n",
    "#                   \"PASIVOS TOTALES A CANCELAR CLIENTE\": \"PASIVOS QUE YA NO SE PAGARIAN EN EL AÑO\", \n",
    "#                   \"FACTOR BRUTO OFERTA\": \"FACTOR INICIATIVA\", \"MONTO BRUTO OFERTA\": \"MONTO BRUTO A OFERTAR\",\n",
    "#                   \"RESERVAS POR REESTRUCTURA\": \"PE(AD) RESERVAS DE A HACIA B\",\n",
    "#                   \"INGRESOS FINANCIERSO A AGOSTO\": \"INGRESOS NUEVOS EN EL AÑO POR RECREDITO\",\n",
    "#                   \"NUEVOS PASIVOS EN EL AÑO\": \"PASIVOS DEL RECREDITO EN EL AÑO\"}, inplace=True)"
   ]
  },
  {
   "cell_type": "code",
   "execution_count": null,
   "metadata": {},
   "outputs": [],
   "source": [
    "# b.to_excel(\"../db/Clientes iniciativa habilitación recrédito.xlsx\")"
   ]
  },
  {
   "cell_type": "code",
   "execution_count": null,
   "metadata": {},
   "outputs": [],
   "source": [
    "cartera[\"FACTOR TASA\"].sum() / cartera[\"MONTO DESEMBOLSADO\"].sum()"
   ]
  },
  {
   "cell_type": "code",
   "execution_count": null,
   "metadata": {},
   "outputs": [],
   "source": []
  }
 ],
 "metadata": {
  "kernelspec": {
   "display_name": "Python 3",
   "language": "python",
   "name": "python3"
  },
  "language_info": {
   "codemirror_mode": {
    "name": "ipython",
    "version": 3
   },
   "file_extension": ".py",
   "mimetype": "text/x-python",
   "name": "python",
   "nbconvert_exporter": "python",
   "pygments_lexer": "ipython3",
   "version": "3.12.1"
  }
 },
 "nbformat": 4,
 "nbformat_minor": 2
}
