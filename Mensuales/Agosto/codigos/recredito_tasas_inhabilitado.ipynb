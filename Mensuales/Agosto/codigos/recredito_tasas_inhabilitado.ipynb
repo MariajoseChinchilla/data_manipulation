{
 "cells": [
  {
   "cell_type": "markdown",
   "metadata": {},
   "source": [
    "# Ensayo de recrédito inhabilitado con incógnita de tasa"
   ]
  },
  {
   "cell_type": "markdown",
   "metadata": {},
   "source": [
    "Este cuaderno tiene la simulación del escenario de habilitación de recrédito a clientes que aún no cumplen el 15% de pago a capital. La incógnita, a diferencia de la simulación anterior, es la tasa y no el monto."
   ]
  },
  {
   "cell_type": "code",
   "execution_count": 1,
   "metadata": {},
   "outputs": [],
   "source": [
    "import pandas as pd\n",
    "import sys\n",
    "from datetime import datetime\n",
    "from dateutil.relativedelta import relativedelta\n",
    "sys.path.append(r\"C:\\Users\\mariajose_chinchilla\\Documents\\GitHub\\proyectos_varios\\codigos\")\n",
    "from utils import ingresos_financieros, ingreso_fin_entre_fechas, meses_entre_fechas"
   ]
  },
  {
   "cell_type": "code",
   "execution_count": 2,
   "metadata": {},
   "outputs": [
    {
     "name": "stderr",
     "output_type": "stream",
     "text": [
      "C:\\Users\\mariajose_chinchilla\\AppData\\Local\\Temp\\ipykernel_59244\\2943994546.py:1: DtypeWarning: Columns (2) have mixed types. Specify dtype option on import or set low_memory=False.\n",
      "  cartera = pd.read_csv(r\"C:\\Users\\mariajose_chinchilla\\Desktop\\Octubre\\db\\Cartera_octubre.csv\", sep=\";\")\n"
     ]
    }
   ],
   "source": [
    "cartera = pd.read_csv(r\"C:\\Users\\mariajose_chinchilla\\Desktop\\Octubre\\db\\Cartera_octubre.csv\", sep=\";\")\n",
    "#cartera = cartera[cartera[\"SALDO\"] > 0]"
   ]
  },
  {
   "cell_type": "code",
   "execution_count": 3,
   "metadata": {},
   "outputs": [
    {
     "data": {
      "text/plain": [
       "Index(['FEC_SALDO', 'CODIGO_CLIENTE', 'DPI', 'NO_CREDITO', 'FECHA_APERTURA',\n",
       "       'FECHA_CANCELACION', 'FECHA_VENCIMIENTO', 'COD_PATRONO', 'PATRONO',\n",
       "       'COD_SEGMENTO', 'RCI', 'SEGMENTO', 'PLAZO', 'SALDO',\n",
       "       'MONTO_DESEMBOLSADO', 'DESEMBOLSO_NETO', 'TASA', 'FACTOR_TASA',\n",
       "       'ESTADO_CREDITO', 'TIPO_PAGO', 'CANTIDAD_DIAS_ATRASO',\n",
       "       'CATEGORIA_INTERNA', 'CREDITO_CUMPLE_15', 'DEUDA_INTERNA'],\n",
       "      dtype='object')"
      ]
     },
     "execution_count": 3,
     "metadata": {},
     "output_type": "execute_result"
    }
   ],
   "source": [
    "cartera.columns"
   ]
  },
  {
   "cell_type": "code",
   "execution_count": 4,
   "metadata": {},
   "outputs": [],
   "source": [
    "cartera.rename(columns={\"MONTO_DESEMBOLSADO\": \"MONTO_DESEMBOLSADO\",\n",
    "                        \"DESEMBOLSO_NETO\": \"DESEMBOLSO_NETO\"}, inplace=True)"
   ]
  },
  {
   "cell_type": "code",
   "execution_count": 5,
   "metadata": {},
   "outputs": [],
   "source": [
    "no_mes_simulacion = 12\n",
    "nombre_mes = \"DICIEMBRE\""
   ]
  },
  {
   "cell_type": "code",
   "execution_count": 25,
   "metadata": {},
   "outputs": [],
   "source": [
    "# tratamiento de datos\n",
    "cartera[\"FECHA_APERTURA\"] = pd.to_datetime(cartera[\"FECHA_APERTURA\"])\n",
    "#cartera[\"MESES TRANSCURRIDOS\"] = cartera.apply(lambda x: 12 * relativedelta(datetime.today(), x[\"FECHA_APERTURA\"]).years + relativedelta(datetime.today(), x[\"FECHA_APERTURA\"]).months, axis=1)\n",
    "cartera[\"MESES TRANSCURRIDOS\"] = cartera.apply(lambda x: 12 * relativedelta(datetime(2024, 12, 31), x[\"FECHA_APERTURA\"]).months, axis=1)\n",
    "cartera[\"MESES TRANSCURRIDOS\"] = cartera[\"MESES TRANSCURRIDOS\"].astype(\"int64\")"
   ]
  },
  {
   "cell_type": "code",
   "execution_count": 7,
   "metadata": {},
   "outputs": [],
   "source": [
    "def porcentaje_comision_desembolso(x):\n",
    "    porcentaje = 0\n",
    "    if x < 125000:\n",
    "        porcentaje = 0.05\n",
    "    elif x >= 125000:\n",
    "        porcentaje = 0.02\n",
    "    return porcentaje\n",
    "\n",
    "cartera[\"PORCENTAJE COMISION DESEMBOLSO\"] = cartera.apply(lambda x: porcentaje_comision_desembolso(x[\"DESEMBOLSO_NETO\"]), axis=1)\n",
    "cartera[\"COMISION PENDIENTE\"] = (cartera[\"PORCENTAJE COMISION DESEMBOLSO\"] * cartera[\"DESEMBOLSO_NETO\"]) / cartera[\"PLAZO\"] * (cartera[\"PLAZO\"] - cartera[\"MESES TRANSCURRIDOS\"])"
   ]
  },
  {
   "cell_type": "code",
   "execution_count": 8,
   "metadata": {},
   "outputs": [],
   "source": [
    "def paga_reservas(x):\n",
    "    if x < 0.15:\n",
    "        return 1\n",
    "    elif x >= 0.15:\n",
    "        return 0\n",
    "    \n",
    "def tpp(factor_tasa, montos):\n",
    "    return sum(factor_tasa) / sum(montos)\n",
    "    \n",
    "cartera[\"PORCENTAJE SALDO\"] = 1- cartera[\"SALDO\"] / cartera[\"MONTO_DESEMBOLSADO\"]\n",
    "cartera[\"FACTOR TASA\"] = cartera[\"TASA\"] * cartera[\"MONTO_DESEMBOLSADO\"]\n",
    "cartera_agrupado = cartera.groupby(by=\"CODIGO_CLIENTE\").agg(PORCENTAJE_MINIMO=(\"PORCENTAJE SALDO\", \"min\"),\n",
    "                                                            CREDITOS_A_CANCELAR=(\"NO_CREDITO\", list)).reset_index()\n",
    "cartera_agrupado.columns = [\"CODIGO_CLIENTE\", \"PORCENTAJE MINIMO\", \"CREDITOS A CANCELAR\"]\n",
    "cartera_agrupado[\"PAGA RESERVAS\"] = cartera_agrupado.apply(lambda x: paga_reservas(x[\"PORCENTAJE MINIMO\"]), axis=1)\n",
    "cartera = pd.merge(cartera, cartera_agrupado, how=\"left\", on=\"CODIGO_CLIENTE\")\n",
    "\n",
    "cartera_temp = cartera.groupby(by=\"CODIGO_CLIENTE\").apply(lambda x: tpp(x[\"FACTOR TASA\"], x[\"MONTO_DESEMBOLSADO\"])).reset_index()\n",
    "cartera_temp.columns = [\"CODIGO_CLIENTE\", \"TPP CLIENTE\"]\n",
    "cartera = pd.merge(cartera, cartera_temp, how=\"left\", on=\"CODIGO_CLIENTE\")"
   ]
  },
  {
   "cell_type": "code",
   "execution_count": 9,
   "metadata": {},
   "outputs": [],
   "source": [
    "cartera[\"INGRESOS A CANCELAR\"] = cartera.apply(lambda x: ingreso_fin_entre_fechas(x[\"MONTO_DESEMBOLSADO\"], x[\"TASA\"]/1200, x[\"PLAZO\"], x[\"MESES TRANSCURRIDOS\"], x[\"MESES TRANSCURRIDOS\"] + 12 +1 - no_mes_simulacion ), axis=1)\n",
    "alpha = (0.08+0.0025) / (1 - 0.146)\n",
    "cartera[\"PASIVOS A CANCELAR\"] = cartera.apply(lambda x: ingreso_fin_entre_fechas(x[\"MONTO_DESEMBOLSADO\"], alpha/12, x[\"PLAZO\"], x[\"MESES TRANSCURRIDOS\"] + 12 + 1 - no_mes_simulacion, x[\"MESES TRANSCURRIDOS\"]), axis=1)\n",
    "cartera_temp = cartera.groupby(by=\"CODIGO_CLIENTE\").agg(PASIVOS_TOTALES_A_CANCELAR_CLIENTE=(\"PASIVOS A CANCELAR\", \"sum\"),\n",
    "                                                        INGRESOS_TOTALES_A_CANCELAR=(\"INGRESOS A CANCELAR\", \"sum\"),\n",
    "                                                        COMISIONES_A_TRAERSE=(\"COMISION PENDIENTE\", \"sum\"),\n",
    "                                                        ).reset_index()\n",
    "cartera_temp.columns = [\"CODIGO_CLIENTE\", \"PASIVOS TOTALES A CANCELAR CLIENTE\", \"INGRESOS TOTALES A CANCELAR\", \"COMISIONES A TRAERSE\"]\n",
    "cartera = pd.merge(cartera, cartera_temp, how=\"left\", on=\"CODIGO_CLIENTE\")"
   ]
  },
  {
   "cell_type": "code",
   "execution_count": 10,
   "metadata": {},
   "outputs": [],
   "source": [
    "def calcular_tasa_oferta(margen_cancelado, monto_bruto, pasiva, mes):\n",
    "    #tasa = 1.05 * margen_cancelado / monto_bruto + pasiva + (0.05)*(0.45)*(12 / (12 - mes))\n",
    "    tasa = margen_cancelado / monto_bruto + pasiva + (0.05)*(0.45) / monto_bruto + 0.105\n",
    "    if tasa > 0.25 or tasa < 0.14:\n",
    "        return tasa\n",
    "    elif tasa <= 0.25 and tasa >= 0.14:\n",
    "        return tasa\n",
    "\n",
    "cartera[\"MARGEN A CANCELAR\"] = cartera[\"INGRESOS A CANCELAR\"] - cartera[\"PASIVOS A CANCELAR\"]\n",
    "cartera[\"MONTO BRUTO OFERTA\"] = cartera[\"DEUDA_INTERNA\"] + cartera[\"DESEMBOLSO_NETO\"].mean()\n",
    "\n",
    "cartera[\"TASA OFERTA\"] = cartera.apply(lambda x: calcular_tasa_oferta(x[\"MARGEN A CANCELAR\"], x[\"MONTO BRUTO OFERTA\"],\n",
    "                                                                      alpha, no_mes_simulacion), axis=1)\n",
    "cartera[\"PLAZO OFERTA\"] = cartera[\"PLAZO\"]"
   ]
  },
  {
   "cell_type": "markdown",
   "metadata": {},
   "source": [
    "## Ver impacto de la iniciativa"
   ]
  },
  {
   "cell_type": "code",
   "execution_count": 11,
   "metadata": {},
   "outputs": [],
   "source": [
    "resultados = cartera[cartera[\"PAGA RESERVAS\"] == 1]\n",
    "# resultados = resultados[resultados[\"TASA OFERTA\"] != -1]\n",
    "resultados = resultados.drop_duplicates(subset=\"CODIGO_CLIENTE\")\n",
    "resultados[f\"INGRESOS FINANCIERSO A {nombre_mes}\"] = resultados.apply(lambda x: ingresos_financieros(x[\"MONTO BRUTO OFERTA\"], x[\"TASA OFERTA\"]/12, x[\"PLAZO OFERTA\"], 12 - no_mes_simulacion + 1), axis=1)\n",
    "\n",
    "resultados[\"NUEVOS PASIVOS EN EL AÑO\"] = resultados.apply(lambda x: ingresos_financieros(x[\"MONTO BRUTO OFERTA\"], alpha/12, x[\"PLAZO OFERTA\"], 12 - no_mes_simulacion + 1), axis=1)\n",
    "resultados[\"PASIVOS NUEVOS TOTALES\"] = resultados.apply(lambda x: ingresos_financieros(x[\"MONTO BRUTO OFERTA\"], alpha/12, x[\"PLAZO OFERTA\"], x[\"PLAZO OFERTA\"]), axis=1)\n",
    "\n",
    "#resultados = resultados[(resultados[\"PAGA RESERVAS\"] == 1) & (resultados[\"MONTO BRUTO OFERTA\"] < 300000)\n",
    "                    #& (resultados[\"MONTO BRUTO OFERTA\"] > 0)]\n",
    "\n",
    "resultados[\"RESERVAS POR REESTRUCTURA\"] = 0.05 * 0.45 * resultados[\"PAGA RESERVAS\"] * resultados[\"MONTO BRUTO OFERTA\"]\n",
    "resultados[\"MARGEN NUEVO\"] = resultados[f\"INGRESOS FINANCIERSO A {nombre_mes}\"] - resultados[\"RESERVAS POR REESTRUCTURA\"] - resultados[\"NUEVOS PASIVOS EN EL AÑO\"]\n",
    "resultados[\"DIFERENCIA MARGEN\"] = resultados[\"MARGEN NUEVO\"] - resultados[\"MARGEN A CANCELAR\"]\n",
    "resultados[\"FACTOR TASA OFERTA\"] = resultados[\"TASA OFERTA\"] * resultados[\"MONTO BRUTO OFERTA\"]"
   ]
  },
  {
   "cell_type": "code",
   "execution_count": 12,
   "metadata": {},
   "outputs": [
    {
     "data": {
      "image/png": "[encoded data removed]",
      "text/plain": [
       "<Figure size 1000x600 with 1 Axes>"
      ]
     },
     "metadata": {},
     "output_type": "display_data"
    }
   ],
   "source": [
    "import matplotlib.pyplot as plt\n",
    "grafica = cartera[\"PAGA RESERVAS\"].value_counts()\n",
    "colors = [\"#e2056b\", \"#04b4b3\"]\n",
    "plt.figure(figsize=(10,6))\n",
    "plt.pie(grafica, labels=grafica.index, autopct='%1.1f%%', startangle=90, colors=colors)\n",
    "plt.title('¿Cliente paga reservas?')\n",
    "plt.show()"
   ]
  },
  {
   "cell_type": "code",
   "execution_count": 13,
   "metadata": {},
   "outputs": [
    {
     "name": "stdout",
     "output_type": "stream",
     "text": [
      "INGRESOS FINANCIERSO A DICIEMBRE es 300 M\n",
      "MONTO BRUTO OFERTA es 17423 M\n",
      "INGRESOS TOTALES A CANCELAR es 257 M\n",
      "NUEVOS PASIVOS EN EL AÑO es 140 M\n",
      "PASIVOS A CANCELAR es 105 M\n",
      "RESERVAS POR REESTRUCTURA es 392 M\n",
      "COMISIONES A TRAERSE es 16 M\n",
      "MARGEN A CANCELAR es 96 M\n",
      "MARGEN NUEVO es -231 M\n",
      "DIFERENCIA MARGEN es -328 M\n"
     ]
    }
   ],
   "source": [
    "a = resultados[(resultados[\"RCI\"].isna() | resultados[\"RCI\"] <= 60) & (resultados[\"MONTO BRUTO OFERTA\"] <= 300000)]\n",
    "# a = resultados[(resultados[\"DIFERENCIA MARGEN\"] < 0)]\n",
    "# a = resultados.copy()\n",
    "vars = [f\"INGRESOS FINANCIERSO A {nombre_mes}\",\n",
    "\"MONTO BRUTO OFERTA\",\n",
    "\"INGRESOS TOTALES A CANCELAR\",\n",
    "\"NUEVOS PASIVOS EN EL AÑO\",\n",
    "\"PASIVOS A CANCELAR\",\n",
    "\"RESERVAS POR REESTRUCTURA\",\n",
    "\"COMISIONES A TRAERSE\",\n",
    "\"MARGEN A CANCELAR\",\n",
    "\"MARGEN NUEVO\",\n",
    "\"DIFERENCIA MARGEN\"]\n",
    "for var in vars:\n",
    "    print(f\"{var} es {int(a[var].sum() / 10**6)} M\")"
   ]
  },
  {
   "cell_type": "code",
   "execution_count": 14,
   "metadata": {},
   "outputs": [
    {
     "data": {
      "text/html": [
       "<div>\n",
       "<style scoped>\n",
       "    .dataframe tbody tr th:only-of-type {\n",
       "        vertical-align: middle;\n",
       "    }\n",
       "\n",
       "    .dataframe tbody tr th {\n",
       "        vertical-align: top;\n",
       "    }\n",
       "\n",
       "    .dataframe thead th {\n",
       "        text-align: right;\n",
       "    }\n",
       "</style>\n",
       "<table border=\"1\" class=\"dataframe\">\n",
       "  <thead>\n",
       "    <tr style=\"text-align: right;\">\n",
       "      <th></th>\n",
       "      <th>DEUDA_INTERNA</th>\n",
       "      <th>MONTO BRUTO OFERTA</th>\n",
       "    </tr>\n",
       "  </thead>\n",
       "  <tbody>\n",
       "    <tr>\n",
       "      <th>0</th>\n",
       "      <td>496897.77</td>\n",
       "      <td>499333.789757</td>\n",
       "    </tr>\n",
       "    <tr>\n",
       "      <th>2</th>\n",
       "      <td>175000.00</td>\n",
       "      <td>177436.019757</td>\n",
       "    </tr>\n",
       "    <tr>\n",
       "      <th>3</th>\n",
       "      <td>135167.83</td>\n",
       "      <td>137603.849757</td>\n",
       "    </tr>\n",
       "    <tr>\n",
       "      <th>4</th>\n",
       "      <td>82430.98</td>\n",
       "      <td>84866.999757</td>\n",
       "    </tr>\n",
       "    <tr>\n",
       "      <th>6</th>\n",
       "      <td>105000.00</td>\n",
       "      <td>107436.019757</td>\n",
       "    </tr>\n",
       "    <tr>\n",
       "      <th>...</th>\n",
       "      <td>...</td>\n",
       "      <td>...</td>\n",
       "    </tr>\n",
       "    <tr>\n",
       "      <th>203498</th>\n",
       "      <td>91341.40</td>\n",
       "      <td>93777.419757</td>\n",
       "    </tr>\n",
       "    <tr>\n",
       "      <th>203500</th>\n",
       "      <td>179565.29</td>\n",
       "      <td>182001.309757</td>\n",
       "    </tr>\n",
       "    <tr>\n",
       "      <th>203502</th>\n",
       "      <td>6323.30</td>\n",
       "      <td>8759.319757</td>\n",
       "    </tr>\n",
       "    <tr>\n",
       "      <th>203503</th>\n",
       "      <td>209509.81</td>\n",
       "      <td>211945.829757</td>\n",
       "    </tr>\n",
       "    <tr>\n",
       "      <th>203504</th>\n",
       "      <td>192405.03</td>\n",
       "      <td>194841.049757</td>\n",
       "    </tr>\n",
       "  </tbody>\n",
       "</table>\n",
       "<p>127898 rows × 2 columns</p>\n",
       "</div>"
      ],
      "text/plain": [
       "        DEUDA_INTERNA  MONTO BRUTO OFERTA\n",
       "0           496897.77       499333.789757\n",
       "2           175000.00       177436.019757\n",
       "3           135167.83       137603.849757\n",
       "4            82430.98        84866.999757\n",
       "6           105000.00       107436.019757\n",
       "...               ...                 ...\n",
       "203498       91341.40        93777.419757\n",
       "203500      179565.29       182001.309757\n",
       "203502        6323.30         8759.319757\n",
       "203503      209509.81       211945.829757\n",
       "203504      192405.03       194841.049757\n",
       "\n",
       "[127898 rows x 2 columns]"
      ]
     },
     "execution_count": 14,
     "metadata": {},
     "output_type": "execute_result"
    }
   ],
   "source": [
    "resultados[[\"DEUDA_INTERNA\", \"MONTO BRUTO OFERTA\"]]"
   ]
  },
  {
   "cell_type": "code",
   "execution_count": 15,
   "metadata": {},
   "outputs": [
    {
     "data": {
      "text/plain": [
       "14.104359443194342"
      ]
     },
     "execution_count": 15,
     "metadata": {},
     "output_type": "execute_result"
    }
   ],
   "source": [
    "resultados[\"COMISION PENDIENTE\"].sum() / 10**6"
   ]
  },
  {
   "cell_type": "code",
   "execution_count": 16,
   "metadata": {},
   "outputs": [],
   "source": [
    "# def pasa_cotizador(monto_oferta, tasa_oferta, deuda_interna, tpp_vieja):\n",
    "#     pasivos = (0.08 + 0.0025)/(1 - 0.146)\n",
    "#     margen_nuevo = monto_oferta * tasa_oferta - monto_oferta * pasivos\n",
    "#     margen_cancelado = deuda_interna * tpp_vieja / 100 - deuda_interna * pasivos\n",
    "#     reservas = monto_oferta * 0.05 * 0.45\n",
    "#     if margen_nuevo - margen_cancelado - reservas > 0:\n",
    "#         return 1\n",
    "#     else:\n",
    "#         return 0\n",
    "    \n",
    "# def tasa_erick(deuda_interna, tpp_vieja, desembolso_bruto, mes):\n",
    "#     pasivos = (0.08 + 0.0025)/(1 - 0.146)\n",
    "#     mf_cancelado = deuda_interna * tpp_vieja/100 - deuda_interna * pasivos\n",
    "#     reserva = (0.05 * 0.45) * 12\n",
    "#     return max(1.05 * mf_cancelado / desembolso_bruto + pasivos + reserva / (12 - mes), tpp_vieja/100)"
   ]
  },
  {
   "cell_type": "code",
   "execution_count": 17,
   "metadata": {},
   "outputs": [],
   "source": [
    "# resultados[\"MONTO BRUTO OFERTA\"] = resultados[\"DEUDA_INTERNA\"] + resultados[\"DESEMBOLSO_NETO\"].mean() \n",
    "# resultados[\"TASA ERICK\"] = resultados.apply(lambda x: tasa_erick(x[\"DEUDA_INTERNA\"], x[\"TPP CLIENTE\"], x[\"MONTO BRUTO OFERTA\"], no_mes_simulacion), axis=1)\n",
    "# resultados[\"PASA COTIZADOR\"] = resultados.apply(lambda x: pasa_cotizador(x[\"MONTO BRUTO OFERTA\"], x[\"TASA ERICK\"], x[\"DEUDA_INTERNA\"], x[\"TPP CLIENTE\"]), axis=1)"
   ]
  },
  {
   "cell_type": "code",
   "execution_count": 18,
   "metadata": {},
   "outputs": [],
   "source": [
    "# base_comerciales = resultados[(resultados[\"PASA COTIZADOR\"] == 1) & (resultados[\"TASA ERICK\"] < 0.25) & (resultados[\"TASA ERICK\"] > 0.14)]\n",
    "# base_comerciales[\"MES\"] = nombre_mes\n",
    "# base_comerciales.drop_duplicates(subset=\"CODIGO_CLIENTE\", inplace=True)\n",
    "# base_comerciales[[\"CODIGO_CLIENTE\", \"DPI\", \"MONTO BRUTO OFERTA\", \"MES\"]].to_excel(f\"../db/{nombre_mes}_base_comerciales.xlsx\")"
   ]
  },
  {
   "cell_type": "code",
   "execution_count": 19,
   "metadata": {},
   "outputs": [],
   "source": [
    "# agosto = pd.read_excel(\"../db/Agosto_base_comerciales.xlsx\")\n",
    "# septiembre = pd.read_excel(\"../db/SEPTIEMBRE_base_comerciales.xlsx\")\n",
    "# base_total = pd.concat([agosto, septiembre])\n",
    "# base_total.to_excel(\"../db/BASE FINAL RECREDITO.xlsx\")"
   ]
  },
  {
   "cell_type": "code",
   "execution_count": 20,
   "metadata": {},
   "outputs": [],
   "source": [
    "# compra_saldo = pd.read_excel(\"../db/compraSaldo.xlsx\")\n",
    "# liquidez = pd.read_excel(\"../db/liquidez.xlsx\")"
   ]
  },
  {
   "cell_type": "code",
   "execution_count": 21,
   "metadata": {},
   "outputs": [],
   "source": [
    "# base_total = pd.merge(base_total, total, left_on=\"DPI\", right_on=\"DxDpi\", how=\"inner\")"
   ]
  },
  {
   "cell_type": "code",
   "execution_count": 22,
   "metadata": {},
   "outputs": [],
   "source": [
    "# import numpy as np\n",
    "# base_total[\"PROBABILIDAD DE COMPRA\"] = np.where(base_total[\"MONTO BRUTO OFERTA\"] <= base_total[\"DfMontoMaximoOfertado\"], 1, 0)"
   ]
  },
  {
   "cell_type": "code",
   "execution_count": 23,
   "metadata": {},
   "outputs": [],
   "source": [
    "# base_total = base_total[[\"CODIGO_CLIENTE\", \"DPI\", \"MONTO BRUTO OFERTA\", \"MES\", \"PROBABILIDAD DE COMPRA\"]]"
   ]
  },
  {
   "cell_type": "code",
   "execution_count": 24,
   "metadata": {},
   "outputs": [],
   "source": [
    "# agosto = base_total[base_total[\"MES\"] == \"AGOSTO\"]\n",
    "# sept = base_total[base_total[\"MES\"] == \"SEPTIEMBRE\"]\n",
    "\n",
    "# agosto.to_excel(\"../db/AGOSTO_BASE.xlsx\")\n",
    "# sept.to_excel(\"../db/SEPTIEMBRE_BASE.xlsx\")"
   ]
  }
 ],
 "metadata": {
  "kernelspec": {
   "display_name": "Python 3",
   "language": "python",
   "name": "python3"
  },
  "language_info": {
   "codemirror_mode": {
    "name": "ipython",
    "version": 3
   },
   "file_extension": ".py",
   "mimetype": "text/x-python",
   "name": "python",
   "nbconvert_exporter": "python",
   "pygments_lexer": "ipython3",
   "version": "3.12.1"
  }
 },
 "nbformat": 4,
 "nbformat_minor": 2
}
