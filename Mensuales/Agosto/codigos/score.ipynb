{
 "cells": [
  {
   "cell_type": "code",
   "execution_count": 1,
   "metadata": {},
   "outputs": [],
   "source": [
    "import sys\n",
    "import os\n",
    "import pandas as pd\n",
    "ruta = r\"C:\\Users\\mariajose_chinchilla\\Documents\\GitHub\\Reservas\\utils\"\n",
    "sys.path.append(os.path.abspath(ruta))\n",
    "from utils import resultado_percentiles, resultado_por_montos\n",
    "import seaborn as sn\n",
    "import matplotlib.pyplot as plt\n",
    "import scipy.stats as stats\n",
    "import math"
   ]
  },
  {
   "cell_type": "code",
   "execution_count": 2,
   "metadata": {},
   "outputs": [],
   "source": [
    "score = pd.read_excel(\"../db/actualizado/mspas.xlsx\")"
   ]
  },
  {
   "cell_type": "code",
   "execution_count": 3,
   "metadata": {},
   "outputs": [],
   "source": [
    "mascara_deudores = score[\"default_30\"] == 1"
   ]
  },
  {
   "cell_type": "code",
   "execution_count": 4,
   "metadata": {},
   "outputs": [
    {
     "data": {
      "text/plain": [
       "45.57671875"
      ]
     },
     "execution_count": 4,
     "metadata": {},
     "output_type": "execute_result"
    }
   ],
   "source": [
    "score[score[\"default_30\"] == 1][\"rciInternoFinalDeudor\"].mean()"
   ]
  },
  {
   "cell_type": "code",
   "execution_count": null,
   "metadata": {},
   "outputs": [],
   "source": [
    "distribuciones = [\n",
    "    \"binorm\", #binormal\n",
    "    'norm',          # Distribución Normal\n",
    "    't',             # Distribución t de Student\n",
    "    'expon',         # Distribución Exponencial\n",
    "    'uniform',       # Distribución Uniforme\n",
    "    'lognorm',       # Distribución Log-Normal\n",
    "    'weibull_min',   # Distribución Weibull mínima\n",
    "    'weibull_max',   # Distribución Weibull máxima\n",
    "    'beta',          # Distribución Beta\n",
    "    'gamma',         # Distribución Gamma\n",
    "    'chi2',          # Distribución Chi-Cuadrado\n",
    "    'pareto',        # Distribución Pareto\n",
    "    'rayleigh',      # Distribución Rayleigh\n",
    "    'gumbel_r',      # Distribución Gumbel derecha\n",
    "    'gumbel_l',      # Distribución Gumbel izquierda\n",
    "    'f',             # Distribución F de Fisher\n",
    "    'binom',         # Distribución Binomial\n",
    "    'poisson',       # Distribución Poisson\n",
    "    'nbinom'         # Distribución Binomial Negativa\n",
    "]\n",
    "\n"
   ]
  },
  {
   "cell_type": "code",
   "execution_count": null,
   "metadata": {},
   "outputs": [],
   "source": [
    "df = score.loc[mascara_deudores]\n",
    "for distribucion in distribuciones:\n",
    "    try:\n",
    "        fig, ax = plt.subplots(1, 2, figsize=(12, 6))\n",
    "        stats.probplot(score[\"scoreDeudorInstallmentQnt\"], dist=distribucion, sparams=(len(df)-1,), plot=ax[0])\n",
    "        ax[0].set_title(f'Q-Q Plot para Distribución {distribucion}')\n",
    "\n",
    "        plt.show()\n",
    "    except:\n",
    "        pass"
   ]
  },
  {
   "cell_type": "code",
   "execution_count": null,
   "metadata": {},
   "outputs": [],
   "source": [
    "from scipy.stats import norm\n",
    "parametros = norm.fit(score[\"scoreDeudorInstallmentQnt\"].astype(\"float\"))\n",
    "sigma_estimado = parametros[1]  # El segundo valor es el parámetro de escala (sigma)\n",
    "\n",
    "print(f\"El valor estimado de sigma es: {sigma_estimado}\")\n",
    "\n",
    "\n",
    "percentil_deseado = 99  # Por ejemplo, queremos calcular el percentil 90\n",
    "valor_percentil = norm.ppf(percentil_deseado / 100, scale=sigma_estimado)\n",
    "\n",
    "print(f\"El valor del {percentil_deseado} percentil es: {valor_percentil}\")"
   ]
  },
  {
   "cell_type": "code",
   "execution_count": null,
   "metadata": {},
   "outputs": [],
   "source": [
    "import numpy as np\n",
    "from scipy.stats import t\n",
    "h0 = \"x < critico dado que es moroso\"\n",
    "df = score.loc[mascara_deudores]\n",
    "media = df[\"scoreDeudorInstallmentQnt\"].mean()\n",
    "desviacion = score[\"scoreDeudorInstallmentQnt\"].std()\n",
    "alpha = 0.05\n",
    "z = t.ppf(alpha, len(score) - 1)\n",
    "\n",
    "z_stat = ((360 - media) / desviacion) * np.sqrt(len(score))\n",
    "p_valor = t.cdf(z_stat, len(score) - 1)\n",
    "corte = 360 + z * desviacion / np.sqrt(len(score))\n",
    "\n",
    "if z_stat > z:\n",
    "    print(\"Rechazar hipótesis: hay suficiente evidencia para decir que el promedio de score de morosos es mayor\")\n",
    "if z_stat <= z:\n",
    "    print(\"No hay evidencia para rechazar:  no hay evidencia para decir que el promedio de score de morosos es mayor\")\n",
    "\n",
    "print(p_valor)\n",
    "print(corte)\n",
    "print(z)"
   ]
  },
  {
   "cell_type": "code",
   "execution_count": null,
   "metadata": {},
   "outputs": [],
   "source": [
    "mascara_nuevos = [\"scoreDeudorInstallmentQnt\"]\n",
    "proyeccion = score.loc[mascara_nuevos]\n"
   ]
  },
  {
   "cell_type": "code",
   "execution_count": null,
   "metadata": {},
   "outputs": [],
   "source": [
    "score.columns"
   ]
  },
  {
   "cell_type": "code",
   "execution_count": null,
   "metadata": {},
   "outputs": [],
   "source": [
    "proporcion_muestral = len(score[score[\"default_30\"] == 1]) / len(score)\n",
    "significancia = 0.05\n",
    "z = abs(norm.ppf(1 - significancia))\n",
    "desviacion_estimador = (proporcion_muestral * (1 - proporcion_muestral)) / len(score)\n",
    "proporcion_1 = proporcion_muestral - z * desviacion_estimador\n",
    "proporcion_2 = proporcion_muestral + z * desviacion_estimador\n",
    "print((proporcion_1, proporcion_2))\n",
    "print(f\"en cantidad es {proporcion_1 * len(score)}\")"
   ]
  },
  {
   "cell_type": "code",
   "execution_count": null,
   "metadata": {},
   "outputs": [],
   "source": [
    "score[\"mora en corte\"] = np.where()\n",
    "desembolso_promedio = score[\"rciInternoFinalDeudor\"].mean()\n",
    "significancia = 0.05\n",
    "z = abs(norm.ppf(1 - significancia))\n",
    "desviacion_estimador = desembolso_promedio / len(df)\n",
    "media1 = desembolso_promedio - z * desviacion_estimador\n",
    "media2 = desembolso_promedio + z * desviacion_estimador\n",
    "print((media1, media2))"
   ]
  },
  {
   "cell_type": "code",
   "execution_count": 20,
   "metadata": {},
   "outputs": [
    {
     "data": {
      "text/plain": [
       "405973.71519749996"
      ]
     },
     "execution_count": 20,
     "metadata": {},
     "output_type": "execute_result"
    }
   ],
   "source": [
    "mascara_a = (score[\"default_30\"] == 1) & (score[\"default_60\"] == 0)\n",
    "mascara_b = (score[\"default_30\"] == 1) & (score[\"default_60\"] == 1) & (score[\"default_90\"] == 0)\n",
    "mascara_c = (score[\"default_30\"] == 1) & (score[\"default_60\"] == 1) & (score[\"default_90\"] == 1)\n",
    "propa = len(score[mascara_a]) / len(score)\n",
    "propb = len(score[mascara_b]) / len(score)\n",
    "propc = len(score[mascara_c]) / len(score)\n",
    "cata = score[(mascara_a)][\"DESEMBOLSO_NETO\"].sum() * 0.45 * 0.036\n",
    "catb = score[(mascara_b)][\"DESEMBOLSO_NETO\"].sum() * 0.45 * 0.126\n",
    "catc = score[(mascara_c)][\"DESEMBOLSO_NETO\"].sum() * 0.45 * 0.295\n",
    "cata + catb + catc\n",
    "# score[(mascara_a | mascara_b | mascara_c)][\"DESEMBOLSO_NETO\"].sum()\n"
   ]
  },
  {
   "cell_type": "code",
   "execution_count": 13,
   "metadata": {},
   "outputs": [
    {
     "data": {
      "text/plain": [
       "9292485.46"
      ]
     },
     "execution_count": 13,
     "metadata": {},
     "output_type": "execute_result"
    }
   ],
   "source": [
    "score[score[\"scoreDeudorInstallmentQnt\"] <= 360][\"DESEMBOLSO_NETO\"].sum()"
   ]
  },
  {
   "cell_type": "code",
   "execution_count": null,
   "metadata": {},
   "outputs": [],
   "source": [
    "len(score[(score[\"scoreDeudorInstallmentQnt\"] <= 420) & (score[\"scoreDeudorInstallmentQnt\"] > 360)]) "
   ]
  },
  {
   "cell_type": "code",
   "execution_count": null,
   "metadata": {},
   "outputs": [],
   "source": [
    "score[\"grupo\"] = pd.cut(score[\"scoreDeudorInstallmentQnt\"], bins=40)\n",
    "conteo = score.groupby(by=[\"grupo\", \"default_30\"]).size().unstack(fill_value=0).reset_index()\n",
    "conteo.columns = [\"GRUPO\", \"BUENOS\", \"MALOS\"]\n",
    "conteo[\"MALO ACUMULADO\"] = conteo[\"MALOS\"].cumsum()\n",
    "conteo[\"BUENOS ACUMULADO\"] = conteo[\"BUENOS\"].cumsum()\n",
    "conteo[\"PROPORCION\"] = conteo[\"MALO ACUMULADO\"] / conteo[\"BUENOS ACUMULADO\"]\n",
    "# conteo.drop(\"MALOS\", inplace=True, axis=1)\n",
    "# conteo.drop(\"BUENOS\", inplace=True, axis=1)\n",
    "print(conteo[[\"GRUPO\", \"PROPORCION\"]])"
   ]
  },
  {
   "cell_type": "code",
   "execution_count": null,
   "metadata": {},
   "outputs": [],
   "source": [
    "actual = score[score[\"scoreDeudorInstallmentQnt\"] <= 420]\n",
    "print(f\"les pido codeudor a {len(actual)}\")\n",
    "print(f\"proporcion mora es {len(score[score[\"default_30\"] == 1]) / len(score)}\")"
   ]
  },
  {
   "cell_type": "code",
   "execution_count": null,
   "metadata": {},
   "outputs": [],
   "source": [
    "# le pido codeudor a 2.8% de la población y eso representa el 3.3% de mora\n",
    "# ahora le pediría codeudor al 1% de la población y esperaríamos mora de \n",
    "965 / len(score)"
   ]
  }
 ],
 "metadata": {
  "kernelspec": {
   "display_name": "Python 3",
   "language": "python",
   "name": "python3"
  },
  "language_info": {
   "codemirror_mode": {
    "name": "ipython",
    "version": 3
   },
   "file_extension": ".py",
   "mimetype": "text/x-python",
   "name": "python",
   "nbconvert_exporter": "python",
   "pygments_lexer": "ipython3",
   "version": "3.12.1"
  }
 },
 "nbformat": 4,
 "nbformat_minor": 2
}
