{
 "cells": [
  {
   "cell_type": "code",
   "execution_count": 3,
   "metadata": {},
   "outputs": [],
   "source": [
    "import pandas as pd"
   ]
  },
  {
   "cell_type": "code",
   "execution_count": null,
   "metadata": {},
   "outputs": [],
   "source": [
    "cartera = pd.read_csv(\"../db/cartera 2.csv\", sep=\";\")\n",
    "indice = pd.read_excel(\"../db/DPIS_falta\")\n",
    "indice.drop_duplicates(subset=\"DPI\", inplace=True)"
   ]
  },
  {
   "cell_type": "code",
   "execution_count": null,
   "metadata": {},
   "outputs": [],
   "source": [
    "vacios = cartera.loc[cartera[\"RciInternoInicial\"].isna()]"
   ]
  },
  {
   "cell_type": "code",
   "execution_count": null,
   "metadata": {},
   "outputs": [],
   "source": [
    "vacios[\"DPI\"].to_excel(\"../db/DPIS_falta.xlsx\")"
   ]
  },
  {
   "cell_type": "code",
   "execution_count": null,
   "metadata": {},
   "outputs": [],
   "source": [
    "cartera = pd.read_csv(\"../db/cartera.csv\", sep=\";\")"
   ]
  },
  {
   "cell_type": "markdown",
   "metadata": {},
   "source": [
    "## RCIs que mandó Ayrton"
   ]
  },
  {
   "cell_type": "code",
   "execution_count": 4,
   "metadata": {},
   "outputs": [
    {
     "name": "stderr",
     "output_type": "stream",
     "text": [
      "C:\\Users\\mariajose_chinchilla\\AppData\\Local\\Temp\\ipykernel_25912\\1212362776.py:1: DtypeWarning: Columns (43,45,46,61,63,68) have mixed types. Specify dtype option on import or set low_memory=False.\n",
      "  cartera = pd.read_csv(\"../db/cartera 2.csv\")\n"
     ]
    }
   ],
   "source": [
    "cartera = pd.read_csv(\"../db/cartera 2.csv\")"
   ]
  },
  {
   "cell_type": "code",
   "execution_count": 7,
   "metadata": {},
   "outputs": [],
   "source": [
    "rcis = pd.read_csv(\"../db/Creditos sin RCI.csv\", sep=\";\")"
   ]
  },
  {
   "cell_type": "code",
   "execution_count": 10,
   "metadata": {},
   "outputs": [
    {
     "data": {
      "text/html": [
       "<div>\n",
       "<style scoped>\n",
       "    .dataframe tbody tr th:only-of-type {\n",
       "        vertical-align: middle;\n",
       "    }\n",
       "\n",
       "    .dataframe tbody tr th {\n",
       "        vertical-align: top;\n",
       "    }\n",
       "\n",
       "    .dataframe thead th {\n",
       "        text-align: right;\n",
       "    }\n",
       "</style>\n",
       "<table border=\"1\" class=\"dataframe\">\n",
       "  <thead>\n",
       "    <tr style=\"text-align: right;\">\n",
       "      <th></th>\n",
       "      <th>dpi</th>\n",
       "      <th>NO_PRECALIFICACION</th>\n",
       "      <th>FECHA_PRECA</th>\n",
       "      <th>ingresos</th>\n",
       "      <th>egresos</th>\n",
       "      <th>ingresoValidado</th>\n",
       "      <th>rciInternoInicial</th>\n",
       "      <th>rciGlobalInicial</th>\n",
       "    </tr>\n",
       "  </thead>\n",
       "  <tbody>\n",
       "    <tr>\n",
       "      <th>0</th>\n",
       "      <td>2298480000000</td>\n",
       "      <td>39156966</td>\n",
       "      <td>19/11/2024</td>\n",
       "      <td>8684.0</td>\n",
       "      <td>868.4</td>\n",
       "      <td>9118.2</td>\n",
       "      <td>66.11</td>\n",
       "      <td>66.11</td>\n",
       "    </tr>\n",
       "    <tr>\n",
       "      <th>1</th>\n",
       "      <td>2384260000000</td>\n",
       "      <td>38979696</td>\n",
       "      <td>17/11/2024</td>\n",
       "      <td>7684.0</td>\n",
       "      <td>768.4</td>\n",
       "      <td>8068.2</td>\n",
       "      <td>92.82</td>\n",
       "      <td>103.99</td>\n",
       "    </tr>\n",
       "    <tr>\n",
       "      <th>2</th>\n",
       "      <td>1747270000000</td>\n",
       "      <td>39399323</td>\n",
       "      <td>21/11/2024</td>\n",
       "      <td>8104.0</td>\n",
       "      <td>810.4</td>\n",
       "      <td>8509.2</td>\n",
       "      <td>49.14</td>\n",
       "      <td>62.37</td>\n",
       "    </tr>\n",
       "  </tbody>\n",
       "</table>\n",
       "</div>"
      ],
      "text/plain": [
       "             dpi  NO_PRECALIFICACION FECHA_PRECA  ingresos  egresos  \\\n",
       "0  2298480000000            39156966  19/11/2024    8684.0    868.4   \n",
       "1  2384260000000            38979696  17/11/2024    7684.0    768.4   \n",
       "2  1747270000000            39399323  21/11/2024    8104.0    810.4   \n",
       "\n",
       "   ingresoValidado  rciInternoInicial  rciGlobalInicial  \n",
       "0           9118.2              66.11             66.11  \n",
       "1           8068.2              92.82            103.99  \n",
       "2           8509.2              49.14             62.37  "
      ]
     },
     "execution_count": 10,
     "metadata": {},
     "output_type": "execute_result"
    }
   ],
   "source": [
    "rcis[\"dpi\"] = rcis[\"dpi\"].astype(\"int64\")\n",
    "rcis.head(3)"
   ]
  },
  {
   "cell_type": "code",
   "execution_count": 12,
   "metadata": {},
   "outputs": [],
   "source": [
    "datos_rci = rcis[[\"dpi\", \"rciInternoInicial\", \"rciGlobalInicial\", \"ingresoValidado\"]]\n",
    "cartera_vacios = cartera[(cartera[\"RciInternoInicial\"].isna()) | (cartera[\"IngresosValidos\"].isna())\n",
    "                         | (cartera[\"RciGlobalInicial\"].isna())]"
   ]
  },
  {
   "cell_type": "code",
   "execution_count": 14,
   "metadata": {},
   "outputs": [
    {
     "data": {
      "text/plain": [
       "0"
      ]
     },
     "execution_count": 14,
     "metadata": {},
     "output_type": "execute_result"
    }
   ],
   "source": [
    "cartera_vacios = pd.merge(cartera_vacios, datos_rci, how=\"inner\" , left_on=\"DPI\", right_on=\"dpi\")\n",
    "len(cartera_vacios)"
   ]
  },
  {
   "cell_type": "code",
   "execution_count": null,
   "metadata": {},
   "outputs": [],
   "source": []
  }
 ],
 "metadata": {
  "kernelspec": {
   "display_name": "Python 3",
   "language": "python",
   "name": "python3"
  },
  "language_info": {
   "codemirror_mode": {
    "name": "ipython",
    "version": 3
   },
   "file_extension": ".py",
   "mimetype": "text/x-python",
   "name": "python",
   "nbconvert_exporter": "python",
   "pygments_lexer": "ipython3",
   "version": "3.12.1"
  }
 },
 "nbformat": 4,
 "nbformat_minor": 2
}
