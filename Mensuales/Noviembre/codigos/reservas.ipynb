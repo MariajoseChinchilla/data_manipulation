{
 "cells": [
  {
   "cell_type": "markdown",
   "metadata": {},
   "source": [
    "# Cuaderno de requerimento para contagio y reservas"
   ]
  },
  {
   "cell_type": "code",
   "execution_count": null,
   "metadata": {},
   "outputs": [],
   "source": [
    "import pandas as pd\n",
    "import sys\n",
    "import os\n",
    "sys.path.append(os.path.abspath(r\"C:\\Users\\mariajose_chinchilla\\Documents\\GitHub\\proyectos_varios\\codigos\"))\n",
    "from utils import calcular_cuota, ingresos_financieros, ingreso_fin_entre_fechas\n",
    "import warnings\n",
    "warnings.filterwarnings(\"ignore\")\n",
    "import numpy as np"
   ]
  },
  {
   "cell_type": "code",
   "execution_count": null,
   "metadata": {},
   "outputs": [],
   "source": [
    "base_contagio = pd.read_csv(\"../db/base_contagio.csv\", sep=\";\")\n",
    "cols_activos = [\"DPI\", \"nomentidad\", \"nomvinculo\", \"desctipoactivo\", \n",
    "                \"fecconce\", \"fecvence\", \"capitalorig\"]\n",
    "\n",
    "base_contagio.drop_duplicates(subset=cols_activos, inplace=True)\n",
    "# base_contagio = base_contagio[base_contagio[\"CategoriaContagio\"].isin([\"C\", \"D\", \"E\"])]\n",
    "# Ver precalificaciones de Horus\n",
    "horus_compra_saldo = pd.read_csv(\"../db/compra_saldo.csv\")\n",
    "cols_compra_sldo = [\"DxDpi\", \"DxTipoCliente\", \"DfSalarioBase\", \"DfCoutaTotalCreditosExternosConsolidados\", \n",
    " \"DfRciGlobalInicialDeudor\", \"DfRciInternoInicialDeudor\", \"DfIngresosValidados\", \n",
    " \"DfMontoMaximoOfertado\"]\n",
    "horus_compra_saldo = horus_compra_saldo[cols_compra_sldo]\n"
   ]
  },
  {
   "cell_type": "code",
   "execution_count": null,
   "metadata": {},
   "outputs": [],
   "source": [
    "base_contagio_temp = base_contagio.groupby(by=\"DPI\")[\"saldo\"].sum().reset_index()\n",
    "base_contagio_temp.columns = [\"DPI\", \"SALDO EXTERNO CLIENTE\"]\n",
    "base_contagio = pd.merge(base_contagio, base_contagio_temp, how=\"inner\", on=\"DPI\")"
   ]
  },
  {
   "cell_type": "code",
   "execution_count": null,
   "metadata": {},
   "outputs": [],
   "source": [
    "base_contagio[\"CategoriaContagio\"].value_counts()"
   ]
  },
  {
   "cell_type": "code",
   "execution_count": null,
   "metadata": {},
   "outputs": [],
   "source": [
    "base_con_precas = pd.merge(base_contagio, horus_compra_saldo, how=\"left\", \n",
    "                           left_on=\"DPI\", right_on=\"DxDpi\")"
   ]
  },
  {
   "cell_type": "code",
   "execution_count": null,
   "metadata": {},
   "outputs": [],
   "source": [
    "# Corregir el error en los vacíos\n",
    "base_con_precas[\"ESTADO_COLOR\"] = np.where(base_con_precas[\"DxDpi\"].isna(), 0, 1)\n",
    "base_con_precas[\"PAGA RESERVAS\"] = np.where(base_con_precas[\"CANT_CRED_NO_CUMPLE\"] == 0, 0, 1)\n",
    "conteo_nivel_cliente = base_con_precas.drop_duplicates(subset=\"DPI\")\n",
    "conteo_nivel_cliente[\"ESTADO_COLOR\"].value_counts().reset_index(name=\"CLIENTES\")"
   ]
  },
  {
   "cell_type": "markdown",
   "metadata": {},
   "source": [
    "## P1"
   ]
  },
  {
   "cell_type": "code",
   "execution_count": null,
   "metadata": {},
   "outputs": [],
   "source": [
    "mascar_ped = base_con_precas[\"SEGMENTO\"].isin([\"ESTADO Y DESCENTRALIZADAS\", \"PREFERENTES\"])\n",
    "mascar_cons_interna = (base_con_precas[\"PAGA RESERVAS\"] == 0) & (base_con_precas[\"PAGA RESERVAS\"] == 0) & (base_con_precas[\"DfRciGlobalInicialDeudor\"]< 50) & (base_con_precas[\"DfRciInternoInicialDeudor\"] < 60)\n",
    "mascar_cons_ext = (~base_con_precas[\"DfRciGlobalInicialDeudor\"].isna())"
   ]
  },
  {
   "cell_type": "code",
   "execution_count": null,
   "metadata": {},
   "outputs": [],
   "source": [
    "ped = base_con_precas.loc[mascar_ped]\n",
    "\n",
    "# Contar para crear matriz de consolidación\n",
    "a11 = len(ped.loc[mascar_cons_interna & mascar_cons_ext])\n",
    "a21 = len(ped.loc[mascar_cons_ext & ~mascar_cons_interna])\n",
    "conteos_si_externa = [a11, a21]\n",
    "\n",
    "a12 = len(ped.loc[mascar_cons_interna & ~mascar_cons_ext])\n",
    "a22 = len(ped.loc[~mascar_cons_interna & ~mascar_cons_ext])\n",
    "conteos_no_externa = [a12, a22]\n",
    "\n",
    "dic_matriz = {\"Sí\": conteos_si_externa, \"No\": conteos_no_externa}\n",
    "df_matriz = pd.DataFrame.from_dict(dic_matriz)\n",
    "df_matriz.to_latex(\"../db/Matriz_consolidaciones.txt\")"
   ]
  },
  {
   "cell_type": "markdown",
   "metadata": {},
   "source": [
    "Ver a quienes se les puede comprar el saldo contagiado porque sí pasan política y ver quiénes no. Evaluar a quiénes sí se les puede hacer recrédito. "
   ]
  },
  {
   "cell_type": "markdown",
   "metadata": {},
   "source": [
    "Se establece a alguien como posible cliente para comprar su deuda interna si cumple le pago de 15% a capital y su RCI permite pasar política."
   ]
  },
  {
   "cell_type": "markdown",
   "metadata": {},
   "source": [
    "## Sí pasa política"
   ]
  },
  {
   "cell_type": "code",
   "execution_count": null,
   "metadata": {},
   "outputs": [],
   "source": [
    "pasa_politica = ped[\"ESTADO_COLOR\"] == 0\n",
    "cols_resumen = [\"TOTAL_DESEMBOLSO\", \"TOTAL_SALDO\", \"saldo\", \"capitalorig\"]\n",
    "for col in cols_resumen:\n",
    "    print(f\"{col} para Remesa es: {ped.loc[pasa_politica][col].sum() / 10**6} M\")"
   ]
  },
  {
   "cell_type": "code",
   "execution_count": null,
   "metadata": {},
   "outputs": [],
   "source": [
    "import matplotlib.pyplot as plt\n",
    "\n",
    "# Graficar relaciones de interés\n",
    "plt.figure(figsize=(8,6))\n",
    "plt.pie(\n",
    "    ped[\"PAGA RESERVAS\"].value_counts(),\n",
    "    labels=[\"No\", \"Sí\"],\n",
    "    colors=[\"#dc0464\", \"#22aeae\"],\n",
    "    autopct='%1.1f%%'  # Agrega los porcentajes con un decimal\n",
    ")\n",
    "plt.title(\"¿Cliente cumple 15% de pago a capital?\")\n",
    "plt.show()\n"
   ]
  },
  {
   "cell_type": "code",
   "execution_count": null,
   "metadata": {},
   "outputs": [],
   "source": [
    "# Filtrar los datos y contar según orden alfabético\n",
    "conteo_alfabetico_interna = ped.drop_duplicates(subset=\"DPI\")[\"CATEGORIA_INTERNA\"].value_counts().sort_index()\n",
    "\n",
    "# Graficar los datos en orden alfabético\n",
    "plt.figure(figsize=(8,6))\n",
    "conteo_alfabetico_interna.plot(kind=\"bar\", color=[\"#dc0464\", \"#22aeae\", \"#a3abb3\", \"#fbdc05\", \"#f2ebea\"])\n",
    "\n",
    "# Etiquetas y título\n",
    "plt.xlabel(\"Categoría interna\")\n",
    "plt.ylabel(\"Clientes\")\n",
    "plt.title(\"Clientes según categoría interna\")\n",
    "plt.show()"
   ]
  },
  {
   "cell_type": "code",
   "execution_count": null,
   "metadata": {},
   "outputs": [],
   "source": [
    "# Filtrar los datos y contar según orden alfabético\n",
    "conteo_alfabetico = ped.drop_duplicates(subset=\"DPI\")[\"CategoriaContagio\"].value_counts().sort_index()\n",
    "\n",
    "# Graficar los datos en orden alfabético\n",
    "plt.figure(figsize=(8,6))\n",
    "conteo_alfabetico.plot(kind=\"bar\", color=[\"#dc0464\", \"#22aeae\", \"#a3abb3\", \"#fbdc05\", \"#f2ebea\"])\n",
    "\n",
    "# Etiquetas y título\n",
    "plt.xlabel(\"Categoría externa\")\n",
    "plt.ylabel(\"Clientes\")\n",
    "plt.title(\"Clientes según categoría externa\")\n",
    "plt.show()"
   ]
  },
  {
   "cell_type": "code",
   "execution_count": null,
   "metadata": {},
   "outputs": [],
   "source": [
    "plt.figure(figsize=(8,6))\n",
    "ped.drop_duplicates(subset=\"DPI\")[\"CategoriaContagio\"].value_counts().plot(kind=\"bar\", color=[\"#dc0464\", \"#22aeae\", \n",
    "                                                                   \"#a3abb3\", \"#fbdc05\",\n",
    "                                                                   \"#f2ebea\"])\n",
    "plt.xlabel(\"Categoría externa\")\n",
    "plt.ylabel(\"Clientes\")\n",
    "plt.title(\"Clientes según categoría externa\")"
   ]
  },
  {
   "cell_type": "markdown",
   "metadata": {},
   "source": [
    "## Buscar datos faltantes en Zynapse"
   ]
  },
  {
   "cell_type": "code",
   "execution_count": null,
   "metadata": {},
   "outputs": [],
   "source": [
    "# with open (\"../db/dpis.txt\", \"w\") as f:\n",
    "#     for dpi in ped[\"DPI\"].unique().tolist():\n",
    "#         f.write(f\"'{dpi}',\")"
   ]
  },
  {
   "cell_type": "code",
   "execution_count": null,
   "metadata": {},
   "outputs": [],
   "source": [
    "# no_precas = pd.read_csv(\"../db/precas_dpis.csv\")\n",
    "# ped = pd.merge(ped, no_precas, how=\"left\", left_on=\"DPI\", right_on=\"DxDpi\")"
   ]
  },
  {
   "cell_type": "code",
   "execution_count": null,
   "metadata": {},
   "outputs": [],
   "source": [
    "# with open (\"../db/precas.txt\", \"w\") as f:\n",
    "#     for preca in ped[\"KnNoPrecalificacion\"].unique().tolist():\n",
    "#         try:\n",
    "#             f.write(f\"'{int(preca)}',\")\n",
    "#         except:\n",
    "#             pass"
   ]
  },
  {
   "cell_type": "code",
   "execution_count": null,
   "metadata": {},
   "outputs": [],
   "source": [
    "# datos_demograficos = pd.read_csv(\"../db/datos_demograficos.csv\")\n",
    "# ped = pd.merge(ped, datos_demograficos, how=\"left\", left_on=\"KnNoPrecalificacion\", right_on=\"no_precalificacion\")"
   ]
  },
  {
   "cell_type": "code",
   "execution_count": null,
   "metadata": {},
   "outputs": [],
   "source": [
    "plt.figure(figsize=(8,6))\n",
    "plt.hist(ped[\"DfIngresosValidados\"], bins=150, color=\"#22aeae\")\n",
    "plt.xlabel(\"Ingresos Validados\")\n",
    "plt.xlim([1000, 40000])\n",
    "plt.ylim([0,1300])\n",
    "plt.ylabel(\"Clientes\")\n",
    "plt.title(\"Histograma de ingresos validados\")\n",
    "plt.show()"
   ]
  },
  {
   "cell_type": "code",
   "execution_count": null,
   "metadata": {},
   "outputs": [],
   "source": [
    "plt.figure(figsize=(8,6))\n",
    "plt.hist(ped[\"DfRciGlobalInicialDeudor\"], bins=100, color=\"#dc0464\")\n",
    "plt.xlabel(\"RCI Global Inicial\")\n",
    "plt.xlim([0, 100])\n",
    "plt.ylim([0,200])\n",
    "plt.ylabel(\"Clientes\")\n",
    "plt.title(\"Histograma de RCI Global inicial\")\n",
    "plt.show()"
   ]
  },
  {
   "cell_type": "code",
   "execution_count": null,
   "metadata": {},
   "outputs": [],
   "source": [
    "plt.figure(figsize=(8,6))\n",
    "plt.hist(ped[\"DfRciInternoInicialDeudor\"], bins=75, color=\"#dc0464\")\n",
    "plt.xlabel(\"RCI Interno Inicial\")\n",
    "plt.xlim([0, 70])\n",
    "plt.ylim([0,300])\n",
    "plt.ylabel(\"Clientes\")\n",
    "plt.title(\"Histograma de RCI Interno inicial\")\n",
    "plt.show()"
   ]
  },
  {
   "cell_type": "code",
   "execution_count": null,
   "metadata": {},
   "outputs": [],
   "source": [
    "plt.figure(figsize=(8,6))\n",
    "plt.hist(ped[\"DfCoutaTotalCreditosExternosConsolidados\"], bins=75, color=\"#22aeae\")\n",
    "plt.xlabel(\"Suma de cuotas externas\")\n",
    "plt.xlim([0, 10000])\n",
    "plt.ylim([0,500])\n",
    "plt.ylabel(\"Clientes\")\n",
    "plt.title(\"Histograma de suma de cuota de créditos externos\")\n",
    "plt.show()"
   ]
  },
  {
   "cell_type": "markdown",
   "metadata": {},
   "source": [
    "## Estimaciones de montos para contagiados"
   ]
  },
  {
   "cell_type": "code",
   "execution_count": null,
   "metadata": {},
   "outputs": [],
   "source": [
    "contagiados = ped[ped[\"CategoriaContagio\"].isin([\"C\", \"D\", \"E\"]) & (ped[\"CATEGORIA_INTERNA\"].isin([\"A\", \"B\", \"C\", \"D\"]))]\n",
    "dic_reservas = {\"C\": 0.45*0.156, \"D\": 0.325*0.45, \"E\": 1}\n",
    "contagiados[\"MAXIMA CATEGORIA\"] = contagiados.apply(lambda x: max(x[\"CategoriaContagio\"], x[\"CATEGORIA_INTERNA\"]), axis=1)\n",
    "contagiados[\"PORCENTAJE RESERVAS\"] = contagiados.apply(lambda x: dic_reservas.get(x[\"MAXIMA CATEGORIA\"]), axis=1)\n",
    "contagiados[\"PORCENTAJE RESERVAS ACTUAL\"] = contagiados.apply(lambda x: dic_reservas.get(x[\"CATEGORIA_INTERNA\"]), axis=1)\n",
    "\n",
    "\n",
    "contagiados[\"RESERVAS A PAGAR CONTAGIO\"] = contagiados[\"PORCENTAJE RESERVAS\"] * contagiados[\"TOTAL_SALDO\"]\n",
    "contagiados[\"RESERVAS ACTUALES\"] = contagiados[\"PORCENTAJE RESERVAS ACTUAL\"] * contagiados[\"TOTAL_SALDO\"]\n",
    "\n",
    "contagiados[\"SE CONTAGIA\"] = np.where(contagiados[\"CATEGORIA_INTERNA\"] != contagiados[\"MAXIMA CATEGORIA\"], 1, 0)"
   ]
  },
  {
   "cell_type": "code",
   "execution_count": null,
   "metadata": {},
   "outputs": [],
   "source": [
    "contagio_nivel_cliente = contagiados.drop_duplicates(subset=\"DPI\")\n",
    "contagio_nivel_cliente.agg(\n",
    "    RESERVAS_CONTAGIO=(\"RESERVAS A PAGAR CONTAGIO\", \"sum\"),\n",
    "    SALDO_OTORGADO=(\"TOTAL_DESEMBOLSO\", \"sum\"),\n",
    ")\n",
    "\n",
    "reservas_contagio = contagio_nivel_cliente.loc[contagio_nivel_cliente[\"SE CONTAGIA\"] == 1][\"RESERVAS A PAGAR CONTAGIO\"].sum()\n",
    "reservas_obligatorias = contagio_nivel_cliente.loc[contagio_nivel_cliente[\"SE CONTAGIA\"] == 1][\"RESERVAS ACTUALES\"].sum()\n",
    "print(f\"Las reservas por contagio serían de {(reservas_contagio - reservas_obligatorias) / 10**6} M\")"
   ]
  },
  {
   "cell_type": "code",
   "execution_count": null,
   "metadata": {},
   "outputs": [],
   "source": [
    "contagio_nivel_cliente[\"MAXIMA CATEGORIA\"].value_counts()"
   ]
  },
  {
   "cell_type": "code",
   "execution_count": null,
   "metadata": {},
   "outputs": [],
   "source": [
    "import seaborn as sns\n",
    "\n",
    "conteo_cruzado = pd.crosstab(contagio_nivel_cliente[\"CATEGORIA_INTERNA\"], contagio_nivel_cliente[\"CategoriaContagio\"])\n",
    "plt.figure(figsize=(8,6))\n",
    "sns.heatmap(conteo_cruzado, annot=True, fmt=\"d\", cmap=\"YlGnBu\", cbar=True)\n",
    "plt.xlabel(\"Categoría externa\")\n",
    "plt.ylabel(\"Categoría interna\")\n",
    "plt.title(\"Distribución de categorías internas y externas\")\n",
    "plt.show()"
   ]
  },
  {
   "cell_type": "markdown",
   "metadata": {},
   "source": [
    "## Ver razones de rechazo"
   ]
  },
  {
   "cell_type": "code",
   "execution_count": null,
   "metadata": {},
   "outputs": [],
   "source": [
    "rechazo = pd.read_csv(\"../db/razones_rechazo.csv\")"
   ]
  },
  {
   "cell_type": "code",
   "execution_count": null,
   "metadata": {},
   "outputs": [],
   "source": [
    "dpis = contagiados[\"DPI\"].unique().tolist()\n",
    "rechazo[\"CONTAGIADO\"] = np.where(rechazo[\"dpi\"].isin(dpis), 1, 0)\n",
    "rechazo = rechazo[rechazo[\"CONTAGIADO\"] == 1]"
   ]
  },
  {
   "cell_type": "code",
   "execution_count": null,
   "metadata": {},
   "outputs": [],
   "source": [
    "# Ahora veamos cuáles son los motivos de rechazo\n",
    "cols = [\"dpi\", \"no_precalificacion\", \"SEGMENTO_PRODUCTO\",\n",
    "        'rciGlobalInicialDeudor', 'rciGlobalFinalDeudor',\n",
    "       'rciInternoFinalDeudor', 'rciInternoInicialDeudor',\n",
    "        \"nombrepatrono\", 'monto', 'plazo', 'tasa',\n",
    "        'conSaldoCreditoBT', 'conSaldoCreditoExt', 'conSaldoFactorajeExt',\n",
    "        'conSaldoTcBT', 'conSaldoTcExt', 'tipoCliente',\n",
    "        \"scoreDeudorInstallmentQnt\",\n",
    "        \"scoreDeudorInstallmentQualPacing\",\n",
    "        \"reglaNombre\", \"tipooferta\", \"Oferta\"]\n",
    "\n",
    "rojas = rechazo[cols]\n",
    "rojas = pd.get_dummies(rojas, columns=[\"reglaNombre\"])\n",
    "\n",
    "cols_one_hot = [col for col in rojas.columns if \"reglaNombre_\" in col]\n",
    "rojas = rojas.groupby(by=\"dpi\").agg({**{col: 'max' for col in cols_one_hot}, \n",
    "                                     **{col: \"first\" for col in rojas.columns.tolist() if col not in cols_one_hot\n",
    "                                        and col != \"dpi\"}}).reset_index()\n",
    "\n",
    "for col in cols_one_hot:\n",
    "    rojas[col] = rojas[col].astype(str).str.replace(\"True\", \"1\")\n",
    "    rojas[col] = rojas[col].astype(str).str.replace(\"False\", \"0\")\n",
    "    rojas[col] = rojas[col].astype(\"int64\")\n",
    "\n",
    "    "
   ]
  },
  {
   "cell_type": "code",
   "execution_count": null,
   "metadata": {},
   "outputs": [],
   "source": [
    "conteo = {}\n",
    "for col in cols_one_hot:\n",
    "    conteo[col] = [rojas[col].sum()]\n",
    "\n",
    "df_conteo = pd.DataFrame.from_dict(conteo)\n",
    "df_conteo"
   ]
  },
  {
   "cell_type": "code",
   "execution_count": null,
   "metadata": {},
   "outputs": [],
   "source": [
    "principales = []\n",
    "for col in df_conteo.columns:\n",
    "    if df_conteo.loc[0, col] >= 115:\n",
    "        principales.append(col)\n",
    "\n",
    "df_principales = df_conteo[principales]\n",
    "\n",
    "x = np.arange(len(df_principales))\n",
    "colores = colores = [\n",
    "    '#FF5733',  # Rojo anaranjado\n",
    "    '#33FF57',  # Verde\n",
    "    '#3357FF',  # Azul\n",
    "    '#F1C40F',  # Amarillo\n",
    "    '#9B59B6',  # Púrpura\n",
    "    '#1ABC9C',  # Turquesa\n",
    "    '#E74C3C',  # Rojo intenso\n",
    "    '#3498DB',  # Azul claro\n",
    "    '#2ECC71',  # Verde claro\n",
    "    '#E67E22',  # Naranja\n",
    "    '#ECF0F1',  # Gris claro\n",
    "    '#95A5A6',  # Gris oscuro\n",
    "    '#D35400',  # Naranja oscuro\n",
    "    '#16A085',  # Verde azulado\n",
    "    '#8E44AD',  # Púrpura oscuro\n",
    "    '#27AE60',  # Verde fuerte\n",
    "    '#2980B9',  # Azul intenso\n",
    "    '#C0392B',  # Rojo fuerte\n",
    "    '#F39C12',  # Amarillo anaranjado\n",
    "    '#BDC3C7'   # Gris suave\n",
    "]\n",
    "\n",
    "\n",
    "# Crear el gráfico de barras para cada columna\n",
    "width = 0.25  # El ancho de cada barra\n",
    "\n",
    "fig, ax = plt.subplots()\n",
    "\n",
    "for i, col in enumerate(principales):\n",
    "    ax.bar(x + i * width - (len(principales) - 1) * width / 2, df_principales[col], width, label=col[12::], color=colores[i])\n",
    "\n",
    "# Añadir etiquetas y título\n",
    "ax.set_xlabel('Regla', fontsize=14)\n",
    "ax.set_ylabel('Clientes rechazados por la regla', fontsize=14)\n",
    "ax.set_title('Principales reglas de rechazos en Precalificaciones Horus', fontsize=16)\n",
    "\n",
    "# Posicionar la leyenda\n",
    "ax.legend(loc='upper left', bbox_to_anchor=(1, 1), fontsize=8)\n",
    "\n",
    "# Ajustar las etiquetas del eje X\n",
    "ax.set_xticks(x)\n",
    "ax.set_xticklabels([f'Fila {i}' for i in range(len(df_principales))], fontsize=1)\n",
    "\n",
    "# Mostrar el gráfico\n",
    "plt.show()"
   ]
  },
  {
   "cell_type": "code",
   "execution_count": null,
   "metadata": {},
   "outputs": [],
   "source": [
    "contagio_nivel_cliente[\"PATRONO\"].value_counts().reset_index(name=\"Clientes\").head(4)\n",
    "\n",
    "plt.figure(figsize=(8,6))\n",
    "dic_traduccion = {\n",
    "    \"Ministerio De Educacion\": \"MINEDUC\",\n",
    "    \"Ministerio De Gobernacion\": \"MINGOB\",\n",
    "    \"Ministerio Salud Publica Presupuesto\": \"MSPAS\",\n",
    "    \"Estado (pasivas)\": \"Pasivas\"\n",
    "}\n",
    "\n",
    "data = contagio_nivel_cliente[\"PATRONO\"].value_counts().head(4)\n",
    "data.index = data.index.map(lambda x: dic_traduccion.get(x, x))  \n",
    "data.plot(kind=\"bar\", color=[\"#dc0464\", \"#22aeae\", \n",
    "                                                                   \"#a3abb3\", \"#fbdc05\",\n",
    "                                                                   \"#f2ebea\"])\n",
    "\n",
    "\n",
    "plt.title(\"Clientes según su patrono\")\n",
    "plt.xlabel(\"Patrono\")\n",
    "plt.ylabel(\"Clientes\")\n",
    "plt.show()"
   ]
  },
  {
   "cell_type": "markdown",
   "metadata": {},
   "source": [
    "## Evaluar a quiénes sí vale la pena consolidar financieramente"
   ]
  },
  {
   "cell_type": "code",
   "execution_count": null,
   "metadata": {},
   "outputs": [],
   "source": [
    "def vale_la_pena_consolidar(cat_interna: str, cat_externa: str, \n",
    "                            saldo_interno: float, saldo_externo: float) -> bool:\n",
    "    dic_categorias = {\"A\": 0.036*0.45, \"B\": 0.45*0.086, \"C\": 0.45*0.156,\n",
    "                      \"D\": 0.325*0.45, \"E\": 1}\n",
    "    cat_interna = dic_categorias.get(cat_interna)\n",
    "    cat_externa = dic_categorias.get(cat_externa)\n",
    "    vale_la_pena = 0\n",
    "    coeficiente_prueba = cat_interna * saldo_externo / saldo_interno + 2 * cat_interna\n",
    "    try:\n",
    "        if cat_externa >= coeficiente_prueba:\n",
    "            vale_la_pena = 1\n",
    "    except:\n",
    "        vale_la_pena = 0\n",
    "    return vale_la_pena"
   ]
  },
  {
   "cell_type": "code",
   "execution_count": null,
   "metadata": {},
   "outputs": [],
   "source": [
    "conteo_nivel_cliente_temp = contagio_nivel_cliente.groupby(by=\"DPI\")[\"saldo\"].sum().reset_index()\n",
    "conteo_nivel_cliente_temp.columns = [\"DPI\", \"Saldo_externo\"]\n",
    "\n",
    "contagio_nivel_cliente = pd.merge(contagio_nivel_cliente, conteo_nivel_cliente_temp)\n",
    "contagio_nivel_cliente[\"VALE LA PENA CONSOLIDAR\"] = contagio_nivel_cliente.apply(lambda x: vale_la_pena_consolidar(\n",
    "x[\"CATEGORIA_INTERNA\"], x[\"PeorCategoria\"], x[\"TOTAL_SALDO\"], x[\"Saldo_externo\"]\n",
    "), axis=1)"
   ]
  },
  {
   "cell_type": "markdown",
   "metadata": {},
   "source": [
    "## Evaluar oferta promedio"
   ]
  },
  {
   "cell_type": "code",
   "execution_count": null,
   "metadata": {},
   "outputs": [],
   "source": [
    "# Reemplazar valores 1 y 0 por \"Sí\" y \"No\"\n",
    "conteo = contagio_nivel_cliente[\"VALE LA PENA CONSOLIDAR\"].replace({1: \"Sí\", 0: \"No\"}).value_counts()\n",
    "\n",
    "# Graficar los datos\n",
    "plt.figure(figsize=(8,6))\n",
    "ax = conteo.plot(kind=\"bar\", color=[\"#dc0464\", \"#22aeae\"])\n",
    "\n",
    "# Añadir etiquetas con la cantidad de clientes encima de cada barra\n",
    "for p in ax.patches:\n",
    "    ax.annotate(str(p.get_height()), (p.get_x() + p.get_width() / 2, p.get_height()), \n",
    "                ha='center', va='bottom')\n",
    "\n",
    "# Etiquetas y título\n",
    "plt.title(\"Clientes según si vale la pena consolidarlos\")\n",
    "plt.xlabel(\"¿Conviene financieramente?\")\n",
    "plt.ylabel(\"Clientes\")\n",
    "plt.show()"
   ]
  },
  {
   "cell_type": "code",
   "execution_count": null,
   "metadata": {},
   "outputs": [],
   "source": [
    "# Reemplazar valores 1 y 0 por \"Sí\" y \"No\"\n",
    "conteo = contagio_nivel_cliente[\"VALE LA PENA CONSOLIDAR\"].replace({1: \"Sí\", 0: \"No\"}).value_counts()\n",
    "\n",
    "# Graficar los datos en un gráfico de pastel\n",
    "plt.figure(figsize=(8,6))\n",
    "ax = conteo.plot(kind=\"pie\", autopct='%1.1f%%', startangle=90, colors=[\"#22aeae\", \"#dc0464\"])\n",
    "\n",
    "# Título y configuración del gráfico\n",
    "plt.title(\"Clientes según si vale la pena consolidarlos\")\n",
    "plt.ylabel(\"\")  # Eliminar etiqueta del eje y, innecesaria en el gráfico de pastel\n",
    "plt.show()"
   ]
  },
  {
   "cell_type": "code",
   "execution_count": null,
   "metadata": {},
   "outputs": [],
   "source": [
    "def calcular_nuevo_rci(salario, tasa, plazo, saldo_interno, saldo_externo, rci_actual, cumple_15):\n",
    "    nueva_oferta = calcular_cuota(saldo_externo, tasa, plazo) / salario\n",
    "    if not cumple_15:\n",
    "        nuevo =  nueva_oferta + rci_actual\n",
    "    elif cumple_15:\n",
    "        nuevo = nueva_oferta + calcular_cuota(saldo_interno, tasa, plazo) / salario\n",
    "    return nuevo\n",
    "\n",
    "# ahora hacer una estimacion con los que si valen la pena\n",
    "mascara_consolidacion = contagio_nivel_cliente[\"VALE LA PENA CONSOLIDAR\"] == 1\n",
    "\n",
    "salario_promedio = contagio_nivel_cliente.loc[mascara_consolidacion][\"DfIngresosValidados\"].mean()\n",
    "saldo_promedio_externo = contagio_nivel_cliente.loc[mascara_consolidacion][\"Saldo_externo\"].mean()\n",
    "saldo_promedio_interno = contagio_nivel_cliente.loc[mascara_consolidacion][\"TOTAL_SALDO\"].mean()\n",
    "\n",
    "estimador_tasa = 12\n",
    "\n",
    "\n",
    "contagio_nivel_cliente[\"DfIngresosValidados\"].fillna(salario_promedio, inplace=True)\n",
    "contagio_nivel_cliente.loc[mascara_consolidacion, \"NUEVO RCI INTERNO\"] = contagio_nivel_cliente.loc[mascara_consolidacion].apply(lambda x: calcular_nuevo_rci(\n",
    "    x[\"DfIngresosValidados\"], estimador_tasa/1200, 120, x[\"TOTAL_SALDO\"], x[\"Saldo_externo\"], x[\"DfRciInternoInicialDeudor\"], x[\"PAGA RESERVAS\"]\n",
    "), axis=1)\n",
    "\n"
   ]
  },
  {
   "cell_type": "code",
   "execution_count": null,
   "metadata": {},
   "outputs": [],
   "source": [
    "plt.figure(figsize=(8,6))\n",
    "plt.hist(contagio_nivel_cliente[\"NUEVO RCI INTERNO\"], bins=700, color=\"#fbdc05\")\n",
    "plt.xlabel(\"Nuevo RCI Interno\")\n",
    "plt.xlim([0, 1.5])\n",
    "plt.ylim([0,175])\n",
    "plt.ylabel(\"Clientes\")\n",
    "plt.title(f\"Histograma de Nuevo RCI Interno con simulación de TPP de {estimador_tasa}%\")\n",
    "plt.show()"
   ]
  },
  {
   "cell_type": "code",
   "execution_count": null,
   "metadata": {},
   "outputs": [],
   "source": [
    "cant_clientes_viables = len(contagio_nivel_cliente[contagio_nivel_cliente[\"NUEVO RCI INTERNO\"] < 0.6])\n",
    "saldo_comprar = contagio_nivel_cliente[contagio_nivel_cliente[\"VALE LA PENA CONSOLIDAR\"] == 1][\"Saldo_externo\"].sum()\n",
    "promedio_saldo_cliente = contagio_nivel_cliente[contagio_nivel_cliente[\"VALE LA PENA CONSOLIDAR\"] == 1][\"Saldo_externo\"].mean()\n",
    "rci_promedio = contagio_nivel_cliente[(contagio_nivel_cliente[\"VALE LA PENA CONSOLIDAR\"] == 1) & (contagio_nivel_cliente[\"NUEVO RCI INTERNO\"] < 60)][\"NUEVO RCI INTERNO\"].mean()\n",
    "ingreso_fin_promedio_12 = ingresos_financieros(promedio_saldo_cliente, estimador_tasa/1200, 120, 12)\n",
    "reservas_evitadas = contagio_nivel_cliente[(contagio_nivel_cliente[\"NUEVO RCI INTERNO\"] < 60) & (contagio_nivel_cliente[\"VALE LA PENA CONSOLIDAR\"] == 1)][\"RESERVAS A PAGAR CONTAGIO\"].sum()"
   ]
  },
  {
   "cell_type": "code",
   "execution_count": null,
   "metadata": {},
   "outputs": [],
   "source": [
    "print(f\"Cantidad de clientes aplicables: {cant_clientes_viables}\")\n",
    "print(f\"Saldo total a comprar {saldo_comprar / 10**6} M\")\n",
    "print(f\"Promedio saldo a consolidar por cliente: {promedio_saldo_cliente / 10**3} K\")\n",
    "print(f\"Nuevo RCI promedio: {rci_promedio}\")\n",
    "print(f\"Ingreso financiero promedio a 12 meses por estos clientes y consoliacioens: {ingreso_fin_promedio_12}\")\n",
    "print(f\"Reservas evitadas en estos clients: {reservas_evitadas / 10**6}\")"
   ]
  },
  {
   "cell_type": "code",
   "execution_count": null,
   "metadata": {},
   "outputs": [],
   "source": [
    "reservas_inevitables = contagio_nivel_cliente[(contagio_nivel_cliente[\"VALE LA PENA CONSOLIDAR\"] == 0) | (contagio_nivel_cliente[\"NUEVO RCI INTERNO\"] >= 60)][\"RESERVAS A PAGAR CONTAGIO\"].sum()\n",
    "saldo_que_contagiar = contagio_nivel_cliente[(contagio_nivel_cliente[\"VALE LA PENA CONSOLIDAR\"] == 0) | (contagio_nivel_cliente[\"NUEVO RCI INTERNO\"] >= 60)][\"TOTAL_SALDO\"].sum()\n",
    "\n",
    "print(f\"Reservas inevitables: {reservas_inevitables / 10**6} M\")\n",
    "print(f\"Saldo que inevitablemente se va a contagiar: {saldo_que_contagiar / 10**6} M\")"
   ]
  },
  {
   "cell_type": "code",
   "execution_count": null,
   "metadata": {},
   "outputs": [],
   "source": [
    "len(contagio_nivel_cliente)"
   ]
  },
  {
   "cell_type": "markdown",
   "metadata": {},
   "source": [
    "## Estudio 2025"
   ]
  },
  {
   "cell_type": "code",
   "execution_count": null,
   "metadata": {},
   "outputs": [],
   "source": [
    "base_contagio_nivel_cliente = base_contagio.drop_duplicates(subset=\"DPI\")\n",
    "cat_a_ext = len(base_contagio_nivel_cliente[base_contagio_nivel_cliente[\"PeorCategoria\"] == \"A\"]) / len(base_contagio_nivel_cliente)\n",
    "cat_b_ext = len(base_contagio_nivel_cliente[base_contagio_nivel_cliente[\"PeorCategoria\"] == \"B\"]) / len(base_contagio_nivel_cliente)\n",
    "\n",
    "cat_a_int = len(base_contagio_nivel_cliente[base_contagio_nivel_cliente[\"CATEGORIA_INTERNA\"] == \"A\"]) / len(base_contagio_nivel_cliente)\n",
    "cat_b_int = len(base_contagio_nivel_cliente[base_contagio_nivel_cliente[\"CATEGORIA_INTERNA\"] == \"B\"]) / len(base_contagio_nivel_cliente)\n",
    "\n",
    "potencial_reservas_ext = (0.036*0.45 * cat_a_ext + 0.45*0.086* cat_b_ext) * base_contagio_nivel_cliente[\"SALDO EXTERNO CLIENTE\"].sum()\n",
    "potencial_reservas_int = (0.036*0.45 * cat_b_int + 0.45*0.086 * cat_b_int) * base_contagio_nivel_cliente[\"TOTAL_SALDO\"].sum()\n",
    "\n",
    "reservas_2025 = potencial_reservas_ext \n",
    "reservas_2025 / 10**6"
   ]
  },
  {
   "cell_type": "code",
   "execution_count": null,
   "metadata": {},
   "outputs": [],
   "source": [
    "## Ahora veamos los que no tienen categoría\n",
    "cat_c_interna = len(base_contagio_nivel_cliente[base_contagio_nivel_cliente[\"PeorCategoria\"] == \"C\"]) / len(base_contagio_nivel_cliente)\n",
    "cat_d_interna = len(base_contagio_nivel_cliente[base_contagio_nivel_cliente[\"PeorCategoria\"] == \"D\"]) / len(base_contagio_nivel_cliente)\n",
    "cat_e_interna = len(base_contagio_nivel_cliente[base_contagio_nivel_cliente[\"PeorCategoria\"] == \"E\"]) / len(base_contagio_nivel_cliente)\n",
    "\n",
    "reservas = np.array([0.036*0.45, 0.45*0.086, 0.45*0.156, 0.45*0.325, 1])\n",
    "proporciones = np.array([cat_a_int, cat_b_int, cat_c_interna, cat_d_interna, cat_e_interna])\n",
    "#reservas_sin_cat = np.dot(reservas, proporciones) * base_contagio_nivel_cliente.loc[base_contagio_nivel_cliente[\"CATEGORIA_INTERNA\"] == ][\"TOTAL_SALDO\"].sum()\n",
    "#reservas_sin_cat / 10**6"
   ]
  },
  {
   "cell_type": "code",
   "execution_count": null,
   "metadata": {},
   "outputs": [],
   "source": [
    "proporciones_categoria = base_contagio_nivel_cliente[\"PeorCategoria\"].value_counts().reset_index(name=\"Clientes\")\n",
    "proporciones_categoria[\"Proporción\"] = proporciones_categoria[\"Clientes\"] / 104814\n",
    "proporciones_categoria.rename(columns={\"PeorCategoria\": \"Categoría\", \"Proporción\": \"Probabilidad de transición\"}, inplace=True)\n",
    "proporciones_categoria[\"Probabilidad de transición\"] = proporciones_categoria[\"Probabilidad de transición\"] * 100\n",
    "proporciones_categoria[[\"Categoría\", \"Probabilidad de transición\"]].to_latex(\"../db/Probabilidades de transición.txt\")"
   ]
  },
  {
   "cell_type": "code",
   "execution_count": null,
   "metadata": {},
   "outputs": [],
   "source": [
    "proporciones_categoria"
   ]
  },
  {
   "cell_type": "code",
   "execution_count": null,
   "metadata": {},
   "outputs": [],
   "source": [
    "base_contagio[\"FechaSaldos\"].unique()"
   ]
  },
  {
   "cell_type": "markdown",
   "metadata": {},
   "source": [
    "## Sacar reservas 2025: ARIMA"
   ]
  },
  {
   "cell_type": "code",
   "execution_count": 163,
   "metadata": {},
   "outputs": [
    {
     "data": {
      "text/html": [
       "<div>\n",
       "<style scoped>\n",
       "    .dataframe tbody tr th:only-of-type {\n",
       "        vertical-align: middle;\n",
       "    }\n",
       "\n",
       "    .dataframe tbody tr th {\n",
       "        vertical-align: top;\n",
       "    }\n",
       "\n",
       "    .dataframe thead th {\n",
       "        text-align: right;\n",
       "    }\n",
       "</style>\n",
       "<table border=\"1\" class=\"dataframe\">\n",
       "  <thead>\n",
       "    <tr style=\"text-align: right;\">\n",
       "      <th></th>\n",
       "      <th>Fecha</th>\n",
       "      <th>Saldo total</th>\n",
       "      <th>Reserva contagio</th>\n",
       "      <th>PCT</th>\n",
       "    </tr>\n",
       "  </thead>\n",
       "  <tbody>\n",
       "    <tr>\n",
       "      <th>0</th>\n",
       "      <td>2024-06-30</td>\n",
       "      <td>2.481152e+10</td>\n",
       "      <td>17.891043</td>\n",
       "      <td>0.237316</td>\n",
       "    </tr>\n",
       "    <tr>\n",
       "      <th>1</th>\n",
       "      <td>2024-07-31</td>\n",
       "      <td>2.500737e+10</td>\n",
       "      <td>17.840563</td>\n",
       "      <td>0.223867</td>\n",
       "    </tr>\n",
       "    <tr>\n",
       "      <th>2</th>\n",
       "      <td>2024-09-30</td>\n",
       "      <td>2.532904e+10</td>\n",
       "      <td>18.047357</td>\n",
       "      <td>0.271800</td>\n",
       "    </tr>\n",
       "    <tr>\n",
       "      <th>3</th>\n",
       "      <td>2024-08-31</td>\n",
       "      <td>2.518987e+10</td>\n",
       "      <td>18.013100</td>\n",
       "      <td>0.264097</td>\n",
       "    </tr>\n",
       "    <tr>\n",
       "      <th>4</th>\n",
       "      <td>2024-10-31</td>\n",
       "      <td>2.555899e+10</td>\n",
       "      <td>18.074393</td>\n",
       "      <td>0.276736</td>\n",
       "    </tr>\n",
       "  </tbody>\n",
       "</table>\n",
       "</div>"
      ],
      "text/plain": [
       "       Fecha   Saldo total  Reserva contagio       PCT\n",
       "0 2024-06-30  2.481152e+10         17.891043  0.237316\n",
       "1 2024-07-31  2.500737e+10         17.840563  0.223867\n",
       "2 2024-09-30  2.532904e+10         18.047357  0.271800\n",
       "3 2024-08-31  2.518987e+10         18.013100  0.264097\n",
       "4 2024-10-31  2.555899e+10         18.074393  0.276736"
      ]
     },
     "execution_count": 163,
     "metadata": {},
     "output_type": "execute_result"
    }
   ],
   "source": [
    "from math import log\n",
    "historial = pd.read_excel(\"../db/historial_reservas.xlsx\")\n",
    "historial[\"Reserva contagio\"] = pd.to_numeric(historial[\"Reserva contagio\"])\n",
    "historial[\"Reserva contagio\"] = historial.apply(lambda x: log(x[\"Reserva contagio\"]), axis=1)\n",
    "historial"
   ]
  },
  {
   "cell_type": "code",
   "execution_count": 164,
   "metadata": {},
   "outputs": [],
   "source": [
    "## Revisar premisas para aplicar sarima o arima\n",
    "from sklearn.metrics import mean_squared_error, mean_absolute_error\n",
    "from statsmodels.tsa.stattools import adfuller  \n",
    "from statsmodels.tsa.statespace.sarimax import SARIMAX\n",
    "\n",
    "def check_stationarity(timeseries):\n",
    "    result = adfuller(timeseries.dropna())\n",
    "    return result[1]\n",
    "\n",
    "def make_stationary(df, column):\n",
    "    p_value = check_stationarity(df[column])\n",
    "    d = 0\n",
    "    while p_value > 0.05:\n",
    "        df[column] = df[column].diff().dropna()\n",
    "        p_value = check_stationarity(df[column])\n",
    "        d += 1\n",
    "        print(f'{d}-esima diferneciación: p-valor = {p_value}')\n",
    "    return df, d"
   ]
  },
  {
   "cell_type": "code",
   "execution_count": 165,
   "metadata": {},
   "outputs": [
    {
     "name": "stdout",
     "output_type": "stream",
     "text": [
      "1-esima diferneciación: p-valor = 0.49494230539481526\n",
      "1-esima diferneciación: p-valor = 0.11001276896927009\n",
      "1-esima diferneciación: p-valor = 0.004864157329717941\n",
      "1-esima diferneciación: p-valor = 0.0050259013016902415\n"
     ]
    }
   ],
   "source": [
    "for col in historial.columns.tolist():\n",
    "    try:\n",
    "        historicos_estacionaria, d = make_stationary(historial.copy(), col)\n",
    "    except:\n",
    "        pass"
   ]
  },
  {
   "cell_type": "code",
   "execution_count": 166,
   "metadata": {},
   "outputs": [
    {
     "name": "stderr",
     "output_type": "stream",
     "text": [
      "c:\\Users\\mariajose_chinchilla\\AppData\\Local\\Programs\\Python\\Python312\\Lib\\site-packages\\statsmodels\\base\\model.py:607: ConvergenceWarning: Maximum Likelihood optimization failed to converge. Check mle_retvals\n",
      "  warnings.warn(\"Maximum Likelihood optimization failed to \"\n",
      "c:\\Users\\mariajose_chinchilla\\AppData\\Local\\Programs\\Python\\Python312\\Lib\\site-packages\\statsmodels\\base\\model.py:607: ConvergenceWarning: Maximum Likelihood optimization failed to converge. Check mle_retvals\n",
      "  warnings.warn(\"Maximum Likelihood optimization failed to \"\n",
      "c:\\Users\\mariajose_chinchilla\\AppData\\Local\\Programs\\Python\\Python312\\Lib\\site-packages\\statsmodels\\base\\model.py:607: ConvergenceWarning: Maximum Likelihood optimization failed to converge. Check mle_retvals\n",
      "  warnings.warn(\"Maximum Likelihood optimization failed to \"\n",
      "c:\\Users\\mariajose_chinchilla\\AppData\\Local\\Programs\\Python\\Python312\\Lib\\site-packages\\statsmodels\\base\\model.py:607: ConvergenceWarning: Maximum Likelihood optimization failed to converge. Check mle_retvals\n",
      "  warnings.warn(\"Maximum Likelihood optimization failed to \"\n",
      "c:\\Users\\mariajose_chinchilla\\AppData\\Local\\Programs\\Python\\Python312\\Lib\\site-packages\\statsmodels\\base\\model.py:607: ConvergenceWarning: Maximum Likelihood optimization failed to converge. Check mle_retvals\n",
      "  warnings.warn(\"Maximum Likelihood optimization failed to \"\n",
      "c:\\Users\\mariajose_chinchilla\\AppData\\Local\\Programs\\Python\\Python312\\Lib\\site-packages\\statsmodels\\base\\model.py:607: ConvergenceWarning: Maximum Likelihood optimization failed to converge. Check mle_retvals\n",
      "  warnings.warn(\"Maximum Likelihood optimization failed to \"\n",
      "c:\\Users\\mariajose_chinchilla\\AppData\\Local\\Programs\\Python\\Python312\\Lib\\site-packages\\statsmodels\\base\\model.py:607: ConvergenceWarning: Maximum Likelihood optimization failed to converge. Check mle_retvals\n",
      "  warnings.warn(\"Maximum Likelihood optimization failed to \"\n"
     ]
    }
   ],
   "source": [
    "import itertools\n",
    "\n",
    "best_aic_indicator = float(\"inf\")\n",
    "best_pdq_indicator = None\n",
    "best_seasonal_pdq_indicator = None\n",
    "\n",
    "p = q = range(0, 3)\n",
    "d = range(0,1)\n",
    "pdq = list(itertools.product(p, d, q))\n",
    "\n",
    "# seasonal parameter\n",
    "seasonal_pdq = [(x[0], x[1], x[2], 3) for x in pdq]\n",
    "\n",
    "parametros = {}\n",
    "# guardar en nomnre col, parámetro y parámetro estacionario\n",
    "for param in pdq:\n",
    "    for param_seasonal in seasonal_pdq:\n",
    "        try:\n",
    "            mod = SARIMAX(historial[\"Reserva contagio\"], order=param,\n",
    "                        seasonal_order=param_seasonal,\n",
    "                        enforce_stationarity=False,\n",
    "                        enforce_invertibility=False)\n",
    "            results = mod.fit(disp=False)\n",
    "            if results.aic < best_aic_indicator:\n",
    "                best_aic_indicator = results.aic\n",
    "                best_pdq_indicator = param\n",
    "                best_seasonal_pdq_indicator = param_seasonal\n",
    "        except Exception as e:\n",
    "            print(f\"Error with parameters {param} & {param_seasonal}: {e}\")\n",
    "            continue\n",
    "parametros[\"Reserva contagio\"] = (param, param_seasonal)"
   ]
  },
  {
   "cell_type": "code",
   "execution_count": null,
   "metadata": {},
   "outputs": [
    {
     "data": {
      "text/html": [
       "<div>\n",
       "<style scoped>\n",
       "    .dataframe tbody tr th:only-of-type {\n",
       "        vertical-align: middle;\n",
       "    }\n",
       "\n",
       "    .dataframe tbody tr th {\n",
       "        vertical-align: top;\n",
       "    }\n",
       "\n",
       "    .dataframe thead th {\n",
       "        text-align: right;\n",
       "    }\n",
       "</style>\n",
       "<table border=\"1\" class=\"dataframe\">\n",
       "  <thead>\n",
       "    <tr style=\"text-align: right;\">\n",
       "      <th></th>\n",
       "      <th>Predicciones de reserva</th>\n",
       "    </tr>\n",
       "  </thead>\n",
       "  <tbody>\n",
       "    <tr>\n",
       "      <th>2025-01-31</th>\n",
       "      <td>9.983704e+07</td>\n",
       "    </tr>\n",
       "    <tr>\n",
       "      <th>2025-02-28</th>\n",
       "      <td>2.423826e+05</td>\n",
       "    </tr>\n",
       "    <tr>\n",
       "      <th>2025-03-31</th>\n",
       "      <td>2.881793e+05</td>\n",
       "    </tr>\n",
       "    <tr>\n",
       "      <th>2025-04-30</th>\n",
       "      <td>4.668940e+05</td>\n",
       "    </tr>\n",
       "    <tr>\n",
       "      <th>2025-05-31</th>\n",
       "      <td>2.847837e+00</td>\n",
       "    </tr>\n",
       "    <tr>\n",
       "      <th>2025-06-30</th>\n",
       "      <td>3.786332e+00</td>\n",
       "    </tr>\n",
       "    <tr>\n",
       "      <th>2025-07-31</th>\n",
       "      <td>7.041209e+00</td>\n",
       "    </tr>\n",
       "    <tr>\n",
       "      <th>2025-08-31</th>\n",
       "      <td>1.079024e-07</td>\n",
       "    </tr>\n",
       "    <tr>\n",
       "      <th>2025-09-30</th>\n",
       "      <td>1.604268e-07</td>\n",
       "    </tr>\n",
       "    <tr>\n",
       "      <th>2025-10-31</th>\n",
       "      <td>3.424354e-07</td>\n",
       "    </tr>\n",
       "    <tr>\n",
       "      <th>2025-11-30</th>\n",
       "      <td>1.318408e-17</td>\n",
       "    </tr>\n",
       "    <tr>\n",
       "      <th>2025-12-31</th>\n",
       "      <td>2.191986e-17</td>\n",
       "    </tr>\n",
       "  </tbody>\n",
       "</table>\n",
       "</div>"
      ],
      "text/plain": [
       "            Predicciones de reserva\n",
       "2025-01-31             9.983704e+07\n",
       "2025-02-28             2.423826e+05\n",
       "2025-03-31             2.881793e+05\n",
       "2025-04-30             4.668940e+05\n",
       "2025-05-31             2.847837e+00\n",
       "2025-06-30             3.786332e+00\n",
       "2025-07-31             7.041209e+00\n",
       "2025-08-31             1.079024e-07\n",
       "2025-09-30             1.604268e-07\n",
       "2025-10-31             3.424354e-07\n",
       "2025-11-30             1.318408e-17\n",
       "2025-12-31             2.191986e-17"
      ]
     },
     "execution_count": 183,
     "metadata": {},
     "output_type": "execute_result"
    }
   ],
   "source": [
    "predicciones_df = pd.DataFrame(index=pd.date_range(start='2025-01-01', periods=12, freq='M'))\n",
    "\n",
    "modelo = SARIMAX(historicos_estacionaria[\"Reserva contagio\"],\n",
    "                        order=(1,1,1),\n",
    "                        seasonal_order=(2,2,1,2),\n",
    "                        enforce_invertibility=False,\n",
    "                        enforce_stationarity=False)\n",
    "\n",
    "modelo_fitted = modelo.fit(disp=False)\n",
    "pred = modelo_fitted.forecast(steps=12)\n",
    "\n",
    "# Crear índice de fechas desde enero 2025 a diciembre 2025 para las predicciones\n",
    "pred.index = pd.date_range(start='2025-01-01', periods=12, freq='M')\n",
    "\n",
    "# Almacenar las predicciones en el DataFrame\n",
    "predicciones_df[\"Predicciones de reserva\"] = pred\n",
    "\n",
    "from math import exp\n",
    "predicciones_df[\"Predicciones de reserva\"] = predicciones_df.apply(lambda x: exp(x[\"Predicciones de reserva\"]), axis=1)\n",
    "predicciones_df"
   ]
  },
  {
   "cell_type": "code",
   "execution_count": 185,
   "metadata": {},
   "outputs": [
    {
     "data": {
      "text/plain": [
       "203.66756276960285"
      ]
     },
     "execution_count": 185,
     "metadata": {},
     "output_type": "execute_result"
    }
   ],
   "source": [
    "predicciones_df[\"Predicciones de reserva\"].max() * 1.02 * 2 / 10**6"
   ]
  },
  {
   "cell_type": "code",
   "execution_count": null,
   "metadata": {},
   "outputs": [],
   "source": []
  }
 ],
 "metadata": {
  "kernelspec": {
   "display_name": "Python 3",
   "language": "python",
   "name": "python3"
  },
  "language_info": {
   "codemirror_mode": {
    "name": "ipython",
    "version": 3
   },
   "file_extension": ".py",
   "mimetype": "text/x-python",
   "name": "python",
   "nbconvert_exporter": "python",
   "pygments_lexer": "ipython3",
   "version": "3.12.1"
  }
 },
 "nbformat": 4,
 "nbformat_minor": 2
}
