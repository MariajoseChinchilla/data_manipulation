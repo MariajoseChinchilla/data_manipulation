{
 "cells": [
  {
   "cell_type": "code",
   "execution_count": 1,
   "metadata": {},
   "outputs": [],
   "source": [
    "import pandas as pd"
   ]
  },
  {
   "cell_type": "code",
   "execution_count": 2,
   "metadata": {},
   "outputs": [],
   "source": [
    "a = pd.read_csv(\"../db/SQL script 1.csv\")\n",
    "b = pd.read_csv(\"../db/SQL script 2.csv\")"
   ]
  },
  {
   "cell_type": "code",
   "execution_count": 4,
   "metadata": {},
   "outputs": [
    {
     "data": {
      "text/plain": [
       "Index(['FEC_SALDO', 'FECHA_APERTURA', 'F_COSECHA', 'PERFORMANCE', 'NO_CREDITO',\n",
       "       'CODIGO_CLIENTE', 'TIPO_CLIENTE', 'TIPO_PROMOCION_CREDITO',\n",
       "       'TIPO_PROMO_2', 'ES_RECREDITO', 'ES_APERTURA', 'ES_CANCELACION',\n",
       "       'COD_PATRONO_ORIGINAL', 'CODIGO_PRODUCTO', 'PRODUCTO', 'F_FIADOR',\n",
       "       'CODIGO_PATRONO', 'Banca', 'Segmento', 'TipoPago', 'DESEMBOLSO',\n",
       "       'MONTO_DESEMBOLSADO', 'DESEMBOLSO_NETO', 'TASA_ORIGINAL',\n",
       "       'PLAZO_ORIGINAL', 'FACTOR_TPP_MONTO', 'CANCELACION_ANT',\n",
       "       'CANCELACION_ULT_CUOTA', 'CANCELACION_TOTAL', 'REMESA',\n",
       "       'ABONO_EXTRAORDINARIO', 'CRECIMIENTO', 'SALDO', 'SALDO2', 'val_saldo',\n",
       "       'CANTIDAD_DIAS_ATRASO', 'BUCKET', 'BUCKET_PANA', 'EVER_MORA',\n",
       "       'NO_CREDITO.1', 'no_precalificacion', 'dpi', 'outIngresos',\n",
       "       'rciInternoInicialDeudor', 'rciInternoFinalDeudor',\n",
       "       'rciGlobalInicialDeudor', 'rciGlobalFinalDeudor',\n",
       "       'scoredeudorinstallmentqualpacing', 'scoredeudorinstallmentqualpricing',\n",
       "       'conSaldoCreditoExt'],\n",
       "      dtype='object')"
      ]
     },
     "execution_count": 4,
     "metadata": {},
     "output_type": "execute_result"
    }
   ],
   "source": [
    "a.columns"
   ]
  },
  {
   "cell_type": "code",
   "execution_count": 5,
   "metadata": {},
   "outputs": [
    {
     "data": {
      "text/plain": [
       "Index(['DnNoPrecalificacion', 'DxDpi', 'DxNit', 'DxEstadoCivil', 'DnEdad',\n",
       "       'DxTipoCliente', 'DxTipoVivienda', 'DnScoreCodeudorTuca',\n",
       "       'DnIngresosValidos', 'DnCategoriaRiesgo', 'DnRciInternoInicial',\n",
       "       'DnRciGlobalInicial', 'DnMesProcesamiento', 'DxOtroEmpleo', 'DxGenero',\n",
       "       'DnIsr', 'DnOtrasDeducciones', 'DnDiasLaborandoActualmente',\n",
       "       'DnDiasPeriodoLaborando', 'DnIngresoValidoAceptable',\n",
       "       'DxCategoriaRiesgo', 'DnSalarioBase', 'DnOtrosIngresos',\n",
       "       'DnBonificaciones', 'DnComisiones', 'DnDescuentosJudiciales', 'DnIgss'],\n",
       "      dtype='object')"
      ]
     },
     "execution_count": 5,
     "metadata": {},
     "output_type": "execute_result"
    }
   ],
   "source": [
    "b.columns"
   ]
  },
  {
   "cell_type": "code",
   "execution_count": 8,
   "metadata": {},
   "outputs": [],
   "source": [
    "c = pd.merge(a, b, left_on=\"dpi\", right_on=\"DxDpi\", how=\"left\")"
   ]
  },
  {
   "cell_type": "code",
   "execution_count": null,
   "metadata": {},
   "outputs": [
    {
     "data": {
      "text/plain": [
       "dpi\n",
       "1.666848e+12    12\n",
       "1.982733e+12    12\n",
       "2.492202e+12    12\n",
       "2.229428e+12    12\n",
       "2.413261e+12    12\n",
       "                ..\n",
       "2.827403e+12     1\n",
       "2.187451e+12     1\n",
       "1.997145e+12     1\n",
       "2.606475e+12     1\n",
       "2.373157e+12     1\n",
       "Name: count, Length: 69729, dtype: int64"
      ]
     },
     "execution_count": 10,
     "metadata": {},
     "output_type": "execute_result"
    }
   ],
   "source": []
  }
 ],
 "metadata": {
  "kernelspec": {
   "display_name": "Python 3",
   "language": "python",
   "name": "python3"
  },
  "language_info": {
   "codemirror_mode": {
    "name": "ipython",
    "version": 3
   },
   "file_extension": ".py",
   "mimetype": "text/x-python",
   "name": "python",
   "nbconvert_exporter": "python",
   "pygments_lexer": "ipython3",
   "version": "3.12.1"
  }
 },
 "nbformat": 4,
 "nbformat_minor": 2
}
