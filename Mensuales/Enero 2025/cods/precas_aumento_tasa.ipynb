{
 "cells": [
  {
   "cell_type": "code",
   "execution_count": 6,
   "metadata": {},
   "outputs": [],
   "source": [
    "import pandas as pd\n",
    "import matplotlib.pyplot as plt"
   ]
  },
  {
   "cell_type": "code",
   "execution_count": 2,
   "metadata": {},
   "outputs": [],
   "source": [
    "precas = pd.read_csv(\"../db/precalificaciones.csv\")\n",
    "precas = precas.drop_duplicates(subset=\"DPI\")\n",
    "base = pd.read_excel(\"../db/Salidas/Aumento_cartera/Formato_iniciativa_mitigacion_remesa_todos.xlsx\")"
   ]
  },
  {
   "cell_type": "code",
   "execution_count": 3,
   "metadata": {},
   "outputs": [
    {
     "data": {
      "text/plain": [
       "9349"
      ]
     },
     "execution_count": 3,
     "metadata": {},
     "output_type": "execute_result"
    }
   ],
   "source": [
    "len(base)"
   ]
  },
  {
   "cell_type": "code",
   "execution_count": 4,
   "metadata": {},
   "outputs": [
    {
     "data": {
      "text/html": [
       "<div>\n",
       "<style scoped>\n",
       "    .dataframe tbody tr th:only-of-type {\n",
       "        vertical-align: middle;\n",
       "    }\n",
       "\n",
       "    .dataframe tbody tr th {\n",
       "        vertical-align: top;\n",
       "    }\n",
       "\n",
       "    .dataframe thead th {\n",
       "        text-align: right;\n",
       "    }\n",
       "</style>\n",
       "<table border=\"1\" class=\"dataframe\">\n",
       "  <thead>\n",
       "    <tr style=\"text-align: right;\">\n",
       "      <th></th>\n",
       "      <th>DPI</th>\n",
       "      <th>MontoOfertaNuevo</th>\n",
       "      <th>MontoOfertaRecredito</th>\n",
       "      <th>PlazoOferta</th>\n",
       "      <th>FechaPrecalificacion</th>\n",
       "      <th>ColorPrecalificacion</th>\n",
       "    </tr>\n",
       "  </thead>\n",
       "  <tbody>\n",
       "    <tr>\n",
       "      <th>0</th>\n",
       "      <td>3100870580614</td>\n",
       "      <td>6195.955533</td>\n",
       "      <td>6967.579502</td>\n",
       "      <td>60</td>\n",
       "      <td>NaN</td>\n",
       "      <td>NaN</td>\n",
       "    </tr>\n",
       "    <tr>\n",
       "      <th>1</th>\n",
       "      <td>2348353620101</td>\n",
       "      <td>15161.490772</td>\n",
       "      <td>15161.490772</td>\n",
       "      <td>48</td>\n",
       "      <td>NaN</td>\n",
       "      <td>NaN</td>\n",
       "    </tr>\n",
       "  </tbody>\n",
       "</table>\n",
       "</div>"
      ],
      "text/plain": [
       "             DPI  MontoOfertaNuevo  MontoOfertaRecredito  PlazoOferta  \\\n",
       "0  3100870580614       6195.955533           6967.579502           60   \n",
       "1  2348353620101      15161.490772          15161.490772           48   \n",
       "\n",
       "  FechaPrecalificacion ColorPrecalificacion  \n",
       "0                  NaN                  NaN  \n",
       "1                  NaN                  NaN  "
      ]
     },
     "execution_count": 4,
     "metadata": {},
     "output_type": "execute_result"
    }
   ],
   "source": [
    "final = pd.merge(base, precas, on=\"DPI\", how=\"left\")\n",
    "final.drop(columns=\"TasaOferta\", inplace=True)\n",
    "final.head(2)"
   ]
  },
  {
   "cell_type": "code",
   "execution_count": 8,
   "metadata": {},
   "outputs": [
    {
     "data": {
      "image/png": "[encoded data removed]",
      "text/plain": [
       "<Figure size 640x480 with 1 Axes>"
      ]
     },
     "metadata": {},
     "output_type": "display_data"
    }
   ],
   "source": [
    "final[\"ColorPrecalificacion\"].fillna(\"Sin precalificación\", inplace=True)\n",
    "conteo_colores = final[\"ColorPrecalificacion\"].value_counts().reset_index(name=\"Conteo\")\n",
    "plt.bar(conteo_colores[\"ColorPrecalificacion\"], conteo_colores[\"Conteo\"])\n",
    "plt.show()"
   ]
  },
  {
   "cell_type": "code",
   "execution_count": 9,
   "metadata": {},
   "outputs": [],
   "source": [
    "final.to_excel(\"../db/Salidas/Aumento_cartera/Robert_con_precalificacion.xlsx\")"
   ]
  }
 ],
 "metadata": {
  "kernelspec": {
   "display_name": "Python 3",
   "language": "python",
   "name": "python3"
  },
  "language_info": {
   "codemirror_mode": {
    "name": "ipython",
    "version": 3
   },
   "file_extension": ".py",
   "mimetype": "text/x-python",
   "name": "python",
   "nbconvert_exporter": "python",
   "pygments_lexer": "ipython3",
   "version": "3.12.1"
  }
 },
 "nbformat": 4,
 "nbformat_minor": 2
}
