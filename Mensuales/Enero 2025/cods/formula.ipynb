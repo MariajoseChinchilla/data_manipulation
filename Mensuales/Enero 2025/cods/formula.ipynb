{
 "cells": [
  {
   "cell_type": "code",
   "execution_count": 1,
   "metadata": {},
   "outputs": [],
   "source": [
    "def formula(tasa, plazo, periodo):\n",
    "    n1 = 1 / tasa - ((1 + tasa)**plazo) / (tasa * (1 + tasa)**plazo - tasa)\n",
    "    n2 = (1 + tasa) ** periodo - 1\n",
    "    n3 = periodo * (1 + tasa)**plazo / ((1 + tasa)**plazo - 1)\n",
    "    return n1 * n2 + n3"
   ]
  },
  {
   "cell_type": "code",
   "execution_count": 2,
   "metadata": {},
   "outputs": [
    {
     "data": {
      "text/plain": [
       "11.434595587167067"
      ]
     },
     "execution_count": 2,
     "metadata": {},
     "output_type": "execute_result"
    }
   ],
   "source": [
    "formula(0.01834/12, 108, 12)"
   ]
  },
  {
   "cell_type": "code",
   "execution_count": null,
   "metadata": {},
   "outputs": [],
   "source": []
  }
 ],
 "metadata": {
  "kernelspec": {
   "display_name": "Python 3",
   "language": "python",
   "name": "python3"
  },
  "language_info": {
   "codemirror_mode": {
    "name": "ipython",
    "version": 3
   },
   "file_extension": ".py",
   "mimetype": "text/x-python",
   "name": "python",
   "nbconvert_exporter": "python",
   "pygments_lexer": "ipython3",
   "version": "3.12.1"
  }
 },
 "nbformat": 4,
 "nbformat_minor": 2
}
