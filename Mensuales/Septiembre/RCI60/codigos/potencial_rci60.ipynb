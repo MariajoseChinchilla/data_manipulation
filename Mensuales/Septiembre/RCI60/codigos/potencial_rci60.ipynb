{
 "cells": [
  {
   "cell_type": "markdown",
   "metadata": {},
   "source": [
    "# Potencial RCI 60"
   ]
  },
  {
   "cell_type": "markdown",
   "metadata": {},
   "source": [
    "Este cuaderno elabora el ensayo de potencial de RCI 60 de clientes con precalificaciones Horus en compra saldo y Liquidez. Se quiere evaluar qué clientes necesitarían llegar a un RCI de hasta 60 para tener una consolidación parcial o total de sus deudas externas. Además, se hace una regresión lineal del aumento de RCI respecto del salario para simplificar la relación."
   ]
  },
  {
   "cell_type": "code",
   "execution_count": 1,
   "metadata": {},
   "outputs": [],
   "source": [
    "import pandas as pd\n",
    "import numpy as np\n",
    "import sys\n",
    "sys.path.append(r\"C:\\Users\\mariajose_chinchilla\\Documents\\GitHub\\proyectos_varios\\codigos\")\n",
    "from utils import ingresos_financieros, ingreso_fin_entre_fechas, meses_entre_fechas, calcular_cuota"
   ]
  },
  {
   "cell_type": "code",
   "execution_count": 2,
   "metadata": {},
   "outputs": [],
   "source": [
    "compra_saldo = pd.read_csv(\"../db/compra_saldo_existentes.csv\")\n",
    "liquidez = pd.read_csv(\"../db/liquidez_existentes.csv\")"
   ]
  },
  {
   "cell_type": "markdown",
   "metadata": {},
   "source": [
    "## Limpieza de datos"
   ]
  },
  {
   "cell_type": "code",
   "execution_count": null,
   "metadata": {},
   "outputs": [],
   "source": [
    "compra_saldo.drop_duplicates(subset=\"DPI\", inplace=True)\n",
    "compra_saldo.columns"
   ]
  },
  {
   "cell_type": "code",
   "execution_count": null,
   "metadata": {},
   "outputs": [],
   "source": [
    "compra_saldo = compra_saldo[[\"Iniciativa\", \"No_Precalificacion\", \"DPI\", \"TIPO_CLIENTE\",\n",
    "                             \"RCI_Interno_Inicial\", \"RCI_Global_Inicial\",\n",
    "                             \"Ingreso_Validado\", \"Monto_Maximo_a_Ofertar\", \n",
    "                             \"Cantidad_Creditos_Externos_a_consolidar\", \n",
    "                             \"Saldo_Total_de_Creditos_Externo_a_consolidar\", \n",
    "                             \"Cuota_Total_de_Creditos_Externos_a_consolidar\", \n",
    "                             \"PATRONO\", \"SEGMENTO\", \"NUMERO_RENGLON\",\n",
    "                             \"CONSOLIDA_BANRURAL\", \"CLIENTE_BANRURAL\",\n",
    "                             \"CLIENTE_INDUSTRIAL\", \"CONSOLIDA_INDUSTRIAL\",\n",
    "                             \"Color_Resultado\",\n",
    "                             'scoreCredito', 'scoreCreditoPricing']]\n",
    "\n",
    "compra_saldo.info()"
   ]
  },
  {
   "cell_type": "code",
   "execution_count": null,
   "metadata": {},
   "outputs": [],
   "source": [
    "compra_saldo.describe()"
   ]
  },
  {
   "cell_type": "code",
   "execution_count": null,
   "metadata": {},
   "outputs": [],
   "source": [
    "liquidez.drop_duplicates(subset=\"DPI\", inplace=True)\n",
    "liquidez.columns"
   ]
  },
  {
   "cell_type": "code",
   "execution_count": null,
   "metadata": {},
   "outputs": [],
   "source": [
    "liquidez = liquidez[[\"Iniciativa\", \"No_Precalificacion\", \"IngresoValidado\",\n",
    "                     \"DPI\", \"SEGMENTO\", \"TIPO_CLIENTE\", \"RCI_Interno_Inicial\",\n",
    "                     \"RCI_Global_Inicial\", \"Monto_Maximo_a_Ofertar\",\n",
    "                    \"PATRONO\", \"CLIENTE_BANRURAL\", \"CLIENTE_BANRURAL\"]]\n",
    "\n",
    "liquidez.info()"
   ]
  },
  {
   "cell_type": "code",
   "execution_count": null,
   "metadata": {},
   "outputs": [],
   "source": [
    "liquidez.describe()"
   ]
  },
  {
   "cell_type": "markdown",
   "metadata": {},
   "source": [
    "## Descripción de la muestra"
   ]
  },
  {
   "cell_type": "code",
   "execution_count": null,
   "metadata": {},
   "outputs": [],
   "source": [
    "clientes_liquidez = liquidez[\"DPI\"].unique().tolist()\n",
    "clientes_compra = compra_saldo[\"DPI\"].unique().tolist()\n",
    "compartidos = [x for x in clientes_liquidez if x in clientes_compra]\n",
    "clientes_distintos_total = len(clientes_liquidez) + len(clientes_compra) - len(compartidos)\n",
    "\n",
    "print(f\"Se trabajaron {len(clientes_liquidez)} clientes de liquidez, {len(clientes_compra)} clientes de compra_saldo.\")\n",
    "print(f\"Esto representa, entre las dos iniciativas, {clientes_distintos_total} clientes distintos.\")\n",
    "print(f\"Esto representa {len(clientes_liquidez) + len(clientes_compra) - clientes_distintos_total} clientes repetidos\")"
   ]
  },
  {
   "cell_type": "code",
   "execution_count": null,
   "metadata": {},
   "outputs": [],
   "source": [
    "# Genera codigo latex para las tablas\n",
    "latex_compra = compra_saldo[['RCI_Interno_Inicial', 'Ingreso_Validado',\n",
    "    'Cantidad_Creditos_Externos_a_consolidar',\n",
    "       'Saldo_Total_de_Creditos_Externo_a_consolidar',\n",
    "       'Cuota_Total_de_Creditos_Externos_a_consolidar']].describe().to_latex()\n",
    "\n",
    "latex_liquidez = liquidez[['RCI_Interno_Inicial', 'RCI_Global_Inicial', \n",
    "                           'Monto_Maximo_a_Ofertar']].describe().to_latex()\n",
    "\n",
    "dic_latex = {\"latex_compra\": latex_compra, \"latex_liquidez\": latex_liquidez}\n",
    "for cod in dic_latex.keys():\n",
    "    with open(f\"../db/LaTeX/{cod}.txt\", \"w\") as f:\n",
    "        f.write(dic_latex.get(cod))\n",
    "        print(f\"Se guardó el txt del LaTeX para {cod}\")"
   ]
  },
  {
   "cell_type": "code",
   "execution_count": 11,
   "metadata": {},
   "outputs": [],
   "source": [
    "compra_saldo = compra_saldo[~compra_saldo[\"DPI\"].isin(compartidos)]\n",
    "liquidez = liquidez[~liquidez[\"DPI\"].isin(compartidos)]"
   ]
  },
  {
   "cell_type": "code",
   "execution_count": null,
   "metadata": {},
   "outputs": [],
   "source": [
    "(len(compra_saldo[compra_saldo[\"TIPO_CLIENTE\"] == \"CLIENTE REACTIVADO\"]) + len(liquidez[liquidez[\"TIPO_CLIENTE\"] == \"CLIENTE REACTIVADO\"])) / (len(compra_saldo) + len(liquidez))"
   ]
  },
  {
   "cell_type": "markdown",
   "metadata": {},
   "source": [
    "## Simulación"
   ]
  },
  {
   "cell_type": "code",
   "execution_count": 13,
   "metadata": {},
   "outputs": [],
   "source": [
    "plazo_simulacion = 144"
   ]
  },
  {
   "cell_type": "markdown",
   "metadata": {},
   "source": [
    "### Compra saldo"
   ]
  },
  {
   "cell_type": "code",
   "execution_count": 14,
   "metadata": {},
   "outputs": [],
   "source": [
    "def tasa_general(segmento, tipo_pago, tipo_cliente):\n",
    "    tasa = None\n",
    "    # privado remesa\n",
    "    if segmento == \"PRIVADO\" and tipo_pago not in [\"Pagos Directos a Caja Privadas\"]:\n",
    "        if tipo_cliente == \"CLIENTE EXISTENTE\":\n",
    "            tasa = 18.34\n",
    "        if tipo_cliente == \"CLIENTE NUEVO\":\n",
    "            tasa = 15.62\n",
    "        if tipo_cliente == \"CLIENTE REACTIVADO\":\n",
    "            tasa = 16.05\n",
    "    # privado voluntario\n",
    "    if segmento == \"PRIVADO\" and tipo_pago not in [\"Pagos Directos a Caja Privadas\"]:\n",
    "        if tipo_cliente == \"CLIENTE EXISTENTE\":\n",
    "            tasa = 24.83\n",
    "        if tipo_cliente == \"CLIENTE NUEVO\":\n",
    "            tasa = 26.61\n",
    "        if tipo_cliente == \"CLIENTE REACTIVADO\":\n",
    "            tasa = 26.25\n",
    "    if segmento != \"PRIVADO\" and tipo_pago not in [\"Pagos por Caja Entidades Descentralizadas\", \"Pagos Directos a Caja Independientes\"]:\n",
    "        if tipo_cliente == \"CLIENTE EXISTENTE\":\n",
    "            tasa = 18.37\n",
    "        if tipo_cliente == \"CLIENTE NUEVO\":\n",
    "            tasa = 15.98\n",
    "        if tipo_cliente == \"CLIENTE REACTIVADO\":\n",
    "            tasa = 15.62\n",
    "    if segmento != \"PRIVADO\" and tipo_pago  in [\"Pagos por Caja Entidades Descentralizadas\", \"Pagos Directos a Caja Independientes\"]:\n",
    "        if tipo_cliente == \"CLIENTE EXISTENTE\":\n",
    "            tasa = 24.47\n",
    "        if tipo_cliente == \"CLIENTE NUEVO\":\n",
    "            tasa = 27.33\n",
    "        if tipo_cliente == \"CLIENTE REACTIVADO\":\n",
    "            tasa = 28\n",
    "    return tasa\n",
    "    \n",
    "compra_saldo[\"TASA GENERAL\"] = compra_saldo.apply(lambda x: tasa_general(x[\"SEGMENTO\"], x[\"PATRONO\"], x[\"TIPO_CLIENTE\"]), axis=1)\n",
    "compra_saldo[\"NUEVA CUOTA CONSOL TOTAL\"] = compra_saldo.apply(lambda x: calcular_cuota(x[\"Saldo_Total_de_Creditos_Externo_a_consolidar\"],\n",
    "                                                              x[\"TASA GENERAL\"]/1200, plazo_simulacion), axis=1)\n",
    "compra_saldo[\"NUEVO RCI\"] = compra_saldo[\"RCI_Interno_Inicial\"] + 100*(compra_saldo[\"NUEVA CUOTA CONSOL TOTAL\"] / compra_saldo[\"Ingreso_Validado\"])\n",
    "compra_saldo[\"CONSOLIDA TOTAL\"] = np.where(compra_saldo[\"NUEVO RCI\"] <= 60, 1, 0)"
   ]
  },
  {
   "cell_type": "code",
   "execution_count": null,
   "metadata": {},
   "outputs": [],
   "source": [
    "prop1 = len(compra_saldo[compra_saldo[\"NUEVO RCI\"] <= 60]) \n",
    "cantidad_no_consolidacion = len(compra_saldo) - prop1\n",
    "print(f\"El {prop1 } de los clientes de precalificación de compra saldo Horus puede consolidar\")\n",
    "print(\"por completo su deuda y usar la inciativa RCI 60.\")\n",
    "print(f\"No se pueden consolidar a {cantidad_no_consolidacion} clientes\")"
   ]
  },
  {
   "cell_type": "code",
   "execution_count": null,
   "metadata": {},
   "outputs": [],
   "source": [
    "viables_compra_saldo = compra_saldo[compra_saldo[\"CONSOLIDA TOTAL\"] == 1]\n",
    "\n",
    "# Generales\n",
    "desembolso_bruto_potencial = viables_compra_saldo[\"Saldo_Total_de_Creditos_Externo_a_consolidar\"].sum()\n",
    "desembolso_bruto_promedio = viables_compra_saldo[\"Saldo_Total_de_Creditos_Externo_a_consolidar\"].mean()\n",
    "tpp_esperada = sum(viables_compra_saldo[\"TASA GENERAL\"] * viables_compra_saldo[\"Saldo_Total_de_Creditos_Externo_a_consolidar\"]) / sum(viables_compra_saldo[\"Saldo_Total_de_Creditos_Externo_a_consolidar\"])\n",
    "nuevo_rci_prom = viables_compra_saldo[\"NUEVO RCI\"].mean()\n",
    "\n",
    "# PV\n",
    "mascara_voluntario = viables_compra_saldo[\"PATRONO\"].isin([\"Pagos por Caja Entidades Descentralizadas\", \"Pagos Directos a Caja Independientes\", \"Pagos Directos a Caja Privadas\"])\n",
    "mascara_existente = viables_compra_saldo[\"TIPO_CLIENTE\"] == \"CLIENTE EXISTENTE\"\n",
    "mascara_reactivado = viables_compra_saldo[\"TIPO_CLIENTE\"] == \"CLIENTE REACTIVADO\"\n",
    "mascara_nuevo = viables_compra_saldo[\"TIPO_CLIENTE\"] == \"CLIENTE NUEVO\"\n",
    "\n",
    "\n",
    "desembolso_bruto_potencial_vol = viables_compra_saldo.loc[mascara_voluntario][\"Saldo_Total_de_Creditos_Externo_a_consolidar\"].sum()\n",
    "tpp_esperada_vol = sum(viables_compra_saldo.loc[mascara_voluntario][\"TASA GENERAL\"] * viables_compra_saldo.loc[mascara_voluntario][\"Saldo_Total_de_Creditos_Externo_a_consolidar\"]) / sum(viables_compra_saldo.loc[mascara_voluntario][\"Saldo_Total_de_Creditos_Externo_a_consolidar\"])\n",
    "rci_exis_pv = viables_compra_saldo.loc[mascara_voluntario & mascara_existente][\"NUEVO RCI\"].mean()\n",
    "rci_nv_pv = viables_compra_saldo.loc[mascara_voluntario & mascara_nuevo][\"NUEVO RCI\"].mean()\n",
    "rci_reac_pv = viables_compra_saldo.loc[mascara_voluntario & mascara_reactivado][\"NUEVO RCI\"].mean()\n",
    "\n",
    "\n",
    "# Remesa\n",
    "desembolso_bruto_potencial_rem = viables_compra_saldo.loc[~mascara_voluntario][\"Saldo_Total_de_Creditos_Externo_a_consolidar\"].sum()\n",
    "tpp_esperada_rem = sum(viables_compra_saldo.loc[~mascara_voluntario][\"TASA GENERAL\"] * viables_compra_saldo.loc[~mascara_voluntario][\"Saldo_Total_de_Creditos_Externo_a_consolidar\"]) / sum(viables_compra_saldo.loc[~mascara_voluntario][\"Saldo_Total_de_Creditos_Externo_a_consolidar\"])\n",
    "rci_exis_r = viables_compra_saldo.loc[~mascara_voluntario & mascara_existente][\"NUEVO RCI\"].mean()\n",
    "rci_nv_r = viables_compra_saldo.loc[~mascara_voluntario & mascara_nuevo][\"NUEVO RCI\"].mean()\n",
    "rci_reac_r = viables_compra_saldo.loc[~mascara_voluntario & mascara_reactivado][\"NUEVO RCI\"].mean()\n",
    "\n",
    "print(f\"El potencial de desembolso bruto (solamente consolidaciones) es de {desembolso_bruto_potencial / 10**6} millones, promedio de {desembolso_bruto_promedio}\")\n",
    "#print(f\"que se divide en {desembolso_bruto_potencial_vol} para pago voluntario y {desembolso_bruto_potencial_rem} en remesa.\")\n",
    "print(f\"La TPP general esperada es de {tpp_esperada_rem}.\")\n",
    "print(f\"El nuevo RCI  esperado es de {nuevo_rci_prom}\")"
   ]
  },
  {
   "cell_type": "code",
   "execution_count": 17,
   "metadata": {},
   "outputs": [],
   "source": [
    "cod_via_compra = viables_compra_saldo[['NUEVO RCI', \n",
    "                                       \"TASA GENERAL\",\n",
    "       'Saldo_Total_de_Creditos_Externo_a_consolidar',\n",
    "       'Cuota_Total_de_Creditos_Externos_a_consolidar', \"NUEVA CUOTA CONSOL TOTAL\"]].describe().to_latex()\n",
    "\n",
    "with open(\"../db/LaTeX/Viables_compra.txt\", \"w\") as f:\n",
    "    f.write(cod_via_compra)"
   ]
  },
  {
   "cell_type": "markdown",
   "metadata": {},
   "source": [
    "### Liquidez"
   ]
  },
  {
   "cell_type": "code",
   "execution_count": null,
   "metadata": {},
   "outputs": [],
   "source": [
    "prop_existente = len(liquidez[liquidez[\"TIPO_CLIENTE\"] == \"Cliente Existente\"]) / len(liquidez)\n",
    "print(f\"El {round(prop_existente * 100, 2)}% de los clientes son clientes existentes.\")"
   ]
  },
  {
   "cell_type": "code",
   "execution_count": 19,
   "metadata": {},
   "outputs": [],
   "source": [
    "def tasa_liquidez(segmento, tipo_pago, tipo_cliente):\n",
    "    tasa = -1\n",
    "    # privado remesa\n",
    "    if segmento == \"PRIVADO\" and tipo_pago not in [\"Pagos Directos a Caja Privadas\"]:\n",
    "        if tipo_cliente == \"CLIENTE EXISTENTE\":\n",
    "            tasa = 20.61\n",
    "        if tipo_cliente == \"CLIENTE NUEVO\":\n",
    "            tasa = 17\n",
    "        if tipo_cliente == \"CLIENTE REACTIVADO\":\n",
    "            tasa = 16.93\n",
    "    # privado voluntario\n",
    "    if segmento == \"PRIVADO\" and tipo_pago not in [\"Pagos Directos a Caja Privadas\"]:\n",
    "        if tipo_cliente == \"CLIENTE EXISTENTE\":\n",
    "            tasa = 26.36\n",
    "        if tipo_cliente == \"CLIENTE NUEVO\":\n",
    "            tasa = 26.27\n",
    "        if tipo_cliente == \"CLIENTE REACTIVADO\":\n",
    "            tasa = 27.72\n",
    "    # no privado\n",
    "    # remesa\n",
    "    if segmento != \"PRIVADO\" and tipo_pago not in [\"Pagos por Caja Entidades Descentralizadas\", \"Pagos Directos a Caja Independientes\"]:\n",
    "        if tipo_cliente == \"CLIENTE EXISTENTE\":\n",
    "            tasa = 19.23\n",
    "        if tipo_cliente == \"CLIENTE NUEVO\":\n",
    "            tasa = 16.71\n",
    "        if tipo_cliente == \"CLIENTE REACTIVADO\":\n",
    "            tasa = 16.62\n",
    "    # pv\n",
    "    if segmento != \"PRIVADO\" and tipo_pago  in [\"Pagos por Caja Entidades Descentralizadas\", \"Pagos Directos a Caja Independientes\"]:\n",
    "        if tipo_cliente == \"CLIENTE EXISTENTE\":\n",
    "            tasa = 19\n",
    "        if tipo_cliente == \"CLIENTE NUEVO\":\n",
    "            tasa = 25.61\n",
    "        if tipo_cliente == \"CLIENTE REACTIVADO\":\n",
    "            tasa = 23.91\n",
    "    return tasa\n",
    "\n",
    "liquidez[\"TIPO_CLIENTE\"] = liquidez[\"TIPO_CLIENTE\"].astype(str).str.replace(\"Cliente Existente\", \"CLIENTE EXISTENTE\")\n",
    "liquidez[\"TIPO_CLIENTE\"] = liquidez[\"TIPO_CLIENTE\"].astype(str).str.replace(\"Cliente Nuevo\", \"CLIENTE NUEVO\")\n",
    "liquidez[\"TIPO_CLIENTE\"] = liquidez[\"TIPO_CLIENTE\"].astype(str).str.replace(\"Cliente Reactivado\", \"CLIENTE REACTIVADO\")\n",
    "\n",
    "\n",
    "monto_simulacion = 50000\n",
    "liquidez[\"TASA GENERAL\"] = liquidez.apply(lambda x: tasa_liquidez(x[\"SEGMENTO\"], x[\"PATRONO\"], x[\"TIPO_CLIENTE\"]), axis=1)\n",
    "liquidez[\"NUEVA CUOTA\"] = liquidez.apply(lambda x: calcular_cuota(monto_simulacion, x[\"TASA GENERAL\"]/1200, 120), axis=1)\n",
    "liquidez[\"NUEVO RCI\"] = liquidez[\"RCI_Interno_Inicial\"] + 100 * (liquidez[\"NUEVA CUOTA\"] / liquidez[\"IngresoValidado\"])"
   ]
  },
  {
   "cell_type": "code",
   "execution_count": null,
   "metadata": {},
   "outputs": [],
   "source": [
    "prop2 = len(liquidez[liquidez[\"NUEVO RCI\"] <= 60]) \n",
    "no_liquidez = len(liquidez) - prop2\n",
    "print(f\"El {prop2 } de los clientes de precalificación de liquidez Horus puede usar la iniciativa RCI60\")\n",
    "print(f\"{no_liquidez} no pueden ser atendidos en liquidez\")"
   ]
  },
  {
   "cell_type": "code",
   "execution_count": null,
   "metadata": {},
   "outputs": [],
   "source": [
    "viables_liquidez = liquidez[liquidez[\"NUEVO RCI\"] <= 60]\n",
    "\n",
    "# Generales\n",
    "desembolso_bruto_potencial_liquidez = monto_simulacion * len(viables_liquidez)\n",
    "desembolso_bruto_promedio_liquidez = monto_simulacion\n",
    "tpp_esperada_liquidez = sum(viables_liquidez[\"TASA GENERAL\"] * monto_simulacion) / desembolso_bruto_potencial_liquidez\n",
    "nuevo_rci_prom_liquidez = viables_liquidez[\"NUEVO RCI\"].mean()\n",
    "\n",
    "# PV\n",
    "mascara_voluntario_liquidez = viables_liquidez[\"PATRONO\"].isin([\"Pagos por Caja Entidades Descentralizadas\", \"Pagos Directos a Caja Independientes\", \"Pagos Directos a Caja Privadas\"])\n",
    "mascara_existente_liquidez = viables_liquidez[\"TIPO_CLIENTE\"] == \"CLIENTE EXISTENTE\"\n",
    "mascara_reactivado_liquidez = viables_liquidez[\"TIPO_CLIENTE\"] == \"CLIENTE REACTIVADO\"\n",
    "mascara_nuevo_liquidez = viables_liquidez[\"TIPO_CLIENTE\"] == \"CLIENTE NUEVO\"\n",
    "\n",
    "try:\n",
    "    desembolso_bruto_potencial_vol_liquidez = len(viables_liquidez.loc[mascara_voluntario_liquidez]) * monto_simulacion\n",
    "    rci_exis_pv_liquidez = viables_liquidez.loc[mascara_voluntario_liquidez & mascara_existente_liquidez][\"NUEVO RCI\"].mean()\n",
    "    rci_nv_pv_liquidez = viables_liquidez.loc[mascara_voluntario_liquidez & mascara_nuevo_liquidez][\"NUEVO RCI\"].mean()\n",
    "    rci_reac_pv_liquidez = viables_liquidez.loc[mascara_voluntario_liquidez & mascara_reactivado_liquidez][\"NUEVO RCI\"].mean()\n",
    "    tpp_esperada_vol_liquidez = sum(viables_liquidez.loc[mascara_voluntario_liquidez][\"TASA GENERAL\"] * monto_simulacion) / desembolso_bruto_potencial_vol_liquidez\n",
    "except:\n",
    "    pass \n",
    "\n",
    "# Remesa\n",
    "desembolso_bruto_potencial_rem_liquidez = len(viables_liquidez.loc[~mascara_voluntario_liquidez]) * monto_simulacion\n",
    "desembolso_bruto_potencial_rem_liquidez\n",
    "rci_exis_r_liquidez = viables_liquidez.loc[~mascara_voluntario_liquidez & mascara_existente_liquidez][\"NUEVO RCI\"].mean()\n",
    "rci_nv_r_liquidez = viables_liquidez.loc[~mascara_voluntario_liquidez & mascara_nuevo_liquidez][\"NUEVO RCI\"].mean()\n",
    "rci_reac_r_liquidez = viables_liquidez.loc[~mascara_voluntario_liquidez & mascara_reactivado_liquidez][\"NUEVO RCI\"].mean()\n",
    "tpp_esperada_rem_liquidez = sum(viables_liquidez.loc[~mascara_voluntario_liquidez][\"TASA GENERAL\"] * monto_simulacion) / desembolso_bruto_potencial_rem_liquidez\n",
    "\n",
    "try:\n",
    "    print(f\"El potencial de desembolso bruto es de {desembolso_bruto_potencial_liquidez / 10**6} millones, promedio de {desembolso_bruto_promedio_liquidez}\")\n",
    "    #print(f\"que se divide en {desembolso_bruto_potencial_vol_liquidez} para pago voluntario y {desembolso_bruto_potencial_rem_liquidez} en remesa.\")\n",
    "    print(f\"El nuevo RCI esperado es de {nuevo_rci_prom_liquidez}\")\n",
    "    #print(f\"{rci_reac_pv_liquidez} para CR. En el caso de Remesa \")\n",
    "    #print(f\"tenemos {rci_exis_r_liquidez} para CE, {rci_nv_r_liquidez} para CN y {rci_reac_r_liquidez} para CR\")\n",
    "    print(f\"La TPP de Remesa es de {tpp_esperada_rem_liquidez}.\")\n",
    "    #print(f\"y de {tpp_esperada_vol_liquidez} en PV.\")\n",
    "except:\n",
    "    pass\n"
   ]
  },
  {
   "cell_type": "code",
   "execution_count": null,
   "metadata": {},
   "outputs": [],
   "source": [
    "len(viables_compra_saldo)"
   ]
  },
  {
   "cell_type": "markdown",
   "metadata": {},
   "source": [
    "### Regresión lineal"
   ]
  },
  {
   "cell_type": "code",
   "execution_count": 23,
   "metadata": {},
   "outputs": [],
   "source": [
    "import matplotlib.pyplot as plt\n",
    "from scipy import stats"
   ]
  },
  {
   "cell_type": "code",
   "execution_count": 24,
   "metadata": {},
   "outputs": [],
   "source": [
    "# compra saldo\n",
    "compra_saldo_temp = compra_saldo[(~compra_saldo[\"NUEVO RCI\"].isna()) & (compra_saldo[\"NUEVO RCI\"] > 0)]\n",
    "compra_saldo_temp[\"AUMENTO RCI\"] = compra_saldo_temp[\"NUEVO RCI\"] - compra_saldo_temp[\"RCI_Interno_Inicial\"]\n",
    "X = compra_saldo_temp[\"AUMENTO RCI\"]\n",
    "Y = compra_saldo_temp[\"Saldo_Total_de_Creditos_Externo_a_consolidar\"]\n",
    "\n",
    "pendiente, intercepto, t, p, desviacion = stats.linregress(X, Y)\n",
    "regresion = pendiente * X + intercepto"
   ]
  },
  {
   "cell_type": "code",
   "execution_count": null,
   "metadata": {},
   "outputs": [],
   "source": [
    "plt.scatter(X, Y, color='blue', label='Datos reales')\n",
    "plt.plot(X, regresion, color='red', label='Línea de regresión')\n",
    "plt.title('Saldo a consolidar según aumento de RCI')\n",
    "plt.xlabel('Aumento de RCI')\n",
    "plt.ylabel('Saldo a consolidar')\n",
    "equation = f'y = {pendiente:.2f}x + {intercepto:1f}'\n",
    "plt.text(25, 260000, equation, fontsize=8, color='black')  \n",
    "plt.legend()\n",
    "plt.show()"
   ]
  },
  {
   "cell_type": "markdown",
   "metadata": {},
   "source": [
    "## Exportar bases para comerciales"
   ]
  },
  {
   "cell_type": "code",
   "execution_count": 59,
   "metadata": {},
   "outputs": [
    {
     "name": "stderr",
     "output_type": "stream",
     "text": [
      "C:\\Users\\mariajose_chinchilla\\AppData\\Local\\Temp\\ipykernel_8420\\3281893883.py:4: SettingWithCopyWarning: \n",
      "A value is trying to be set on a copy of a slice from a DataFrame.\n",
      "Try using .loc[row_indexer,col_indexer] = value instead\n",
      "\n",
      "See the caveats in the documentation: https://pandas.pydata.org/pandas-docs/stable/user_guide/indexing.html#returning-a-view-versus-a-copy\n",
      "  df_compra_comerciales[\"Iniciativa\"] = \"Compra Saldo\"\n"
     ]
    }
   ],
   "source": [
    "df_compra_comerciales = viables_compra_saldo[[\"DPI\", \"RCI_Global_Inicial\",\n",
    "                                              \"Monto_Maximo_a_Ofertar\"]]\n",
    "\n",
    "df_compra_comerciales[\"Iniciativa\"] = \"Compra Saldo\""
   ]
  },
  {
   "cell_type": "code",
   "execution_count": 60,
   "metadata": {},
   "outputs": [
    {
     "name": "stderr",
     "output_type": "stream",
     "text": [
      "C:\\Users\\mariajose_chinchilla\\AppData\\Local\\Temp\\ipykernel_8420\\1404961587.py:4: SettingWithCopyWarning: \n",
      "A value is trying to be set on a copy of a slice from a DataFrame.\n",
      "Try using .loc[row_indexer,col_indexer] = value instead\n",
      "\n",
      "See the caveats in the documentation: https://pandas.pydata.org/pandas-docs/stable/user_guide/indexing.html#returning-a-view-versus-a-copy\n",
      "  df_liquidez_comerciales[\"Iniciativa\"] = \"Liquidez\"\n"
     ]
    }
   ],
   "source": [
    "df_liquidez_comerciales = viables_liquidez[[\"DPI\", \"RCI_Global_Inicial\", \n",
    "                                            \"Monto_Maximo_a_Ofertar\"]]\n",
    "                                            \n",
    "df_liquidez_comerciales[\"Iniciativa\"] = \"Liquidez\""
   ]
  },
  {
   "cell_type": "code",
   "execution_count": 64,
   "metadata": {},
   "outputs": [],
   "source": [
    "df_final = pd.concat([df_liquidez_comerciales, df_compra_comerciales])\n",
    "df_final.to_csv(\"../db/Final_RCI60.csv\")"
   ]
  }
 ],
 "metadata": {
  "kernelspec": {
   "display_name": "Python 3",
   "language": "python",
   "name": "python3"
  },
  "language_info": {
   "codemirror_mode": {
    "name": "ipython",
    "version": 3
   },
   "file_extension": ".py",
   "mimetype": "text/x-python",
   "name": "python",
   "nbconvert_exporter": "python",
   "pygments_lexer": "ipython3",
   "version": "3.12.1"
  }
 },
 "nbformat": 4,
 "nbformat_minor": 2
}
