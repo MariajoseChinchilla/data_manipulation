{
 "cells": [
  {
   "cell_type": "markdown",
   "metadata": {},
   "source": [
    "# Potencial de eliminación de codeudor en renglón 011"
   ]
  },
  {
   "cell_type": "markdown",
   "metadata": {},
   "source": [
    "Este cuaderno desarrolla dos análisis relacionados al corte de codeudor de Bantrab. En primera instancia, responderemos a la pregunta de qué pasaría si quitamos el codeudor para los clientes con renglón 011, haciendo un especial acercamiento a los patronos de Ministerio de Educación, Ministerio de Salud Pública y Asistencia Social, y Pasivas. Luego, veremos qué esperaríamos en términos de volumen de colocación, reservas y mora en los patronos mencionados anteriormente con el nuevo corte de score. "
   ]
  },
  {
   "cell_type": "markdown",
   "metadata": {},
   "source": [
    "## Escenario 1"
   ]
  },
  {
   "cell_type": "markdown",
   "metadata": {},
   "source": [
    "Evaluar qué esperaríamos en términos de mora, volumen de colocación y reservas ante la eliminación de codeudor de la cartera."
   ]
  },
  {
   "cell_type": "code",
   "execution_count": 1,
   "metadata": {},
   "outputs": [],
   "source": [
    "import pandas as pd\n",
    "from utils import estadisticos_resumen, impacto_cambio"
   ]
  },
  {
   "cell_type": "code",
   "execution_count": 2,
   "metadata": {},
   "outputs": [],
   "source": [
    "cosechas = pd.read_csv(\"../db/cosechas_con_renglon.csv\")\n",
    "cosechas = cosechas[(cosechas[\"rciInternoFinalDeudor\"] > 0) & (cosechas[\"MONTO_DESEMBOLSADO\"] > 0) &(cosechas[\"DESEMBOLSO_NETO\"] > 0)]"
   ]
  },
  {
   "cell_type": "code",
   "execution_count": 3,
   "metadata": {},
   "outputs": [],
   "source": [
    "# formar el escenario\n",
    "mascara_011 = (cosechas[\"Renglon Presupuestario\"] == 11) | (cosechas[\"Nombre Patrono\"] == \"Estado (pasivas)\")\n",
    "cosechas_011 = cosechas.loc[mascara_011]"
   ]
  },
  {
   "cell_type": "markdown",
   "metadata": {},
   "source": [
    "Calculamos algunos estadísticos de resumen importantes."
   ]
  },
  {
   "cell_type": "code",
   "execution_count": 4,
   "metadata": {},
   "outputs": [
    {
     "data": {
      "text/plain": [
       "{'Tamaño de la muestra': 50193,\n",
       " 'Proporción mora': 0.025382025382025383,\n",
       " 'Desembolso bruto promedio poblacional': 110305.54,\n",
       " 'Desembolso neto promedio poblacional': 49101.53,\n",
       " 'Desembolso bruto promedio morosos': 96620.07,\n",
       " 'Desembolso neto promedio morosos': 37320.95,\n",
       " 'Desembolso bruto promedio no morosos': 110661.95,\n",
       " 'Desembolso neto promedio no morosos': 49408.34,\n",
       " 'Cantidad de personas con mora': 1274,\n",
       " 'Porcentaje de clientes con mora': 2.54,\n",
       " 'RCI promedio de clientes no morosos': 41.44,\n",
       " 'RCI promedio de clientes morosos': 44.85}"
      ]
     },
     "execution_count": 4,
     "metadata": {},
     "output_type": "execute_result"
    }
   ],
   "source": [
    "estadisticos_resumen(cosechas_011, \"default_30\", 1, \"MONTO_DESEMBOLSADO\", \"DESEMBOLSO_NETO\", \"rciInternoFinalDeudor\")"
   ]
  },
  {
   "cell_type": "markdown",
   "metadata": {},
   "source": [
    "Cálculo de impactos"
   ]
  },
  {
   "cell_type": "code",
   "execution_count": 5,
   "metadata": {},
   "outputs": [
    {
     "data": {
      "text/plain": [
       "{'Clientes nuevos con codeudor': 50193,\n",
       " 'Clientes nuevos sin codeudor': 0,\n",
       " 'Aumento porcentual clientes': 0.0,\n",
       " 'Nueva proporción de mora': 0.050764050764050765,\n",
       " 'Aumento porcentual mora': 0.025382025382025383,\n",
       " 'Desembolso neto promedio esperado con codeudor': (48665.768757490034,\n",
       "  49537.297910770474),\n",
       " 'Desembolso bruto promedio esperado con codeudor': (109340.5222146778,\n",
       "  111270.55327792079),\n",
       " 'Desembolso bruto total sin codeudor': (nan, nan),\n",
       " 'Desembolso neto promedio esperado sin codeudor': (nan, nan),\n",
       " 'Desembolso bruto promedio esperado sin codeudor': (nan, nan),\n",
       " 'Desembolso neto total sin codeudor': (nan, nan),\n",
       " 'Reservas estimadas': (nan, nan),\n",
       " 'Probabilidad de mora con codeudor': 0.025382025382025383,\n",
       " 'Probabilidad de mora sin codeudor': 0,\n",
       " 'Probabilidad total de mora': 0.025382025382025383}"
      ]
     },
     "execution_count": 5,
     "metadata": {},
     "output_type": "execute_result"
    }
   ],
   "source": [
    "impacto_cambio(cosechas_011, 300, 420, \"default_30\", 1, \"MONTO_DESEMBOLSADO\", \"DESEMBOLSO_NETO\", \"rciInternoFinalDeudor\", 0.05)"
   ]
  },
  {
   "cell_type": "markdown",
   "metadata": {},
   "source": [
    "## Escenario 2"
   ]
  },
  {
   "cell_type": "markdown",
   "metadata": {},
   "source": [
    "### MINEDUC (eliminando codeudor)"
   ]
  },
  {
   "cell_type": "code",
   "execution_count": 6,
   "metadata": {},
   "outputs": [
    {
     "data": {
      "text/plain": [
       "{'Tamaño de la muestra': 25350,\n",
       " 'Proporción mora': 0.04284023668639053,\n",
       " 'Desembolso bruto promedio poblacional': 127534.62,\n",
       " 'Desembolso neto promedio poblacional': 53890.97,\n",
       " 'Desembolso bruto promedio morosos': 93567.7,\n",
       " 'Desembolso neto promedio morosos': 37650.54,\n",
       " 'Desembolso bruto promedio no morosos': 129054.9,\n",
       " 'Desembolso neto promedio no morosos': 54617.86,\n",
       " 'Cantidad de personas con mora': 1086,\n",
       " 'Porcentaje de clientes con mora': 4.28,\n",
       " 'RCI promedio de clientes no morosos': 40.69,\n",
       " 'RCI promedio de clientes morosos': 44.85}"
      ]
     },
     "execution_count": 6,
     "metadata": {},
     "output_type": "execute_result"
    }
   ],
   "source": [
    "mascara_mineduc = cosechas[\"PATRONO\"] == \"MINISTERIO DE EDUCACION\"\n",
    "estadisticos_resumen(cosechas.loc[mascara_mineduc], \"default_30\", 1, \"MONTO_DESEMBOLSADO\", \"DESEMBOLSO_NETO\", \"rciInternoFinalDeudor\")"
   ]
  },
  {
   "cell_type": "code",
   "execution_count": 7,
   "metadata": {},
   "outputs": [
    {
     "data": {
      "text/plain": [
       "{'Clientes nuevos con codeudor': 0,\n",
       " 'Clientes nuevos sin codeudor': 25350,\n",
       " 'Aumento porcentual clientes': 1.0,\n",
       " 'Nueva proporción de mora': 0.04284023668639053,\n",
       " 'Aumento porcentual mora': 0.0,\n",
       " 'Desembolso neto promedio esperado con codeudor': (nan, nan),\n",
       " 'Desembolso bruto promedio esperado con codeudor': (nan, nan),\n",
       " 'Desembolso bruto total sin codeudor': (3193202348.037683, 3272802866.582318),\n",
       " 'Desembolso neto promedio esperado sin codeudor': (nan, 54541.035377584274),\n",
       " 'Desembolso bruto promedio esperado sin codeudor': (125964.5896661808,\n",
       "  129104.6495693222),\n",
       " 'Desembolso neto total sin codeudor': (nan, 1382615246.8217614),\n",
       " 'Reservas estimadas': (71847052.83084787, 73638064.49810216),\n",
       " 'Probabilidad de mora con codeudor': 0.04284023668639053,\n",
       " 'Probabilidad de mora sin codeudor': 0,\n",
       " 'Probabilidad total de mora': 0.04284023668639053}"
      ]
     },
     "execution_count": 7,
     "metadata": {},
     "output_type": "execute_result"
    }
   ],
   "source": [
    "impacto_cambio(cosechas.loc[mascara_mineduc], 0, 420, \"default_30\", 1, \"MONTO_DESEMBOLSADO\", \"DESEMBOLSO_NETO\", \"rciInternoFinalDeudor\", 0.05)"
   ]
  },
  {
   "cell_type": "markdown",
   "metadata": {},
   "source": [
    "### MINEDUC (con nuevo corte 360)"
   ]
  },
  {
   "cell_type": "code",
   "execution_count": 8,
   "metadata": {},
   "outputs": [
    {
     "data": {
      "text/plain": [
       "{'Clientes nuevos con codeudor': 25350,\n",
       " 'Clientes nuevos sin codeudor': 0,\n",
       " 'Aumento porcentual clientes': 0.0,\n",
       " 'Nueva proporción de mora': 0.08568047337278106,\n",
       " 'Aumento porcentual mora': 0.04284023668639053,\n",
       " 'Desembolso neto promedio esperado con codeudor': (53240.913402691855,\n",
       "  54541.035377584274),\n",
       " 'Desembolso bruto promedio esperado con codeudor': (125964.5896661808,\n",
       "  129104.6495693222),\n",
       " 'Desembolso bruto total sin codeudor': (nan, nan),\n",
       " 'Desembolso neto promedio esperado sin codeudor': (nan, nan),\n",
       " 'Desembolso bruto promedio esperado sin codeudor': (nan, nan),\n",
       " 'Desembolso neto total sin codeudor': (nan, nan),\n",
       " 'Reservas estimadas': (nan, nan),\n",
       " 'Probabilidad de mora con codeudor': 0.04284023668639053,\n",
       " 'Probabilidad de mora sin codeudor': 0,\n",
       " 'Probabilidad total de mora': 0.04284023668639053}"
      ]
     },
     "execution_count": 8,
     "metadata": {},
     "output_type": "execute_result"
    }
   ],
   "source": [
    "impacto_cambio(cosechas.loc[mascara_mineduc], 360, 420, \"default_30\", 1, \"MONTO_DESEMBOLSADO\", \"DESEMBOLSO_NETO\", \"rciInternoFinalDeudor\", 0.05)"
   ]
  },
  {
   "cell_type": "markdown",
   "metadata": {},
   "source": [
    "### MSPAS (eliminando codeudor)"
   ]
  },
  {
   "cell_type": "code",
   "execution_count": 9,
   "metadata": {},
   "outputs": [
    {
     "data": {
      "text/plain": [
       "{'Tamaño de la muestra': 6578,\n",
       " 'Proporción mora': 0.02918820310124658,\n",
       " 'Desembolso bruto promedio poblacional': 121165.71,\n",
       " 'Desembolso neto promedio poblacional': 62219.34,\n",
       " 'Desembolso bruto promedio morosos': 127214.83,\n",
       " 'Desembolso neto promedio morosos': 53561.75,\n",
       " 'Desembolso bruto promedio no morosos': 120983.84,\n",
       " 'Desembolso neto promedio no morosos': 62479.63,\n",
       " 'Cantidad de personas con mora': 192,\n",
       " 'Porcentaje de clientes con mora': 2.92,\n",
       " 'RCI promedio de clientes no morosos': 40.93,\n",
       " 'RCI promedio de clientes morosos': 45.58}"
      ]
     },
     "execution_count": 9,
     "metadata": {},
     "output_type": "execute_result"
    }
   ],
   "source": [
    "mascara_salud = cosechas[\"PATRONO\"] == \"MINISTERIO SALUD PUBLICA PRESUPUESTO\"\n",
    "estadisticos_resumen(cosechas.loc[mascara_salud], \"default_30\", 1, \"MONTO_DESEMBOLSADO\", \"DESEMBOLSO_NETO\", \"rciInternoFinalDeudor\")"
   ]
  },
  {
   "cell_type": "code",
   "execution_count": 10,
   "metadata": {},
   "outputs": [
    {
     "data": {
      "text/plain": [
       "{'Clientes nuevos con codeudor': 0,\n",
       " 'Clientes nuevos sin codeudor': 6578,\n",
       " 'Aumento porcentual clientes': 1.0,\n",
       " 'Nueva proporción de mora': 0.02918820310124658,\n",
       " 'Aumento porcentual mora': 0.0,\n",
       " 'Desembolso neto promedio esperado con codeudor': (nan, nan),\n",
       " 'Desembolso bruto promedio esperado con codeudor': (nan, nan),\n",
       " 'Desembolso bruto total sin codeudor': (777763683.5296073, 816292412.950393),\n",
       " 'Desembolso neto promedio esperado sin codeudor': (nan, 63449.93345307178),\n",
       " 'Desembolso bruto promedio esperado sin codeudor': (118237.10603977003,\n",
       "  124094.31635001412),\n",
       " 'Desembolso neto total sin codeudor': (nan, 417373662.2543062),\n",
       " 'Reservas estimadas': (17499682.879416168, 18366579.291383844),\n",
       " 'Probabilidad de mora con codeudor': 0.02918820310124658,\n",
       " 'Probabilidad de mora sin codeudor': 0,\n",
       " 'Probabilidad total de mora': 0.02918820310124658}"
      ]
     },
     "execution_count": 10,
     "metadata": {},
     "output_type": "execute_result"
    }
   ],
   "source": [
    "impacto_cambio(cosechas.loc[mascara_salud], 0, 420, \"default_30\", 1, \"MONTO_DESEMBOLSADO\", \"DESEMBOLSO_NETO\", \"rciInternoFinalDeudor\", 0.05)"
   ]
  },
  {
   "cell_type": "markdown",
   "metadata": {},
   "source": [
    "### MSPAS (con nuevo corte 348)"
   ]
  },
  {
   "cell_type": "code",
   "execution_count": 11,
   "metadata": {},
   "outputs": [
    {
     "data": {
      "text/plain": [
       "{'Clientes nuevos con codeudor': 125,\n",
       " 'Clientes nuevos sin codeudor': 165,\n",
       " 'Aumento porcentual clientes': 0.02508361204013378,\n",
       " 'Nueva proporción de mora': 0.02994201170585251,\n",
       " 'Aumento porcentual mora': 0.0007538086046059295,\n",
       " 'Desembolso neto promedio esperado con codeudor': (73197.65257843582,\n",
       "  75482.1147815642),\n",
       " 'Desembolso bruto promedio esperado con codeudor': (95491.09187888936,\n",
       "  100221.51388111062),\n",
       " 'Desembolso bruto total sin codeudor': (19581823.029967938,\n",
       "  20551864.158223603),\n",
       " 'Desembolso neto promedio esperado sin codeudor': (60842.31925021019,\n",
       "  63216.19190128131),\n",
       " 'Desembolso bruto promedio esperado sin codeudor': (118677.71533313901,\n",
       "  124556.75247408244),\n",
       " 'Desembolso neto total sin codeudor': (10038982.676284682,\n",
       "  10430671.663711416),\n",
       " 'Reservas estimadas': (440591.0181742786, 462416.9435600311),\n",
       " 'Probabilidad de mora con codeudor': 0.03793103448275862,\n",
       " 'Probabilidad de mora sin codeudor': 0.030534351145038167,\n",
       " 'Probabilidad total de mora': 0.032206591947713754}"
      ]
     },
     "execution_count": 11,
     "metadata": {},
     "output_type": "execute_result"
    }
   ],
   "source": [
    "impacto_cambio(cosechas.loc[mascara_salud], 348, 420, \"default_30\", 1, \"MONTO_DESEMBOLSADO\", \"DESEMBOLSO_NETO\", \"scoreDeudorInstallmentQnt\", 0.05)"
   ]
  },
  {
   "cell_type": "markdown",
   "metadata": {},
   "source": [
    "### Pasivas (eliminando codeudor)"
   ]
  },
  {
   "cell_type": "code",
   "execution_count": 12,
   "metadata": {},
   "outputs": [
    {
     "data": {
      "text/plain": [
       "{'Tamaño de la muestra': 11904,\n",
       " 'Proporción mora': 0.0008400537634408602,\n",
       " 'Desembolso bruto promedio poblacional': 75741.25,\n",
       " 'Desembolso neto promedio poblacional': 33014.57,\n",
       " 'Desembolso bruto promedio morosos': 100480.0,\n",
       " 'Desembolso neto promedio morosos': 57511.15,\n",
       " 'Desembolso bruto promedio no morosos': 75720.45,\n",
       " 'Desembolso neto promedio no morosos': 32993.97,\n",
       " 'Cantidad de personas con mora': 10,\n",
       " 'Porcentaje de clientes con mora': 0.08,\n",
       " 'RCI promedio de clientes no morosos': 44.5,\n",
       " 'RCI promedio de clientes morosos': 46.34}"
      ]
     },
     "execution_count": 12,
     "metadata": {},
     "output_type": "execute_result"
    }
   ],
   "source": [
    "mascara_pasivas = cosechas[\"PATRONO\"] == \"ESTADO (PASIVAS)\"\n",
    "estadisticos_resumen(cosechas.loc[mascara_pasivas], \"default_30\", 1, \"MONTO_DESEMBOLSADO\", \"DESEMBOLSO_NETO\", \"rciInternoFinalDeudor\")"
   ]
  },
  {
   "cell_type": "code",
   "execution_count": 13,
   "metadata": {},
   "outputs": [
    {
     "data": {
      "text/plain": [
       "{'Clientes nuevos con codeudor': 0,\n",
       " 'Clientes nuevos sin codeudor': 11904,\n",
       " 'Aumento porcentual clientes': 1.0,\n",
       " 'Nueva proporción de mora': 0.0008400537634408602,\n",
       " 'Aumento porcentual mora': 0.0,\n",
       " 'Desembolso neto promedio esperado con codeudor': (nan, nan),\n",
       " 'Desembolso bruto promedio esperado con codeudor': (nan, nan),\n",
       " 'Desembolso bruto total sin codeudor': (885425468.9410388, 917822198.8189611),\n",
       " 'Desembolso neto promedio esperado sin codeudor': (nan, 33626.15000740253),\n",
       " 'Desembolso bruto promedio esperado sin codeudor': (74380.49974303081,\n",
       "  77101.99922874337),\n",
       " 'Desembolso neto total sin codeudor': (nan, 400285689.6881197),\n",
       " 'Reservas estimadas': (19922073.051173374, 20650999.47342663),\n",
       " 'Probabilidad de mora con codeudor': 0.0008400537634408602,\n",
       " 'Probabilidad de mora sin codeudor': 0,\n",
       " 'Probabilidad total de mora': 0.0008400537634408602}"
      ]
     },
     "execution_count": 13,
     "metadata": {},
     "output_type": "execute_result"
    }
   ],
   "source": [
    "impacto_cambio(cosechas.loc[mascara_pasivas], 0, 420, \"default_30\", 1, \"MONTO_DESEMBOLSADO\", \"DESEMBOLSO_NETO\", \"rciInternoFinalDeudor\", 0.05)"
   ]
  }
 ],
 "metadata": {
  "kernelspec": {
   "display_name": "Python 3",
   "language": "python",
   "name": "python3"
  },
  "language_info": {
   "codemirror_mode": {
    "name": "ipython",
    "version": 3
   },
   "file_extension": ".py",
   "mimetype": "text/x-python",
   "name": "python",
   "nbconvert_exporter": "python",
   "pygments_lexer": "ipython3",
   "version": "3.12.1"
  }
 },
 "nbformat": 4,
 "nbformat_minor": 2
}
