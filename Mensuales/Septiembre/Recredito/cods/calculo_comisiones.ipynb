{
 "cells": [
  {
   "cell_type": "code",
   "execution_count": 1,
   "metadata": {},
   "outputs": [],
   "source": [
    "import pandas as pd\n",
    "import sys\n",
    "import datetime\n",
    "sys.path.append(r\"C:\\Users\\mariajose_chinchilla\\Documents\\GitHub\\proyectos_varios\\codigos\") #aca pongan la ruta donde lo gaurden\n",
    "\n",
    "from utils import ingresos_financieros, ingreso_fin_entre_fechas, meses_entre_fechas, calcular_cuota"
   ]
  },
  {
   "cell_type": "code",
   "execution_count": 3,
   "metadata": {},
   "outputs": [],
   "source": [
    "df = pd.read_csv(\"../db/recreditos inhabilitados alpha y beta 1.csv\", sep=\";\")"
   ]
  },
  {
   "cell_type": "code",
   "execution_count": 5,
   "metadata": {},
   "outputs": [],
   "source": [
    "col_neto = \"DESEMBOLSO_NETO\""
   ]
  },
  {
   "cell_type": "code",
   "execution_count": 6,
   "metadata": {},
   "outputs": [],
   "source": [
    "def porcentaje_comision_desembolso(x):\n",
    "    if x < 125000:\n",
    "        porcentaje = 0.05\n",
    "    elif x >= 125000:\n",
    "        porcentaje = 0.02\n",
    "    return porcentaje"
   ]
  },
  {
   "cell_type": "code",
   "execution_count": 8,
   "metadata": {},
   "outputs": [
    {
     "name": "stderr",
     "output_type": "stream",
     "text": [
      "C:\\Users\\mariajose_chinchilla\\AppData\\Local\\Temp\\ipykernel_40360\\133992645.py:1: UserWarning: Parsing dates in %d/%m/%Y %H:%M format when dayfirst=False (the default) was specified. Pass `dayfirst=True` or specify a format to silence this warning.\n",
      "  df[\"FECHA_APERTURA_CREDITO_CANCELADO\"] = pd.to_datetime(df[\"FECHA_APERTURA_CREDITO_CANCELADO\"])\n"
     ]
    }
   ],
   "source": [
    "df[\"FECHA_APERTURA_CREDITO_CANCELADO\"] = pd.to_datetime(df[\"FECHA_APERTURA_CREDITO_CANCELADO\"])\n",
    "df[\"MESES TRANSCURRIDOS\"] = df.apply(lambda x: meses_entre_fechas(x[\"FECHA_APERTURA_CREDITO_CANCELADO\"], datetime.date.today()), axis=1)"
   ]
  },
  {
   "cell_type": "code",
   "execution_count": 9,
   "metadata": {},
   "outputs": [],
   "source": [
    "df[\"PORCENTAJE COMISION\"] = df.apply(lambda x: porcentaje_comision_desembolso(x[col_neto]), axis=1)\n",
    "df[\"COMISION PENDIENTE\"] = df.apply(lambda x: ingreso_fin_entre_fechas(x[col_neto], x[\"PORCENTAJE COMISION\"]/12, \n",
    "                                                                       x[\"PLAZO_MESES_CREDITO_CANCELADO\"],\n",
    "                                                                       x[\"MESES TRANSCURRIDOS\"] - 1, \n",
    "                                                                       x[\"PLAZO_MESES_CREDITO_CANCELADO\"]), axis=1)\n"
   ]
  },
  {
   "cell_type": "code",
   "execution_count": 12,
   "metadata": {},
   "outputs": [],
   "source": [
    "df.to_excel(\"../db/Comisiones a cobrar por recredito.xlsx\")"
   ]
  },
  {
   "cell_type": "code",
   "execution_count": 13,
   "metadata": {},
   "outputs": [
    {
     "data": {
      "text/plain": [
       "0.21993155334050413"
      ]
     },
     "execution_count": 13,
     "metadata": {},
     "output_type": "execute_result"
    }
   ],
   "source": [
    "df[\"COMISION PENDIENTE\"].sum() / 10**6"
   ]
  },
  {
   "cell_type": "code",
   "execution_count": 14,
   "metadata": {},
   "outputs": [
    {
     "data": {
      "text/plain": [
       "array([0.05, 0.02])"
      ]
     },
     "execution_count": 14,
     "metadata": {},
     "output_type": "execute_result"
    }
   ],
   "source": [
    "df[\"PORCENTAJE COMISION\"].unique()"
   ]
  }
 ],
 "metadata": {
  "kernelspec": {
   "display_name": "Python 3",
   "language": "python",
   "name": "python3"
  },
  "language_info": {
   "codemirror_mode": {
    "name": "ipython",
    "version": 3
   },
   "file_extension": ".py",
   "mimetype": "text/x-python",
   "name": "python",
   "nbconvert_exporter": "python",
   "pygments_lexer": "ipython3",
   "version": "3.12.1"
  }
 },
 "nbformat": 4,
 "nbformat_minor": 2
}
