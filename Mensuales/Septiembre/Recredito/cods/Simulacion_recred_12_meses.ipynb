{
 "cells": [
  {
   "cell_type": "markdown",
   "metadata": {},
   "source": [
    "# Simulación de recréditos inhabilitados con margen a 12 meses"
   ]
  },
  {
   "cell_type": "markdown",
   "metadata": {},
   "source": [
    "Este cuaderno hace una simulación del otorgamiento de recrédito a clientes inhabilitados buscando un margen financiero a 12 meses."
   ]
  },
  {
   "cell_type": "markdown",
   "metadata": {},
   "source": [
    "## Funciones útiles internas"
   ]
  },
  {
   "cell_type": "code",
   "execution_count": 1,
   "metadata": {},
   "outputs": [],
   "source": [
    "import pandas as pd\n",
    "import warnings\n",
    "import math\n",
    "warnings.filterwarnings(\"ignore\")\n",
    "from datetime import datetime\n",
    "from dateutil.relativedelta import relativedelta\n",
    "import pyodbc\n",
    "import sys\n",
    "sys.path.append(r\"C:\\Users\\mariajose_chinchilla\\Documents\\GitHub\\proyectos_varios\\codigos\") #aca pongan la ruta donde lo gaurden\n",
    "\n",
    "from utils import ingresos_financieros, ingreso_fin_entre_fechas, meses_entre_fechas, calcular_cuota"
   ]
  },
  {
   "cell_type": "code",
   "execution_count": 2,
   "metadata": {},
   "outputs": [],
   "source": [
    "# modelar cvf\n",
    "def factor_bienestar(monto):\n",
    "    if monto >= 120000:\n",
    "        factor = 9\n",
    "    elif monto <= 120000:\n",
    "        factor = 9.5\n",
    "    return factor\n",
    "\n",
    "def cvf(mf_cancelado: float, factor_bienestar: float, desembolso_neto: float, \n",
    "        reserva_cancelada: float, reserva_nueva: float, desembolso_bruto: float, alpha: float) -> float:\n",
    "        tasa = (mf_cancelado + factor_bienestar * desembolso_neto + reserva_nueva - reserva_cancelada) / desembolso_bruto + 100 * alpha\n",
    "        return min(max(19.5, tasa), 25)\n",
    "        #return tasa\n",
    "\n",
    "def porcentaje_comision_desembolso(x):\n",
    "    if x < 125000:\n",
    "        porcentaje = 0.05\n",
    "    elif x >= 125000:\n",
    "        porcentaje = 0.02\n",
    "    return porcentaje\n",
    "\n",
    "dic_pdi = {\"A\": 0.036, \"B\": 0.086, \"C\": 0.156, \"D\": 0.325, \"E\": 1}\n",
    "dic_pi = {\"A\": 0.45, \"B\": 0.45, \"C\": 0.45, \"D\": 0.45, \"E\": 1}\n",
    "\n",
    "def reservas_constituidas(monto, meses_transcurridos, categoria):\n",
    "    pdi = dic_pdi.get(categoria)    \n",
    "    pi = dic_pi.get(categoria)\n",
    "    reservas = monto * pdi * pi\n",
    "    return reservas"
   ]
  },
  {
   "cell_type": "markdown",
   "metadata": {},
   "source": [
    "## Programación de escenario"
   ]
  },
  {
   "cell_type": "code",
   "execution_count": 3,
   "metadata": {},
   "outputs": [],
   "source": [
    "no_mes_simulacion = 9\n",
    "nombre_mes_simulacion = \"SEPTIEMBRE\""
   ]
  },
  {
   "cell_type": "code",
   "execution_count": 4,
   "metadata": {},
   "outputs": [],
   "source": [
    "cartera = pd.read_excel(\"../db/datos.xlsx\")\n",
    "cartera[\"TASA\"] = cartera[\"TASA\"] / 1200\n",
    "cartera = cartera[cartera[\"TASA\"] > 0]"
   ]
  },
  {
   "cell_type": "code",
   "execution_count": 5,
   "metadata": {},
   "outputs": [
    {
     "data": {
      "text/plain": [
       "Index(['FEC_SALDO', 'NO_CREDITO', 'CODIGO_CLIENTE', 'F_APERTURA',\n",
       "       'FECHA_DESEMBOLSO', 'TIPO_PAGO', 'CATEGORIA_INTERNA', 'TASA', 'PLAZO',\n",
       "       'FACTOR_TASA', 'SALDO', 'MONTO_DESEMBOLSADO', 'DESEMBOLSO_NETO'],\n",
       "      dtype='object')"
      ]
     },
     "execution_count": 5,
     "metadata": {},
     "output_type": "execute_result"
    }
   ],
   "source": [
    "cartera.columns"
   ]
  },
  {
   "cell_type": "code",
   "execution_count": 6,
   "metadata": {},
   "outputs": [],
   "source": [
    "# filtros para seleccionar clientes que nos interesan\n",
    "mascara_remesa = cartera[\"TIPO_PAGO\"] == \"REMESA\"\n",
    "cartera = cartera.loc[mascara_remesa]"
   ]
  },
  {
   "cell_type": "code",
   "execution_count": 7,
   "metadata": {},
   "outputs": [],
   "source": [
    "# agrupar por cliente para sacar qué clientes están inhabilitados\n",
    "import numpy as np\n",
    "cartera[\"CREDITO_CUMPLE_15\"] = np.where(cartera[\"SALDO\"] / cartera[\"MONTO_DESEMBOLSADO\"] > 0.85, 0, 1)\n",
    "cartera_agrupado = cartera.groupby(by=\"CODIGO_CLIENTE\")[\"CREDITO_CUMPLE_15\"].min().reset_index()\n",
    "cartera_agrupado.columns = [\"CODIGO_CLIENTE\", \"INCUMPLE\"]\n",
    "cartera_agrupado[\"PAGA RESERVAS\"] = 1 - cartera_agrupado[\"INCUMPLE\"]\n",
    "cartera = pd.merge(cartera, cartera_agrupado, how=\"inner\", on=\"CODIGO_CLIENTE\")\n",
    "cartera.drop(\"INCUMPLE\", inplace=True, axis=1)"
   ]
  },
  {
   "cell_type": "code",
   "execution_count": 8,
   "metadata": {},
   "outputs": [
    {
     "data": {
      "text/html": [
       "<div>\n",
       "<style scoped>\n",
       "    .dataframe tbody tr th:only-of-type {\n",
       "        vertical-align: middle;\n",
       "    }\n",
       "\n",
       "    .dataframe tbody tr th {\n",
       "        vertical-align: top;\n",
       "    }\n",
       "\n",
       "    .dataframe thead th {\n",
       "        text-align: right;\n",
       "    }\n",
       "</style>\n",
       "<table border=\"1\" class=\"dataframe\">\n",
       "  <thead>\n",
       "    <tr style=\"text-align: right;\">\n",
       "      <th></th>\n",
       "      <th>FEC_SALDO</th>\n",
       "      <th>NO_CREDITO</th>\n",
       "      <th>CODIGO_CLIENTE</th>\n",
       "      <th>F_APERTURA</th>\n",
       "      <th>FECHA_DESEMBOLSO</th>\n",
       "      <th>TIPO_PAGO</th>\n",
       "      <th>CATEGORIA_INTERNA</th>\n",
       "      <th>TASA</th>\n",
       "      <th>PLAZO</th>\n",
       "      <th>FACTOR_TASA</th>\n",
       "      <th>SALDO</th>\n",
       "      <th>MONTO_DESEMBOLSADO</th>\n",
       "      <th>DESEMBOLSO_NETO</th>\n",
       "      <th>CREDITO_CUMPLE_15</th>\n",
       "      <th>PAGA RESERVAS</th>\n",
       "    </tr>\n",
       "  </thead>\n",
       "  <tbody>\n",
       "    <tr>\n",
       "      <th>0</th>\n",
       "      <td>45535</td>\n",
       "      <td>12408863300</td>\n",
       "      <td>100116409</td>\n",
       "      <td>45535</td>\n",
       "      <td>45535.0</td>\n",
       "      <td>REMESA</td>\n",
       "      <td>A</td>\n",
       "      <td>0.013333</td>\n",
       "      <td>120</td>\n",
       "      <td>312000.00</td>\n",
       "      <td>19500.00</td>\n",
       "      <td>19500.0</td>\n",
       "      <td>19500.0</td>\n",
       "      <td>0</td>\n",
       "      <td>1</td>\n",
       "    </tr>\n",
       "    <tr>\n",
       "      <th>1</th>\n",
       "      <td>45535</td>\n",
       "      <td>12405496084</td>\n",
       "      <td>100116409</td>\n",
       "      <td>45435</td>\n",
       "      <td>45435.0</td>\n",
       "      <td>REMESA</td>\n",
       "      <td>A</td>\n",
       "      <td>0.012500</td>\n",
       "      <td>120</td>\n",
       "      <td>967870.35</td>\n",
       "      <td>64524.69</td>\n",
       "      <td>65000.0</td>\n",
       "      <td>65000.0</td>\n",
       "      <td>0</td>\n",
       "      <td>1</td>\n",
       "    </tr>\n",
       "  </tbody>\n",
       "</table>\n",
       "</div>"
      ],
      "text/plain": [
       "   FEC_SALDO   NO_CREDITO  CODIGO_CLIENTE  F_APERTURA  FECHA_DESEMBOLSO  \\\n",
       "0      45535  12408863300       100116409       45535           45535.0   \n",
       "1      45535  12405496084       100116409       45435           45435.0   \n",
       "\n",
       "  TIPO_PAGO CATEGORIA_INTERNA      TASA  PLAZO  FACTOR_TASA     SALDO  \\\n",
       "0    REMESA                 A  0.013333    120    312000.00  19500.00   \n",
       "1    REMESA                 A  0.012500    120    967870.35  64524.69   \n",
       "\n",
       "   MONTO_DESEMBOLSADO  DESEMBOLSO_NETO  CREDITO_CUMPLE_15  PAGA RESERVAS  \n",
       "0             19500.0          19500.0                  0              1  \n",
       "1             65000.0          65000.0                  0              1  "
      ]
     },
     "execution_count": 8,
     "metadata": {},
     "output_type": "execute_result"
    }
   ],
   "source": [
    "mascara_incumplimiento = cartera[\"PAGA RESERVAS\"] == 1\n",
    "incumplen = cartera.loc[mascara_incumplimiento]\n",
    "incumplen.head(2)"
   ]
  },
  {
   "cell_type": "code",
   "execution_count": 9,
   "metadata": {},
   "outputs": [
    {
     "data": {
      "text/html": [
       "<div>\n",
       "<style scoped>\n",
       "    .dataframe tbody tr th:only-of-type {\n",
       "        vertical-align: middle;\n",
       "    }\n",
       "\n",
       "    .dataframe tbody tr th {\n",
       "        vertical-align: top;\n",
       "    }\n",
       "\n",
       "    .dataframe thead th {\n",
       "        text-align: right;\n",
       "    }\n",
       "</style>\n",
       "<table border=\"1\" class=\"dataframe\">\n",
       "  <thead>\n",
       "    <tr style=\"text-align: right;\">\n",
       "      <th></th>\n",
       "      <th>FEC_SALDO</th>\n",
       "      <th>NO_CREDITO</th>\n",
       "      <th>CODIGO_CLIENTE</th>\n",
       "      <th>F_APERTURA</th>\n",
       "      <th>FECHA_DESEMBOLSO</th>\n",
       "      <th>TIPO_PAGO</th>\n",
       "      <th>CATEGORIA_INTERNA</th>\n",
       "      <th>TASA</th>\n",
       "      <th>PLAZO</th>\n",
       "      <th>FACTOR_TASA</th>\n",
       "      <th>SALDO</th>\n",
       "      <th>MONTO_DESEMBOLSADO</th>\n",
       "      <th>DESEMBOLSO_NETO</th>\n",
       "      <th>CREDITO_CUMPLE_15</th>\n",
       "      <th>PAGA RESERVAS</th>\n",
       "    </tr>\n",
       "  </thead>\n",
       "  <tbody>\n",
       "    <tr>\n",
       "      <th>105721</th>\n",
       "      <td>45535</td>\n",
       "      <td>12310386080</td>\n",
       "      <td>100588200</td>\n",
       "      <td>45227</td>\n",
       "      <td>45227.0</td>\n",
       "      <td>REMESA</td>\n",
       "      <td>A</td>\n",
       "      <td>0.011500</td>\n",
       "      <td>120</td>\n",
       "      <td>146211.000</td>\n",
       "      <td>10595.00</td>\n",
       "      <td>11000.0</td>\n",
       "      <td>11000.0</td>\n",
       "      <td>0</td>\n",
       "      <td>1</td>\n",
       "    </tr>\n",
       "    <tr>\n",
       "      <th>105722</th>\n",
       "      <td>45535</td>\n",
       "      <td>12208101046</td>\n",
       "      <td>100588200</td>\n",
       "      <td>44797</td>\n",
       "      <td>44797.0</td>\n",
       "      <td>REMESA</td>\n",
       "      <td>A</td>\n",
       "      <td>0.012667</td>\n",
       "      <td>108</td>\n",
       "      <td>1316173.928</td>\n",
       "      <td>86590.39</td>\n",
       "      <td>99200.0</td>\n",
       "      <td>99200.0</td>\n",
       "      <td>0</td>\n",
       "      <td>1</td>\n",
       "    </tr>\n",
       "  </tbody>\n",
       "</table>\n",
       "</div>"
      ],
      "text/plain": [
       "        FEC_SALDO   NO_CREDITO  CODIGO_CLIENTE  F_APERTURA  FECHA_DESEMBOLSO  \\\n",
       "105721      45535  12310386080       100588200       45227           45227.0   \n",
       "105722      45535  12208101046       100588200       44797           44797.0   \n",
       "\n",
       "       TIPO_PAGO CATEGORIA_INTERNA      TASA  PLAZO  FACTOR_TASA     SALDO  \\\n",
       "105721    REMESA                 A  0.011500    120   146211.000  10595.00   \n",
       "105722    REMESA                 A  0.012667    108  1316173.928  86590.39   \n",
       "\n",
       "        MONTO_DESEMBOLSADO  DESEMBOLSO_NETO  CREDITO_CUMPLE_15  PAGA RESERVAS  \n",
       "105721             11000.0          11000.0                  0              1  \n",
       "105722             99200.0          99200.0                  0              1  "
      ]
     },
     "execution_count": 9,
     "metadata": {},
     "output_type": "execute_result"
    }
   ],
   "source": [
    "incumplen[incumplen[\"CODIGO_CLIENTE\"] ==  100588200]"
   ]
  },
  {
   "cell_type": "code",
   "execution_count": 11,
   "metadata": {},
   "outputs": [
    {
     "ename": "ValueError",
     "evalue": "time data \"45535\" doesn't match format \"%d/%m/%Y\", at position 0. You might want to try:\n    - passing `format` if your strings have a consistent format;\n    - passing `format='ISO8601'` if your strings are all ISO8601 but not necessarily in exactly the same format;\n    - passing `format='mixed'`, and the format will be inferred for each element individually. You might want to use `dayfirst` alongside this.",
     "output_type": "error",
     "traceback": [
      "\u001b[1;31m---------------------------------------------------------------------------\u001b[0m",
      "\u001b[1;31mValueError\u001b[0m                                Traceback (most recent call last)",
      "Cell \u001b[1;32mIn[11], line 2\u001b[0m\n\u001b[0;32m      1\u001b[0m \u001b[38;5;66;03m# calcular ingresos que se cancelarian, pasivos y comisiones\u001b[39;00m\n\u001b[1;32m----> 2\u001b[0m incumplen[\u001b[38;5;124m\"\u001b[39m\u001b[38;5;124mF_APERTURA\u001b[39m\u001b[38;5;124m\"\u001b[39m] \u001b[38;5;241m=\u001b[39m \u001b[43mpd\u001b[49m\u001b[38;5;241;43m.\u001b[39;49m\u001b[43mto_datetime\u001b[49m\u001b[43m(\u001b[49m\u001b[43mincumplen\u001b[49m\u001b[43m[\u001b[49m\u001b[38;5;124;43m\"\u001b[39;49m\u001b[38;5;124;43mF_APERTURA\u001b[39;49m\u001b[38;5;124;43m\"\u001b[39;49m\u001b[43m]\u001b[49m\u001b[43m,\u001b[49m\u001b[43m \u001b[49m\u001b[38;5;28;43mformat\u001b[39;49m\u001b[38;5;241;43m=\u001b[39;49m\u001b[38;5;124;43m\"\u001b[39;49m\u001b[38;5;132;43;01m%d\u001b[39;49;00m\u001b[38;5;124;43m/\u001b[39;49m\u001b[38;5;124;43m%\u001b[39;49m\u001b[38;5;124;43mm/\u001b[39;49m\u001b[38;5;124;43m%\u001b[39;49m\u001b[38;5;124;43mY\u001b[39;49m\u001b[38;5;124;43m\"\u001b[39;49m\u001b[43m)\u001b[49m\n\u001b[0;32m      3\u001b[0m incumplen[\u001b[38;5;124m\"\u001b[39m\u001b[38;5;124mMESES TRANSCURRIDOS\u001b[39m\u001b[38;5;124m\"\u001b[39m] \u001b[38;5;241m=\u001b[39m incumplen\u001b[38;5;241m.\u001b[39mapply(\u001b[38;5;28;01mlambda\u001b[39;00m x: meses_entre_fechas(x[\u001b[38;5;124m\"\u001b[39m\u001b[38;5;124mF_APERTURA\u001b[39m\u001b[38;5;124m\"\u001b[39m], datetime\u001b[38;5;241m.\u001b[39mtoday()), axis\u001b[38;5;241m=\u001b[39m\u001b[38;5;241m1\u001b[39m)\n\u001b[0;32m      4\u001b[0m incumplen[\u001b[38;5;124m\"\u001b[39m\u001b[38;5;124mINGRESOS DEL CREDITO A 12 MESES\u001b[39m\u001b[38;5;124m\"\u001b[39m] \u001b[38;5;241m=\u001b[39m incumplen\u001b[38;5;241m.\u001b[39mapply(\u001b[38;5;28;01mlambda\u001b[39;00m x: ingreso_fin_entre_fechas(x[\u001b[38;5;124m\"\u001b[39m\u001b[38;5;124mMONTO_DESEMBOLSADO\u001b[39m\u001b[38;5;124m\"\u001b[39m], x[\u001b[38;5;124m\"\u001b[39m\u001b[38;5;124mTASA\u001b[39m\u001b[38;5;124m\"\u001b[39m], x[\u001b[38;5;124m\"\u001b[39m\u001b[38;5;124mPLAZO\u001b[39m\u001b[38;5;124m\"\u001b[39m], x[\u001b[38;5;124m\"\u001b[39m\u001b[38;5;124mMESES TRANSCURRIDOS\u001b[39m\u001b[38;5;124m\"\u001b[39m], x[\u001b[38;5;124m\"\u001b[39m\u001b[38;5;124mMESES TRANSCURRIDOS\u001b[39m\u001b[38;5;124m\"\u001b[39m] \u001b[38;5;241m+\u001b[39m \u001b[38;5;241m12\u001b[39m), axis\u001b[38;5;241m=\u001b[39m\u001b[38;5;241m1\u001b[39m)\n",
      "File \u001b[1;32mc:\\Users\\mariajose_chinchilla\\AppData\\Local\\Programs\\Python\\Python312\\Lib\\site-packages\\pandas\\core\\tools\\datetimes.py:1108\u001b[0m, in \u001b[0;36mto_datetime\u001b[1;34m(arg, errors, dayfirst, yearfirst, utc, format, exact, unit, infer_datetime_format, origin, cache)\u001b[0m\n\u001b[0;32m   1106\u001b[0m             result \u001b[38;5;241m=\u001b[39m arg\u001b[38;5;241m.\u001b[39mtz_localize(\u001b[38;5;124m\"\u001b[39m\u001b[38;5;124mutc\u001b[39m\u001b[38;5;124m\"\u001b[39m)\n\u001b[0;32m   1107\u001b[0m \u001b[38;5;28;01melif\u001b[39;00m \u001b[38;5;28misinstance\u001b[39m(arg, ABCSeries):\n\u001b[1;32m-> 1108\u001b[0m     cache_array \u001b[38;5;241m=\u001b[39m \u001b[43m_maybe_cache\u001b[49m\u001b[43m(\u001b[49m\u001b[43marg\u001b[49m\u001b[43m,\u001b[49m\u001b[43m \u001b[49m\u001b[38;5;28;43mformat\u001b[39;49m\u001b[43m,\u001b[49m\u001b[43m \u001b[49m\u001b[43mcache\u001b[49m\u001b[43m,\u001b[49m\u001b[43m \u001b[49m\u001b[43mconvert_listlike\u001b[49m\u001b[43m)\u001b[49m\n\u001b[0;32m   1109\u001b[0m     \u001b[38;5;28;01mif\u001b[39;00m \u001b[38;5;129;01mnot\u001b[39;00m cache_array\u001b[38;5;241m.\u001b[39mempty:\n\u001b[0;32m   1110\u001b[0m         result \u001b[38;5;241m=\u001b[39m arg\u001b[38;5;241m.\u001b[39mmap(cache_array)\n",
      "File \u001b[1;32mc:\\Users\\mariajose_chinchilla\\AppData\\Local\\Programs\\Python\\Python312\\Lib\\site-packages\\pandas\\core\\tools\\datetimes.py:254\u001b[0m, in \u001b[0;36m_maybe_cache\u001b[1;34m(arg, format, cache, convert_listlike)\u001b[0m\n\u001b[0;32m    252\u001b[0m unique_dates \u001b[38;5;241m=\u001b[39m unique(arg)\n\u001b[0;32m    253\u001b[0m \u001b[38;5;28;01mif\u001b[39;00m \u001b[38;5;28mlen\u001b[39m(unique_dates) \u001b[38;5;241m<\u001b[39m \u001b[38;5;28mlen\u001b[39m(arg):\n\u001b[1;32m--> 254\u001b[0m     cache_dates \u001b[38;5;241m=\u001b[39m \u001b[43mconvert_listlike\u001b[49m\u001b[43m(\u001b[49m\u001b[43munique_dates\u001b[49m\u001b[43m,\u001b[49m\u001b[43m \u001b[49m\u001b[38;5;28;43mformat\u001b[39;49m\u001b[43m)\u001b[49m\n\u001b[0;32m    255\u001b[0m     \u001b[38;5;66;03m# GH#45319\u001b[39;00m\n\u001b[0;32m    256\u001b[0m     \u001b[38;5;28;01mtry\u001b[39;00m:\n",
      "File \u001b[1;32mc:\\Users\\mariajose_chinchilla\\AppData\\Local\\Programs\\Python\\Python312\\Lib\\site-packages\\pandas\\core\\tools\\datetimes.py:488\u001b[0m, in \u001b[0;36m_convert_listlike_datetimes\u001b[1;34m(arg, format, name, utc, unit, errors, dayfirst, yearfirst, exact)\u001b[0m\n\u001b[0;32m    486\u001b[0m \u001b[38;5;66;03m# `format` could be inferred, or user didn't ask for mixed-format parsing.\u001b[39;00m\n\u001b[0;32m    487\u001b[0m \u001b[38;5;28;01mif\u001b[39;00m \u001b[38;5;28mformat\u001b[39m \u001b[38;5;129;01mis\u001b[39;00m \u001b[38;5;129;01mnot\u001b[39;00m \u001b[38;5;28;01mNone\u001b[39;00m \u001b[38;5;129;01mand\u001b[39;00m \u001b[38;5;28mformat\u001b[39m \u001b[38;5;241m!=\u001b[39m \u001b[38;5;124m\"\u001b[39m\u001b[38;5;124mmixed\u001b[39m\u001b[38;5;124m\"\u001b[39m:\n\u001b[1;32m--> 488\u001b[0m     \u001b[38;5;28;01mreturn\u001b[39;00m \u001b[43m_array_strptime_with_fallback\u001b[49m\u001b[43m(\u001b[49m\u001b[43marg\u001b[49m\u001b[43m,\u001b[49m\u001b[43m \u001b[49m\u001b[43mname\u001b[49m\u001b[43m,\u001b[49m\u001b[43m \u001b[49m\u001b[43mutc\u001b[49m\u001b[43m,\u001b[49m\u001b[43m \u001b[49m\u001b[38;5;28;43mformat\u001b[39;49m\u001b[43m,\u001b[49m\u001b[43m \u001b[49m\u001b[43mexact\u001b[49m\u001b[43m,\u001b[49m\u001b[43m \u001b[49m\u001b[43merrors\u001b[49m\u001b[43m)\u001b[49m\n\u001b[0;32m    490\u001b[0m result, tz_parsed \u001b[38;5;241m=\u001b[39m objects_to_datetime64ns(\n\u001b[0;32m    491\u001b[0m     arg,\n\u001b[0;32m    492\u001b[0m     dayfirst\u001b[38;5;241m=\u001b[39mdayfirst,\n\u001b[1;32m   (...)\u001b[0m\n\u001b[0;32m    496\u001b[0m     allow_object\u001b[38;5;241m=\u001b[39m\u001b[38;5;28;01mTrue\u001b[39;00m,\n\u001b[0;32m    497\u001b[0m )\n\u001b[0;32m    499\u001b[0m \u001b[38;5;28;01mif\u001b[39;00m tz_parsed \u001b[38;5;129;01mis\u001b[39;00m \u001b[38;5;129;01mnot\u001b[39;00m \u001b[38;5;28;01mNone\u001b[39;00m:\n\u001b[0;32m    500\u001b[0m     \u001b[38;5;66;03m# We can take a shortcut since the datetime64 numpy array\u001b[39;00m\n\u001b[0;32m    501\u001b[0m     \u001b[38;5;66;03m# is in UTC\u001b[39;00m\n",
      "File \u001b[1;32mc:\\Users\\mariajose_chinchilla\\AppData\\Local\\Programs\\Python\\Python312\\Lib\\site-packages\\pandas\\core\\tools\\datetimes.py:519\u001b[0m, in \u001b[0;36m_array_strptime_with_fallback\u001b[1;34m(arg, name, utc, fmt, exact, errors)\u001b[0m\n\u001b[0;32m    508\u001b[0m \u001b[38;5;28;01mdef\u001b[39;00m \u001b[38;5;21m_array_strptime_with_fallback\u001b[39m(\n\u001b[0;32m    509\u001b[0m     arg,\n\u001b[0;32m    510\u001b[0m     name,\n\u001b[1;32m   (...)\u001b[0m\n\u001b[0;32m    514\u001b[0m     errors: \u001b[38;5;28mstr\u001b[39m,\n\u001b[0;32m    515\u001b[0m ) \u001b[38;5;241m-\u001b[39m\u001b[38;5;241m>\u001b[39m Index:\n\u001b[0;32m    516\u001b[0m \u001b[38;5;250m    \u001b[39m\u001b[38;5;124;03m\"\"\"\u001b[39;00m\n\u001b[0;32m    517\u001b[0m \u001b[38;5;124;03m    Call array_strptime, with fallback behavior depending on 'errors'.\u001b[39;00m\n\u001b[0;32m    518\u001b[0m \u001b[38;5;124;03m    \"\"\"\u001b[39;00m\n\u001b[1;32m--> 519\u001b[0m     result, timezones \u001b[38;5;241m=\u001b[39m \u001b[43marray_strptime\u001b[49m\u001b[43m(\u001b[49m\u001b[43marg\u001b[49m\u001b[43m,\u001b[49m\u001b[43m \u001b[49m\u001b[43mfmt\u001b[49m\u001b[43m,\u001b[49m\u001b[43m \u001b[49m\u001b[43mexact\u001b[49m\u001b[38;5;241;43m=\u001b[39;49m\u001b[43mexact\u001b[49m\u001b[43m,\u001b[49m\u001b[43m \u001b[49m\u001b[43merrors\u001b[49m\u001b[38;5;241;43m=\u001b[39;49m\u001b[43merrors\u001b[49m\u001b[43m,\u001b[49m\u001b[43m \u001b[49m\u001b[43mutc\u001b[49m\u001b[38;5;241;43m=\u001b[39;49m\u001b[43mutc\u001b[49m\u001b[43m)\u001b[49m\n\u001b[0;32m    520\u001b[0m     \u001b[38;5;28;01mif\u001b[39;00m \u001b[38;5;28many\u001b[39m(tz \u001b[38;5;129;01mis\u001b[39;00m \u001b[38;5;129;01mnot\u001b[39;00m \u001b[38;5;28;01mNone\u001b[39;00m \u001b[38;5;28;01mfor\u001b[39;00m tz \u001b[38;5;129;01min\u001b[39;00m timezones):\n\u001b[0;32m    521\u001b[0m         \u001b[38;5;28;01mreturn\u001b[39;00m _return_parsed_timezone_results(result, timezones, utc, name)\n",
      "File \u001b[1;32mstrptime.pyx:534\u001b[0m, in \u001b[0;36mpandas._libs.tslibs.strptime.array_strptime\u001b[1;34m()\u001b[0m\n",
      "File \u001b[1;32mstrptime.pyx:355\u001b[0m, in \u001b[0;36mpandas._libs.tslibs.strptime.array_strptime\u001b[1;34m()\u001b[0m\n",
      "\u001b[1;31mValueError\u001b[0m: time data \"45535\" doesn't match format \"%d/%m/%Y\", at position 0. You might want to try:\n    - passing `format` if your strings have a consistent format;\n    - passing `format='ISO8601'` if your strings are all ISO8601 but not necessarily in exactly the same format;\n    - passing `format='mixed'`, and the format will be inferred for each element individually. You might want to use `dayfirst` alongside this."
     ]
    }
   ],
   "source": [
    "# calcular ingresos que se cancelarian, pasivos y comisiones\n",
    "incumplen[\"F_APERTURA\"] = pd.to_datetime(incumplen[\"F_APERTURA\"], format=\"%d/%m/%Y\")\n",
    "incumplen[\"MESES TRANSCURRIDOS\"] = incumplen.apply(lambda x: meses_entre_fechas(x[\"F_APERTURA\"], datetime.today()), axis=1)\n",
    "incumplen[\"INGRESOS DEL CREDITO A 12 MESES\"] = incumplen.apply(lambda x: ingreso_fin_entre_fechas(x[\"MONTO_DESEMBOLSADO\"], x[\"TASA\"], x[\"PLAZO\"], x[\"MESES TRANSCURRIDOS\"], x[\"MESES TRANSCURRIDOS\"] + 12), axis=1)\n",
    "alpha = (0.08 + 0.0025) / (1 - 0.146)\n",
    "incumplen[\"PASIVOS DEL CREDITO A 12 MESES\"] = incumplen.apply(lambda x: ingreso_fin_entre_fechas(x[\"MONTO_DESEMBOLSADO\"], alpha/12, x[\"PLAZO\"], x[\"MESES TRANSCURRIDOS\"], x[\"MESES TRANSCURRIDOS\"] + 12), axis=1)\n",
    "incumplen[\"RESERVAS DEL CREDITO\"] = incumplen.apply(lambda x: reservas_constituidas(x[\"MONTO_DESEMBOLSADO\"], x[\"MESES TRANSCURRIDOS\"], x[\"CATEGORIA_INTERNA\"]), axis=1)\n",
    "incumplen[\"PORCENTAJE COMISION\"] = incumplen.apply(lambda x: porcentaje_comision_desembolso(x[\"DESEMBOLSO_NETO\"]), axis=1)\n",
    "incumplen[\"COMISIONES QUE SE TRAERIAN SI SE HACE RECREDITO\"] = incumplen.apply(lambda x: ingreso_fin_entre_fechas(x[\"DESEMBOLSO_NETO\"], x[\"PORCENTAJE COMISION\"]/12, x[\"PLAZO\"], x[\"MESES TRANSCURRIDOS\"], x[\"PLAZO\"]), axis=1)\n",
    "\n",
    "incumplen[\"COMISIONES CREDITO\"] = incumplen.apply(lambda x: ingreso_fin_entre_fechas(x[\"MONTO_DESEMBOLSADO\"], x[\"PORCENTAJE COMISION\"]/12, x[\"PLAZO\"], x[\"MESES TRANSCURRIDOS\"], x[\"MESES TRANSCURRIDOS\"] + 12), axis=1)\n",
    "#incumplen[\"COMISIONES FIN DE AÑO\"] = incumplen.apply(lambda x: ingreso_fin_entre_fechas(x[\"MONTO_DESEMBOLSADO\"], x[\"TASA\"], x[\"PLAZO\"], x[\"MESES TRANSCURRIDOS\"], x[\"MESES TRANSCURRIDOS\"] + 12 - no_mes_simulacion), axis=1)\n",
    "\n",
    "# calcular columnas de agregacion importantes\n",
    "incumplen_agrupado = incumplen.groupby(by=\"CODIGO_CLIENTE\").agg(\n",
    "                                        DEUDA_INTERNA=(\"SALDO\", \"sum\"),\n",
    "                                        INGRESOS_A_CANCELAR_12_MESES=(\"INGRESOS DEL CREDITO A 12 MESES\", \"sum\"),\n",
    "                                        PASIVOS_A_CANCELAR=(\"PASIVOS DEL CREDITO A 12 MESES\", \"sum\"),\n",
    "                                        RESERVA_CONSTITUIDA=(\"RESERVAS DEL CREDITO\", \"sum\"),\n",
    "                                        COMISIONES_12_MESES_ACTIVOS=(\"COMISIONES CREDITO\", \"sum\"),\n",
    "                                        COMISIONES_A_TRAERSE=(\"COMISIONES QUE SE TRAERIAN SI SE HACE RECREDITO\", \"sum\")\n",
    ")\n",
    "\n",
    "incumplen = pd.merge(incumplen, incumplen_agrupado, how=\"inner\", on=\"CODIGO_CLIENTE\")\n",
    "\n",
    "# Sacar mf cancelado\n",
    "incumplen[\"MF CANCELADO CLIENTE\"] = incumplen[\"INGRESOS DEL CREDITO A 12 MESES\"] - incumplen[\"PASIVOS_A_CANCELAR\"] - incumplen[\"RESERVA_CONSTITUIDA\"] + incumplen[\"COMISIONES_12_MESES_ACTIVOS\"] \n",
    "\n",
    "# ahora la difernecia de margenes pero a fin de año\n",
    "incumplen[\"INGRESOS CREDITO FIN DE AÑO\"] = incumplen.apply(lambda x: ingreso_fin_entre_fechas(x[\"MONTO_DESEMBOLSADO\"], x[\"TASA\"], x[\"PLAZO\"], x[\"MESES TRANSCURRIDOS\"], x[\"MESES TRANSCURRIDOS\"] + 12 - no_mes_simulacion), axis=1)\n",
    "incumplen[\"RESERVAS A CANCELAR FIN DE AÑO\"] = incumplen.apply(lambda x: reservas_constituidas(x[\"MONTO_DESEMBOLSADO\"], x[\"MESES TRANSCURRIDOS\"] + 12 - no_mes_simulacion, x[\"CATEGORIA_INTERNA\"]), axis=1)\n",
    "incumplen[\"PASIVOS A CANCELAR FIN DE AÑO\"] = incumplen.apply(lambda x: ingreso_fin_entre_fechas(x[\"MONTO_DESEMBOLSADO\"], x[\"TASA\"], x[\"PLAZO\"], x[\"MESES TRANSCURRIDOS\"], x[\"MESES TRANSCURRIDOS\"] + 12 - no_mes_simulacion), axis=1)\n",
    "incumplen[\"MF A CANCELAR FIN DE AÑO\"] = incumplen[\"INGRESOS CREDITO FIN DE AÑO\"] - incumplen[\"RESERVAS A CANCELAR FIN DE AÑO\"] - incumplen[\"PASIVOS A CANCELAR FIN DE AÑO\"] "
   ]
  },
  {
   "cell_type": "code",
   "execution_count": null,
   "metadata": {},
   "outputs": [],
   "source": [
    "incumplen[\"F_APERTURA\"]"
   ]
  },
  {
   "cell_type": "code",
   "execution_count": 9,
   "metadata": {},
   "outputs": [],
   "source": [
    "incumplen_temp = incumplen.groupby(by=\"CODIGO_CLIENTE\").agg(\n",
    "    SUMA_FACTOR_TASA_CLIENTE=(\"FACTOR_TASA\", \"sum\"),\n",
    "    SUMA_MONTO_CLIENTE=(\"MONTO_DESEMBOLSADO\", \"sum\")\n",
    ").reset_index()\n",
    "\n",
    "incumplen_temp.columns = [\"CODIGO_CLIENTE\", \"SUMA_FACTOR_TASA_CLIENTE\", \"SUMA_MONTO_CLIENTE\"]\n",
    "incumplen = pd.merge(incumplen, incumplen_temp, how=\"inner\", on=\"CODIGO_CLIENTE\")\n",
    "incumplen[\"TPP CLIENTE\"] = incumplen[\"SUMA_FACTOR_TASA_CLIENTE\"] / incumplen[\"SUMA_MONTO_CLIENTE\"]"
   ]
  },
  {
   "cell_type": "markdown",
   "metadata": {},
   "source": [
    "## Simulaciones"
   ]
  },
  {
   "cell_type": "markdown",
   "metadata": {},
   "source": [
    "Acá empezamos las simulaciones. En el bloque anterior, calculamos todo lo que sería cancelado, ahora procedemos a ver qué pasaría al aplicar la iniciativa."
   ]
  },
  {
   "cell_type": "code",
   "execution_count": 10,
   "metadata": {},
   "outputs": [],
   "source": [
    "incumplen[\"MONTO OFERTA\"] = incumplen[\"DEUDA_INTERNA\"] + 50000\n",
    "incumplen[\"FACTOR BIENESTAR RECREDITO\"] = incumplen.apply(lambda x: factor_bienestar(x[\"MONTO OFERTA\"]), axis=1)\n",
    "incumplen[\"RESERVA REESTRUCTURA\"] = incumplen[\"MONTO OFERTA\"] * 0.45 * 0.086\n",
    "incumplen[\"TASA CVF\"] = incumplen.apply(lambda x: cvf(x[\"MF CANCELADO CLIENTE\"], x[\"FACTOR BIENESTAR RECREDITO\"], \n",
    "                                                      50000, x[\"RESERVA_CONSTITUIDA\"],\n",
    "                                                      x[\"RESERVA REESTRUCTURA\"], x[\"MONTO OFERTA\"], alpha), axis=1)"
   ]
  },
  {
   "cell_type": "markdown",
   "metadata": {},
   "source": [
    "Evaluar si el margen financiero es positivo."
   ]
  },
  {
   "cell_type": "code",
   "execution_count": 11,
   "metadata": {},
   "outputs": [],
   "source": [
    "incumplen[\"INGRESOS FINANCIEROS A 12 MESES\"] = incumplen.apply(lambda x: ingresos_financieros(x[\"MONTO OFERTA\"],\n",
    "                                                                                      x[\"TASA CVF\"]/1200, 120, 12), axis=1) \n",
    "\n",
    "incumplen[\"PASIVOS RECREDITO\"] = incumplen.apply(lambda x: ingresos_financieros(x[\"MONTO OFERTA\"], alpha/12, \n",
    "                                                                                120, 12), axis=1)\n",
    "\n",
    "incumplen[\"PORCENTAJE NUEVA COMISION\"] = incumplen.apply(lambda x: porcentaje_comision_desembolso(x[\"MONTO OFERTA\"]), axis=1)\n",
    "\n",
    "incumplen[\"COMISIONES NUEVAS 12 MESES\"] = incumplen.apply(lambda x: ingresos_financieros(x[\"MONTO OFERTA\"], x[\"PORCENTAJE NUEVA COMISION\"]/12, 120, 12), axis=1)\n",
    "incumplen[\"COMISIONES NUEVAS FIN DE AÑO\"] = incumplen.apply(lambda x: ingresos_financieros(x[\"MONTO OFERTA\"], x[\"PORCENTAJE NUEVA COMISION\"]/12, 120, 12 - no_mes_simulacion), axis=1)\n",
    "\n",
    "\n",
    "# AHORA vista fin de año\n",
    "incumplen[\"INGRESOS FINANCIEROS FIN DE AÑO\"] = incumplen.apply(lambda x: ingresos_financieros(x[\"MONTO OFERTA\"],\n",
    "                                                                                      x[\"TASA CVF\"]/1200, 120, 12 - no_mes_simulacion), axis=1) \n",
    "\n",
    "incumplen[\"PASIVOS RECREDITO FIN DE AÑO\"] = incumplen.apply(lambda x: ingresos_financieros(x[\"MONTO OFERTA\"], alpha/12, \n",
    "                                                                                120, 12 - no_mes_simulacion), axis=1)\n",
    "\n",
    "\n",
    "\n",
    "# MF NUEVO\n",
    "\n",
    "incumplen[\"MF RECREDITO 12 MESES\"] = incumplen[\"INGRESOS FINANCIEROS A 12 MESES\"] - incumplen[\"PASIVOS RECREDITO\"] - incumplen[\"RESERVA REESTRUCTURA\"] + incumplen[\"COMISIONES NUEVAS 12 MESES\"] - 0.008 * 50000\n",
    "incumplen[\"MF RECREDITO FIN DE AÑO\"] = incumplen[\"INGRESOS FINANCIEROS FIN DE AÑO\"] - incumplen[\"PASIVOS RECREDITO FIN DE AÑO\"] - incumplen[\"RESERVA REESTRUCTURA\"] + incumplen[\"COMISIONES NUEVAS FIN DE AÑO\"] - 0.008 * 50000"
   ]
  },
  {
   "cell_type": "markdown",
   "metadata": {},
   "source": [
    "## Resumen del modelo"
   ]
  },
  {
   "cell_type": "code",
   "execution_count": 12,
   "metadata": {},
   "outputs": [],
   "source": [
    "# Quedarse con los que cumplne\n",
    "incumplen[\"DIFERENCIA DE MARGENES CONTANDO COMISIONES 12 MESES\"] = incumplen[\"MF RECREDITO 12 MESES\"] - incumplen[\"MF CANCELADO CLIENTE\"] + incumplen[\"COMISIONES QUE SE TRAERIAN SI SE HACE RECREDITO\"]\n",
    "incumplen[\"DIFERENCIA DE MARGENES FIN DE AÑO\"] = incumplen[\"MF RECREDITO FIN DE AÑO\"] - incumplen[\"MF A CANCELAR FIN DE AÑO\"] + incumplen[\"COMISIONES QUE SE TRAERIAN SI SE HACE RECREDITO\"]\n",
    "clientes_viables = incumplen.drop_duplicates(subset=\"CODIGO_CLIENTE\")\n",
    "clientes_viables = incumplen[incumplen[\"DIFERENCIA DE MARGENES CONTANDO COMISIONES 12 MESES\"] <= 0]\n",
    "tpp_cancelada = sum(clientes_viables[\"TPP CLIENTE\"] * clientes_viables[\"DEUDA_INTERNA\"]) / sum(clientes_viables[\"DEUDA_INTERNA\"])\n",
    "tpp_recredito = sum(clientes_viables[\"TASA CVF\"] * clientes_viables[\"MONTO OFERTA\"]) / sum(clientes_viables[\"MONTO OFERTA\"])"
   ]
  },
  {
   "cell_type": "code",
   "execution_count": 13,
   "metadata": {},
   "outputs": [],
   "source": [
    "clientes_viables[\"DESEMBOLSO NETO NUEVO\"] = 50000"
   ]
  },
  {
   "cell_type": "code",
   "execution_count": 14,
   "metadata": {},
   "outputs": [],
   "source": [
    "# resumir\n",
    "dic_impactos = {\"CANTIDAD DE CLIENTES A ATENDER: \": [len(clientes_viables)],\n",
    "                \"MF NUEVO A 12 MESES EN MILLONES: \": [clientes_viables[\"MF RECREDITO 12 MESES\"].sum() / 10**6],\n",
    "                \"MF FIN DE AÑO EN MILLONES: \": [clientes_viables[\"MF RECREDITO FIN DE AÑO\"].sum() / 10**6],\n",
    "                \"RESERVAS REESTRUCTURA EN MILLONES: \": [clientes_viables[\"RESERVA REESTRUCTURA\"].sum() / 10**6],\n",
    "                \"INGRESOS A 12 MESES EN MILLONES: \": [clientes_viables[\"INGRESOS FINANCIEROS A 12 MESES\"].sum() / 10**6],\n",
    "                \"INGRESOS A FIN DE AÑO EN MILLONES: \": [clientes_viables[\"INGRESOS FINANCIEROS FIN DE AÑO\"].sum() / 10**6],\n",
    "                \"COMISIONES A TRAERSE EN MILLONES: \": [clientes_viables[\"COMISIONES_A_TRAERSE\"].sum() / 10**6],\n",
    "                \"COMISIONES NUEVAS FIN DE AÑO EN MILLONES\": [clientes_viables[\"COMISIONES NUEVAS FIN DE AÑO\"].sum() / 10**6],\n",
    "                \"COMISIONES NUEVAS 12 MESES EN MILLONES: \": [clientes_viables[\"COMISIONES NUEVAS 12 MESES\"].sum() / 10**6],\n",
    "                \"PROPORCION CLIENTES CON TPP A LO SUMO 17: \": [len(clientes_viables[clientes_viables[\"TPP CLIENTE\"] <= 17])/len(clientes_viables)],\n",
    "                \"DIFERENCIA DE MARGEN FIN DE AÑO EN MILLONES: \": [clientes_viables[\"DIFERENCIA DE MARGENES FIN DE AÑO\"].sum() / 10**6],\n",
    "                \"DIFERENCIA DE MARGEN 12 MESES EN MILLONES: \": [clientes_viables[\"DIFERENCIA DE MARGENES CONTANDO COMISIONES 12 MESES\"].sum() / 10**6],\n",
    "                \"POTENCIAL DE DESEMBOLSO BRUTO EN MILLONES:\": [clientes_viables[\"MONTO OFERTA\"].sum() / 10**6],\n",
    "                \"POTENCIAL DE DESEMBOLSO NETO EN MILLONES: \": [clientes_viables[\"DESEMBOLSO NETO NUEVO\"].sum() / 10**6],\n",
    "                \"TPP CANCELADA: \": [tpp_cancelada],\n",
    "                \"TPP NUEVA RECREDITO: \": [tpp_recredito],\n",
    "                \"PROMEDIO DE SALDO CANCELADO: \": [clientes_viables[\"DEUDA_INTERNA\"].mean()],\n",
    "                \"PROMEDIO DE DESEMBOLSO BRUTO: \": [clientes_viables[\"MONTO OFERTA\"].mean()],\n",
    "                \"PROMEDIO DE DESEMBOLSO NETO:\": [50000]}"
   ]
  },
  {
   "cell_type": "code",
   "execution_count": null,
   "metadata": {},
   "outputs": [],
   "source": [
    "df_impactos = pd.DataFrame.from_dict(dic_impactos)\n",
    "df_impactos.transpose()"
   ]
  },
  {
   "cell_type": "code",
   "execution_count": 16,
   "metadata": {},
   "outputs": [],
   "source": [
    "clientes_viables[\"APTO PARA FIN DE AÑO\"] = np.where(clientes_viables[\"MF RECREDITO FIN DE AÑO\"] >= 0, 1, 0)\n",
    "cols = pd.read_excel(\"../db/Columnas.xlsx\").columns.tolist()\n",
    "clientes_viables = clientes_viables[cols]\n",
    "clientes_viables.to_csv(\"../db/Viables.csv\")"
   ]
  },
  {
   "cell_type": "code",
   "execution_count": null,
   "metadata": {},
   "outputs": [],
   "source": [
    "cartera[cartera[\"DESEMBOLSO_NETO\"] != cartera[\"MONTO_DESEMBOLSADO\"]]"
   ]
  },
  {
   "cell_type": "code",
   "execution_count": null,
   "metadata": {},
   "outputs": [],
   "source": []
  }
 ],
 "metadata": {
  "kernelspec": {
   "display_name": "Python 3",
   "language": "python",
   "name": "python3"
  },
  "language_info": {
   "codemirror_mode": {
    "name": "ipython",
    "version": 3
   },
   "file_extension": ".py",
   "mimetype": "text/x-python",
   "name": "python",
   "nbconvert_exporter": "python",
   "pygments_lexer": "ipython3",
   "version": "3.12.1"
  }
 },
 "nbformat": 4,
 "nbformat_minor": 2
}
